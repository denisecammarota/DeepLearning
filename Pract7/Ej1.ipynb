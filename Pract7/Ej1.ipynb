{
 "cells": [
  {
   "cell_type": "code",
   "execution_count": 1,
   "metadata": {},
   "outputs": [
    {
     "name": "stderr",
     "output_type": "stream",
     "text": [
      "Using TensorFlow backend.\n"
     ]
    }
   ],
   "source": [
    "import keras\n",
    "import numpy as np\n",
    "import matplotlib.pyplot as plt\n",
    "import pandas as pd\n",
    "from sklearn.preprocessing import MinMaxScaler #scaling de los datos entre 0 y 1\n",
    "from sklearn.model_selection import train_test_split"
   ]
  },
  {
   "cell_type": "code",
   "execution_count": 2,
   "metadata": {},
   "outputs": [],
   "source": [
    "def format_l(df,l=1):\n",
    "    n_datos_inc = df.shape[0] #cantidad total de meses\n",
    "    n_filas = n_datos_inc - l #cantidad de filas de resultado\n",
    "    res = np.zeros((n_filas,l+1))\n",
    "    i = 0\n",
    "    while i < n_filas:\n",
    "        res[i] = df[i:i+l+1].flatten()\n",
    "        i = i+1\n",
    "    return res"
   ]
  },
  {
   "cell_type": "code",
   "execution_count": 17,
   "metadata": {},
   "outputs": [],
   "source": [
    "#punto 1: cargo los datos y les hago un primer formatting\n",
    "file_dir = 'airline-passengers.csv'\n",
    "data = pd.read_csv(file_dir,sep=\",\",quotechar='\"',na_values=[''])\n",
    "df = pd.DataFrame(data)\n",
    "df = df.drop(columns=['Month']) #no hace falta esta columna para nada\n",
    "df = df.to_numpy() #me paso a numpy array\n",
    "df_original = np.copy(df)"
   ]
  },
  {
   "cell_type": "code",
   "execution_count": 18,
   "metadata": {},
   "outputs": [
    {
     "data": {
      "image/png": "[encoded data removed]",
      "text/plain": [
       "<Figure size 432x288 with 1 Axes>"
      ]
     },
     "metadata": {
      "needs_background": "light"
     },
     "output_type": "display_data"
    }
   ],
   "source": [
    "#grafico la serie temporal pasajeros-meses\n",
    "plt.plot(df)\n",
    "plt.xlabel('Meses')\n",
    "plt.ylabel('Pasajeros')\n",
    "plt.savefig('serie_temporal.pdf')"
   ]
  },
  {
   "cell_type": "code",
   "execution_count": 21,
   "metadata": {},
   "outputs": [],
   "source": [
    "#punto 2: normalizo entre 0 y 1\n",
    "l = 1\n",
    "scaling = MinMaxScaler(feature_range=(0,1))\n",
    "df = scaling.fit_transform(df)\n",
    "df = format_l(df,l)"
   ]
  },
  {
   "cell_type": "code",
   "execution_count": 22,
   "metadata": {},
   "outputs": [],
   "source": [
    "#punto 3: agrego ruido gaussiano pedido\n",
    "df += np.random.normal(0,0.02,df.shape)"
   ]
  },
  {
   "cell_type": "code",
   "execution_count": 23,
   "metadata": {},
   "outputs": [],
   "source": [
    "#punto 4: dividir en conjuntos de train y test\n",
    "x = df[:,:l]\n",
    "y = df[:,l:]\n",
    "x_train, x_test, y_train, y_test = train_test_split(x, y, test_size=0.5)"
   ]
  },
  {
   "cell_type": "code",
   "execution_count": 24,
   "metadata": {},
   "outputs": [],
   "source": [
    "#punto 5: ajustar los datos para la capa LSTM (samples, time, features)\n",
    "x_train = np.reshape(x_train, (x_train.shape[0], 1, x_train.shape[1]))\n",
    "x_test = np.reshape(x_test, (x_test.shape[0], 1, x_test.shape[1]))"
   ]
  },
  {
   "cell_type": "code",
   "execution_count": 25,
   "metadata": {},
   "outputs": [
    {
     "name": "stdout",
     "output_type": "stream",
     "text": [
      "Epoch 1/100\n",
      "71/71 [==============================] - 0s 6ms/step - loss: 0.0683\n",
      "Epoch 2/100\n",
      "71/71 [==============================] - 0s 3ms/step - loss: 0.0366\n",
      "Epoch 3/100\n",
      "71/71 [==============================] - 0s 3ms/step - loss: 0.0260\n",
      "Epoch 4/100\n",
      "71/71 [==============================] - 0s 3ms/step - loss: 0.0223\n",
      "Epoch 5/100\n",
      "71/71 [==============================] - 0s 3ms/step - loss: 0.0201\n",
      "Epoch 6/100\n",
      "71/71 [==============================] - 0s 3ms/step - loss: 0.0183\n",
      "Epoch 7/100\n",
      "71/71 [==============================] - 0s 3ms/step - loss: 0.0165\n",
      "Epoch 8/100\n",
      "71/71 [==============================] - 0s 3ms/step - loss: 0.0150\n",
      "Epoch 9/100\n",
      "71/71 [==============================] - 0s 3ms/step - loss: 0.0134\n",
      "Epoch 10/100\n",
      "71/71 [==============================] - 0s 3ms/step - loss: 0.0120\n",
      "Epoch 11/100\n",
      "71/71 [==============================] - 0s 3ms/step - loss: 0.0106\n",
      "Epoch 12/100\n",
      "71/71 [==============================] - 0s 3ms/step - loss: 0.0095\n",
      "Epoch 13/100\n",
      "71/71 [==============================] - 0s 3ms/step - loss: 0.0086\n",
      "Epoch 14/100\n",
      "71/71 [==============================] - 0s 3ms/step - loss: 0.0077\n",
      "Epoch 15/100\n",
      "71/71 [==============================] - 0s 3ms/step - loss: 0.0069\n",
      "Epoch 16/100\n",
      "71/71 [==============================] - 0s 3ms/step - loss: 0.0064\n",
      "Epoch 17/100\n",
      "71/71 [==============================] - 0s 3ms/step - loss: 0.0061\n",
      "Epoch 18/100\n",
      "71/71 [==============================] - 0s 3ms/step - loss: 0.0056\n",
      "Epoch 19/100\n",
      "71/71 [==============================] - 0s 3ms/step - loss: 0.0053\n",
      "Epoch 20/100\n",
      "71/71 [==============================] - 0s 3ms/step - loss: 0.0050\n",
      "Epoch 21/100\n",
      "71/71 [==============================] - 0s 3ms/step - loss: 0.0050\n",
      "Epoch 22/100\n",
      "71/71 [==============================] - 0s 3ms/step - loss: 0.0048\n",
      "Epoch 23/100\n",
      "71/71 [==============================] - 0s 3ms/step - loss: 0.0047\n",
      "Epoch 24/100\n",
      "71/71 [==============================] - 0s 3ms/step - loss: 0.0048\n",
      "Epoch 25/100\n",
      "71/71 [==============================] - 0s 3ms/step - loss: 0.0047\n",
      "Epoch 26/100\n",
      "71/71 [==============================] - 0s 3ms/step - loss: 0.0047\n",
      "Epoch 27/100\n",
      "71/71 [==============================] - 0s 3ms/step - loss: 0.0046\n",
      "Epoch 28/100\n",
      "71/71 [==============================] - 0s 3ms/step - loss: 0.0047\n",
      "Epoch 29/100\n",
      "71/71 [==============================] - 0s 3ms/step - loss: 0.0047\n",
      "Epoch 30/100\n",
      "71/71 [==============================] - 0s 3ms/step - loss: 0.0046\n",
      "Epoch 31/100\n",
      "71/71 [==============================] - 0s 3ms/step - loss: 0.0047\n",
      "Epoch 32/100\n",
      "71/71 [==============================] - 0s 3ms/step - loss: 0.0047\n",
      "Epoch 33/100\n",
      "71/71 [==============================] - 0s 3ms/step - loss: 0.0046\n",
      "Epoch 34/100\n",
      "71/71 [==============================] - 0s 3ms/step - loss: 0.0047\n",
      "Epoch 35/100\n",
      "71/71 [==============================] - 0s 3ms/step - loss: 0.0047\n",
      "Epoch 36/100\n",
      "71/71 [==============================] - 0s 3ms/step - loss: 0.0046\n",
      "Epoch 37/100\n",
      "71/71 [==============================] - 0s 3ms/step - loss: 0.0046\n",
      "Epoch 38/100\n",
      "71/71 [==============================] - 0s 3ms/step - loss: 0.0047\n",
      "Epoch 39/100\n",
      "71/71 [==============================] - 0s 3ms/step - loss: 0.0046\n",
      "Epoch 40/100\n",
      "71/71 [==============================] - 0s 3ms/step - loss: 0.0047\n",
      "Epoch 41/100\n",
      "71/71 [==============================] - 0s 3ms/step - loss: 0.0048\n",
      "Epoch 42/100\n",
      "71/71 [==============================] - 0s 3ms/step - loss: 0.0047\n",
      "Epoch 43/100\n",
      "71/71 [==============================] - 0s 3ms/step - loss: 0.0047\n",
      "Epoch 44/100\n",
      "71/71 [==============================] - 0s 3ms/step - loss: 0.0046\n",
      "Epoch 45/100\n",
      "71/71 [==============================] - 0s 3ms/step - loss: 0.0046\n",
      "Epoch 46/100\n",
      "71/71 [==============================] - 0s 3ms/step - loss: 0.0046\n",
      "Epoch 47/100\n",
      "71/71 [==============================] - 0s 3ms/step - loss: 0.0048\n",
      "Epoch 48/100\n",
      "71/71 [==============================] - 0s 3ms/step - loss: 0.0047\n",
      "Epoch 49/100\n",
      "71/71 [==============================] - 0s 3ms/step - loss: 0.0047\n",
      "Epoch 50/100\n",
      "71/71 [==============================] - 0s 3ms/step - loss: 0.0046\n",
      "Epoch 51/100\n",
      "71/71 [==============================] - 0s 3ms/step - loss: 0.0046\n",
      "Epoch 52/100\n",
      "71/71 [==============================] - 0s 3ms/step - loss: 0.0046\n",
      "Epoch 53/100\n",
      "71/71 [==============================] - 0s 3ms/step - loss: 0.0047\n",
      "Epoch 54/100\n",
      "71/71 [==============================] - 0s 3ms/step - loss: 0.0046\n",
      "Epoch 55/100\n",
      "71/71 [==============================] - 0s 3ms/step - loss: 0.0047\n",
      "Epoch 56/100\n",
      "71/71 [==============================] - 0s 3ms/step - loss: 0.0046\n",
      "Epoch 57/100\n",
      "71/71 [==============================] - 0s 3ms/step - loss: 0.0047\n",
      "Epoch 58/100\n",
      "71/71 [==============================] - 0s 3ms/step - loss: 0.0047\n",
      "Epoch 59/100\n",
      "71/71 [==============================] - 0s 3ms/step - loss: 0.0049\n",
      "Epoch 60/100\n",
      "71/71 [==============================] - 0s 3ms/step - loss: 0.0046\n",
      "Epoch 61/100\n",
      "71/71 [==============================] - 0s 3ms/step - loss: 0.0047\n",
      "Epoch 62/100\n",
      "71/71 [==============================] - 0s 3ms/step - loss: 0.0048\n",
      "Epoch 63/100\n",
      "71/71 [==============================] - 0s 3ms/step - loss: 0.0046\n",
      "Epoch 64/100\n",
      "71/71 [==============================] - 0s 3ms/step - loss: 0.0046\n",
      "Epoch 65/100\n",
      "71/71 [==============================] - 0s 3ms/step - loss: 0.0049\n",
      "Epoch 66/100\n",
      "71/71 [==============================] - 0s 3ms/step - loss: 0.0046\n",
      "Epoch 67/100\n",
      "71/71 [==============================] - 0s 3ms/step - loss: 0.0047\n",
      "Epoch 68/100\n",
      "71/71 [==============================] - 0s 3ms/step - loss: 0.0046\n",
      "Epoch 69/100\n",
      "71/71 [==============================] - 0s 3ms/step - loss: 0.0048\n",
      "Epoch 70/100\n",
      "71/71 [==============================] - 0s 3ms/step - loss: 0.0046\n",
      "Epoch 71/100\n",
      "71/71 [==============================] - 0s 3ms/step - loss: 0.0048\n",
      "Epoch 72/100\n",
      "71/71 [==============================] - 0s 3ms/step - loss: 0.0047\n",
      "Epoch 73/100\n",
      "71/71 [==============================] - 0s 3ms/step - loss: 0.0046\n",
      "Epoch 74/100\n",
      "71/71 [==============================] - 0s 3ms/step - loss: 0.0046\n",
      "Epoch 75/100\n",
      "71/71 [==============================] - 0s 3ms/step - loss: 0.0047\n",
      "Epoch 76/100\n",
      "71/71 [==============================] - 0s 3ms/step - loss: 0.0049\n",
      "Epoch 77/100\n",
      "71/71 [==============================] - 0s 3ms/step - loss: 0.0047\n",
      "Epoch 78/100\n",
      "71/71 [==============================] - 0s 3ms/step - loss: 0.0047\n",
      "Epoch 79/100\n",
      "71/71 [==============================] - 0s 3ms/step - loss: 0.0047\n",
      "Epoch 80/100\n",
      "71/71 [==============================] - 0s 3ms/step - loss: 0.0046\n",
      "Epoch 81/100\n",
      "71/71 [==============================] - 0s 3ms/step - loss: 0.0046\n",
      "Epoch 82/100\n",
      "71/71 [==============================] - 0s 3ms/step - loss: 0.0047\n",
      "Epoch 83/100\n",
      "71/71 [==============================] - 0s 3ms/step - loss: 0.0047\n",
      "Epoch 84/100\n",
      "71/71 [==============================] - 0s 3ms/step - loss: 0.0045\n",
      "Epoch 85/100\n",
      "71/71 [==============================] - 0s 3ms/step - loss: 0.0046\n",
      "Epoch 86/100\n",
      "71/71 [==============================] - 0s 3ms/step - loss: 0.0046\n",
      "Epoch 87/100\n",
      "71/71 [==============================] - 0s 3ms/step - loss: 0.0046\n",
      "Epoch 88/100\n",
      "71/71 [==============================] - 0s 3ms/step - loss: 0.0046\n",
      "Epoch 89/100\n",
      "71/71 [==============================] - 0s 3ms/step - loss: 0.0046\n",
      "Epoch 90/100\n",
      "71/71 [==============================] - 0s 3ms/step - loss: 0.0047\n",
      "Epoch 91/100\n",
      "71/71 [==============================] - 0s 3ms/step - loss: 0.0046\n",
      "Epoch 92/100\n",
      "71/71 [==============================] - 0s 3ms/step - loss: 0.0049\n",
      "Epoch 93/100\n",
      "71/71 [==============================] - 0s 3ms/step - loss: 0.0046\n",
      "Epoch 94/100\n",
      "71/71 [==============================] - 0s 3ms/step - loss: 0.0046\n",
      "Epoch 95/100\n",
      "71/71 [==============================] - 0s 3ms/step - loss: 0.0047\n",
      "Epoch 96/100\n",
      "71/71 [==============================] - 0s 3ms/step - loss: 0.0049\n",
      "Epoch 97/100\n",
      "71/71 [==============================] - 0s 3ms/step - loss: 0.0047\n",
      "Epoch 98/100\n",
      "71/71 [==============================] - 0s 3ms/step - loss: 0.0046\n",
      "Epoch 99/100\n",
      "71/71 [==============================] - 0s 3ms/step - loss: 0.0047\n",
      "Epoch 100/100\n",
      "71/71 [==============================] - 0s 3ms/step - loss: 0.0046\n"
     ]
    }
   ],
   "source": [
    "#punto 6: crear el modelo\n",
    "model = keras.Sequential()\n",
    "model.add(keras.layers.LSTM(4, input_shape=(1,l))) #input_shape = (1,l) sin el samples, analogo a redes anteriores\n",
    "model.add(keras.layers.Dense(1))\n",
    "#punto 7: entrenar la red\n",
    "model.compile(optimizer='adam',loss=keras.losses.MSE) #no metrics porque seria mse, compilo\n",
    "history = model.fit(x_train, y_train,epochs=100,batch_size=1,verbose=1) #entreno el modelo"
   ]
  },
  {
   "cell_type": "code",
   "execution_count": 30,
   "metadata": {},
   "outputs": [
    {
     "name": "stdout",
     "output_type": "stream",
     "text": [
      "MSE para train dataset: 6675864327778674.0\n",
      "MSE para test dataset: 6706389689204337.0\n"
     ]
    }
   ],
   "source": [
    "#punto 8: realizar predicciones\n",
    "y_train_pr = model.predict(x_train)\n",
    "y_test_pr = model.predict(x_test)\n",
    "#invertir predicciones\n",
    "y_train_pr = scaling.inverse_transform(y_train_pr)\n",
    "y_train = scaling.inverse_transform(y_train)\n",
    "y_test_pr = scaling.inverse_transform(y_test_pr)\n",
    "y_test = scaling.inverse_transform(y_test)\n",
    "#calcular el mse para test\n",
    "print('MSE para train dataset:',round(np.square(y_train_pr-y_train).mean(),1))\n",
    "print('MSE para test dataset:',round(np.square(y_test_pr-y_test).mean(),1))"
   ]
  },
  {
   "cell_type": "code",
   "execution_count": 28,
   "metadata": {},
   "outputs": [
    {
     "ename": "ValueError",
     "evalue": "could not broadcast input array from shape (72,1) into shape (69,1)",
     "output_type": "error",
     "traceback": [
      "\u001b[1;31m---------------------------------------------------------------------------\u001b[0m",
      "\u001b[1;31mValueError\u001b[0m                                Traceback (most recent call last)",
      "\u001b[1;32m<ipython-input-28-d1743dac797c>\u001b[0m in \u001b[0;36m<module>\u001b[1;34m\u001b[0m\n\u001b[0;32m      5\u001b[0m \u001b[0mtestPredictPlot\u001b[0m \u001b[1;33m=\u001b[0m \u001b[0mnp\u001b[0m\u001b[1;33m.\u001b[0m\u001b[0mempty_like\u001b[0m\u001b[1;33m(\u001b[0m\u001b[0mdf_original\u001b[0m\u001b[1;33m)\u001b[0m\u001b[1;33m\u001b[0m\u001b[1;33m\u001b[0m\u001b[0m\n\u001b[0;32m      6\u001b[0m \u001b[0mtestPredictPlot\u001b[0m\u001b[1;33m[\u001b[0m\u001b[1;33m:\u001b[0m\u001b[1;33m,\u001b[0m \u001b[1;33m:\u001b[0m\u001b[1;33m]\u001b[0m \u001b[1;33m=\u001b[0m \u001b[0mnp\u001b[0m\u001b[1;33m.\u001b[0m\u001b[0mnan\u001b[0m\u001b[1;33m\u001b[0m\u001b[1;33m\u001b[0m\u001b[0m\n\u001b[1;32m----> 7\u001b[1;33m \u001b[0mtestPredictPlot\u001b[0m\u001b[1;33m[\u001b[0m\u001b[0mlen\u001b[0m\u001b[1;33m(\u001b[0m\u001b[0my_train_pr\u001b[0m\u001b[1;33m)\u001b[0m\u001b[1;33m+\u001b[0m\u001b[1;33m(\u001b[0m\u001b[0ml\u001b[0m\u001b[1;33m*\u001b[0m\u001b[1;36m2\u001b[0m\u001b[1;33m)\u001b[0m\u001b[1;33m+\u001b[0m\u001b[1;36m1\u001b[0m\u001b[1;33m:\u001b[0m\u001b[0mlen\u001b[0m\u001b[1;33m(\u001b[0m\u001b[0mdf_original\u001b[0m\u001b[1;33m)\u001b[0m\u001b[1;33m-\u001b[0m\u001b[1;36m1\u001b[0m\u001b[1;33m,\u001b[0m \u001b[1;33m:\u001b[0m\u001b[1;33m]\u001b[0m \u001b[1;33m=\u001b[0m \u001b[0my_test_pr\u001b[0m\u001b[1;33m\u001b[0m\u001b[1;33m\u001b[0m\u001b[0m\n\u001b[0m\u001b[0;32m      8\u001b[0m \u001b[1;31m# plot baseline and predictions\u001b[0m\u001b[1;33m\u001b[0m\u001b[1;33m\u001b[0m\u001b[1;33m\u001b[0m\u001b[0m\n\u001b[0;32m      9\u001b[0m \u001b[0mplt\u001b[0m\u001b[1;33m.\u001b[0m\u001b[0mplot\u001b[0m\u001b[1;33m(\u001b[0m\u001b[0mscaler\u001b[0m\u001b[1;33m.\u001b[0m\u001b[0minverse_transform\u001b[0m\u001b[1;33m(\u001b[0m\u001b[0mdf_original\u001b[0m\u001b[1;33m)\u001b[0m\u001b[1;33m,\u001b[0m \u001b[0mlabel\u001b[0m\u001b[1;33m=\u001b[0m\u001b[1;34m\"Airlines Data\"\u001b[0m\u001b[1;33m)\u001b[0m\u001b[1;33m\u001b[0m\u001b[1;33m\u001b[0m\u001b[0m\n",
      "\u001b[1;31mValueError\u001b[0m: could not broadcast input array from shape (72,1) into shape (69,1)"
     ]
    }
   ],
   "source": [
    "trainPredictPlot = np.empty_like(df_original)\n",
    "trainPredictPlot[:, :] = np.nan\n",
    "trainPredictPlot[l:len(y_train_pr)+l, :] = y_train_pr\n",
    "# shift test predictions for plotting\n",
    "testPredictPlot = np.empty_like(df_original)\n",
    "testPredictPlot[:, :] = np.nan\n",
    "testPredictPlot[len(y_train_pr)+(l*2)+1:len(df_original)-1, :] = y_test_pr\n",
    "# plot baseline and predictions\n",
    "plt.plot(scaler.inverse_transform(df_original), label=\"Airlines Data\")\n",
    "plt.plot(trainPredictPlot, label=\"Train Prediction\")\n",
    "plt.plot(testPredictPlot, label=\"Test Prediction\")\n",
    "plt.xlabel(\"Observations\")\n",
    "plt.ylabel(\"Passengers\")\n",
    "plt.legend()\n",
    "plt.show()"
   ]
  }
 ],
 "metadata": {
  "kernelspec": {
   "display_name": "Python 3",
   "language": "python",
   "name": "python3"
  },
  "language_info": {
   "codemirror_mode": {
    "name": "ipython",
    "version": 3
   },
   "file_extension": ".py",
   "mimetype": "text/x-python",
   "name": "python",
   "nbconvert_exporter": "python",
   "pygments_lexer": "ipython3",
   "version": "3.7.7"
  }
 },
 "nbformat": 4,
 "nbformat_minor": 4
}
