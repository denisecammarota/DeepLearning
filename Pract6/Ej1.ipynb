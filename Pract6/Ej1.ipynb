{
 "cells": [
  {
   "cell_type": "code",
   "execution_count": 47,
   "metadata": {},
   "outputs": [],
   "source": [
    "import numpy as np\n",
    "import matplotlib.pyplot as plt \n",
    "import pandas as pd\n",
    "import sklearn\n",
    "import graphviz \n",
    "from sklearn import tree\n",
    "from sklearn.model_selection import train_test_split\n",
    "from sklearn.preprocessing import OneHotEncoder\n",
    "from sklearn.metrics import mean_squared_error\n",
    "from sklearn.model_selection import cross_val_score\n",
    "from sklearn.model_selection import GridSearchCV\n",
    "from sklearn.ensemble import BaggingRegressor\n",
    "from sklearn.ensemble import RandomForestRegressor\n",
    "from sklearn.ensemble import RandomForestClassifier\n",
    "from sklearn.ensemble import AdaBoostRegressor\n",
    "from sklearn.ensemble import AdaBoostClassifier"
   ]
  },
  {
   "cell_type": "code",
   "execution_count": 48,
   "metadata": {},
   "outputs": [],
   "source": [
    "#cargo los datos\n",
    "data = pd.read_csv('Carseats.csv')\n",
    "#creo la nueva columna que nos piden\n",
    "new_column = np.zeros(data.shape[0])\n",
    "data['High'] = new_column\n",
    "data['High'] = 'No'\n",
    "data.loc[data['Sales']>=8,'High'] = 'Yes'\n",
    "data = pd.get_dummies(data)\n",
    "df = pd.DataFrame(data)"
   ]
  },
  {
   "cell_type": "code",
   "execution_count": 49,
   "metadata": {},
   "outputs": [],
   "source": [
    "#separar los datasets en desarrollo (validation and training) y testing \n",
    "dev_data, test_data = train_test_split(df, test_size=0.2) # 0.2 for testing data, 0.8 for development data"
   ]
  },
  {
   "cell_type": "markdown",
   "metadata": {},
   "source": [
    "# trees para la variable High - classification trees"
   ]
  },
  {
   "cell_type": "code",
   "execution_count": 52,
   "metadata": {},
   "outputs": [
    {
     "name": "stdout",
     "output_type": "stream",
     "text": [
      "train acc: 1.0\n",
      "test acc: 0.7125\n",
      "train loss: 0.2875\n",
      "test loss: 0.0\n"
     ]
    }
   ],
   "source": [
    "#creo un tree para la variable High\n",
    "#primero pongo bien los datos, sacando la columna de sales\n",
    "dev_data_1 = dev_data.copy()\n",
    "test_data_1 = test_data.copy()\n",
    "test_data_1 = test_data_1.drop(columns='Sales')\n",
    "dev_data_1 = dev_data_1.drop(columns='Sales')\n",
    "#saco los feature names and class names\n",
    "df_list = test_data_1.columns[:-2]\n",
    "df_classes = ['No','Yes']\n",
    "#separo en features y labels para test y train\n",
    "x_train = dev_data_1.copy()\n",
    "x_test = test_data_1.copy()\n",
    "x_train = x_train.drop(columns='High_Yes') \n",
    "x_train = x_train.drop(columns='High_No') \n",
    "y_train = dev_data_1['High_Yes']\n",
    "x_test = x_test.drop(columns = 'High_Yes')\n",
    "x_test = x_test.drop(columns = 'High_No')\n",
    "y_test = test_data_1['High_Yes']\n",
    "#paso a numpy array todo\n",
    "x_train = x_train.to_numpy()\n",
    "x_test = x_test.to_numpy()\n",
    "y_train = y_train.to_numpy()\n",
    "y_test = y_test.to_numpy()\n",
    "#creo el tree de hecho\n",
    "clf = tree.DecisionTreeClassifier(random_state=0)\n",
    "clf.fit(x_train,y_train)\n",
    "print('train acc: '+str(clf.score(x_train,y_train)))\n",
    "print('test acc: '+str(clf.score(x_test,y_test)))\n",
    "print('train loss: '+str(mean_squared_error(y_test,clf.predict(x_test))))\n",
    "print('test loss: '+str(mean_squared_error(y_train,clf.predict(x_train))))"
   ]
  },
  {
   "cell_type": "code",
   "execution_count": 53,
   "metadata": {},
   "outputs": [
    {
     "data": {
      "text/plain": [
       "'overfit_first_tree.pdf'"
      ]
     },
     "execution_count": 53,
     "metadata": {},
     "output_type": "execute_result"
    }
   ],
   "source": [
    "dot_data = tree.export_graphviz(clf, out_file=None, \n",
    "            feature_names=df_list, class_names=df_classes,filled=True, rounded=True,  \n",
    "            special_characters=True)  \n",
    "graph = graphviz.Source(dot_data)  \n",
    "graph.render(\"overfit_first_tree\") "
   ]
  },
  {
   "cell_type": "markdown",
   "metadata": {},
   "source": [
    "# trees para la variable Sales - regression trees"
   ]
  },
  {
   "cell_type": "code",
   "execution_count": 76,
   "metadata": {},
   "outputs": [],
   "source": [
    "#analogo a lo anterior, sacando las columnas de high en vez de la de sales\n",
    "dev_data_1 = dev_data.copy()\n",
    "test_data_1 = test_data.copy()\n",
    "test_data_1 = test_data_1.drop(columns='High_No')\n",
    "test_data_1 = test_data_1.drop(columns='High_Yes')\n",
    "dev_data_1 = dev_data_1.drop(columns='High_No')\n",
    "dev_data_1 = dev_data_1.drop(columns='High_Yes')\n",
    "#saco los feature names and class names para esta ocasion \n",
    "df_list = test_data_1.columns[1:]\n",
    "df_classes = ['No','Yes']\n",
    "#separo en features y labels para test y train analogo al caso anterior\n",
    "x_train = dev_data_1.copy()\n",
    "x_test = test_data_1.copy()\n",
    "x_train = x_train.drop(columns='Sales') \n",
    "y_train = dev_data_1['Sales']\n",
    "x_test = x_test.drop(columns = 'Sales')\n",
    "y_test = test_data_1['Sales']\n",
    "#paso a numpy array todo\n",
    "x_train = x_train.to_numpy()\n",
    "x_test = x_test.to_numpy()\n",
    "y_train = y_train.to_numpy()\n",
    "y_test = y_test.to_numpy()"
   ]
  },
  {
   "cell_type": "code",
   "execution_count": 77,
   "metadata": {},
   "outputs": [
    {
     "name": "stdout",
     "output_type": "stream",
     "text": [
      "train R2: 1.0\n",
      "test R2: 0.153635490545464\n",
      "train loss: 5.8825787499999995\n",
      "test loss: 0.0\n"
     ]
    }
   ],
   "source": [
    "#creo el tree de hecho, es un regression tree en este caso\n",
    "clf = tree.DecisionTreeRegressor(random_state=0)\n",
    "clf.fit(x_train,y_train)\n",
    "print('train R2: '+str(clf.score(x_train,y_train)))\n",
    "print('test R2: '+str(clf.score(x_test,y_test)))\n",
    "print('train loss: '+str(mean_squared_error(y_test,clf.predict(x_test))))\n",
    "print('test loss: '+str(mean_squared_error(y_train,clf.predict(x_train))))"
   ]
  },
  {
   "cell_type": "code",
   "execution_count": 78,
   "metadata": {},
   "outputs": [
    {
     "data": {
      "text/plain": [
       "'overfit_second_tree.pdf'"
      ]
     },
     "execution_count": 78,
     "metadata": {},
     "output_type": "execute_result"
    }
   ],
   "source": [
    "dot_data = tree.export_graphviz(clf, out_file=None, \n",
    "            feature_names=df_list, class_names=df_classes,filled=True, rounded=True,  \n",
    "            special_characters=True)  \n",
    "graph = graphviz.Source(dot_data)  \n",
    "graph.render(\"overfit_second_tree\") "
   ]
  },
  {
   "cell_type": "markdown",
   "metadata": {},
   "source": [
    "# cross validation para el regression tree"
   ]
  },
  {
   "cell_type": "code",
   "execution_count": 148,
   "metadata": {},
   "outputs": [
    {
     "data": {
      "image/png": "[encoded data removed]",
      "text/plain": [
       "<Figure size 432x288 with 1 Axes>"
      ]
     },
     "metadata": {
      "needs_background": "light"
     },
     "output_type": "display_data"
    }
   ],
   "source": [
    "depths = []\n",
    "scores_depth = []\n",
    "for i in range(2,15):\n",
    "    clf = tree.DecisionTreeRegressor(max_depth=i,random_state=0)\n",
    "    scores = cross_val_score(estimator=clf, X=x_train, y=y_train, cv=5) #5-fold validation\n",
    "    depths.append(i)\n",
    "    scores_depth.append(scores.mean())\n",
    "plt.plot(depths,scores_depth,'-ob')\n",
    "plt.xlabel('max_depth')\n",
    "plt.ylabel(r'$\\mathrm{scores \\: / \\: R^2}$')\n",
    "plt.savefig('validation_5fold.pdf')"
   ]
  },
  {
   "cell_type": "code",
   "execution_count": 152,
   "metadata": {},
   "outputs": [
    {
     "name": "stdout",
     "output_type": "stream",
     "text": [
      "train R2: 0.7630219448461191\n",
      "test R2: 0.2507856878815905\n",
      "train loss: 5.207345230607605\n",
      "test loss: 1.9222580991486733\n"
     ]
    }
   ],
   "source": [
    "#creo el tree de hecho, es un regression tree en este caso\n",
    "clf = tree.DecisionTreeRegressor(max_depth=5,random_state=0)\n",
    "clf.fit(x_train,y_train)\n",
    "print('train R2: '+str(clf.score(x_train,y_train)))\n",
    "print('test R2: '+str(clf.score(x_test,y_test)))\n",
    "print('train loss: '+str(mean_squared_error(y_test,clf.predict(x_test))))\n",
    "print('test loss: '+str(mean_squared_error(y_train,clf.predict(x_train))))"
   ]
  },
  {
   "cell_type": "code",
   "execution_count": 151,
   "metadata": {},
   "outputs": [
    {
     "data": {
      "text/plain": [
       "'third_tree.pdf'"
      ]
     },
     "execution_count": 151,
     "metadata": {},
     "output_type": "execute_result"
    }
   ],
   "source": [
    "dot_data = tree.export_graphviz(clf, out_file=None, \n",
    "            feature_names=df_list, class_names=df_classes,filled=True, rounded=True,  \n",
    "            special_characters=True)  \n",
    "graph = graphviz.Source(dot_data)  \n",
    "graph.render(\"third_tree\") "
   ]
  },
  {
   "cell_type": "markdown",
   "metadata": {},
   "source": [
    "# pruning (source: sci-kit learn)"
   ]
  },
  {
   "cell_type": "code",
   "execution_count": 153,
   "metadata": {},
   "outputs": [],
   "source": [
    "clf = tree.DecisionTreeRegressor(random_state=0)\n",
    "path = clf.cost_complexity_pruning_path(x_train,y_train)\n",
    "ccp_alphas, impurities = path.ccp_alphas, path.impurities"
   ]
  },
  {
   "cell_type": "code",
   "execution_count": 154,
   "metadata": {},
   "outputs": [],
   "source": [
    "clfs = []\n",
    "for ccp_alpha in ccp_alphas:\n",
    "    clf = tree.DecisionTreeRegressor(random_state=0,ccp_alpha=ccp_alpha)\n",
    "    clf.fit(x_train, y_train)\n",
    "    clfs.append(clf)"
   ]
  },
  {
   "cell_type": "code",
   "execution_count": 162,
   "metadata": {},
   "outputs": [
    {
     "data": {
      "image/png": "[encoded data removed]",
      "text/plain": [
       "<Figure size 432x288 with 1 Axes>"
      ]
     },
     "metadata": {
      "needs_background": "light"
     },
     "output_type": "display_data"
    }
   ],
   "source": [
    "train_scores = [clf.score(x_train,y_train) for clf in clfs]\n",
    "test_scores = [clf.score(x_test,y_test) for clf in clfs]\n",
    "\n",
    "fig, ax = plt.subplots()\n",
    "ax.set_xlabel(r'Alpha')\n",
    "ax.set_ylabel(r'$\\mathrm{R^2}$')\n",
    "ax.set_title('R2- Alpha para train y test')\n",
    "ax.plot(ccp_alphas, train_scores, marker='o', label=\"datos de train\",\n",
    "        drawstyle=\"steps-post\")\n",
    "ax.plot(ccp_alphas, test_scores, marker='o', label=\"datos de test\",\n",
    "        drawstyle=\"steps-post\")\n",
    "ax.legend()\n",
    "plt.savefig('train_test_accr2alpha.pdf')"
   ]
  },
  {
   "cell_type": "code",
   "execution_count": 156,
   "metadata": {},
   "outputs": [
    {
     "name": "stdout",
     "output_type": "stream",
     "text": [
      "0.07996285057923277\n"
     ]
    }
   ],
   "source": [
    "a = np.argmin(test_scores)\n",
    "print(ccp_alphas[a])"
   ]
  },
  {
   "cell_type": "code",
   "execution_count": 157,
   "metadata": {},
   "outputs": [],
   "source": [
    "alpha_probable = ccp_alphas[a]"
   ]
  },
  {
   "cell_type": "code",
   "execution_count": 164,
   "metadata": {},
   "outputs": [
    {
     "name": "stdout",
     "output_type": "stream",
     "text": [
      "train R2: 0.7203180214990218\n",
      "test R2: 0.3395194511918993\n",
      "test loss: 4.590609362520273\n",
      "train loss: 2.2686528843792226\n"
     ]
    }
   ],
   "source": [
    "clf = tree.DecisionTreeRegressor(random_state=0, ccp_alpha=alpha_probable)\n",
    "clf.fit(x_train, y_train)\n",
    "print('train R2: '+str(clf.score(x_train,y_train)))\n",
    "print('test R2: '+str(clf.score(x_test,y_test)))\n",
    "print('test loss: '+str(mean_squared_error(y_test,clf.predict(x_test))))\n",
    "print('train loss: '+str(mean_squared_error(y_train,clf.predict(x_train))))"
   ]
  },
  {
   "cell_type": "code",
   "execution_count": 165,
   "metadata": {},
   "outputs": [
    {
     "data": {
      "text/plain": [
       "'fourth_tree.pdf'"
      ]
     },
     "execution_count": 165,
     "metadata": {},
     "output_type": "execute_result"
    }
   ],
   "source": [
    "dot_data = tree.export_graphviz(clf, out_file=None, \n",
    "            feature_names=df_list, class_names=df_classes,filled=True, rounded=True,  \n",
    "            special_characters=True)  \n",
    "graph = graphviz.Source(dot_data)  \n",
    "graph.render(\"fourth_tree\") "
   ]
  },
  {
   "cell_type": "markdown",
   "metadata": {},
   "source": [
    "# bagging para reducir error de test"
   ]
  },
  {
   "cell_type": "code",
   "execution_count": 169,
   "metadata": {},
   "outputs": [
    {
     "data": {
      "image/png": "[encoded data removed]",
      "text/plain": [
       "<Figure size 432x288 with 1 Axes>"
      ]
     },
     "metadata": {
      "needs_background": "light"
     },
     "output_type": "display_data"
    }
   ],
   "source": [
    "clf = BaggingRegressor(tree.DecisionTreeRegressor(),random_state=0)\n",
    "clf.fit(x_train, y_train)\n",
    "importances = np.mean([tree.feature_importances_ for tree in clf.estimators_ ], axis=0)\n",
    "indices = np.argsort(importances)[::-1]\n",
    "plt.figure()\n",
    "plt.xlabel('Features')\n",
    "plt.ylabel('Importancia')\n",
    "plt.title(\"Importancia de Features\")\n",
    "plt.bar(range(x_train.shape[1]), importances[indices],\n",
    "        color=\"r\",align=\"center\")\n",
    "plt.xticks(range(x_train.shape[1]), df_list[indices],rotation='vertical')\n",
    "plt.xlim([-1, x_train.shape[1]])\n",
    "plt.savefig('featmap_1.pdf')\n",
    "plt.show()"
   ]
  },
  {
   "cell_type": "code",
   "execution_count": 170,
   "metadata": {},
   "outputs": [
    {
     "name": "stdout",
     "output_type": "stream",
     "text": [
      "train R2: 0.9341450383109826\n",
      "test R2: 0.6415034918396956\n",
      "test loss: 2.4916970375000007\n",
      "train loss: 0.53418546875\n"
     ]
    }
   ],
   "source": [
    "print('train R2: '+str(clf.score(x_train,y_train)))\n",
    "print('test R2: '+str(clf.score(x_test,y_test)))\n",
    "print('test loss: '+str(mean_squared_error(y_test,clf.predict(x_test))))\n",
    "print('train loss: '+str(mean_squared_error(y_train,clf.predict(x_train))))"
   ]
  },
  {
   "cell_type": "markdown",
   "metadata": {},
   "source": [
    "# random forest "
   ]
  },
  {
   "cell_type": "code",
   "execution_count": 181,
   "metadata": {},
   "outputs": [
    {
     "name": "stdout",
     "output_type": "stream",
     "text": [
      "train R2: 0.9570980196466278\n",
      "test R2: 0.7002951208807053\n",
      "test loss: 2.0830712222499996\n",
      "train loss: 0.3480013334999998\n"
     ]
    }
   ],
   "source": [
    "clf = RandomForestRegressor(random_state=0)\n",
    "clf.fit(x_train, y_train)\n",
    "print('train R2: '+str(clf.score(x_train,y_train)))\n",
    "print('test R2: '+str(clf.score(x_test,y_test)))\n",
    "print('test loss: '+str(mean_squared_error(y_test,clf.predict(x_test))))\n",
    "print('train loss: '+str(mean_squared_error(y_train,clf.predict(x_train))))"
   ]
  },
  {
   "cell_type": "code",
   "execution_count": 175,
   "metadata": {},
   "outputs": [
    {
     "data": {
      "image/png": "[encoded data removed]",
      "text/plain": [
       "<Figure size 432x288 with 1 Axes>"
      ]
     },
     "metadata": {
      "needs_background": "light"
     },
     "output_type": "display_data"
    }
   ],
   "source": [
    "importances = clf.feature_importances_\n",
    "indices = np.argsort(importances)[::-1]\n",
    "plt.figure()\n",
    "plt.xlabel('Features')\n",
    "plt.ylabel('Importancia')\n",
    "plt.title(\"Importancia de Features\")\n",
    "plt.bar(range(x_train.shape[1]), importances[indices],\n",
    "        color=\"r\",align=\"center\")\n",
    "plt.xticks(range(x_train.shape[1]), df_list[indices],rotation='vertical')\n",
    "plt.xlim([-1, x_train.shape[1]])\n",
    "plt.savefig('featmap_2.pdf')\n",
    "plt.show()"
   ]
  },
  {
   "cell_type": "code",
   "execution_count": 176,
   "metadata": {},
   "outputs": [],
   "source": [
    "n_feat = 14\n",
    "error_feat = []\n",
    "for i in range(1,n_feat+1):\n",
    "    clf = RandomForestRegressor(max_features=i,random_state=0)\n",
    "    clf.fit(x_train, y_train)\n",
    "    error_feat.append(mean_squared_error(y_test,clf.predict(x_test)))"
   ]
  },
  {
   "cell_type": "code",
   "execution_count": 180,
   "metadata": {},
   "outputs": [
    {
     "data": {
      "image/png": "[encoded data removed]",
      "text/plain": [
       "<Figure size 432x288 with 1 Axes>"
      ]
     },
     "metadata": {
      "needs_background": "light"
     },
     "output_type": "display_data"
    }
   ],
   "source": [
    "plt.plot(range(1,n_feat+1),error_feat,'-ob')\n",
    "plt.xlabel('max_features')\n",
    "plt.ylabel('Error')\n",
    "plt.savefig('maxfeat_error.pdf')"
   ]
  },
  {
   "cell_type": "code",
   "execution_count": 192,
   "metadata": {},
   "outputs": [],
   "source": [
    "depths = []\n",
    "err_depth = []\n",
    "for i in range(2,40):\n",
    "    clf = RandomForestRegressor(max_depth=i,random_state=0)\n",
    "    clf.fit(x_train, y_train)\n",
    "    depths.append(i)\n",
    "    err_depth.append(mean_squared_error(y_test,clf.predict(x_test)))"
   ]
  },
  {
   "cell_type": "code",
   "execution_count": 193,
   "metadata": {},
   "outputs": [
    {
     "data": {
      "image/png": "[encoded data removed]",
      "text/plain": [
       "<Figure size 432x288 with 1 Axes>"
      ]
     },
     "metadata": {
      "needs_background": "light"
     },
     "output_type": "display_data"
    }
   ],
   "source": [
    "plt.plot(depths,err_depth,'-ob')\n",
    "plt.xlabel('max_depth')\n",
    "plt.ylabel('Error')\n",
    "plt.savefig('maxdepth_error.pdf')"
   ]
  },
  {
   "cell_type": "markdown",
   "metadata": {},
   "source": [
    "# adaboost"
   ]
  },
  {
   "cell_type": "code",
   "execution_count": 195,
   "metadata": {},
   "outputs": [
    {
     "name": "stdout",
     "output_type": "stream",
     "text": [
      "train R2: 0.7692874531307038\n",
      "test R2: 0.6145365677980164\n",
      "test loss: 2.6791281650441876\n",
      "train loss: 1.871435148316769\n"
     ]
    }
   ],
   "source": [
    "clf = AdaBoostRegressor(random_state=0)\n",
    "clf.fit(x_train, y_train)\n",
    "print('train R2: '+str(clf.score(x_train,y_train)))\n",
    "print('test R2: '+str(clf.score(x_test,y_test)))\n",
    "print('test loss: '+str(mean_squared_error(y_test,clf.predict(x_test))))\n",
    "print('train loss: '+str(mean_squared_error(y_train,clf.predict(x_train))))"
   ]
  },
  {
   "cell_type": "code",
   "execution_count": 197,
   "metadata": {},
   "outputs": [
    {
     "data": {
      "image/png": "[encoded data removed]",
      "text/plain": [
       "<Figure size 432x288 with 1 Axes>"
      ]
     },
     "metadata": {
      "needs_background": "light"
     },
     "output_type": "display_data"
    }
   ],
   "source": [
    "importances = clf.feature_importances_\n",
    "indices = np.argsort(importances)[::-1]\n",
    "plt.figure()\n",
    "plt.xlabel('Features')\n",
    "plt.ylabel('Importancia')\n",
    "plt.title(\"Importancia de Features\")\n",
    "plt.bar(range(x_train.shape[1]), importances[indices],\n",
    "        color=\"r\",align=\"center\")\n",
    "plt.xticks(range(x_train.shape[1]), df_list[indices],rotation='vertical')\n",
    "plt.xlim([-1, x_train.shape[1]])\n",
    "plt.savefig('featmap_3.pdf')\n",
    "plt.show()"
   ]
  },
  {
   "cell_type": "code",
   "execution_count": null,
   "metadata": {},
   "outputs": [],
   "source": []
  }
 ],
 "metadata": {
  "kernelspec": {
   "display_name": "Python 3",
   "language": "python",
   "name": "python3"
  },
  "language_info": {
   "codemirror_mode": {
    "name": "ipython",
    "version": 3
   },
   "file_extension": ".py",
   "mimetype": "text/x-python",
   "name": "python",
   "nbconvert_exporter": "python",
   "pygments_lexer": "ipython3",
   "version": "3.7.7"
  }
 },
 "nbformat": 4,
 "nbformat_minor": 4
}
