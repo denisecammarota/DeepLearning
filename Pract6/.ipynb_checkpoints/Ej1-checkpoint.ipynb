{
 "cells": [
  {
   "cell_type": "code",
   "execution_count": 360,
   "metadata": {},
   "outputs": [],
   "source": [
    "import numpy as np\n",
    "import matplotlib.pyplot as plt \n",
    "import pandas as pd\n",
    "import sklearn\n",
    "import graphviz \n",
    "from sklearn import tree\n",
    "from sklearn.model_selection import train_test_split\n",
    "from sklearn.preprocessing import OneHotEncoder\n",
    "from sklearn.metrics import mean_squared_error\n",
    "from sklearn.model_selection import cross_val_score\n",
    "from sklearn.model_selection import GridSearchCV\n",
    "from sklearn.ensemble import BaggingRegressor\n",
    "from sklearn.ensemble import RandomForestRegressor\n",
    "from sklearn.ensemble import AdaBoostRegressor"
   ]
  },
  {
   "cell_type": "code",
   "execution_count": 2,
   "metadata": {},
   "outputs": [],
   "source": [
    "#cargo los datos\n",
    "data = pd.read_csv('Carseats.csv')\n",
    "#creo la nueva columna que nos piden\n",
    "new_column = np.zeros(data.shape[0])\n",
    "data['High'] = new_column\n",
    "data['High'] = 'No'\n",
    "data.loc[data['Sales']>=8,'High'] = 'Yes'\n",
    "data = pd.get_dummies(data)\n",
    "df = pd.DataFrame(data)"
   ]
  },
  {
   "cell_type": "code",
   "execution_count": 3,
   "metadata": {},
   "outputs": [],
   "source": [
    "#separar los datasets en desarrollo (validation and training) y testing \n",
    "dev_data, test_data = train_test_split(df, test_size=0.2) # 0.2 for testing data, 0.8 for development data"
   ]
  },
  {
   "cell_type": "markdown",
   "metadata": {},
   "source": [
    "# tree para la variable High"
   ]
  },
  {
   "cell_type": "code",
   "execution_count": 4,
   "metadata": {},
   "outputs": [
    {
     "name": "stdout",
     "output_type": "stream",
     "text": [
      "train acc: 0.94375\n",
      "test acc: 0.75\n",
      "train loss: 0.25\n",
      "test loss: 0.05625\n"
     ]
    }
   ],
   "source": [
    "#creo un tree para la variable High\n",
    "#primero pongo bien los datos, sacando la columna de sales\n",
    "dev_data_1 = dev_data.copy()\n",
    "test_data_1 = test_data.copy()\n",
    "test_data_1 = test_data_1.drop(columns='Sales')\n",
    "dev_data_1 = dev_data_1.drop(columns='Sales')\n",
    "#saco los feature names and class names\n",
    "df_list = test_data_1.columns[:-2]\n",
    "df_classes = ['No','Yes']\n",
    "#separo en features y labels para test y train\n",
    "x_train = dev_data_1.copy()\n",
    "x_test = test_data_1.copy()\n",
    "x_train = x_train.drop(columns='High_Yes') \n",
    "x_train = x_train.drop(columns='High_No') \n",
    "y_train = dev_data_1['High_Yes']\n",
    "x_test = x_test.drop(columns = 'High_Yes')\n",
    "x_test = x_test.drop(columns = 'High_No')\n",
    "y_test = test_data_1['High_Yes']\n",
    "#paso a numpy array todo\n",
    "x_train = x_train.to_numpy()\n",
    "x_test = x_test.to_numpy()\n",
    "y_train = y_train.to_numpy()\n",
    "y_test = y_test.to_numpy()\n",
    "#creo el tree de hecho\n",
    "clf = tree.DecisionTreeClassifier(max_depth=6)\n",
    "clf.fit(x_train,y_train)\n",
    "print('train acc: '+str(clf.score(x_train,y_train)))\n",
    "print('test acc: '+str(clf.score(x_test,y_test)))\n",
    "print('train loss: '+str(mean_squared_error(y_test,clf.predict(x_test))))\n",
    "print('test loss: '+str(mean_squared_error(y_train,clf.predict(x_train))))"
   ]
  },
  {
   "cell_type": "code",
   "execution_count": 5,
   "metadata": {},
   "outputs": [
    {
     "data": {
      "text/plain": [
       "'first_tree.pdf'"
      ]
     },
     "execution_count": 5,
     "metadata": {},
     "output_type": "execute_result"
    }
   ],
   "source": [
    "dot_data = tree.export_graphviz(clf, out_file=None, \n",
    "            feature_names=df_list, class_names=df_classes,filled=True, rounded=True,  \n",
    "            special_characters=True)  \n",
    "graph = graphviz.Source(dot_data)  \n",
    "graph.render(\"first_tree\") "
   ]
  },
  {
   "cell_type": "markdown",
   "metadata": {},
   "source": [
    "# tree para la variable Sales"
   ]
  },
  {
   "cell_type": "code",
   "execution_count": 6,
   "metadata": {},
   "outputs": [],
   "source": [
    "#analogo a lo anterior, sacando las columnas de high en vez de la de sales\n",
    "dev_data_1 = dev_data.copy()\n",
    "test_data_1 = test_data.copy()\n",
    "test_data_1 = test_data_1.drop(columns='High_No')\n",
    "test_data_1 = test_data_1.drop(columns='High_Yes')\n",
    "dev_data_1 = dev_data_1.drop(columns='High_No')\n",
    "dev_data_1 = dev_data_1.drop(columns='High_Yes')\n",
    "#saco los feature names and class names para esta ocasion \n",
    "df_list = test_data_1.columns[1:]\n",
    "df_classes = ['No','Yes']\n",
    "#separo en features y labels para test y train analogo al caso anterior\n",
    "x_train = dev_data_1.copy()\n",
    "x_test = test_data_1.copy()\n",
    "x_train = x_train.drop(columns='Sales') \n",
    "y_train = dev_data_1['Sales']\n",
    "x_test = x_test.drop(columns = 'Sales')\n",
    "y_test = test_data_1['Sales']\n",
    "#paso a numpy array todo\n",
    "x_train = x_train.to_numpy()\n",
    "x_test = x_test.to_numpy()\n",
    "y_train = y_train.to_numpy()\n",
    "y_test = y_test.to_numpy()"
   ]
  },
  {
   "cell_type": "code",
   "execution_count": 7,
   "metadata": {},
   "outputs": [
    {
     "name": "stdout",
     "output_type": "stream",
     "text": [
      "train R2: 0.8199648699492551\n",
      "test R2: 0.43289528577382297\n",
      "train loss: 4.647968652374562\n",
      "test loss: 1.4172470081255824\n"
     ]
    }
   ],
   "source": [
    "#creo el tree de hecho, es un regression tree en este caso\n",
    "clf = tree.DecisionTreeRegressor(max_depth=6)\n",
    "clf.fit(x_train,y_train)\n",
    "print('train R2: '+str(clf.score(x_train,y_train)))\n",
    "print('test R2: '+str(clf.score(x_test,y_test)))\n",
    "print('train loss: '+str(mean_squared_error(y_test,clf.predict(x_test))))\n",
    "print('test loss: '+str(mean_squared_error(y_train,clf.predict(x_train))))"
   ]
  },
  {
   "cell_type": "code",
   "execution_count": 8,
   "metadata": {},
   "outputs": [
    {
     "data": {
      "text/plain": [
       "'second_tree.pdf'"
      ]
     },
     "execution_count": 8,
     "metadata": {},
     "output_type": "execute_result"
    }
   ],
   "source": [
    "dot_data = tree.export_graphviz(clf, out_file=None, \n",
    "            feature_names=df_list, class_names=df_classes,filled=True, rounded=True,  \n",
    "            special_characters=True)  \n",
    "graph = graphviz.Source(dot_data)  \n",
    "graph.render(\"second_tree\") "
   ]
  },
  {
   "cell_type": "markdown",
   "metadata": {},
   "source": [
    "# cross validation para el regression tree"
   ]
  },
  {
   "cell_type": "code",
   "execution_count": 246,
   "metadata": {},
   "outputs": [
    {
     "data": {
      "image/png": "[encoded data removed]",
      "text/plain": [
       "<Figure size 432x288 with 1 Axes>"
      ]
     },
     "metadata": {
      "needs_background": "light"
     },
     "output_type": "display_data"
    }
   ],
   "source": [
    "depths = []\n",
    "scores_depth = []\n",
    "for i in range(2,10):\n",
    "    clf = tree.DecisionTreeRegressor(max_depth=i)\n",
    "    scores = cross_val_score(estimator=clf, X=x_train, y=y_train, cv=5) #5-fold validation\n",
    "    depths.append(i)\n",
    "    scores_depth.append(scores.mean())\n",
    "plt.plot(depths,scores_depth,'-ok')\n",
    "plt.savefig('validation_5fold.pdf')"
   ]
  },
  {
   "cell_type": "code",
   "execution_count": 247,
   "metadata": {},
   "outputs": [
    {
     "name": "stdout",
     "output_type": "stream",
     "text": [
      "train loss: 1.4172470081255824\n",
      "test loss: 4.630879277374561\n"
     ]
    }
   ],
   "source": [
    "#creo el tree de hecho, es un regression tree en este caso\n",
    "clf = tree.DecisionTreeRegressor(max_depth=6)\n",
    "clf.fit(x_train,y_train)\n",
    "print('train loss: '+str(mean_squared_error(y_train,clf.predict(x_train))))\n",
    "print('test loss: '+str(mean_squared_error(y_test,clf.predict(x_test))))"
   ]
  },
  {
   "cell_type": "code",
   "execution_count": 265,
   "metadata": {},
   "outputs": [
    {
     "name": "stdout",
     "output_type": "stream",
     "text": [
      "train R2: 0.8199648699492551\n",
      "test R2: 0.42878121713159056\n",
      "train loss: 4.681687402374561\n",
      "test loss: 1.4172470081255824\n"
     ]
    }
   ],
   "source": [
    "#creo el tree de hecho, es un regression tree en este caso\n",
    "clf = tree.DecisionTreeRegressor(max_depth=6)\n",
    "clf.fit(x_train,y_train)\n",
    "print('train R2: '+str(clf.score(x_train,y_train)))\n",
    "print('test R2: '+str(clf.score(x_test,y_test)))\n",
    "print('train loss: '+str(mean_squared_error(y_test,clf.predict(x_test))))\n",
    "print('test loss: '+str(mean_squared_error(y_train,clf.predict(x_train))))"
   ]
  },
  {
   "cell_type": "code",
   "execution_count": 266,
   "metadata": {},
   "outputs": [
    {
     "data": {
      "text/plain": [
       "'third_tree.pdf'"
      ]
     },
     "execution_count": 266,
     "metadata": {},
     "output_type": "execute_result"
    }
   ],
   "source": [
    "dot_data = tree.export_graphviz(clf, out_file=None, \n",
    "            feature_names=df_list, class_names=df_classes,filled=True, rounded=True,  \n",
    "            special_characters=True)  \n",
    "graph = graphviz.Source(dot_data)  \n",
    "graph.render(\"third_tree\") "
   ]
  },
  {
   "cell_type": "markdown",
   "metadata": {},
   "source": [
    "# pruning (source: sci-kit learn)"
   ]
  },
  {
   "cell_type": "code",
   "execution_count": 256,
   "metadata": {},
   "outputs": [],
   "source": [
    "clf = tree.DecisionTreeRegressor()\n",
    "path = clf.cost_complexity_pruning_path(x_train,y_train)\n",
    "ccp_alphas, impurities = path.ccp_alphas, path.impurities"
   ]
  },
  {
   "cell_type": "code",
   "execution_count": 260,
   "metadata": {},
   "outputs": [],
   "source": [
    "clfs = []\n",
    "for ccp_alpha in ccp_alphas:\n",
    "    clf = tree.DecisionTreeRegressor(random_state=0, ccp_alpha=ccp_alpha)\n",
    "    clf.fit(x_train, y_train)\n",
    "    clfs.append(clf)"
   ]
  },
  {
   "cell_type": "code",
   "execution_count": 278,
   "metadata": {},
   "outputs": [
    {
     "data": {
      "image/png": "[encoded data removed]",
      "text/plain": [
       "<Figure size 432x288 with 1 Axes>"
      ]
     },
     "metadata": {
      "needs_background": "light"
     },
     "output_type": "display_data"
    }
   ],
   "source": [
    "train_scores = [clf.score(x_train,y_train) for clf in clfs]\n",
    "test_scores = [clf.score(x_test,y_test) for clf in clfs]\n",
    "\n",
    "fig, ax = plt.subplots()\n",
    "ax.set_xlabel('Alpha')\n",
    "ax.set_ylabel(r'R^2')\n",
    "ax.set_title('Loss - Alpha para train y test')\n",
    "ax.plot(ccp_alphas, train_scores, marker='o', label=\"datos de train\",\n",
    "        drawstyle=\"steps-post\")\n",
    "ax.plot(ccp_alphas, test_scores, marker='o', label=\"datos de test\",\n",
    "        drawstyle=\"steps-post\")\n",
    "ax.legend()\n",
    "plt.savefig('train_test_accr2alpha.pdf')"
   ]
  },
  {
   "cell_type": "code",
   "execution_count": 279,
   "metadata": {},
   "outputs": [],
   "source": [
    "alpha_probable = 2.11429450e-01"
   ]
  },
  {
   "cell_type": "code",
   "execution_count": 280,
   "metadata": {},
   "outputs": [
    {
     "name": "stdout",
     "output_type": "stream",
     "text": [
      "train R2: 0.4811565275658688\n",
      "test R2: 0.46329732396386103\n",
      "train loss: 4.398794704546589\n",
      "test loss: 4.084365972271632\n"
     ]
    }
   ],
   "source": [
    "clf = tree.DecisionTreeRegressor(random_state=0, ccp_alpha=alpha_probable)\n",
    "clf.fit(x_train, y_train)\n",
    "print('train R2: '+str(clf.score(x_train,y_train)))\n",
    "print('test R2: '+str(clf.score(x_test,y_test)))\n",
    "print('train loss: '+str(mean_squared_error(y_test,clf.predict(x_test))))\n",
    "print('test loss: '+str(mean_squared_error(y_train,clf.predict(x_train))))"
   ]
  },
  {
   "cell_type": "code",
   "execution_count": 281,
   "metadata": {},
   "outputs": [
    {
     "data": {
      "text/plain": [
       "'fourth_tree.pdf'"
      ]
     },
     "execution_count": 281,
     "metadata": {},
     "output_type": "execute_result"
    }
   ],
   "source": [
    "dot_data = tree.export_graphviz(clf, out_file=None, \n",
    "            feature_names=df_list, class_names=df_classes,filled=True, rounded=True,  \n",
    "            special_characters=True)  \n",
    "graph = graphviz.Source(dot_data)  \n",
    "graph.render(\"fourth_tree\") "
   ]
  },
  {
   "cell_type": "markdown",
   "metadata": {},
   "source": [
    "# bagging para reducir error de test"
   ]
  },
  {
   "cell_type": "code",
   "execution_count": 319,
   "metadata": {},
   "outputs": [
    {
     "name": "stdout",
     "output_type": "stream",
     "text": [
      "Feature ranking:\n",
      "1. feature 4 (0.294302)\n",
      "2. feature 8 (0.252183)\n",
      "3. feature 0 (0.119275)\n",
      "4. feature 2 (0.092854)\n",
      "5. feature 5 (0.083870)\n",
      "6. feature 1 (0.056633)\n",
      "7. feature 3 (0.031586)\n",
      "8. feature 7 (0.024691)\n",
      "9. feature 6 (0.020127)\n",
      "10. feature 9 (0.014920)\n",
      "11. feature 12 (0.003643)\n",
      "12. feature 11 (0.002432)\n",
      "13. feature 10 (0.002430)\n",
      "14. feature 13 (0.001054)\n"
     ]
    },
    {
     "data": {
      "image/png": "[encoded data removed]",
      "text/plain": [
       "<Figure size 432x288 with 1 Axes>"
      ]
     },
     "metadata": {
      "needs_background": "light"
     },
     "output_type": "display_data"
    }
   ],
   "source": [
    "clf = BaggingRegressor(tree.DecisionTreeRegressor())\n",
    "clf.fit(x_train, y_train)\n",
    "importances = np.mean([tree.feature_importances_ for tree in clf.estimators_ ], axis=0)\n",
    "indices = np.argsort(importances)[::-1]\n",
    "plt.figure()\n",
    "plt.xlabel('Features')\n",
    "plt.ylabel('Importancia')\n",
    "plt.title(\"Importancia de Features\")\n",
    "plt.bar(range(x_train.shape[1]), importances[indices],\n",
    "        color=\"r\",align=\"center\")\n",
    "plt.xticks(range(x_train.shape[1]), indices)\n",
    "plt.xlim([-1, x_train.shape[1]])\n",
    "plt.show()"
   ]
  },
  {
   "cell_type": "code",
   "execution_count": 305,
   "metadata": {},
   "outputs": [
    {
     "name": "stdout",
     "output_type": "stream",
     "text": [
      "train R2: 0.9368957637509028\n",
      "test R2: 0.6878025307447324\n",
      "test loss: 2.558758575\n",
      "train loss: 0.4967602156249999\n"
     ]
    }
   ],
   "source": [
    "print('train R2: '+str(clf.score(x_train,y_train)))\n",
    "print('test R2: '+str(clf.score(x_test,y_test)))\n",
    "print('test loss: '+str(mean_squared_error(y_test,clf.predict(x_test))))\n",
    "print('train loss: '+str(mean_squared_error(y_train,clf.predict(x_train))))"
   ]
  },
  {
   "cell_type": "markdown",
   "metadata": {},
   "source": [
    "# random forest "
   ]
  },
  {
   "cell_type": "code",
   "execution_count": 324,
   "metadata": {},
   "outputs": [
    {
     "name": "stdout",
     "output_type": "stream",
     "text": [
      "train R2: 0.9579521529855876\n",
      "test R2: 0.6930967870908318\n",
      "test loss: 2.515367051500001\n",
      "train loss: 0.33100309568749975\n"
     ]
    }
   ],
   "source": [
    "clf = RandomForestRegressor()\n",
    "clf.fit(x_train, y_train)\n",
    "print('train R2: '+str(clf.score(x_train,y_train)))\n",
    "print('test R2: '+str(clf.score(x_test,y_test)))\n",
    "print('test loss: '+str(mean_squared_error(y_test,clf.predict(x_test))))\n",
    "print('train loss: '+str(mean_squared_error(y_train,clf.predict(x_train))))"
   ]
  },
  {
   "cell_type": "code",
   "execution_count": 325,
   "metadata": {},
   "outputs": [
    {
     "data": {
      "image/png": "[encoded data removed]",
      "text/plain": [
       "<Figure size 432x288 with 1 Axes>"
      ]
     },
     "metadata": {
      "needs_background": "light"
     },
     "output_type": "display_data"
    }
   ],
   "source": [
    "importances = clf.feature_importances_\n",
    "indices = np.argsort(importances)[::-1]\n",
    "plt.figure()\n",
    "plt.xlabel('Features')\n",
    "plt.ylabel('Importancia')\n",
    "plt.title(\"Importancia de Features\")\n",
    "plt.bar(range(x_train.shape[1]), importances[indices],\n",
    "        color=\"r\",align=\"center\")\n",
    "plt.xticks(range(x_train.shape[1]), indices)\n",
    "plt.xlim([-1, x_train.shape[1]])\n",
    "plt.show()"
   ]
  },
  {
   "cell_type": "code",
   "execution_count": 338,
   "metadata": {},
   "outputs": [],
   "source": [
    "n_feat = 14\n",
    "error_feat = []\n",
    "for i in range(1,n_feat):\n",
    "    clf = RandomForestRegressor(max_features=i)\n",
    "    clf.fit(x_train, y_train)\n",
    "    error_feat.append(mean_squared_error(y_test,clf.predict(x_test)))"
   ]
  },
  {
   "cell_type": "code",
   "execution_count": 348,
   "metadata": {},
   "outputs": [
    {
     "data": {
      "text/plain": [
       "Text(0, 0.5, 'Error')"
      ]
     },
     "execution_count": 348,
     "metadata": {},
     "output_type": "execute_result"
    },
    {
     "data": {
      "image/png": "[encoded data removed]",
      "text/plain": [
       "<Figure size 432x288 with 1 Axes>"
      ]
     },
     "metadata": {
      "needs_background": "light"
     },
     "output_type": "display_data"
    }
   ],
   "source": [
    "plt.plot(range(1,n_feat),error_feat)\n",
    "plt.xlabel('max_features')\n",
    "plt.ylabel('Error')"
   ]
  },
  {
   "cell_type": "code",
   "execution_count": 354,
   "metadata": {},
   "outputs": [],
   "source": [
    "depths = []\n",
    "err_depth = []\n",
    "for i in range(2,30):\n",
    "    clf = RandomForestRegressor(max_depth=i)\n",
    "    clf.fit(x_train, y_train)\n",
    "    depths.append(i)\n",
    "    err_depth.append(mean_squared_error(y_test,clf.predict(x_test)))"
   ]
  },
  {
   "cell_type": "code",
   "execution_count": 355,
   "metadata": {},
   "outputs": [
    {
     "data": {
      "text/plain": [
       "Text(0, 0.5, 'Error')"
      ]
     },
     "execution_count": 355,
     "metadata": {},
     "output_type": "execute_result"
    },
    {
     "data": {
      "image/png": "[encoded data removed]",
      "text/plain": [
       "<Figure size 432x288 with 1 Axes>"
      ]
     },
     "metadata": {
      "needs_background": "light"
     },
     "output_type": "display_data"
    }
   ],
   "source": [
    "plt.plot(depths,err_depth)\n",
    "plt.xlabel('max_depth')\n",
    "plt.ylabel('Error')"
   ]
  },
  {
   "cell_type": "markdown",
   "metadata": {},
   "source": [
    "# adaboost"
   ]
  },
  {
   "cell_type": "code",
   "execution_count": 387,
   "metadata": {},
   "outputs": [
    {
     "name": "stdout",
     "output_type": "stream",
     "text": [
      "train R2: 0.7979027159095133\n",
      "test R2: 0.706347747844736\n",
      "test loss: 2.406762681525696\n",
      "train loss: 1.5909215670675882\n"
     ]
    }
   ],
   "source": [
    "clf = AdaBoostRegressor()\n",
    "clf.fit(x_train, y_train)\n",
    "print('train R2: '+str(clf.score(x_train,y_train)))\n",
    "print('test R2: '+str(clf.score(x_test,y_test)))\n",
    "print('test loss: '+str(mean_squared_error(y_test,clf.predict(x_test))))\n",
    "print('train loss: '+str(mean_squared_error(y_train,clf.predict(x_train))))"
   ]
  },
  {
   "cell_type": "code",
   "execution_count": 388,
   "metadata": {},
   "outputs": [],
   "source": [
    "max_est = 100 \n",
    "error_feat = []\n",
    "for i in range(1,max_est):\n",
    "    clf = AdaBoostRegressor(tree.DecisionTreeRegressor(),n_estimators=i)\n",
    "    clf.fit(x_train, y_train)\n",
    "    error_feat.append(mean_squared_error(y_test,clf.predict(x_test)))"
   ]
  },
  {
   "cell_type": "code",
   "execution_count": 389,
   "metadata": {},
   "outputs": [
    {
     "data": {
      "text/plain": [
       "50"
      ]
     },
     "execution_count": 389,
     "metadata": {},
     "output_type": "execute_result"
    },
    {
     "data": {
      "image/png": "[encoded data removed]",
      "text/plain": [
       "<Figure size 432x288 with 1 Axes>"
      ]
     },
     "metadata": {
      "needs_background": "light"
     },
     "output_type": "display_data"
    }
   ],
   "source": [
    "plt.plot(range(1,max_est),error_feat)\n",
    "plt.xlabel('max_features')\n",
    "plt.ylabel('Error')\n",
    "np.argmin(error_feat)"
   ]
  }
 ],
 "metadata": {
  "kernelspec": {
   "display_name": "Python 3",
   "language": "python",
   "name": "python3"
  },
  "language_info": {
   "codemirror_mode": {
    "name": "ipython",
    "version": 3
   },
   "file_extension": ".py",
   "mimetype": "text/x-python",
   "name": "python",
   "nbconvert_exporter": "python",
   "pygments_lexer": "ipython3",
   "version": "3.7.7"
  }
 },
 "nbformat": 4,
 "nbformat_minor": 4
}
