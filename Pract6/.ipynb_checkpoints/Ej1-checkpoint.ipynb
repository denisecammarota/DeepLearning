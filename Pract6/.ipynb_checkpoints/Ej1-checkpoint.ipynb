{
 "cells": [
  {
   "cell_type": "code",
   "execution_count": 160,
   "metadata": {},
   "outputs": [],
   "source": [
    "import numpy as np\n",
    "import matplotlib.pyplot as plt \n",
    "import pandas as pd\n",
    "import sklearn\n",
    "import graphviz \n",
    "from sklearn import tree\n",
    "from sklearn.model_selection import train_test_split\n",
    "from sklearn.preprocessing import OneHotEncoder\n",
    "from sklearn.metrics import mean_squared_error\n",
    "from sklearn.model_selection import cross_val_score"
   ]
  },
  {
   "cell_type": "code",
   "execution_count": 81,
   "metadata": {},
   "outputs": [],
   "source": [
    "#cargo los datos\n",
    "data = pd.read_csv('Carseats.csv')\n",
    "#creo la nueva columna que nos piden\n",
    "new_column = np.zeros(data.shape[0])\n",
    "data['High'] = new_column\n",
    "data['High'] = 'No'\n",
    "data.loc[data['Sales']>=8,'High'] = 'Yes'\n",
    "data = pd.get_dummies(data)\n",
    "df = pd.DataFrame(data)"
   ]
  },
  {
   "cell_type": "code",
   "execution_count": 74,
   "metadata": {},
   "outputs": [],
   "source": [
    "#separar los datasets en desarrollo (validation and training) y testing \n",
    "dev_data, test_data = train_test_split(df, test_size=0.2) # 0.2 for testing data, 0.8 for development data"
   ]
  },
  {
   "cell_type": "markdown",
   "metadata": {},
   "source": [
    "# tree para la variable High"
   ]
  },
  {
   "cell_type": "code",
   "execution_count": 123,
   "metadata": {},
   "outputs": [
    {
     "name": "stdout",
     "output_type": "stream",
     "text": [
      "train acc: 0.91875\n",
      "test acc: 0.7625\n",
      "train loss: 0.2375\n",
      "test loss: 0.08125\n"
     ]
    }
   ],
   "source": [
    "#creo un tree para la variable High\n",
    "#primero pongo bien los datos, sacando la columna de sales\n",
    "dev_data_1 = dev_data.copy()\n",
    "test_data_1 = test_data.copy()\n",
    "test_data_1 = test_data_1.drop(columns='Sales')\n",
    "dev_data_1 = dev_data_1.drop(columns='Sales')\n",
    "#saco los feature names and class names\n",
    "df_list = test_data_1.columns[:-2]\n",
    "df_classes = ['No','Yes']\n",
    "#separo en features y labels para test y train\n",
    "x_train = dev_data_1.copy()\n",
    "x_test = test_data_1.copy()\n",
    "x_train = x_train.drop(columns='High_Yes') \n",
    "x_train = x_train.drop(columns='High_No') \n",
    "y_train = dev_data_1['High_Yes']\n",
    "x_test = x_test.drop(columns = 'High_Yes')\n",
    "x_test = x_test.drop(columns = 'High_No')\n",
    "y_test = test_data_1['High_Yes']\n",
    "#paso a numpy array todo\n",
    "x_train = x_train.to_numpy()\n",
    "x_test = x_test.to_numpy()\n",
    "y_train = y_train.to_numpy()\n",
    "y_test = y_test.to_numpy()\n",
    "#creo el tree de hecho\n",
    "clf = tree.DecisionTreeClassifier(max_depth=6)\n",
    "clf.fit(x_train,y_train)\n",
    "print('train acc: '+str(clf.score(x_train,y_train)))\n",
    "print('test acc: '+str(clf.score(x_test,y_test)))\n",
    "print('train loss: '+str(mean_squared_error(y_test,clf.predict(x_test))))\n",
    "print('test loss: '+str(mean_squared_error(y_train,clf.predict(x_train))))"
   ]
  },
  {
   "cell_type": "code",
   "execution_count": 124,
   "metadata": {},
   "outputs": [
    {
     "data": {
      "text/plain": [
       "'first_tree.pdf'"
      ]
     },
     "execution_count": 124,
     "metadata": {},
     "output_type": "execute_result"
    }
   ],
   "source": [
    "dot_data = tree.export_graphviz(clf, out_file=None, \n",
    "            feature_names=df_list, class_names=df_classes,filled=True, rounded=True,  \n",
    "            special_characters=True)  \n",
    "graph = graphviz.Source(dot_data)  \n",
    "graph.render(\"first_tree\") "
   ]
  },
  {
   "cell_type": "markdown",
   "metadata": {},
   "source": [
    "# tree para la variable Sales"
   ]
  },
  {
   "cell_type": "code",
   "execution_count": 132,
   "metadata": {},
   "outputs": [],
   "source": [
    "#analogo a lo anterior, sacando las columnas de high en vez de la de sales\n",
    "dev_data_1 = dev_data.copy()\n",
    "test_data_1 = test_data.copy()\n",
    "test_data_1 = test_data_1.drop(columns='High_No')\n",
    "test_data_1 = test_data_1.drop(columns='High_Yes')\n",
    "dev_data_1 = dev_data_1.drop(columns='High_No')\n",
    "dev_data_1 = dev_data_1.drop(columns='High_Yes')\n",
    "#saco los feature names and class names para esta ocasion \n",
    "df_list = test_data_1.columns[1:]\n",
    "df_classes = ['No','Yes']\n",
    "#separo en features y labels para test y train analogo al caso anterior\n",
    "x_train = dev_data_1.copy()\n",
    "x_test = test_data_1.copy()\n",
    "x_train = x_train.drop(columns='Sales') \n",
    "y_train = dev_data_1['Sales']\n",
    "x_test = x_test.drop(columns = 'Sales')\n",
    "y_test = test_data_1['Sales']\n",
    "#paso a numpy array todo\n",
    "x_train = x_train.to_numpy()\n",
    "x_test = x_test.to_numpy()\n",
    "y_train = y_train.to_numpy()\n",
    "y_test = y_test.to_numpy()"
   ]
  },
  {
   "cell_type": "code",
   "execution_count": 157,
   "metadata": {},
   "outputs": [
    {
     "name": "stdout",
     "output_type": "stream",
     "text": [
      "train R2: 0.8385006842396655\n",
      "test R2: 0.29441732603224147\n",
      "train loss: 4.977780357405884\n",
      "test loss: 1.3211334842518525\n"
     ]
    }
   ],
   "source": [
    "#creo el tree de hecho, es un regression tree en este caso\n",
    "clf = tree.DecisionTreeRegressor(max_depth=6)\n",
    "clf.fit(x_train,y_train)\n",
    "print('train R2: '+str(clf.score(x_train,y_train)))\n",
    "print('test R2: '+str(clf.score(x_test,y_test)))\n",
    "print('train loss: '+str(mean_squared_error(y_test,clf.predict(x_test))))\n",
    "print('test loss: '+str(mean_squared_error(y_train,clf.predict(x_train))))"
   ]
  },
  {
   "cell_type": "code",
   "execution_count": 158,
   "metadata": {},
   "outputs": [
    {
     "data": {
      "text/plain": [
       "'second_tree.pdf'"
      ]
     },
     "execution_count": 158,
     "metadata": {},
     "output_type": "execute_result"
    }
   ],
   "source": [
    "dot_data = tree.export_graphviz(clf, out_file=None, \n",
    "            feature_names=df_list, class_names=df_classes,filled=True, rounded=True,  \n",
    "            special_characters=True)  \n",
    "graph = graphviz.Source(dot_data)  \n",
    "graph.render(\"second_tree\") "
   ]
  },
  {
   "cell_type": "markdown",
   "metadata": {},
   "source": [
    "# cross validation para el regression tree"
   ]
  },
  {
   "cell_type": "code",
   "execution_count": 185,
   "metadata": {},
   "outputs": [
    {
     "data": {
      "text/plain": [
       "[<matplotlib.lines.Line2D at 0x1a332c38908>]"
      ]
     },
     "execution_count": 185,
     "metadata": {},
     "output_type": "execute_result"
    },
    {
     "data": {
      "image/png": "[encoded data removed]",
      "text/plain": [
       "<Figure size 432x288 with 1 Axes>"
      ]
     },
     "metadata": {
      "needs_background": "light"
     },
     "output_type": "display_data"
    }
   ],
   "source": [
    "depths = []\n",
    "scores_depth = []\n",
    "for i in range(2,20):\n",
    "    clf = tree.DecisionTreeRegressor(max_depth=i)\n",
    "    scores = cross_val_score(estimator=clf, X=x_train, y=y_train, cv=5) #5-fold validation\n",
    "    depths.append(i)\n",
    "    scores_depth.append(scores.mean())\n",
    "plt.plot(depths,scores_depth,'-ok')\n",
    "plt.savefig('validation_5fold.pdf')"
   ]
  },
  {
   "cell_type": "code",
   "execution_count": 187,
   "metadata": {},
   "outputs": [
    {
     "name": "stdout",
     "output_type": "stream",
     "text": [
      "train loss: 5.532847610175424\n",
      "test loss: 2.1616718806689095\n"
     ]
    }
   ],
   "source": [
    "#creo el tree de hecho, es un regression tree en este caso\n",
    "clf = tree.DecisionTreeRegressor(max_depth=5)\n",
    "clf.fit(x_train,y_train)\n",
    "print('train loss: '+str(mean_squared_error(y_test,clf.predict(x_test))))\n",
    "print('test loss: '+str(mean_squared_error(y_train,clf.predict(x_train))))"
   ]
  },
  {
   "cell_type": "markdown",
   "metadata": {},
   "source": [
    "# pruning (source: sci-kit learn)"
   ]
  },
  {
   "cell_type": "code",
   "execution_count": 189,
   "metadata": {},
   "outputs": [],
   "source": [
    "clf = tree.DecisionTreeRegressor()\n",
    "path = clf.cost_complexity_pruning_path(x_train,y_train)\n",
    "ccp_alphas, impurities = path.ccp_alphas, path.impurities"
   ]
  }
 ],
 "metadata": {
  "kernelspec": {
   "display_name": "Python 3",
   "language": "python",
   "name": "python3"
  },
  "language_info": {
   "codemirror_mode": {
    "name": "ipython",
    "version": 3
   },
   "file_extension": ".py",
   "mimetype": "text/x-python",
   "name": "python",
   "nbconvert_exporter": "python",
   "pygments_lexer": "ipython3",
   "version": "3.7.7"
  }
 },
 "nbformat": 4,
 "nbformat_minor": 4
}
