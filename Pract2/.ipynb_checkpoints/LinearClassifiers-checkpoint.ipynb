{
 "cells": [
  {
   "cell_type": "code",
   "execution_count": 1,
   "metadata": {},
   "outputs": [
    {
     "name": "stderr",
     "output_type": "stream",
     "text": [
      "Using TensorFlow backend.\n"
     ]
    }
   ],
   "source": [
    "import time\n",
    "import numpy as np\n",
    "from keras.datasets import cifar10\n",
    "from keras.datasets import mnist\n",
    "import matplotlib.pyplot as plt\n",
    "#using tensorflow backend"
   ]
  },
  {
   "cell_type": "code",
   "execution_count": 2,
   "metadata": {},
   "outputs": [],
   "source": [
    "#ok, verificado\n",
    "#me pone el bias de manera correcta\n",
    "#con el 1 al final\n",
    "def reshapeimages(x,y):\n",
    "    im_shape = x.shape[1:]\n",
    "    x = np.reshape(x,(x.shape[0],np.prod(im_shape)))\n",
    "    a = np.zeros((x.shape[0],np.prod(im_shape)+1))+1\n",
    "    a[:,:-1] = x #le agrego los 1 al final de fila\n",
    "    return a,y"
   ]
  },
  {
   "cell_type": "code",
   "execution_count": 3,
   "metadata": {},
   "outputs": [],
   "source": [
    "#sampleo de data para los batch\n",
    "def createbatch(x,y,batchsize):\n",
    "    indices = np.random.choice(x.shape[0], batchsize, replace=False) #toma batchsize de filas random\n",
    "    x_batch = x[indices] #selecciono en x y obtengo el batch\n",
    "    y_batch = y[indices] #selecciono en y obtengo el batch\n",
    "    return x_batch,y_batch"
   ]
  },
  {
   "cell_type": "code",
   "execution_count": 63,
   "metadata": {},
   "outputs": [],
   "source": [
    "class LinearClassifier:\n",
    "    #constructor, solo digo que tengo W\n",
    "    def __init__(self):\n",
    "        self.W = None\n",
    "    #inicializo la matriz de pesos randomly (bias considerado, tambien random)\n",
    "    def randominicializar(self,k,d):\n",
    "        self.W = np.random.rand(d,k) #en un rango [0,1) \n",
    "        self.W = self.W*1e-3 #elementos chicos\n",
    "    #calcula los scores\n",
    "    def calculate_scores(self,x):\n",
    "        return x.dot(self.W)\n",
    "    #paso una imagenes y me da la categoria con mayor score para cada una\n",
    "    def predict(self,x):\n",
    "        a = self.calculate_scores(x)\n",
    "        ypr = np.argmax(a,axis=1)\n",
    "        return ypr\n",
    "    #funcion de la practica, definida despues para cada linear classifier\n",
    "    def loss_gradient(self,x,y):\n",
    "        pass\n",
    "    #funcion de costo, idem comentario que la anterior\n",
    "    def loss_fun(self,x,y):\n",
    "        pass\n",
    "    #funcion accuracy para ver como piden en el enunciado\n",
    "    def accuracy(self,x,y):\n",
    "        ypr = self.predict(x)\n",
    "        accper =  np.mean(ypr==y) \n",
    "        return accper\n",
    "    #fit igual para SVM y softmax, como hablamos el miercoles con las epocas\n",
    "    def fit(self,x,y,x_test,y_test,batchsize,alpha):\n",
    "        epocas = 100\n",
    "        vloss = []\n",
    "        vacc = []\n",
    "        for ie in range(epocas):\n",
    "            print(ie)\n",
    "            x,y = createbatch(x,y,x.shape[0])\n",
    "            nit = int(x.shape[0]/batchsize)\n",
    "            for it in range(nit):\n",
    "                x_batch = x[it*batchsize:(it+1)*batchsize,:]\n",
    "                y_batch = y[it*batchsize:(it+1)*batchsize]\n",
    "                grad = self.loss_gradient(x_batch,y_batch)\n",
    "                self.W = self.W - (alpha)*(grad)\n",
    "            vloss.append(self.loss_fun(x_test,y_test))\n",
    "            vacc.append(self.accuracy(x_test,y_test))\n",
    "        return vloss,vacc"
   ]
  },
  {
   "cell_type": "code",
   "execution_count": 66,
   "metadata": {},
   "outputs": [],
   "source": [
    "class SVM(LinearClassifier):\n",
    "    #data loss para una imagen en particular\n",
    "    def __init__(self,lam,delta=1):\n",
    "        super().__init__() #herencia\n",
    "        self.delta = delta\n",
    "        self.lam = lam\n",
    "    #calculo el gradiente\n",
    "    #(nota personal: version modificada, la anterior del gradiente andaba lenta por el for)\n",
    "    def loss_gradient(self,x,y):\n",
    "        #calculo la loss\n",
    "        s = x.dot(self.W)\n",
    "        sy = s[np.arange(x.shape[0]), y]\n",
    "        margen = s-sy[:,np.newaxis]+self.delta\n",
    "        margen = np.maximum(0,margen)\n",
    "        margen[np.arange(x.shape[0]),y] = 0       \n",
    "        #calculo el gradiente\n",
    "        margen[margen>0]=1\n",
    "        #clases que no dan ok, donde va la suma de las que le ganan a la correcta\n",
    "        aux = margen.sum(axis=1)\n",
    "        margen[np.arange(x.shape[0]),y] = -aux\n",
    "        grad = (x.T).dot(margen) #como estaba en las slides\n",
    "        grad = grad/(x.shape[0])\n",
    "        grad = grad + 2*(self.W)*(self.lam)\n",
    "        return grad\n",
    "    #defino la loss function para SVM\n",
    "    def loss_fun(self,x,y):\n",
    "        s = x.dot(self.W)\n",
    "        list(y)\n",
    "        sy = s[np.arange(x.shape[0]), y]\n",
    "        margen = s-sy[:,np.newaxis]+self.delta \n",
    "        margen = np.maximum(0,margen)\n",
    "        margen[np.arange(x.shape[0]),y] = 0       \n",
    "        loss = margen.sum(axis=1)\n",
    "        loss = sum(loss)/(x.shape[0])\n",
    "        regu = self.lam*(sum((self.W**2).flatten()))\n",
    "        loss = loss + regu\n",
    "        return loss"
   ]
  },
  {
   "cell_type": "code",
   "execution_count": 26,
   "metadata": {},
   "outputs": [],
   "source": [
    "class SoftMax(LinearClassifier):\n",
    "    def __init__(self,lam):\n",
    "        super().__init__() #herencia\n",
    "        self.lam = lam\n",
    "    #defino loss gradient para SoftMax\n",
    "    def loss_gradient(self,x,y):\n",
    "        s = x.dot(self.W)\n",
    "        sm = s.max(axis=1)\n",
    "        #teniendo en cuenta la estabilidad numerica\n",
    "        s = s - sm[:,np.newaxis] #ref:notas de stanford cs231n, se hace esto para estabilidad numerica\n",
    "        sy = s[np.arange(x.shape[0]),y]\n",
    "        s = np.exp(s)\n",
    "        aux = s.sum(axis=1)\n",
    "        #calculo gradiente \n",
    "        grad = (1/aux)[:,np.newaxis]*s\n",
    "        grad[np.arange(y.shape[0]),y] = grad[np.arange(y.shape[0]),y] - 1\n",
    "        grad = ((x.T).dot(grad))/(x.shape[0])\n",
    "        W2 = (self.W*self.W).flatten()\n",
    "        grad = grad + 2*(self.lam)*(self.W)\n",
    "        return grad\n",
    "    #defino loss function para SoftMax\n",
    "    def loss_fun(self,x,y):\n",
    "        #primero calculamos el data loss\n",
    "        s = x.dot(self.W)\n",
    "        sm = s.max(axis=1)\n",
    "        #teniendo en cuenta la estabilidad numerica\n",
    "        s = s - sm[:,np.newaxis] #ref:notas de stanford cs231n, se hace esto para estabilidad numerica\n",
    "        sy = s[np.arange(x.shape[0]),y]\n",
    "        exp = np.exp(s)\n",
    "        aux = exp.sum(axis=1)\n",
    "        loss = np.log(aux) - sy\n",
    "        loss = loss.mean()\n",
    "        regu = self.lam*(sum((self.W**2).flatten()))\n",
    "        loss = loss + (self.lam)*(regu)\n",
    "        return loss"
   ]
  },
  {
   "cell_type": "markdown",
   "metadata": {},
   "source": [
    "# softmax funciona ok"
   ]
  },
  {
   "cell_type": "code",
   "execution_count": 7,
   "metadata": {},
   "outputs": [],
   "source": [
    "(x_train,y_train),(x_test,y_test) = cifar10.load_data() #x = images #y = categories #loading data\n",
    "x_train,y_train = reshapeimages(x_train,y_train)\n",
    "x_test,y_test = reshapeimages(x_test,y_test)\n",
    "y_train = y_train.flatten()\n",
    "y_test = y_test.flatten()"
   ]
  },
  {
   "cell_type": "code",
   "execution_count": 8,
   "metadata": {},
   "outputs": [
    {
     "name": "stdout",
     "output_type": "stream",
     "text": [
      "0\n",
      "1\n",
      "2\n",
      "3\n",
      "4\n",
      "5\n",
      "6\n",
      "7\n",
      "8\n",
      "9\n",
      "10\n",
      "11\n",
      "12\n",
      "13\n",
      "14\n",
      "15\n",
      "16\n",
      "17\n",
      "18\n",
      "19\n",
      "20\n",
      "21\n",
      "22\n",
      "23\n",
      "24\n",
      "25\n",
      "26\n",
      "27\n",
      "28\n",
      "29\n",
      "30\n",
      "31\n",
      "32\n",
      "33\n",
      "34\n",
      "35\n",
      "36\n",
      "37\n",
      "38\n",
      "39\n",
      "40\n",
      "41\n",
      "42\n",
      "43\n",
      "44\n",
      "45\n",
      "46\n",
      "47\n",
      "48\n",
      "49\n",
      "50\n",
      "51\n",
      "52\n",
      "53\n",
      "54\n",
      "55\n",
      "56\n",
      "57\n",
      "58\n",
      "59\n",
      "60\n",
      "61\n",
      "62\n",
      "63\n",
      "64\n",
      "65\n",
      "66\n",
      "67\n",
      "68\n",
      "69\n",
      "70\n",
      "71\n",
      "72\n",
      "73\n",
      "74\n",
      "75\n",
      "76\n",
      "77\n",
      "78\n",
      "79\n",
      "80\n",
      "81\n",
      "82\n",
      "83\n",
      "84\n",
      "85\n",
      "86\n",
      "87\n",
      "88\n",
      "89\n",
      "90\n",
      "91\n",
      "92\n",
      "93\n",
      "94\n",
      "95\n",
      "96\n",
      "97\n",
      "98\n",
      "99\n",
      "100\n",
      "101\n",
      "102\n",
      "103\n",
      "104\n",
      "105\n",
      "106\n",
      "107\n",
      "108\n",
      "109\n",
      "110\n",
      "111\n",
      "112\n",
      "113\n",
      "114\n",
      "115\n",
      "116\n",
      "117\n",
      "118\n",
      "119\n",
      "120\n",
      "121\n",
      "122\n",
      "123\n",
      "124\n",
      "125\n",
      "126\n",
      "127\n",
      "128\n",
      "129\n",
      "130\n",
      "131\n",
      "132\n",
      "133\n",
      "134\n",
      "135\n",
      "136\n",
      "137\n",
      "138\n",
      "139\n",
      "140\n",
      "141\n",
      "142\n",
      "143\n",
      "144\n",
      "145\n",
      "146\n",
      "147\n",
      "148\n",
      "149\n",
      "150\n",
      "151\n",
      "152\n",
      "153\n",
      "154\n",
      "155\n",
      "156\n",
      "157\n",
      "158\n",
      "159\n",
      "160\n",
      "161\n",
      "162\n",
      "163\n",
      "164\n",
      "165\n",
      "166\n",
      "167\n",
      "168\n",
      "169\n",
      "170\n",
      "171\n",
      "172\n",
      "173\n",
      "174\n",
      "175\n",
      "176\n",
      "177\n",
      "178\n",
      "179\n",
      "180\n",
      "181\n",
      "182\n",
      "183\n",
      "184\n",
      "185\n",
      "186\n",
      "187\n",
      "188\n",
      "189\n",
      "190\n",
      "191\n",
      "192\n",
      "193\n",
      "194\n",
      "195\n",
      "196\n",
      "197\n",
      "198\n",
      "199\n",
      "190.38919472694397\n"
     ]
    }
   ],
   "source": [
    "k=10 #10 categories\n",
    "d=x_train.shape[1] #dimension del problema\n",
    "lam = 1e-3 #lambda de la reg\n",
    "alpha = 1e-7 #alpha del step\n",
    "s = SoftMax(lam)\n",
    "s.randominicializar(k,d)\n",
    "start_time = time.time()\n",
    "vloss, vacc = s.fit(x_train,y_train,x_test,y_test,100,alpha) #100 es batch size, los que eran 2**algo daban nit no entero\n",
    "end_time = time.time()\n",
    "print(end_time - start_time)"
   ]
  },
  {
   "cell_type": "code",
   "execution_count": 9,
   "metadata": {},
   "outputs": [
    {
     "data": {
      "text/plain": [
       "[<matplotlib.lines.Line2D at 0x16ebdd63f08>]"
      ]
     },
     "execution_count": 9,
     "metadata": {},
     "output_type": "execute_result"
    },
    {
     "data": {
      "image/png": "[encoded data removed]",
      "text/plain": [
       "<Figure size 432x288 with 1 Axes>"
      ]
     },
     "metadata": {
      "needs_background": "light"
     },
     "output_type": "display_data"
    }
   ],
   "source": [
    "epochs = range(200)\n",
    "plt.plot(epochs,vacc)"
   ]
  },
  {
   "cell_type": "markdown",
   "metadata": {},
   "source": [
    "# probando el svm a ver que onda"
   ]
  },
  {
   "cell_type": "code",
   "execution_count": 64,
   "metadata": {},
   "outputs": [],
   "source": [
    "(x_train,y_train),(x_test,y_test) = cifar10.load_data() #x = images #y = categories #loading data\n",
    "x_train,y_train = reshapeimages(x_train,y_train)\n",
    "x_test,y_test = reshapeimages(x_test,y_test)\n",
    "y_train = y_train.flatten()"
   ]
  },
  {
   "cell_type": "code",
   "execution_count": 65,
   "metadata": {},
   "outputs": [
    {
     "name": "stdout",
     "output_type": "stream",
     "text": [
      "0\n"
     ]
    },
    {
     "ename": "ValueError",
     "evalue": "operands could not be broadcast together with shapes (10000,10) (10000,1,10000) ",
     "output_type": "error",
     "traceback": [
      "\u001b[1;31m---------------------------------------------------------------------------\u001b[0m",
      "\u001b[1;31mValueError\u001b[0m                                Traceback (most recent call last)",
      "\u001b[1;32m<ipython-input-65-6711a472333a>\u001b[0m in \u001b[0;36m<module>\u001b[1;34m\u001b[0m\n\u001b[0;32m      6\u001b[0m \u001b[0ms\u001b[0m\u001b[1;33m.\u001b[0m\u001b[0mrandominicializar\u001b[0m\u001b[1;33m(\u001b[0m\u001b[0mk\u001b[0m\u001b[1;33m,\u001b[0m\u001b[0md\u001b[0m\u001b[1;33m)\u001b[0m\u001b[1;33m\u001b[0m\u001b[1;33m\u001b[0m\u001b[0m\n\u001b[0;32m      7\u001b[0m \u001b[0mstart_time\u001b[0m \u001b[1;33m=\u001b[0m \u001b[0mtime\u001b[0m\u001b[1;33m.\u001b[0m\u001b[0mtime\u001b[0m\u001b[1;33m(\u001b[0m\u001b[1;33m)\u001b[0m\u001b[1;33m\u001b[0m\u001b[1;33m\u001b[0m\u001b[0m\n\u001b[1;32m----> 8\u001b[1;33m \u001b[0mvloss\u001b[0m\u001b[1;33m,\u001b[0m \u001b[0mvacc\u001b[0m \u001b[1;33m=\u001b[0m \u001b[0ms\u001b[0m\u001b[1;33m.\u001b[0m\u001b[0mfit\u001b[0m\u001b[1;33m(\u001b[0m\u001b[0mx_train\u001b[0m\u001b[1;33m,\u001b[0m\u001b[0my_train\u001b[0m\u001b[1;33m,\u001b[0m\u001b[0mx_test\u001b[0m\u001b[1;33m,\u001b[0m\u001b[0my_test\u001b[0m\u001b[1;33m,\u001b[0m\u001b[1;36m100\u001b[0m\u001b[1;33m,\u001b[0m\u001b[0malpha\u001b[0m\u001b[1;33m)\u001b[0m \u001b[1;31m#100 es batch size, los que eran 2**algo daban nit no entero\u001b[0m\u001b[1;33m\u001b[0m\u001b[1;33m\u001b[0m\u001b[0m\n\u001b[0m\u001b[0;32m      9\u001b[0m \u001b[0mend_time\u001b[0m \u001b[1;33m=\u001b[0m \u001b[0mtime\u001b[0m\u001b[1;33m.\u001b[0m\u001b[0mtime\u001b[0m\u001b[1;33m(\u001b[0m\u001b[1;33m)\u001b[0m\u001b[1;33m\u001b[0m\u001b[1;33m\u001b[0m\u001b[0m\n\u001b[0;32m     10\u001b[0m \u001b[0mprint\u001b[0m\u001b[1;33m(\u001b[0m\u001b[0mend_time\u001b[0m \u001b[1;33m-\u001b[0m \u001b[0mstart_time\u001b[0m\u001b[1;33m)\u001b[0m\u001b[1;33m\u001b[0m\u001b[1;33m\u001b[0m\u001b[0m\n",
      "\u001b[1;32m<ipython-input-50-12cf1cd882e6>\u001b[0m in \u001b[0;36mfit\u001b[1;34m(self, x, y, x_test, y_test, batchsize, alpha)\u001b[0m\n\u001b[0;32m     40\u001b[0m                 \u001b[0mgrad\u001b[0m \u001b[1;33m=\u001b[0m \u001b[0mself\u001b[0m\u001b[1;33m.\u001b[0m\u001b[0mloss_gradient\u001b[0m\u001b[1;33m(\u001b[0m\u001b[0mx_batch\u001b[0m\u001b[1;33m,\u001b[0m\u001b[0my_batch\u001b[0m\u001b[1;33m)\u001b[0m\u001b[1;33m\u001b[0m\u001b[1;33m\u001b[0m\u001b[0m\n\u001b[0;32m     41\u001b[0m                 \u001b[0mself\u001b[0m\u001b[1;33m.\u001b[0m\u001b[0mW\u001b[0m \u001b[1;33m=\u001b[0m \u001b[0mself\u001b[0m\u001b[1;33m.\u001b[0m\u001b[0mW\u001b[0m \u001b[1;33m-\u001b[0m \u001b[1;33m(\u001b[0m\u001b[0malpha\u001b[0m\u001b[1;33m)\u001b[0m\u001b[1;33m*\u001b[0m\u001b[1;33m(\u001b[0m\u001b[0mgrad\u001b[0m\u001b[1;33m)\u001b[0m\u001b[1;33m\u001b[0m\u001b[1;33m\u001b[0m\u001b[0m\n\u001b[1;32m---> 42\u001b[1;33m             \u001b[0mvloss\u001b[0m\u001b[1;33m.\u001b[0m\u001b[0mappend\u001b[0m\u001b[1;33m(\u001b[0m\u001b[0mself\u001b[0m\u001b[1;33m.\u001b[0m\u001b[0mloss_fun\u001b[0m\u001b[1;33m(\u001b[0m\u001b[0mx_test\u001b[0m\u001b[1;33m,\u001b[0m\u001b[0my_test\u001b[0m\u001b[1;33m)\u001b[0m\u001b[1;33m)\u001b[0m\u001b[1;33m\u001b[0m\u001b[1;33m\u001b[0m\u001b[0m\n\u001b[0m\u001b[0;32m     43\u001b[0m             \u001b[0mvacc\u001b[0m\u001b[1;33m.\u001b[0m\u001b[0mappend\u001b[0m\u001b[1;33m(\u001b[0m\u001b[0mself\u001b[0m\u001b[1;33m.\u001b[0m\u001b[0maccuracy\u001b[0m\u001b[1;33m(\u001b[0m\u001b[0mx_test\u001b[0m\u001b[1;33m,\u001b[0m\u001b[0my_test\u001b[0m\u001b[1;33m)\u001b[0m\u001b[1;33m)\u001b[0m\u001b[1;33m\u001b[0m\u001b[1;33m\u001b[0m\u001b[0m\n\u001b[0;32m     44\u001b[0m         \u001b[1;32mreturn\u001b[0m \u001b[0mvloss\u001b[0m\u001b[1;33m,\u001b[0m\u001b[0mvacc\u001b[0m\u001b[1;33m\u001b[0m\u001b[1;33m\u001b[0m\u001b[0m\n",
      "\u001b[1;32m<ipython-input-62-ebe2cebbb416>\u001b[0m in \u001b[0;36mloss_fun\u001b[1;34m(self, x, y)\u001b[0m\n\u001b[0;32m     27\u001b[0m         \u001b[0ms\u001b[0m \u001b[1;33m=\u001b[0m \u001b[0mx\u001b[0m\u001b[1;33m.\u001b[0m\u001b[0mdot\u001b[0m\u001b[1;33m(\u001b[0m\u001b[0mself\u001b[0m\u001b[1;33m.\u001b[0m\u001b[0mW\u001b[0m\u001b[1;33m)\u001b[0m\u001b[1;33m\u001b[0m\u001b[1;33m\u001b[0m\u001b[0m\n\u001b[0;32m     28\u001b[0m         \u001b[0msy\u001b[0m \u001b[1;33m=\u001b[0m \u001b[0ms\u001b[0m\u001b[1;33m[\u001b[0m\u001b[0mnp\u001b[0m\u001b[1;33m.\u001b[0m\u001b[0marange\u001b[0m\u001b[1;33m(\u001b[0m\u001b[0mx\u001b[0m\u001b[1;33m.\u001b[0m\u001b[0mshape\u001b[0m\u001b[1;33m[\u001b[0m\u001b[1;36m0\u001b[0m\u001b[1;33m]\u001b[0m\u001b[1;33m)\u001b[0m\u001b[1;33m,\u001b[0m \u001b[0my\u001b[0m\u001b[1;33m]\u001b[0m\u001b[1;33m\u001b[0m\u001b[1;33m\u001b[0m\u001b[0m\n\u001b[1;32m---> 29\u001b[1;33m         \u001b[0mmargen\u001b[0m \u001b[1;33m=\u001b[0m \u001b[0ms\u001b[0m\u001b[1;33m-\u001b[0m\u001b[0msy\u001b[0m\u001b[1;33m[\u001b[0m\u001b[1;33m:\u001b[0m\u001b[1;33m,\u001b[0m\u001b[0mnp\u001b[0m\u001b[1;33m.\u001b[0m\u001b[0mnewaxis\u001b[0m\u001b[1;33m]\u001b[0m\u001b[1;33m+\u001b[0m\u001b[0mself\u001b[0m\u001b[1;33m.\u001b[0m\u001b[0mdelta\u001b[0m\u001b[1;33m\u001b[0m\u001b[1;33m\u001b[0m\u001b[0m\n\u001b[0m\u001b[0;32m     30\u001b[0m         \u001b[0mmargen\u001b[0m \u001b[1;33m=\u001b[0m \u001b[0mnp\u001b[0m\u001b[1;33m.\u001b[0m\u001b[0mmaximum\u001b[0m\u001b[1;33m(\u001b[0m\u001b[1;36m0\u001b[0m\u001b[1;33m,\u001b[0m\u001b[0mmargen\u001b[0m\u001b[1;33m)\u001b[0m\u001b[1;33m\u001b[0m\u001b[1;33m\u001b[0m\u001b[0m\n\u001b[0;32m     31\u001b[0m         \u001b[0mmargen\u001b[0m\u001b[1;33m[\u001b[0m\u001b[0mnp\u001b[0m\u001b[1;33m.\u001b[0m\u001b[0marange\u001b[0m\u001b[1;33m(\u001b[0m\u001b[0mx\u001b[0m\u001b[1;33m.\u001b[0m\u001b[0mshape\u001b[0m\u001b[1;33m[\u001b[0m\u001b[1;36m0\u001b[0m\u001b[1;33m]\u001b[0m\u001b[1;33m)\u001b[0m\u001b[1;33m,\u001b[0m\u001b[0my\u001b[0m\u001b[1;33m]\u001b[0m \u001b[1;33m=\u001b[0m \u001b[1;36m0\u001b[0m\u001b[1;33m\u001b[0m\u001b[1;33m\u001b[0m\u001b[0m\n",
      "\u001b[1;31mValueError\u001b[0m: operands could not be broadcast together with shapes (10000,10) (10000,1,10000) "
     ]
    }
   ],
   "source": [
    "k=10 #10 categories\n",
    "d=x_train.shape[1] #dimension del problema\n",
    "lam = 1e-4 #lambda de la reg\n",
    "alpha = 1e-7 #alpha del step\n",
    "s = SVM(lam)\n",
    "s.randominicializar(k,d)\n",
    "start_time = time.time()\n",
    "vloss, vacc = s.fit(x_train,y_train,x_test,y_test,100,alpha) #100 es batch size, los que eran 2**algo daban nit no entero\n",
    "end_time = time.time()\n",
    "print(end_time - start_time)"
   ]
  },
  {
   "cell_type": "code",
   "execution_count": 47,
   "metadata": {},
   "outputs": [
    {
     "data": {
      "text/plain": [
       "[<matplotlib.lines.Line2D at 0x16ec2ae3f08>]"
      ]
     },
     "execution_count": 47,
     "metadata": {},
     "output_type": "execute_result"
    },
    {
     "data": {
      "image/png": "[encoded data removed]",
      "text/plain": [
       "<Figure size 432x288 with 1 Axes>"
      ]
     },
     "metadata": {
      "needs_background": "light"
     },
     "output_type": "display_data"
    }
   ],
   "source": [
    "epochs = range(100)\n",
    "plt.plot(epochs,vacc)"
   ]
  }
 ],
 "metadata": {
  "kernelspec": {
   "display_name": "Python 3",
   "language": "python",
   "name": "python3"
  },
  "language_info": {
   "codemirror_mode": {
    "name": "ipython",
    "version": 3
   },
   "file_extension": ".py",
   "mimetype": "text/x-python",
   "name": "python",
   "nbconvert_exporter": "python",
   "pygments_lexer": "ipython3",
   "version": "3.7.7"
  }
 },
 "nbformat": 4,
 "nbformat_minor": 4
}
