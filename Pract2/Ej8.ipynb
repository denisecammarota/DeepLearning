{
 "cells": [
  {
   "cell_type": "code",
   "execution_count": 1,
   "metadata": {},
   "outputs": [
    {
     "name": "stderr",
     "output_type": "stream",
     "text": [
      "Using TensorFlow backend.\n"
     ]
    }
   ],
   "source": [
    "import numpy as np\n",
    "import matplotlib.pyplot as plt\n",
    "from itertools import product\n",
    "import models as models\n",
    "import activations as activations\n",
    "import optimizers as optimizers\n",
    "import losses as losses\n",
    "import metrics as metrics\n",
    "import layers as layers\n",
    "import regularizers as regularizers\n",
    "from keras.datasets import cifar10\n",
    "import time"
   ]
  },
  {
   "cell_type": "code",
   "execution_count": 2,
   "metadata": {},
   "outputs": [],
   "source": [
    "#ok funciona bien\n",
    "#funcion que hace reshape de las imagenes\n",
    "#sin agregar el bias\n",
    "def reshapeImages(x,y):\n",
    "    im_shape = x.shape[1:]\n",
    "    x = np.reshape(x,(x.shape[0],np.prod(im_shape)))\n",
    "    return x,y"
   ]
  },
  {
   "cell_type": "code",
   "execution_count": 37,
   "metadata": {
    "scrolled": false
   },
   "outputs": [
    {
     "name": "stdout",
     "output_type": "stream",
     "text": [
      "epoch: 0\n",
      "training data:  0.9305883020014718 0.1\n",
      "testing data:  0.9269127435663983 0.1\n",
      "epoch: 1\n",
      "training data:  0.9103242178728104 0.1\n",
      "testing data:  0.9164920398081746 0.1\n",
      "epoch: 2\n",
      "training data:  0.874217131628959 0.17722\n",
      "testing data:  1.0343054198353032 0.116\n",
      "epoch: 3\n",
      "training data:  0.867140922711399 0.18504\n",
      "testing data:  1.0554222137353129 0.1423\n",
      "epoch: 4\n",
      "training data:  0.8648385732160352 0.17908\n",
      "testing data:  1.0661030480885556 0.1398\n",
      "epoch: 5\n",
      "training data:  0.8685921035861289 0.18194\n",
      "testing data:  1.0783442669404837 0.1362\n",
      "epoch: 6\n",
      "training data:  0.8657239081797287 0.1738\n",
      "testing data:  1.0747130715198738 0.141\n",
      "epoch: 7\n",
      "training data:  0.8681071909473639 0.1711\n",
      "testing data:  1.0742077860494068 0.1393\n",
      "epoch: 8\n",
      "training data:  0.8646676280458446 0.16896\n",
      "testing data:  1.0534220831140815 0.14\n",
      "epoch: 9\n",
      "training data:  0.86665763760927 0.18158\n",
      "testing data:  1.0117707404689853 0.1478\n",
      "epoch: 10\n",
      "training data:  0.8653946219267333 0.17986\n",
      "testing data:  0.9736513514711544 0.1447\n",
      "epoch: 11\n",
      "training data:  0.87081064408667 0.16668\n",
      "testing data:  0.9606325930284402 0.1393\n",
      "epoch: 12\n",
      "training data:  0.8568140851756033 0.21004\n",
      "testing data:  0.9183454838535954 0.1356\n",
      "epoch: 13\n",
      "training data:  0.8499328895670889 0.2161\n",
      "testing data:  0.930418290856447 0.1133\n",
      "epoch: 14\n",
      "training data:  0.8397267861749551 0.2427\n",
      "testing data:  0.9830834237239019 0.1463\n",
      "epoch: 15\n",
      "training data:  0.8390303201594319 0.22146\n",
      "testing data:  0.989464890250223 0.138\n",
      "epoch: 16\n",
      "training data:  0.8399829881394743 0.2474\n",
      "testing data:  0.9872507726288386 0.1589\n",
      "epoch: 17\n",
      "training data:  0.8345555606954823 0.25846\n",
      "testing data:  0.9447858995698106 0.1642\n",
      "epoch: 18\n",
      "training data:  0.8320827485360872 0.25546\n",
      "testing data:  0.9528503079106005 0.1495\n",
      "epoch: 19\n",
      "training data:  0.8293375348162779 0.25842\n",
      "testing data:  0.920204377469811 0.2051\n",
      "epoch: 20\n",
      "training data:  0.8283498890342635 0.25686\n",
      "testing data:  0.9295290658235646 0.1895\n",
      "epoch: 21\n",
      "training data:  0.8222661513158636 0.27944\n"
     ]
    },
    {
     "name": "stderr",
     "output_type": "stream",
     "text": [
      "C:\\Users\\denis\\Documents\\ApAutomaticoP1\\Pract2\\activations.py:38: RuntimeWarning: overflow encountered in exp\n",
      "  sig = (1+np.exp(-x))**(-1)\n"
     ]
    },
    {
     "name": "stdout",
     "output_type": "stream",
     "text": [
      "testing data:  0.9190631247070794 0.2086\n",
      "epoch: 22\n",
      "training data:  0.8237864598935721 0.27422\n",
      "testing data:  0.9183576178703295 0.2103\n",
      "epoch: 23\n",
      "training data:  0.8223642027912513 0.28008\n",
      "testing data:  0.9106340507063673 0.2227\n",
      "epoch: 24\n",
      "training data:  0.8183718731618511 0.2889\n",
      "testing data:  0.8670830985544881 0.2487\n",
      "epoch: 25\n",
      "training data:  0.8178326660357046 0.29852\n",
      "testing data:  0.8983646972931678 0.2357\n",
      "epoch: 26\n",
      "training data:  0.8120812208094453 0.31582\n",
      "testing data:  0.9027256415790446 0.223\n",
      "epoch: 27\n",
      "training data:  0.8081413146186694 0.3305\n",
      "testing data:  0.8771766546993462 0.2526\n",
      "epoch: 28\n",
      "training data:  0.8037296893273955 0.33194\n",
      "testing data:  0.8911407205696124 0.219\n",
      "epoch: 29\n",
      "training data:  0.7935961070609195 0.36128\n",
      "testing data:  0.8829728789874978 0.243\n",
      "epoch: 30\n",
      "training data:  0.7938755355568962 0.35856\n",
      "testing data:  0.8793763207157814 0.2729\n",
      "epoch: 31\n",
      "training data:  0.7809614591982614 0.38192\n",
      "testing data:  0.8841744539526502 0.2639\n",
      "epoch: 32\n",
      "training data:  0.7736335291410052 0.38724\n",
      "testing data:  0.8909858307083205 0.2585\n",
      "epoch: 33\n",
      "training data:  0.7704802001736202 0.38724\n",
      "testing data:  0.9134496222766068 0.237\n",
      "epoch: 34\n",
      "training data:  0.7638113095943598 0.39736\n",
      "testing data:  0.8949135885671314 0.2618\n",
      "epoch: 35\n",
      "training data:  0.7611875290122627 0.40344\n",
      "testing data:  0.904156102857688 0.2609\n",
      "epoch: 36\n",
      "training data:  0.7528735133040844 0.4012\n",
      "testing data:  0.8921406642474672 0.2745\n",
      "epoch: 37\n",
      "training data:  0.7502414127040189 0.41132\n",
      "testing data:  0.8908708142685476 0.2759\n",
      "epoch: 38\n",
      "training data:  0.7445555453253634 0.41376\n",
      "testing data:  0.9241589420805382 0.2673\n",
      "epoch: 39\n",
      "training data:  0.7402919031931317 0.42126\n",
      "testing data:  0.9003934904641911 0.2744\n",
      "epoch: 40\n",
      "training data:  0.7395863846881879 0.41412\n",
      "testing data:  0.9174513939309105 0.2614\n",
      "epoch: 41\n",
      "training data:  0.7284148540076469 0.4294\n",
      "testing data:  0.91903361101462 0.2742\n",
      "epoch: 42\n",
      "training data:  0.7260801616678042 0.43346\n",
      "testing data:  0.904827437813896 0.2818\n",
      "epoch: 43\n",
      "training data:  0.722333381485069 0.4303\n",
      "testing data:  0.9137677762107682 0.273\n",
      "epoch: 44\n",
      "training data:  0.7155682658840598 0.44076\n",
      "testing data:  0.9395686319213804 0.2709\n",
      "epoch: 45\n",
      "training data:  0.7083613264892589 0.44476\n",
      "testing data:  0.9272236425046949 0.2754\n",
      "epoch: 46\n",
      "training data:  0.7051012265908163 0.44264\n",
      "testing data:  0.9308401341381884 0.287\n",
      "epoch: 47\n",
      "training data:  0.7012978800321835 0.4561\n",
      "testing data:  0.9188499290777087 0.2951\n",
      "epoch: 48\n",
      "training data:  0.6990118030326452 0.45638\n",
      "testing data:  0.9471471955853594 0.2943\n",
      "epoch: 49\n",
      "training data:  0.694828692979817 0.45928\n",
      "testing data:  0.948983955563037 0.2863\n",
      "epoch: 50\n",
      "training data:  0.6894751288517126 0.4685\n",
      "testing data:  0.9369028007802273 0.2963\n",
      "epoch: 51\n",
      "training data:  0.6863386791618725 0.47142\n",
      "testing data:  0.9921228360757514 0.2801\n",
      "epoch: 52\n",
      "training data:  0.6823077016396851 0.47012\n",
      "testing data:  0.91281248897143 0.2971\n",
      "epoch: 53\n",
      "training data:  0.6805222082816548 0.47356\n",
      "testing data:  0.9243549514818387 0.3041\n",
      "epoch: 54\n",
      "training data:  0.6737048823437786 0.48122\n",
      "testing data:  0.9393854323155183 0.2925\n",
      "epoch: 55\n",
      "training data:  0.6711376775116691 0.48622\n",
      "testing data:  0.9483955463361469 0.2965\n",
      "epoch: 56\n",
      "training data:  0.6638770399556195 0.49218\n",
      "testing data:  0.9263136358434015 0.2913\n",
      "epoch: 57\n",
      "training data:  0.6610101757906575 0.49764\n",
      "testing data:  0.9562869911894691 0.2972\n",
      "epoch: 58\n",
      "training data:  0.6580264960758299 0.49782\n",
      "testing data:  0.9737631033485926 0.2894\n",
      "epoch: 59\n",
      "training data:  0.6543576560162514 0.50296\n",
      "testing data:  0.9391763959023581 0.2955\n",
      "epoch: 60\n",
      "training data:  0.6510684988469343 0.50526\n",
      "testing data:  0.9549670024722221 0.2909\n",
      "epoch: 61\n",
      "training data:  0.6479540323172949 0.51588\n",
      "testing data:  0.9167227848832131 0.301\n",
      "epoch: 62\n",
      "training data:  0.6459264677303584 0.51516\n",
      "testing data:  0.9137741668813013 0.3145\n",
      "epoch: 63\n",
      "training data:  0.6411046281403701 0.51944\n",
      "testing data:  0.9402381670833182 0.2995\n",
      "epoch: 64\n",
      "training data:  0.637784739487789 0.52648\n",
      "testing data:  0.9359555551246378 0.2995\n",
      "epoch: 65\n",
      "training data:  0.6371400310826489 0.52122\n",
      "testing data:  0.9636291684446824 0.2925\n",
      "epoch: 66\n",
      "training data:  0.6342526719857852 0.52386\n",
      "testing data:  0.9832366276372 0.2887\n",
      "epoch: 67\n",
      "training data:  0.6309664694439294 0.52942\n",
      "testing data:  0.9367972971823212 0.302\n",
      "epoch: 68\n",
      "training data:  0.6270784767010836 0.53554\n",
      "testing data:  1.004719819336597 0.2961\n",
      "epoch: 69\n",
      "training data:  0.6233822690026435 0.53762\n",
      "testing data:  0.9575046710677496 0.2986\n",
      "epoch: 70\n",
      "training data:  0.619386509098708 0.54028\n",
      "testing data:  0.9585481057072236 0.3078\n",
      "epoch: 71\n",
      "training data:  0.6155821504476893 0.5455\n",
      "testing data:  0.9648603446536511 0.3003\n",
      "epoch: 72\n",
      "training data:  0.6147412623567563 0.54742\n",
      "testing data:  1.020202136941124 0.2873\n",
      "epoch: 73\n",
      "training data:  0.6134536427838021 0.54722\n",
      "testing data:  0.9777451928366592 0.2826\n",
      "epoch: 74\n",
      "training data:  0.6081331089322733 0.55312\n",
      "testing data:  0.9923143316112333 0.2812\n",
      "epoch: 75\n",
      "training data:  0.608236397769085 0.55376\n",
      "testing data:  0.9800210159774501 0.3059\n",
      "epoch: 76\n",
      "training data:  0.6064300418768326 0.55156\n",
      "testing data:  0.9981555732741586 0.2952\n",
      "epoch: 77\n",
      "training data:  0.6038508310426238 0.5568\n",
      "testing data:  1.0223130959911464 0.2923\n",
      "epoch: 78\n",
      "training data:  0.6010595941346674 0.5586\n",
      "testing data:  1.0520193221596315 0.2809\n",
      "epoch: 79\n",
      "training data:  0.5972636067074735 0.56308\n",
      "testing data:  1.0936774886556153 0.2699\n",
      "epoch: 80\n",
      "training data:  0.595375832951006 0.56802\n",
      "testing data:  0.9949290152706078 0.2967\n",
      "epoch: 81\n",
      "training data:  0.5930678133339924 0.5719\n",
      "testing data:  1.019071798703698 0.2937\n",
      "epoch: 82\n",
      "training data:  0.5895491492921933 0.5722\n",
      "testing data:  1.045077227734953 0.2881\n",
      "epoch: 83\n",
      "training data:  0.5865389369573546 0.5738\n",
      "testing data:  1.0363749978809207 0.2946\n",
      "epoch: 84\n",
      "training data:  0.5852688251950396 0.57644\n",
      "testing data:  0.9826997854182777 0.3104\n",
      "epoch: 85\n",
      "training data:  0.5828495567083447 0.57778\n",
      "testing data:  1.0283071530915027 0.2919\n",
      "epoch: 86\n",
      "training data:  0.578374916855695 0.58584\n",
      "testing data:  1.021308281415725 0.294\n",
      "epoch: 87\n",
      "training data:  0.5765877282607643 0.58238\n",
      "testing data:  1.1033301500908341 0.2874\n",
      "epoch: 88\n",
      "training data:  0.5729156535986928 0.58876\n",
      "testing data:  1.0075323979072217 0.315\n",
      "epoch: 89\n",
      "training data:  0.5697954624187725 0.59124\n",
      "testing data:  1.0693108953309338 0.2898\n",
      "epoch: 90\n",
      "training data:  0.5695795349848387 0.5908\n",
      "testing data:  1.037777177879555 0.2889\n",
      "epoch: 91\n",
      "training data:  0.5667352046687173 0.59632\n",
      "testing data:  1.051756039264434 0.2921\n",
      "epoch: 92\n",
      "training data:  0.5633297000332723 0.59812\n",
      "testing data:  1.052699101891688 0.3086\n",
      "epoch: 93\n",
      "training data:  0.5616073945116653 0.60158\n",
      "testing data:  1.043239055724237 0.2865\n",
      "epoch: 94\n",
      "training data:  0.5601401595963097 0.5984\n",
      "testing data:  1.036172352041522 0.2988\n",
      "epoch: 95\n",
      "training data:  0.5611785036652442 0.60276\n",
      "testing data:  1.0435411808400787 0.2998\n",
      "epoch: 96\n",
      "training data:  0.5576130335526767 0.60354\n",
      "testing data:  1.1134083669549688 0.2823\n",
      "epoch: 97\n",
      "training data:  0.5518920562949231 0.6113\n",
      "testing data:  1.028814452119672 0.2992\n",
      "epoch: 98\n",
      "training data:  0.5544845621780492 0.60712\n",
      "testing data:  1.1524783194093395 0.2862\n",
      "epoch: 99\n",
      "training data:  0.5530110181623676 0.61196\n",
      "testing data:  1.1664084136324313 0.2753\n",
      "1810.64883852005\n"
     ]
    }
   ],
   "source": [
    "#IMPORTO LAS IMAGENES DE CIFAR, LES HAGO EL RESHAPE DE LOS X_TRAIN Y X_TEST\n",
    "(x_train,y_train),(x_test,y_test) = cifar10.load_data() #x = images #y = categories #loading data\n",
    "x_train,y_train = reshapeImages(x_train,y_train)\n",
    "x_test,y_test = reshapeImages(x_test,y_test)\n",
    "#PREPROCESADO DE LOS DATOS\n",
    "x_train = (x_train - np.mean(x_train,axis=0))/np.std(x_train,axis=0)\n",
    "x_test = (x_test - np.mean(x_train,axis=0))/np.std(x_train,axis=0)\n",
    "y_train = y_train.flatten()\n",
    "y_test = y_test.flatten()\n",
    "n_clases = 10\n",
    "yy_train = np.zeros([x_train.shape[0],n_clases])\n",
    "yy_test = np.zeros([x_test.shape[0],n_clases])\n",
    "yy_train[np.arange(x_train.shape[0]),y_train] = 1\n",
    "yy_test[np.arange(x_test.shape[0]),y_test] = 1\n",
    "#CREO EL MODELO Y VEO COMO PREDICE\n",
    "layer_1 = layers.Dense(100,activations.Sigmoid(),1e-3,x_train.shape[1]) #capa 1\n",
    "layer_2 = layers.Dense(100,activations.Sigmoid(),1e-3) #capa 2\n",
    "layer_3 = layers.Dense(10,activations.Linear(),1e-3) #capa 3, ultima capa\n",
    "model = models.Network()\n",
    "model.add(layer_1)\n",
    "model.add(layer_2)\n",
    "model.add(layer_3)\n",
    "epocas = 100 #cantidad de epocas a realizar\n",
    "lr = 5e-4 #learning rate\n",
    "rg = 1e-7\n",
    "bs = 50 #batch size\n",
    "start = time.time()\n",
    "loss_tr,loss_ts,acc_tr,acc_ts = model.fit(x_train,yy_train,x_test,yy_test,lr,epocas,bs,metrics.accuracy,losses.MSE,optimizers.SGD,regularizers.L2,rg)\n",
    "end = time.time()\n",
    "print(end-start)"
   ]
  },
  {
   "cell_type": "code",
   "execution_count": 40,
   "metadata": {},
   "outputs": [
    {
     "data": {
      "text/plain": [
       "Text(0, 0.5, 'Loss')"
      ]
     },
     "execution_count": 40,
     "metadata": {},
     "output_type": "execute_result"
    },
    {
     "data": {
      "image/png": "[encoded data removed]",
      "text/plain": [
       "<Figure size 432x288 with 1 Axes>"
      ]
     },
     "metadata": {
      "needs_background": "light"
     },
     "output_type": "display_data"
    }
   ],
   "source": [
    "e = range(epocas)\n",
    "plt.plot(e,loss_tr,label='train loss')\n",
    "plt.plot(e,loss_ts,label='test loss')\n",
    "plt.legend()\n",
    "plt.xlabel(\"Épocas\")\n",
    "plt.ylabel(\"Loss\")\n",
    "#plt.savefig('ej8_lossacctr.pdf')"
   ]
  },
  {
   "cell_type": "code",
   "execution_count": 39,
   "metadata": {},
   "outputs": [
    {
     "data": {
      "text/plain": [
       "Text(0, 0.5, 'Accuracy')"
      ]
     },
     "execution_count": 39,
     "metadata": {},
     "output_type": "execute_result"
    },
    {
     "data": {
      "image/png": "[encoded data removed]",
      "text/plain": [
       "<Figure size 432x288 with 1 Axes>"
      ]
     },
     "metadata": {
      "needs_background": "light"
     },
     "output_type": "display_data"
    }
   ],
   "source": [
    "plt.plot(e,acc_tr,label='train accuracy')\n",
    "plt.plot(e,acc_ts,label='test accuracy')\n",
    "plt.legend()\n",
    "plt.xlabel(\"Épocas\")\n",
    "plt.ylabel(\"Accuracy\")\n",
    "#plt.savefig('ej8_lossaccts.pdf')"
   ]
  },
  {
   "cell_type": "code",
   "execution_count": 10,
   "metadata": {},
   "outputs": [],
   "source": [
    "np.savetxt('ej8_accepochs.csv', (e,acc_ts), delimiter=',')"
   ]
  },
  {
   "cell_type": "code",
   "execution_count": 38,
   "metadata": {},
   "outputs": [
    {
     "data": {
      "text/plain": [
       "Text(0, 0.5, 'Accuracy')"
      ]
     },
     "execution_count": 38,
     "metadata": {},
     "output_type": "execute_result"
    },
    {
     "data": {
      "image/png": "[encoded data removed]",
      "text/plain": [
       "<Figure size 432x288 with 1 Axes>"
      ]
     },
     "metadata": {
      "needs_background": "light"
     },
     "output_type": "display_data"
    }
   ],
   "source": [
    "plt.plot(e,acc_ts)\n",
    "plt.xlabel(\"Épocas\")\n",
    "plt.ylabel(\"Accuracy\")\n",
    "#plt.savefig('ej8_lossepochtest.pdf')"
   ]
  },
  {
   "cell_type": "code",
   "execution_count": null,
   "metadata": {},
   "outputs": [],
   "source": []
  }
 ],
 "metadata": {
  "kernelspec": {
   "display_name": "Python 3",
   "language": "python",
   "name": "python3"
  },
  "language_info": {
   "codemirror_mode": {
    "name": "ipython",
    "version": 3
   },
   "file_extension": ".py",
   "mimetype": "text/x-python",
   "name": "python",
   "nbconvert_exporter": "python",
   "pygments_lexer": "ipython3",
   "version": "3.7.7"
  }
 },
 "nbformat": 4,
 "nbformat_minor": 4
}
