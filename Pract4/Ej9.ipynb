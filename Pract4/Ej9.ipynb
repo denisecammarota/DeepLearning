{
 "cells": [
  {
   "cell_type": "code",
   "execution_count": 54,
   "metadata": {
    "id": "RYLdPzeSJFT5"
   },
   "outputs": [],
   "source": [
    "import keras \n",
    "import tensorflow as tf\n",
    "from keras.datasets import mnist #cargo los datos del mnist\n",
    "import numpy as np\n",
    "from keras.callbacks import History \n",
    "import matplotlib.pyplot as plt\n",
    "from numpy import genfromtxt\n",
    "from keras.utils import to_categorical\n",
    "from keras.datasets import mnist"
   ]
  },
  {
   "cell_type": "code",
   "execution_count": 55,
   "metadata": {
    "id": "5b2R_CDnJQc1"
   },
   "outputs": [],
   "source": [
    "#ok funciona bien\n",
    "#funcion que hace reshape de las imagenes\n",
    "#sin agregar el bias\n",
    "def reshapeImages(x,y):\n",
    "    im_shape = x.shape[1:]\n",
    "    x = np.reshape(x,(x.shape[0],np.prod(im_shape)))\n",
    "    return x,y"
   ]
  },
  {
   "cell_type": "code",
   "execution_count": 56,
   "metadata": {
    "id": "ybIScDVEJQlT"
   },
   "outputs": [],
   "source": [
    "#definicion de constantes\n",
    "n_clases = 10 #cantidad de clases\n",
    "n_capa1 = 100 #cantidad de neuronas capa 1\n",
    "n_capa2 = n_clases #cantidad de neuronas capa 2 (= cantidad de clases)\n",
    "#importamos los datos de training y testing\n",
    "(x_train,y_train),(x_test,y_test) = mnist.load_data() \n",
    "#preprocesado de los datos\n",
    "mean = np.mean(x_train,axis=0)\n",
    "#sigma = np.std(x_train,axis=0) algunos elementos son = 0, cambio por 255\n",
    "sigma = 255.0\n",
    "x_train = (x_train - mean)/sigma\n",
    "x_test = (x_test - mean)/sigma\n",
    "#reshaping y flatten\n",
    "x_train,y_train = reshapeImages(x_train,y_train)\n",
    "x_test,y_test = reshapeImages(x_test,y_test)\n",
    "yy_train = to_categorical(y_train)\n",
    "yy_test = to_categorical(y_test)\n",
    "n_dim = x_train.shape[1] #dimension de entrada\n",
    "epocas = 100 #cantidad de epocas\n",
    "#permutamos con el codigo de la guia\n",
    "permutation = np.random.permutation(28*28)\n",
    "x_train_perm = x_train.reshape(x_train.shape[0], -1)\n",
    "x_train_perm = x_train_perm[:,permutation]\n",
    "x_train_perm = x_train_perm.reshape(x_train.shape)\n",
    "x_test_perm = x_test.reshape(x_test.shape[0], -1)\n",
    "x_test_perm = x_test_perm[:,permutation]\n",
    "x_test_perm = x_test_perm.reshape(x_test.shape)"
   ]
  },
  {
   "cell_type": "code",
   "execution_count": 4,
   "metadata": {
    "id": "d_Qgxg7jPgg1"
   },
   "outputs": [],
   "source": [
    "#red neuronal solo con capas densas"
   ]
  },
  {
   "cell_type": "code",
   "execution_count": 11,
   "metadata": {
    "colab": {
     "base_uri": "https://localhost:8080/",
     "height": 1000
    },
    "id": "l4or7NCzJQtD",
    "outputId": "18ac2398-82bd-4c8e-cd84-80834604f122"
   },
   "outputs": [
    {
     "name": "stdout",
     "output_type": "stream",
     "text": [
      "Train on 60000 samples, validate on 10000 samples\n",
      "Epoch 1/100\n",
      " - 2s - loss: 1.6058 - acc: 0.5749 - val_loss: 1.0854 - val_acc: 0.7733\n",
      "Epoch 2/100\n",
      " - 2s - loss: 0.8676 - acc: 0.8096 - val_loss: 0.6766 - val_acc: 0.8497\n",
      "Epoch 3/100\n",
      " - 2s - loss: 0.6145 - acc: 0.8543 - val_loss: 0.5249 - val_acc: 0.8731\n",
      "Epoch 4/100\n",
      " - 2s - loss: 0.5059 - acc: 0.8725 - val_loss: 0.4494 - val_acc: 0.8856\n",
      "Epoch 5/100\n",
      " - 2s - loss: 0.4455 - acc: 0.8835 - val_loss: 0.4038 - val_acc: 0.8942\n",
      "Epoch 6/100\n",
      " - 2s - loss: 0.4063 - acc: 0.8906 - val_loss: 0.3727 - val_acc: 0.9000\n",
      "Epoch 7/100\n",
      " - 2s - loss: 0.3783 - acc: 0.8961 - val_loss: 0.3496 - val_acc: 0.9039\n",
      "Epoch 8/100\n",
      " - 2s - loss: 0.3568 - acc: 0.9006 - val_loss: 0.3317 - val_acc: 0.9071\n",
      "Epoch 9/100\n",
      " - 2s - loss: 0.3395 - acc: 0.9047 - val_loss: 0.3171 - val_acc: 0.9104\n",
      "Epoch 10/100\n",
      " - 2s - loss: 0.3251 - acc: 0.9082 - val_loss: 0.3048 - val_acc: 0.9130\n",
      "Epoch 11/100\n",
      " - 2s - loss: 0.3128 - acc: 0.9114 - val_loss: 0.2942 - val_acc: 0.9149\n",
      "Epoch 12/100\n",
      " - 2s - loss: 0.3020 - acc: 0.9140 - val_loss: 0.2851 - val_acc: 0.9179\n",
      "Epoch 13/100\n",
      " - 2s - loss: 0.2925 - acc: 0.9169 - val_loss: 0.2768 - val_acc: 0.9203\n",
      "Epoch 14/100\n",
      " - 2s - loss: 0.2840 - acc: 0.9194 - val_loss: 0.2695 - val_acc: 0.9229\n",
      "Epoch 15/100\n",
      " - 2s - loss: 0.2763 - acc: 0.9215 - val_loss: 0.2628 - val_acc: 0.9254\n",
      "Epoch 16/100\n",
      " - 2s - loss: 0.2692 - acc: 0.9233 - val_loss: 0.2566 - val_acc: 0.9271\n",
      "Epoch 17/100\n",
      " - 2s - loss: 0.2627 - acc: 0.9248 - val_loss: 0.2510 - val_acc: 0.9283\n",
      "Epoch 18/100\n",
      " - 2s - loss: 0.2567 - acc: 0.9263 - val_loss: 0.2459 - val_acc: 0.9295\n",
      "Epoch 19/100\n",
      " - 2s - loss: 0.2510 - acc: 0.9279 - val_loss: 0.2410 - val_acc: 0.9312\n",
      "Epoch 20/100\n",
      " - 2s - loss: 0.2458 - acc: 0.9294 - val_loss: 0.2365 - val_acc: 0.9329\n",
      "Epoch 21/100\n",
      " - 2s - loss: 0.2409 - acc: 0.9310 - val_loss: 0.2322 - val_acc: 0.9343\n",
      "Epoch 22/100\n",
      " - 2s - loss: 0.2362 - acc: 0.9326 - val_loss: 0.2282 - val_acc: 0.9354\n",
      "Epoch 23/100\n",
      " - 2s - loss: 0.2318 - acc: 0.9338 - val_loss: 0.2243 - val_acc: 0.9363\n",
      "Epoch 24/100\n",
      " - 2s - loss: 0.2277 - acc: 0.9350 - val_loss: 0.2208 - val_acc: 0.9375\n",
      "Epoch 25/100\n",
      " - 2s - loss: 0.2237 - acc: 0.9364 - val_loss: 0.2174 - val_acc: 0.9386\n",
      "Epoch 26/100\n",
      " - 2s - loss: 0.2200 - acc: 0.9372 - val_loss: 0.2141 - val_acc: 0.9396\n",
      "Epoch 27/100\n",
      " - 2s - loss: 0.2164 - acc: 0.9385 - val_loss: 0.2110 - val_acc: 0.9401\n",
      "Epoch 28/100\n",
      " - 2s - loss: 0.2130 - acc: 0.9393 - val_loss: 0.2082 - val_acc: 0.9409\n",
      "Epoch 29/100\n",
      " - 2s - loss: 0.2097 - acc: 0.9406 - val_loss: 0.2053 - val_acc: 0.9417\n",
      "Epoch 30/100\n",
      " - 2s - loss: 0.2065 - acc: 0.9412 - val_loss: 0.2026 - val_acc: 0.9418\n",
      "Epoch 31/100\n",
      " - 2s - loss: 0.2035 - acc: 0.9422 - val_loss: 0.2000 - val_acc: 0.9430\n",
      "Epoch 32/100\n",
      " - 2s - loss: 0.2006 - acc: 0.9430 - val_loss: 0.1975 - val_acc: 0.9439\n",
      "Epoch 33/100\n",
      " - 2s - loss: 0.1978 - acc: 0.9437 - val_loss: 0.1951 - val_acc: 0.9441\n",
      "Epoch 34/100\n",
      " - 2s - loss: 0.1951 - acc: 0.9447 - val_loss: 0.1928 - val_acc: 0.9444\n",
      "Epoch 35/100\n",
      " - 2s - loss: 0.1925 - acc: 0.9453 - val_loss: 0.1907 - val_acc: 0.9449\n",
      "Epoch 36/100\n",
      " - 2s - loss: 0.1900 - acc: 0.9463 - val_loss: 0.1885 - val_acc: 0.9455\n",
      "Epoch 37/100\n",
      " - 2s - loss: 0.1876 - acc: 0.9470 - val_loss: 0.1865 - val_acc: 0.9458\n",
      "Epoch 38/100\n",
      " - 2s - loss: 0.1852 - acc: 0.9477 - val_loss: 0.1844 - val_acc: 0.9460\n",
      "Epoch 39/100\n",
      " - 2s - loss: 0.1829 - acc: 0.9485 - val_loss: 0.1825 - val_acc: 0.9465\n",
      "Epoch 40/100\n",
      " - 2s - loss: 0.1808 - acc: 0.9489 - val_loss: 0.1806 - val_acc: 0.9470\n",
      "Epoch 41/100\n",
      " - 2s - loss: 0.1786 - acc: 0.9495 - val_loss: 0.1788 - val_acc: 0.9475\n",
      "Epoch 42/100\n",
      " - 2s - loss: 0.1766 - acc: 0.9501 - val_loss: 0.1770 - val_acc: 0.9481\n",
      "Epoch 43/100\n",
      " - 2s - loss: 0.1746 - acc: 0.9507 - val_loss: 0.1753 - val_acc: 0.9485\n",
      "Epoch 44/100\n",
      " - 2s - loss: 0.1726 - acc: 0.9513 - val_loss: 0.1737 - val_acc: 0.9496\n",
      "Epoch 45/100\n",
      " - 2s - loss: 0.1708 - acc: 0.9518 - val_loss: 0.1721 - val_acc: 0.9500\n",
      "Epoch 46/100\n",
      " - 2s - loss: 0.1689 - acc: 0.9525 - val_loss: 0.1705 - val_acc: 0.9503\n",
      "Epoch 47/100\n",
      " - 2s - loss: 0.1672 - acc: 0.9530 - val_loss: 0.1690 - val_acc: 0.9508\n",
      "Epoch 48/100\n",
      " - 2s - loss: 0.1654 - acc: 0.9535 - val_loss: 0.1675 - val_acc: 0.9511\n",
      "Epoch 49/100\n",
      " - 2s - loss: 0.1637 - acc: 0.9541 - val_loss: 0.1661 - val_acc: 0.9517\n",
      "Epoch 50/100\n",
      " - 2s - loss: 0.1621 - acc: 0.9547 - val_loss: 0.1647 - val_acc: 0.9518\n",
      "Epoch 51/100\n",
      " - 2s - loss: 0.1605 - acc: 0.9552 - val_loss: 0.1633 - val_acc: 0.9525\n",
      "Epoch 52/100\n",
      " - 2s - loss: 0.1589 - acc: 0.9556 - val_loss: 0.1620 - val_acc: 0.9527\n",
      "Epoch 53/100\n",
      " - 2s - loss: 0.1574 - acc: 0.9559 - val_loss: 0.1607 - val_acc: 0.9533\n",
      "Epoch 54/100\n",
      " - 2s - loss: 0.1559 - acc: 0.9564 - val_loss: 0.1595 - val_acc: 0.9535\n",
      "Epoch 55/100\n",
      " - 2s - loss: 0.1545 - acc: 0.9568 - val_loss: 0.1582 - val_acc: 0.9540\n",
      "Epoch 56/100\n",
      " - 2s - loss: 0.1531 - acc: 0.9574 - val_loss: 0.1570 - val_acc: 0.9543\n",
      "Epoch 57/100\n",
      " - 2s - loss: 0.1517 - acc: 0.9578 - val_loss: 0.1558 - val_acc: 0.9545\n",
      "Epoch 58/100\n",
      " - 2s - loss: 0.1503 - acc: 0.9581 - val_loss: 0.1547 - val_acc: 0.9548\n",
      "Epoch 59/100\n",
      " - 2s - loss: 0.1490 - acc: 0.9585 - val_loss: 0.1536 - val_acc: 0.9554\n",
      "Epoch 60/100\n",
      " - 2s - loss: 0.1477 - acc: 0.9590 - val_loss: 0.1525 - val_acc: 0.9562\n",
      "Epoch 61/100\n",
      " - 2s - loss: 0.1464 - acc: 0.9593 - val_loss: 0.1515 - val_acc: 0.9567\n",
      "Epoch 62/100\n",
      " - 2s - loss: 0.1452 - acc: 0.9598 - val_loss: 0.1504 - val_acc: 0.9570\n",
      "Epoch 63/100\n",
      " - 2s - loss: 0.1439 - acc: 0.9600 - val_loss: 0.1493 - val_acc: 0.9571\n",
      "Epoch 64/100\n",
      " - 2s - loss: 0.1427 - acc: 0.9604 - val_loss: 0.1484 - val_acc: 0.9577\n",
      "Epoch 65/100\n",
      " - 2s - loss: 0.1416 - acc: 0.9609 - val_loss: 0.1474 - val_acc: 0.9576\n",
      "Epoch 66/100\n",
      " - 2s - loss: 0.1404 - acc: 0.9611 - val_loss: 0.1464 - val_acc: 0.9577\n",
      "Epoch 67/100\n",
      " - 2s - loss: 0.1393 - acc: 0.9616 - val_loss: 0.1455 - val_acc: 0.9580\n",
      "Epoch 68/100\n",
      " - 2s - loss: 0.1382 - acc: 0.9620 - val_loss: 0.1445 - val_acc: 0.9586\n",
      "Epoch 69/100\n",
      " - 2s - loss: 0.1371 - acc: 0.9623 - val_loss: 0.1437 - val_acc: 0.9587\n",
      "Epoch 70/100\n",
      " - 2s - loss: 0.1360 - acc: 0.9625 - val_loss: 0.1428 - val_acc: 0.9592\n",
      "Epoch 71/100\n",
      " - 2s - loss: 0.1350 - acc: 0.9627 - val_loss: 0.1420 - val_acc: 0.9592\n",
      "Epoch 72/100\n",
      " - 2s - loss: 0.1339 - acc: 0.9632 - val_loss: 0.1411 - val_acc: 0.9598\n",
      "Epoch 73/100\n",
      " - 2s - loss: 0.1329 - acc: 0.9637 - val_loss: 0.1402 - val_acc: 0.9598\n",
      "Epoch 74/100\n",
      " - 2s - loss: 0.1319 - acc: 0.9637 - val_loss: 0.1394 - val_acc: 0.9597\n",
      "Epoch 75/100\n",
      " - 2s - loss: 0.1310 - acc: 0.9642 - val_loss: 0.1386 - val_acc: 0.9599\n",
      "Epoch 76/100\n",
      " - 2s - loss: 0.1300 - acc: 0.9645 - val_loss: 0.1379 - val_acc: 0.9605\n",
      "Epoch 77/100\n",
      " - 2s - loss: 0.1291 - acc: 0.9647 - val_loss: 0.1371 - val_acc: 0.9610\n",
      "Epoch 78/100\n",
      " - 2s - loss: 0.1281 - acc: 0.9650 - val_loss: 0.1364 - val_acc: 0.9612\n",
      "Epoch 79/100\n",
      " - 2s - loss: 0.1272 - acc: 0.9653 - val_loss: 0.1356 - val_acc: 0.9612\n",
      "Epoch 80/100\n",
      " - 2s - loss: 0.1263 - acc: 0.9656 - val_loss: 0.1349 - val_acc: 0.9616\n",
      "Epoch 81/100\n",
      " - 2s - loss: 0.1254 - acc: 0.9658 - val_loss: 0.1342 - val_acc: 0.9616\n",
      "Epoch 82/100\n",
      " - 2s - loss: 0.1246 - acc: 0.9661 - val_loss: 0.1334 - val_acc: 0.9619\n",
      "Epoch 83/100\n",
      " - 2s - loss: 0.1237 - acc: 0.9665 - val_loss: 0.1328 - val_acc: 0.9620\n",
      "Epoch 84/100\n",
      " - 2s - loss: 0.1229 - acc: 0.9666 - val_loss: 0.1321 - val_acc: 0.9622\n",
      "Epoch 85/100\n",
      " - 2s - loss: 0.1220 - acc: 0.9669 - val_loss: 0.1314 - val_acc: 0.9624\n",
      "Epoch 86/100\n",
      " - 2s - loss: 0.1212 - acc: 0.9671 - val_loss: 0.1308 - val_acc: 0.9627\n",
      "Epoch 87/100\n",
      " - 2s - loss: 0.1204 - acc: 0.9673 - val_loss: 0.1302 - val_acc: 0.9625\n",
      "Epoch 88/100\n",
      " - 2s - loss: 0.1196 - acc: 0.9676 - val_loss: 0.1295 - val_acc: 0.9626\n",
      "Epoch 89/100\n",
      " - 2s - loss: 0.1188 - acc: 0.9679 - val_loss: 0.1289 - val_acc: 0.9629\n",
      "Epoch 90/100\n",
      " - 2s - loss: 0.1181 - acc: 0.9681 - val_loss: 0.1283 - val_acc: 0.9631\n",
      "Epoch 91/100\n",
      " - 2s - loss: 0.1173 - acc: 0.9684 - val_loss: 0.1276 - val_acc: 0.9631\n",
      "Epoch 92/100\n",
      " - 2s - loss: 0.1165 - acc: 0.9686 - val_loss: 0.1271 - val_acc: 0.9633\n",
      "Epoch 93/100\n",
      " - 2s - loss: 0.1158 - acc: 0.9687 - val_loss: 0.1265 - val_acc: 0.9634\n",
      "Epoch 94/100\n",
      " - 2s - loss: 0.1151 - acc: 0.9689 - val_loss: 0.1259 - val_acc: 0.9633\n",
      "Epoch 95/100\n",
      " - 2s - loss: 0.1144 - acc: 0.9691 - val_loss: 0.1253 - val_acc: 0.9637\n",
      "Epoch 96/100\n",
      " - 2s - loss: 0.1136 - acc: 0.9693 - val_loss: 0.1248 - val_acc: 0.9639\n"
     ]
    },
    {
     "name": "stdout",
     "output_type": "stream",
     "text": [
      "Epoch 97/100\n",
      " - 2s - loss: 0.1129 - acc: 0.9694 - val_loss: 0.1242 - val_acc: 0.9643\n",
      "Epoch 98/100\n",
      " - 2s - loss: 0.1123 - acc: 0.9696 - val_loss: 0.1237 - val_acc: 0.9643\n",
      "Epoch 99/100\n",
      " - 2s - loss: 0.1116 - acc: 0.9698 - val_loss: 0.1232 - val_acc: 0.9643\n",
      "Epoch 100/100\n",
      " - 2s - loss: 0.1109 - acc: 0.9701 - val_loss: 0.1227 - val_acc: 0.9645\n"
     ]
    }
   ],
   "source": [
    "x = keras.layers.Input(shape=(n_dim,))\n",
    "l1 = keras.layers.Dense(units=n_capa1, activation='relu', use_bias=True, \n",
    "                           kernel_regularizer=keras.regularizers.l2(1e-5))(x)\n",
    "l2 = keras.layers.Dense(units=n_capa2, activation='softmax',use_bias=True,\n",
    "                           kernel_regularizer=keras.regularizers.l2(1e-5))(l1)\n",
    "model = keras.Model(inputs=x, outputs=l2)\n",
    "optimizer = keras.optimizers.SGD(learning_rate=5e-3)\n",
    "model.compile(optimizer, loss=tf.keras.losses.CategoricalCrossentropy(), metrics=['acc'])\n",
    "history = model.fit(x_train_perm, yy_train, epochs=epocas, validation_data=(x_test_perm, yy_test),shuffle=True,batch_size=100, verbose=2)"
   ]
  },
  {
   "cell_type": "code",
   "execution_count": 14,
   "metadata": {
    "colab": {
     "base_uri": "https://localhost:8080/",
     "height": 281
    },
    "id": "svaTUpgfKrR2",
    "outputId": "bdbf67a3-5172-4ba1-ed77-c992999047bd"
   },
   "outputs": [
    {
     "data": {
      "image/png": "[encoded data removed]",
      "text/plain": [
       "<Figure size 432x288 with 1 Axes>"
      ]
     },
     "metadata": {
      "needs_background": "light"
     },
     "output_type": "display_data"
    }
   ],
   "source": [
    "plt.plot(history.history['val_loss'],label='test data',linewidth=2)\n",
    "plt.plot(history.history['loss'],label='train data',linewidth=2)\n",
    "plt.legend()\n",
    "plt.xlabel('Épocas')\n",
    "plt.ylabel('Loss')\n",
    "#plt.savefig('ej9_1_loss.pdf')"
   ]
  },
  {
   "cell_type": "code",
   "execution_count": 15,
   "metadata": {
    "colab": {
     "base_uri": "https://localhost:8080/",
     "height": 281
    },
    "id": "fG_1RecdKri0",
    "outputId": "9155ade1-ff45-4104-adf8-02958a192790"
   },
   "outputs": [
    {
     "data": {
      "image/png": "[encoded data removed]",
      "text/plain": [
       "<Figure size 432x288 with 1 Axes>"
      ]
     },
     "metadata": {
      "needs_background": "light"
     },
     "output_type": "display_data"
    }
   ],
   "source": [
    "plt.plot(history.history['val_acc'],label='test data',linewidth=2)\n",
    "plt.plot(history.history['acc'],label='train data',linewidth=2)\n",
    "plt.legend()\n",
    "plt.text(60,0.75,'test accuracy final: '+str(round(history.history['val_acc'][-1],2)))\n",
    "plt.xlabel('Épocas')\n",
    "plt.ylabel('Accuracy')\n",
    "#plt.savefig('ej9_1_acc.pdf')"
   ]
  },
  {
   "cell_type": "code",
   "execution_count": null,
   "metadata": {
    "id": "ffSRu8pAKrxs"
   },
   "outputs": [],
   "source": [
    "#red neuronal con capas convolucionales"
   ]
  },
  {
   "cell_type": "code",
   "execution_count": 61,
   "metadata": {
    "colab": {
     "base_uri": "https://localhost:8080/",
     "height": 50
    },
    "id": "VSWJOjfqPx_L",
    "outputId": "004b0f8b-8b8a-4df2-e8a4-176340de165d"
   },
   "outputs": [],
   "source": [
    "(x_train,y_train),(x_test,y_test) = mnist.load_data() \n",
    "train_shape = x_train.shape\n",
    "test_shape = x_test.shape\n",
    "#preprocesado de los datos\n",
    "mean = np.mean(x_train,axis=0)\n",
    "sigma = 255.0\n",
    "x_train = (x_train - mean)/sigma\n",
    "x_test = (x_test - mean)/sigma\n",
    "yy_train = to_categorical(y_train)\n",
    "yy_test = to_categorical(y_test)\n",
    "n_dim = x_train.shape[1] #dimension de entrada\n",
    "epocas = 100 #cantidad de epocas\n",
    "n_categorias = 10\n",
    "#permutamos con el codigo de la guia\n",
    "permutation = np.random.permutation(28*28)\n",
    "x_train_perm = x_train.reshape(x_train.shape[0], -1)\n",
    "x_train_perm = x_train_perm[:,permutation]\n",
    "x_train_perm = x_train_perm.reshape(x_train.shape)\n",
    "permutation = np.random.permutation(28*28)\n",
    "x_test_perm = x_test.reshape(x_test.shape[0], -1)\n",
    "x_test_perm = x_test_perm[:,permutation]\n",
    "x_test_perm = x_test_perm.reshape(x_test.shape)"
   ]
  },
  {
   "cell_type": "code",
   "execution_count": null,
   "metadata": {
    "colab": {
     "base_uri": "https://localhost:8080/",
     "height": 1000
    },
    "id": "ex-X6IoS7Hcv",
    "outputId": "3aa81201-693d-465d-d0f6-9c50069bfe41"
   },
   "outputs": [
    {
     "name": "stdout",
     "output_type": "stream",
     "text": [
      "Train on 60000 samples, validate on 10000 samples\n",
      "Epoch 1/100\n",
      " - 4s - loss: 0.5327 - acc: 0.8570 - val_loss: 3.0424 - val_acc: 0.0857\n",
      "Epoch 2/100\n",
      " - 3s - loss: 0.2544 - acc: 0.9248 - val_loss: 3.3128 - val_acc: 0.0881\n",
      "Epoch 3/100\n",
      " - 3s - loss: 0.2062 - acc: 0.9395 - val_loss: 3.3382 - val_acc: 0.0910\n",
      "Epoch 4/100\n",
      " - 3s - loss: 0.1801 - acc: 0.9470 - val_loss: 3.6042 - val_acc: 0.0982\n",
      "Epoch 5/100\n",
      " - 3s - loss: 0.1618 - acc: 0.9513 - val_loss: 3.5425 - val_acc: 0.1052\n",
      "Epoch 6/100\n",
      " - 3s - loss: 0.1515 - acc: 0.9548 - val_loss: 3.7578 - val_acc: 0.1038\n",
      "Epoch 7/100\n",
      " - 4s - loss: 0.1408 - acc: 0.9573 - val_loss: 3.7216 - val_acc: 0.1046\n",
      "Epoch 8/100\n",
      " - 3s - loss: 0.1341 - acc: 0.9586 - val_loss: 3.8725 - val_acc: 0.1096\n",
      "Epoch 9/100\n",
      " - 3s - loss: 0.1271 - acc: 0.9611 - val_loss: 3.9624 - val_acc: 0.1061\n",
      "Epoch 10/100\n",
      " - 3s - loss: 0.1227 - acc: 0.9616 - val_loss: 4.3249 - val_acc: 0.1065\n",
      "Epoch 11/100\n",
      " - 3s - loss: 0.1192 - acc: 0.9635 - val_loss: 4.1647 - val_acc: 0.1118\n",
      "Epoch 12/100\n",
      " - 3s - loss: 0.1126 - acc: 0.9649 - val_loss: 4.3179 - val_acc: 0.1060\n",
      "Epoch 13/100\n",
      " - 4s - loss: 0.1131 - acc: 0.9644 - val_loss: 4.2975 - val_acc: 0.0907\n",
      "Epoch 14/100\n",
      " - 3s - loss: 0.1058 - acc: 0.9667 - val_loss: 4.4290 - val_acc: 0.0924\n",
      "Epoch 15/100\n",
      " - 3s - loss: 0.1036 - acc: 0.9669 - val_loss: 4.5005 - val_acc: 0.0994\n",
      "Epoch 16/100\n",
      " - 3s - loss: 0.1006 - acc: 0.9676 - val_loss: 4.6423 - val_acc: 0.0993\n",
      "Epoch 17/100\n",
      " - 3s - loss: 0.1009 - acc: 0.9675 - val_loss: 4.7780 - val_acc: 0.1005\n",
      "Epoch 18/100\n",
      " - 3s - loss: 0.0972 - acc: 0.9686 - val_loss: 4.8113 - val_acc: 0.0976\n",
      "Epoch 19/100\n",
      " - 3s - loss: 0.0963 - acc: 0.9691 - val_loss: 4.8293 - val_acc: 0.0940\n",
      "Epoch 20/100\n",
      " - 3s - loss: 0.0934 - acc: 0.9701 - val_loss: 4.8067 - val_acc: 0.0950\n",
      "Epoch 21/100\n",
      " - 3s - loss: 0.0921 - acc: 0.9697 - val_loss: 4.8963 - val_acc: 0.0973\n",
      "Epoch 22/100\n",
      " - 3s - loss: 0.0897 - acc: 0.9708 - val_loss: 5.0842 - val_acc: 0.1041\n",
      "Epoch 23/100\n",
      " - 3s - loss: 0.0916 - acc: 0.9700 - val_loss: 5.0949 - val_acc: 0.0935\n",
      "Epoch 24/100\n",
      " - 3s - loss: 0.0882 - acc: 0.9710 - val_loss: 5.1052 - val_acc: 0.1027\n",
      "Epoch 25/100\n",
      " - 3s - loss: 0.0868 - acc: 0.9715 - val_loss: 5.1323 - val_acc: 0.1068\n",
      "Epoch 26/100\n",
      " - 4s - loss: 0.0859 - acc: 0.9720 - val_loss: 5.3585 - val_acc: 0.0944\n",
      "Epoch 27/100\n",
      " - 3s - loss: 0.0840 - acc: 0.9723 - val_loss: 5.3011 - val_acc: 0.0959\n",
      "Epoch 28/100\n",
      " - 3s - loss: 0.0863 - acc: 0.9712 - val_loss: 5.7257 - val_acc: 0.0952\n",
      "Epoch 29/100\n",
      " - 4s - loss: 0.0826 - acc: 0.9729 - val_loss: 5.9168 - val_acc: 0.0929\n",
      "Epoch 30/100\n",
      " - 3s - loss: 0.0839 - acc: 0.9722 - val_loss: 5.3968 - val_acc: 0.1058\n",
      "Epoch 31/100\n",
      " - 3s - loss: 0.0809 - acc: 0.9733 - val_loss: 5.8403 - val_acc: 0.1007\n",
      "Epoch 32/100\n",
      " - 3s - loss: 0.0808 - acc: 0.9731 - val_loss: 5.9878 - val_acc: 0.0920\n",
      "Epoch 33/100\n",
      " - 4s - loss: 0.0783 - acc: 0.9735 - val_loss: 5.9376 - val_acc: 0.0937\n",
      "Epoch 34/100\n",
      " - 3s - loss: 0.0779 - acc: 0.9740 - val_loss: 5.8195 - val_acc: 0.1009\n",
      "Epoch 35/100\n",
      " - 3s - loss: 0.0767 - acc: 0.9747 - val_loss: 6.0325 - val_acc: 0.1032\n",
      "Epoch 36/100\n",
      " - 3s - loss: 0.0769 - acc: 0.9740 - val_loss: 5.9712 - val_acc: 0.0942\n",
      "Epoch 37/100\n",
      " - 3s - loss: 0.0772 - acc: 0.9743 - val_loss: 6.2818 - val_acc: 0.0957\n",
      "Epoch 38/100\n",
      " - 3s - loss: 0.0765 - acc: 0.9745 - val_loss: 6.3050 - val_acc: 0.0957\n",
      "Epoch 39/100\n",
      " - 3s - loss: 0.0772 - acc: 0.9741 - val_loss: 6.3788 - val_acc: 0.0939\n",
      "Epoch 40/100\n"
     ]
    }
   ],
   "source": [
    "x_train_perm = x_train_perm[...,tf.newaxis]\n",
    "x_test_perm = x_test_perm[...,tf.newaxis]\n",
    "epocas = 100\n",
    "model = keras.Sequential()\n",
    "model.add(keras.layers.Conv2D(16,(3, 3), activation='relu', padding='same',input_shape=(28,28,1)))\n",
    "model.add(keras.layers.MaxPooling2D(pool_size = (2, 2), padding='same'))\n",
    "model.add(keras.layers.Flatten())\n",
    "model.add(keras.layers.Dropout(0.3))\n",
    "model.add(keras.layers.Dense(10,activation='softmax'))\n",
    "model.compile(optimizer='adam', loss=tf.keras.losses.CategoricalCrossentropy(),metrics=['acc'])\n",
    "history = model.fit(x_train_perm, yy_train, epochs=epocas, validation_data=(x_test_perm, yy_test),shuffle=True,batch_size=100, verbose=2)"
   ]
  },
  {
   "cell_type": "code",
   "execution_count": null,
   "metadata": {
    "colab": {
     "base_uri": "https://localhost:8080/",
     "height": 281
    },
    "id": "C21lpwOTPyO7",
    "outputId": "4731cb1a-d4f6-4cca-a8e7-54e14ca36f7d"
   },
   "outputs": [],
   "source": [
    "plt.plot(history.history['val_loss'],label='test data',linewidth=2)\n",
    "plt.plot(history.history['loss'],label='train data',linewidth=2)\n",
    "plt.legend()\n",
    "plt.xlabel('Épocas')\n",
    "plt.ylabel('Loss')\n",
    "#plt.savefig('ej9_2_loss.pdf')"
   ]
  },
  {
   "cell_type": "code",
   "execution_count": null,
   "metadata": {
    "colab": {
     "base_uri": "https://localhost:8080/",
     "height": 281
    },
    "id": "q18GfM57Pybr",
    "outputId": "12f2df34-5d5e-41bd-d9c8-feeea52b331e"
   },
   "outputs": [],
   "source": [
    "plt.plot(history.history['val_acc'],label='test data',linewidth=2)\n",
    "plt.plot(history.history['acc'],label='train data',linewidth=2)\n",
    "plt.legend()\n",
    "plt.text(60,0.90,'test accuracy final: '+str(round(history.history['val_acc'][-1],2)))\n",
    "plt.xlabel('Épocas')\n",
    "plt.ylabel('Accuracy') \n",
    "plt.savefig('ej9_2_acc.pdf')"
   ]
  },
  {
   "cell_type": "code",
   "execution_count": null,
   "metadata": {
    "id": "vyVME0utGOLQ"
   },
   "outputs": [],
   "source": []
  }
 ],
 "metadata": {
  "accelerator": "GPU",
  "colab": {
   "name": "Ej8",
   "provenance": []
  },
  "kernelspec": {
   "display_name": "Python 3",
   "language": "python",
   "name": "python3"
  },
  "language_info": {
   "codemirror_mode": {
    "name": "ipython",
    "version": 3
   },
   "file_extension": ".py",
   "mimetype": "text/x-python",
   "name": "python",
   "nbconvert_exporter": "python",
   "pygments_lexer": "ipython3",
   "version": "3.7.7"
  }
 },
 "nbformat": 4,
 "nbformat_minor": 1
}
