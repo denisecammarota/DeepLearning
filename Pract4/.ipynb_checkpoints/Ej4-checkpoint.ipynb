{
 "cells": [
  {
   "cell_type": "code",
   "execution_count": 1,
   "metadata": {},
   "outputs": [
    {
     "name": "stderr",
     "output_type": "stream",
     "text": [
      "Using TensorFlow backend.\n"
     ]
    }
   ],
   "source": [
    "import keras \n",
    "import tensorflow as tf\n",
    "from keras.datasets import cifar10\n",
    "import numpy as np\n",
    "from keras.callbacks import History \n",
    "import matplotlib.pyplot as plt\n",
    "from keras.datasets import imdb #cargo los datos del imdb\n",
    "from keras.utils import to_categorical\n",
    "from tensorflow.keras.utils import plot_model"
   ]
  },
  {
   "cell_type": "code",
   "execution_count": 2,
   "metadata": {},
   "outputs": [],
   "source": [
    "def randomize(x,y):\n",
    "    #x matriz de datos (datos x dimension)\n",
    "    #y matriz de datos verdaderos (datos x categorias)\n",
    "    indices = np.random.choice(x.shape[0], x.shape[0], replace=False)\n",
    "    x = x[indices]\n",
    "    y = y[indices]\n",
    "    return x,y"
   ]
  },
  {
   "cell_type": "code",
   "execution_count": 3,
   "metadata": {},
   "outputs": [],
   "source": [
    "#reshape como quiero a la data de la bd IMDB\n",
    "def reshapeData(x_total,y_total,n_palabras):\n",
    "    y = to_categorical(y_total) #queda dimensiones reviews x 2\n",
    "    x = np.zeros((len(x_total), n_palabras)) #queda dimensiones reviews x n_palabras\n",
    "    for i, x_total in enumerate(x_total):\n",
    "        x[i, x_total] = 1 #un 1 en posicion en la que hay una palabra, queda cero en otro caso\n",
    "    return x,y"
   ]
  },
  {
   "cell_type": "code",
   "execution_count": 4,
   "metadata": {},
   "outputs": [],
   "source": [
    "def separateData(x_total,y_total):\n",
    "    n_review = y_total.shape[0]\n",
    "    n_train = int(n_review * 0.75) #cantidad de datos de train\n",
    "    x_total, y_total = randomize(x_total,y_total)\n",
    "    x_train = x_total[:n_train,:]\n",
    "    y_train = y_total[:n_train]\n",
    "    x_test = x_total[n_train:,:]\n",
    "    y_test = y_total[n_train:]\n",
    "    return x_train,y_train,x_test,y_test"
   ]
  },
  {
   "cell_type": "markdown",
   "metadata": {},
   "source": [
    "# ejercicio 4 con capas densas"
   ]
  },
  {
   "cell_type": "code",
   "execution_count": 5,
   "metadata": {},
   "outputs": [
    {
     "name": "stderr",
     "output_type": "stream",
     "text": [
      "C:\\Users\\denis\\Anaconda3\\envs\\tf-gpu\\lib\\site-packages\\keras\\datasets\\imdb.py:101: VisibleDeprecationWarning: Creating an ndarray from ragged nested sequences (which is a list-or-tuple of lists-or-tuples-or ndarrays with different lengths or shapes) is deprecated. If you meant to do this, you must specify 'dtype=object' when creating the ndarray\n",
      "  x_train, y_train = np.array(xs[:idx]), np.array(labels[:idx])\n",
      "C:\\Users\\denis\\Anaconda3\\envs\\tf-gpu\\lib\\site-packages\\keras\\datasets\\imdb.py:102: VisibleDeprecationWarning: Creating an ndarray from ragged nested sequences (which is a list-or-tuple of lists-or-tuples-or ndarrays with different lengths or shapes) is deprecated. If you meant to do this, you must specify 'dtype=object' when creating the ndarray\n",
      "  x_test, y_test = np.array(xs[idx:]), np.array(labels[idx:])\n"
     ]
    }
   ],
   "source": [
    "#cargo los datos como dice en el enunciado\n",
    "(x_train, y_train), (x_test, y_test) = imdb.load_data(num_words = 10000) #solo las 10k palabras mas frecuentes en reviews \n",
    "                                                                         #asi que hay 10k palabras posibles por review"
   ]
  },
  {
   "cell_type": "code",
   "execution_count": 6,
   "metadata": {},
   "outputs": [],
   "source": [
    "#junto todos los datos para reformatear y separar bien despues como en los otros ejercicios\n",
    "x_total = np.hstack((x_train,x_test)) #lista de palabras de reviews de las peliculas codificadas segun diccionario\n",
    "y_total = np.hstack((y_train,y_test)) #calificacion positiva (1) o calificacion negativa (0)\n",
    "n_palabras = 10000 #cantidad de palabras posibles"
   ]
  },
  {
   "cell_type": "code",
   "execution_count": 7,
   "metadata": {},
   "outputs": [],
   "source": [
    "#defino algunas constantes que son utiles, las mismas de los problemas del ejercicio 2\n",
    "n_capa1 = 100  \n",
    "n_capa2 = 10 \n",
    "n_capa3 = 2\n",
    "lr = 5e-2\n",
    "rg = 1e-3\n",
    "dprate = 0.5\n",
    "epocas = 100 #cantidad de epocas"
   ]
  },
  {
   "cell_type": "code",
   "execution_count": 8,
   "metadata": {},
   "outputs": [],
   "source": [
    "#padding antes del embedding\n",
    "max_length = 500\n",
    "n_embedding = 100\n",
    "x_total= keras.preprocessing.sequence.pad_sequences(x_total,maxlen=max_length,padding='post',truncating='post') #padding the data like requested"
   ]
  },
  {
   "cell_type": "code",
   "execution_count": 9,
   "metadata": {},
   "outputs": [],
   "source": [
    "y_total = to_categorical(y_total) #to categorical bc n_capa3 = 2 (could be done another way but idk this how i did it)\n",
    "x_train,y_train,x_test,y_test = separateData(x_total,y_total) #separo en datos de train y test"
   ]
  },
  {
   "cell_type": "code",
   "execution_count": 10,
   "metadata": {
    "scrolled": true
   },
   "outputs": [
    {
     "name": "stderr",
     "output_type": "stream",
     "text": [
      "C:\\Users\\denis\\Anaconda3\\envs\\tf-gpu\\lib\\site-packages\\tensorflow_core\\python\\framework\\indexed_slices.py:433: UserWarning: Converting sparse IndexedSlices to a dense Tensor of unknown shape. This may consume a large amount of memory.\n",
      "  \"Converting sparse IndexedSlices to a dense Tensor of unknown shape. \"\n"
     ]
    },
    {
     "name": "stdout",
     "output_type": "stream",
     "text": [
      "Train on 37500 samples, validate on 12500 samples\n",
      "Epoch 1/100\n",
      " - 4s - loss: 0.9055 - acc: 0.5093 - val_loss: 0.8975 - val_acc: 0.5097\n",
      "Epoch 2/100\n",
      " - 4s - loss: 0.8898 - acc: 0.5193 - val_loss: 0.8825 - val_acc: 0.5164\n",
      "Epoch 3/100\n",
      " - 4s - loss: 0.8753 - acc: 0.5249 - val_loss: 0.8686 - val_acc: 0.5219\n",
      "Epoch 4/100\n",
      " - 4s - loss: 0.8618 - acc: 0.5333 - val_loss: 0.8557 - val_acc: 0.5246\n",
      "Epoch 5/100\n",
      " - 4s - loss: 0.8493 - acc: 0.5365 - val_loss: 0.8437 - val_acc: 0.5302\n",
      "Epoch 6/100\n",
      " - 4s - loss: 0.8375 - acc: 0.5378 - val_loss: 0.8326 - val_acc: 0.5462\n",
      "Epoch 7/100\n",
      " - 4s - loss: 0.8265 - acc: 0.5430 - val_loss: 0.8221 - val_acc: 0.5310\n",
      "Epoch 8/100\n",
      " - 4s - loss: 0.8162 - acc: 0.5418 - val_loss: 0.8123 - val_acc: 0.5657\n",
      "Epoch 9/100\n",
      " - 4s - loss: 0.8063 - acc: 0.5551 - val_loss: 0.8031 - val_acc: 0.5737\n",
      "Epoch 10/100\n",
      " - 4s - loss: 0.7968 - acc: 0.5646 - val_loss: 0.7936 - val_acc: 0.5802\n",
      "Epoch 11/100\n",
      " - 4s - loss: 0.7870 - acc: 0.5848 - val_loss: 0.7842 - val_acc: 0.5554\n",
      "Epoch 12/100\n",
      " - 4s - loss: 0.7759 - acc: 0.6038 - val_loss: 0.7729 - val_acc: 0.5914\n",
      "Epoch 13/100\n",
      " - 4s - loss: 0.7621 - acc: 0.6215 - val_loss: 0.7588 - val_acc: 0.6146\n",
      "Epoch 14/100\n",
      " - 4s - loss: 0.7425 - acc: 0.6481 - val_loss: 0.7371 - val_acc: 0.6473\n",
      "Epoch 15/100\n",
      " - 4s - loss: 0.7156 - acc: 0.6807 - val_loss: 0.7181 - val_acc: 0.6499\n",
      "Epoch 16/100\n",
      " - 4s - loss: 0.6829 - acc: 0.7147 - val_loss: 0.6799 - val_acc: 0.7062\n",
      "Epoch 17/100\n",
      " - 4s - loss: 0.6506 - acc: 0.7510 - val_loss: 0.6630 - val_acc: 0.7201\n",
      "Epoch 18/100\n",
      " - 4s - loss: 0.6197 - acc: 0.7821 - val_loss: 0.6347 - val_acc: 0.7524\n",
      "Epoch 19/100\n",
      " - 4s - loss: 0.5950 - acc: 0.8097 - val_loss: 0.6194 - val_acc: 0.7662\n",
      "Epoch 20/100\n",
      " - 4s - loss: 0.5755 - acc: 0.8275 - val_loss: 0.6273 - val_acc: 0.7509\n",
      "Epoch 21/100\n",
      " - 4s - loss: 0.5614 - acc: 0.8410 - val_loss: 0.6002 - val_acc: 0.7830\n",
      "Epoch 22/100\n",
      " - 4s - loss: 0.5460 - acc: 0.8550 - val_loss: 0.6009 - val_acc: 0.7782\n",
      "Epoch 23/100\n",
      " - 4s - loss: 0.5336 - acc: 0.8681 - val_loss: 0.6090 - val_acc: 0.7672\n",
      "Epoch 24/100\n",
      " - 4s - loss: 0.5220 - acc: 0.8815 - val_loss: 0.6049 - val_acc: 0.7684\n",
      "Epoch 25/100\n",
      " - 4s - loss: 0.5092 - acc: 0.8948 - val_loss: 0.5837 - val_acc: 0.7920\n",
      "Epoch 26/100\n",
      " - 4s - loss: 0.4988 - acc: 0.9052 - val_loss: 0.5778 - val_acc: 0.7998\n",
      "Epoch 27/100\n",
      " - 4s - loss: 0.4928 - acc: 0.9117 - val_loss: 0.6099 - val_acc: 0.7603\n",
      "Epoch 28/100\n",
      " - 4s - loss: 0.4814 - acc: 0.9231 - val_loss: 0.5765 - val_acc: 0.8011\n",
      "Epoch 29/100\n",
      " - 4s - loss: 0.4762 - acc: 0.9290 - val_loss: 0.5949 - val_acc: 0.7771\n",
      "Epoch 30/100\n",
      " - 4s - loss: 0.4690 - acc: 0.9363 - val_loss: 0.5908 - val_acc: 0.7810\n",
      "Epoch 31/100\n",
      " - 4s - loss: 0.4608 - acc: 0.9437 - val_loss: 0.5772 - val_acc: 0.7971\n",
      "Epoch 32/100\n",
      " - 4s - loss: 0.4552 - acc: 0.9487 - val_loss: 0.5867 - val_acc: 0.7865\n",
      "Epoch 33/100\n",
      " - 4s - loss: 0.4512 - acc: 0.9518 - val_loss: 0.5749 - val_acc: 0.7974\n",
      "Epoch 34/100\n",
      " - 4s - loss: 0.4457 - acc: 0.9567 - val_loss: 0.5834 - val_acc: 0.7890\n",
      "Epoch 35/100\n",
      " - 4s - loss: 0.4420 - acc: 0.9599 - val_loss: 0.5822 - val_acc: 0.7886\n",
      "Epoch 36/100\n",
      " - 4s - loss: 0.4377 - acc: 0.9632 - val_loss: 0.5732 - val_acc: 0.8001\n",
      "Epoch 37/100\n",
      " - 4s - loss: 0.4328 - acc: 0.9670 - val_loss: 0.5809 - val_acc: 0.7886\n",
      "Epoch 38/100\n",
      " - 4s - loss: 0.4308 - acc: 0.9678 - val_loss: 0.5715 - val_acc: 0.7994\n",
      "Epoch 39/100\n",
      " - 4s - loss: 0.4283 - acc: 0.9693 - val_loss: 0.5733 - val_acc: 0.7946\n",
      "Epoch 40/100\n",
      " - 4s - loss: 0.4260 - acc: 0.9708 - val_loss: 0.5733 - val_acc: 0.7950\n",
      "Epoch 41/100\n",
      " - 4s - loss: 0.4219 - acc: 0.9741 - val_loss: 0.5716 - val_acc: 0.7958\n",
      "Epoch 42/100\n",
      " - 4s - loss: 0.4209 - acc: 0.9732 - val_loss: 0.5709 - val_acc: 0.7959\n",
      "Epoch 43/100\n",
      " - 4s - loss: 0.4188 - acc: 0.9749 - val_loss: 0.5763 - val_acc: 0.7917\n",
      "Epoch 44/100\n",
      " - 4s - loss: 0.4171 - acc: 0.9759 - val_loss: 0.5732 - val_acc: 0.7914\n",
      "Epoch 45/100\n",
      " - 4s - loss: 0.4147 - acc: 0.9779 - val_loss: 0.5681 - val_acc: 0.7978\n",
      "Epoch 46/100\n",
      " - 4s - loss: 0.4125 - acc: 0.9788 - val_loss: 0.5666 - val_acc: 0.7987\n",
      "Epoch 47/100\n",
      " - 4s - loss: 0.4105 - acc: 0.9797 - val_loss: 0.5663 - val_acc: 0.7982\n",
      "Epoch 48/100\n",
      " - 4s - loss: 0.4095 - acc: 0.9803 - val_loss: 0.5643 - val_acc: 0.8001\n",
      "Epoch 49/100\n",
      " - 4s - loss: 0.4085 - acc: 0.9805 - val_loss: 0.5668 - val_acc: 0.7958\n",
      "Epoch 50/100\n",
      " - 4s - loss: 0.4066 - acc: 0.9818 - val_loss: 0.5634 - val_acc: 0.8006\n",
      "Epoch 51/100\n",
      " - 4s - loss: 0.4061 - acc: 0.9811 - val_loss: 0.5617 - val_acc: 0.8006\n",
      "Epoch 52/100\n",
      " - 4s - loss: 0.4047 - acc: 0.9822 - val_loss: 0.5623 - val_acc: 0.7994\n",
      "Epoch 53/100\n",
      " - 4s - loss: 0.4030 - acc: 0.9835 - val_loss: 0.5630 - val_acc: 0.7998\n",
      "Epoch 54/100\n",
      " - 4s - loss: 0.4030 - acc: 0.9828 - val_loss: 0.5600 - val_acc: 0.7999\n",
      "Epoch 55/100\n",
      " - 4s - loss: 0.4012 - acc: 0.9842 - val_loss: 0.5618 - val_acc: 0.7974\n",
      "Epoch 56/100\n",
      " - 4s - loss: 0.4007 - acc: 0.9839 - val_loss: 0.5619 - val_acc: 0.7964\n",
      "Epoch 57/100\n",
      " - 4s - loss: 0.3997 - acc: 0.9842 - val_loss: 0.5794 - val_acc: 0.7774\n",
      "Epoch 58/100\n",
      " - 4s - loss: 0.3991 - acc: 0.9846 - val_loss: 0.5575 - val_acc: 0.8018\n",
      "Epoch 59/100\n",
      " - 4s - loss: 0.3983 - acc: 0.9849 - val_loss: 0.5593 - val_acc: 0.7977\n",
      "Epoch 60/100\n",
      " - 4s - loss: 0.3983 - acc: 0.9842 - val_loss: 0.5570 - val_acc: 0.8010\n",
      "Epoch 61/100\n",
      " - 4s - loss: 0.3975 - acc: 0.9845 - val_loss: 0.5568 - val_acc: 0.8024\n",
      "Epoch 62/100\n",
      " - 4s - loss: 0.3960 - acc: 0.9855 - val_loss: 0.5596 - val_acc: 0.7990\n",
      "Epoch 63/100\n",
      " - 4s - loss: 0.3961 - acc: 0.9851 - val_loss: 0.5565 - val_acc: 0.8015\n",
      "Epoch 64/100\n",
      " - 4s - loss: 0.3950 - acc: 0.9860 - val_loss: 0.5554 - val_acc: 0.8018\n",
      "Epoch 65/100\n",
      " - 4s - loss: 0.3942 - acc: 0.9862 - val_loss: 0.5540 - val_acc: 0.8041\n",
      "Epoch 66/100\n",
      " - 4s - loss: 0.3941 - acc: 0.9859 - val_loss: 0.5527 - val_acc: 0.8048\n",
      "Epoch 67/100\n",
      " - 4s - loss: 0.3934 - acc: 0.9863 - val_loss: 0.5529 - val_acc: 0.8030\n",
      "Epoch 68/100\n",
      " - 4s - loss: 0.3926 - acc: 0.9869 - val_loss: 0.5520 - val_acc: 0.8038\n",
      "Epoch 69/100\n",
      " - 4s - loss: 0.3923 - acc: 0.9866 - val_loss: 0.5508 - val_acc: 0.8061\n",
      "Epoch 70/100\n",
      " - 4s - loss: 0.3916 - acc: 0.9870 - val_loss: 0.5536 - val_acc: 0.8000\n",
      "Epoch 71/100\n",
      " - 4s - loss: 0.3920 - acc: 0.9864 - val_loss: 0.5559 - val_acc: 0.8002\n",
      "Epoch 72/100\n",
      " - 4s - loss: 0.3907 - acc: 0.9874 - val_loss: 0.5515 - val_acc: 0.8039\n",
      "Epoch 73/100\n",
      " - 4s - loss: 0.3909 - acc: 0.9870 - val_loss: 0.5550 - val_acc: 0.7976\n",
      "Epoch 74/100\n",
      " - 4s - loss: 0.3906 - acc: 0.9868 - val_loss: 0.5500 - val_acc: 0.8053\n",
      "Epoch 75/100\n",
      " - 4s - loss: 0.3894 - acc: 0.9876 - val_loss: 0.5484 - val_acc: 0.8075\n",
      "Epoch 76/100\n",
      " - 4s - loss: 0.3895 - acc: 0.9871 - val_loss: 0.5492 - val_acc: 0.8066\n",
      "Epoch 77/100\n",
      " - 4s - loss: 0.3890 - acc: 0.9875 - val_loss: 0.5481 - val_acc: 0.8074\n",
      "Epoch 78/100\n",
      " - 4s - loss: 0.3888 - acc: 0.9875 - val_loss: 0.5474 - val_acc: 0.8081\n",
      "Epoch 79/100\n",
      " - 4s - loss: 0.3883 - acc: 0.9877 - val_loss: 0.5472 - val_acc: 0.8094\n",
      "Epoch 80/100\n",
      " - 4s - loss: 0.3882 - acc: 0.9876 - val_loss: 0.5476 - val_acc: 0.8067\n",
      "Epoch 81/100\n",
      " - 4s - loss: 0.3873 - acc: 0.9881 - val_loss: 0.5478 - val_acc: 0.8070\n",
      "Epoch 82/100\n",
      " - 4s - loss: 0.3869 - acc: 0.9883 - val_loss: 0.5458 - val_acc: 0.8085\n",
      "Epoch 83/100\n",
      " - 4s - loss: 0.3869 - acc: 0.9880 - val_loss: 0.5456 - val_acc: 0.8078\n",
      "Epoch 84/100\n",
      " - 4s - loss: 0.3866 - acc: 0.9882 - val_loss: 0.5455 - val_acc: 0.8082\n",
      "Epoch 85/100\n",
      " - 4s - loss: 0.3863 - acc: 0.9879 - val_loss: 0.5452 - val_acc: 0.8089\n",
      "Epoch 86/100\n",
      " - 4s - loss: 0.3856 - acc: 0.9886 - val_loss: 0.5453 - val_acc: 0.8078\n",
      "Epoch 87/100\n",
      " - 4s - loss: 0.3861 - acc: 0.9881 - val_loss: 0.5638 - val_acc: 0.7878\n",
      "Epoch 88/100\n",
      " - 4s - loss: 0.3854 - acc: 0.9887 - val_loss: 0.5444 - val_acc: 0.8102\n",
      "Epoch 89/100\n",
      " - 4s - loss: 0.3851 - acc: 0.9889 - val_loss: 0.5437 - val_acc: 0.8101\n",
      "Epoch 90/100\n",
      " - 4s - loss: 0.3849 - acc: 0.9887 - val_loss: 0.5451 - val_acc: 0.8074\n",
      "Epoch 91/100\n",
      " - 4s - loss: 0.3848 - acc: 0.9885 - val_loss: 0.5435 - val_acc: 0.8089\n",
      "Epoch 92/100\n",
      " - 4s - loss: 0.3844 - acc: 0.9887 - val_loss: 0.5436 - val_acc: 0.8094\n",
      "Epoch 93/100\n",
      " - 4s - loss: 0.3842 - acc: 0.9887 - val_loss: 0.5434 - val_acc: 0.8082\n",
      "Epoch 94/100\n",
      " - 4s - loss: 0.3839 - acc: 0.9892 - val_loss: 0.5439 - val_acc: 0.8077\n",
      "Epoch 95/100\n",
      " - 4s - loss: 0.3837 - acc: 0.9890 - val_loss: 0.5433 - val_acc: 0.8091\n",
      "Epoch 96/100\n",
      " - 4s - loss: 0.3834 - acc: 0.9893 - val_loss: 0.5470 - val_acc: 0.8026\n"
     ]
    },
    {
     "name": "stdout",
     "output_type": "stream",
     "text": [
      "Epoch 97/100\n",
      " - 4s - loss: 0.3831 - acc: 0.9893 - val_loss: 0.5422 - val_acc: 0.8105\n",
      "Epoch 98/100\n",
      " - 4s - loss: 0.3829 - acc: 0.9891 - val_loss: 0.5415 - val_acc: 0.8098\n",
      "Epoch 99/100\n",
      " - 4s - loss: 0.3827 - acc: 0.9895 - val_loss: 0.5415 - val_acc: 0.8091\n",
      "Epoch 100/100\n",
      " - 4s - loss: 0.3823 - acc: 0.9896 - val_loss: 0.5416 - val_acc: 0.8094\n"
     ]
    }
   ],
   "source": [
    "#entonces puedo proceder a armar la red neuronal parecido al ejercicio anterior\n",
    "#porque el formato de los datos es el mismo\n",
    "x = keras.layers.Input(shape=(x_total.shape[1],)) #capa de input\n",
    "e = keras.layers.Embedding(n_palabras,n_embedding,input_length=max_length)(x)\n",
    "f = keras.layers.Flatten()(e)\n",
    "l1 = keras.layers.Dense(units=n_capa1, activation='relu',kernel_regularizer=keras.regularizers.l2(rg))(f)\n",
    "l2 = keras.layers.Dense(units=n_capa2, activation='relu',kernel_regularizer=keras.regularizers.l2(rg))(l1)\n",
    "l3 = keras.layers.Dense(units=n_capa3, activation='sigmoid',kernel_regularizer=keras.regularizers.l2(rg))(l2)\n",
    "model = keras.Model(inputs=x, outputs=l3)\n",
    "optimizer = keras.optimizers.SGD(learning_rate=lr)\n",
    "model.compile(optimizer, loss=keras.losses.CategoricalCrossentropy(from_logits=True), metrics=['acc'])\n",
    "#plot_model(model,to_file='ej4_1.pdf',show_shapes = True,rankdir='LR')\n",
    "history = model.fit(x_train, y_train, epochs=epocas, validation_data=(x_test, y_test),batch_size=100, verbose=2)"
   ]
  },
  {
   "cell_type": "code",
   "execution_count": 14,
   "metadata": {},
   "outputs": [
    {
     "data": {
      "image/png": "[encoded data removed]",
      "text/plain": [
       "<Figure size 432x288 with 1 Axes>"
      ]
     },
     "metadata": {
      "needs_background": "light"
     },
     "output_type": "display_data"
    }
   ],
   "source": [
    "plt.plot(history.history['val_loss'],label='test data')\n",
    "plt.plot(history.history['loss'],label='train data')\n",
    "plt.legend()\n",
    "plt.xlabel('Épocas')\n",
    "plt.ylabel('Loss')\n",
    "plt.savefig('ej4_1_lossepo_cce.pdf')"
   ]
  },
  {
   "cell_type": "code",
   "execution_count": 13,
   "metadata": {},
   "outputs": [
    {
     "data": {
      "image/png": "[encoded data removed]",
      "text/plain": [
       "<Figure size 432x288 with 1 Axes>"
      ]
     },
     "metadata": {
      "needs_background": "light"
     },
     "output_type": "display_data"
    }
   ],
   "source": [
    "plt.plot(history.history['val_acc'],label='test data')\n",
    "plt.plot(history.history['acc'],label='train data')\n",
    "plt.legend()\n",
    "plt.xlabel('Épocas')\n",
    "plt.ylabel('Accuracy')\n",
    "plt.savefig('ej4_1_lossacc_cce.pdf')"
   ]
  },
  {
   "cell_type": "markdown",
   "metadata": {},
   "source": [
    "# ejercicio 4 con capas convolucionales"
   ]
  },
  {
   "cell_type": "code",
   "execution_count": null,
   "metadata": {},
   "outputs": [],
   "source": [
    "#cargo los datos como dice en el enunciado\n",
    "(x_train, y_train), (x_test, y_test) = imdb.load_data(num_words = 10000) #solo las 10k palabras mas frecuentes en reviews \n",
    "                                                                         #asi que hay 10k palabras posibles por review"
   ]
  },
  {
   "cell_type": "code",
   "execution_count": null,
   "metadata": {},
   "outputs": [],
   "source": [
    "#junto todos los datos para reformatear y separar bien despues como en los otros ejercicios\n",
    "x_total = np.hstack((x_train,x_test)) #lista de palabras de reviews de las peliculas codificadas segun diccionario\n",
    "y_total = np.hstack((y_train,y_test)) #calificacion positiva (1) o calificacion negativa (0)\n",
    "y_total = to_categorical(y_total)\n",
    "n_palabras = 10000 #cantidad de palabras posibles"
   ]
  },
  {
   "cell_type": "code",
   "execution_count": null,
   "metadata": {},
   "outputs": [],
   "source": [
    "#padding y separar los datos\n",
    "max_length = 500\n",
    "n_embedding = 64\n",
    "x_total= keras.preprocessing.sequence.pad_sequences(x_total,maxlen=max_length,padding='post') #padding the data like requested\n",
    "x_train,y_train,x_test,y_test = separateData(x_total,y_total)"
   ]
  },
  {
   "cell_type": "code",
   "execution_count": null,
   "metadata": {},
   "outputs": [],
   "source": [
    "#algunas constantes importantes para la red\n",
    "epocas = 150\n",
    "cnn1_f = 64\n",
    "cnn1_ks = 3\n",
    "lr = 5e-2"
   ]
  },
  {
   "cell_type": "code",
   "execution_count": null,
   "metadata": {},
   "outputs": [],
   "source": [
    "#embeddings\n",
    "model = keras.Sequential()\n",
    "model.add(keras.layers.Embedding(n_palabras,n_embedding,input_length=max_length))\n",
    "model.add(keras.layers.Conv1D(cnn1_f, cnn1_ks,padding='valid', activation='relu'))\n",
    "model.add(keras.layers.GlobalMaxPooling1D())\n",
    "model.add(keras.layers.Dense(2, activation='sigmoid'))\n",
    "optimizer = keras.optimizers.SGD(learning_rate=lr)\n",
    "model.compile(optimizer, loss=keras.losses.MSE, metrics=['acc'])\n",
    "history = model.fit(x_train, y_train, epochs=epocas, validation_data=(x_test, y_test),batch_size=100, verbose=2)"
   ]
  },
  {
   "cell_type": "code",
   "execution_count": null,
   "metadata": {},
   "outputs": [],
   "source": [
    "plt.plot(history.history['val_loss'],label='test data')\n",
    "plt.plot(history.history['loss'],label='train data')\n",
    "plt.legend()\n",
    "plt.xlabel('Épocas')\n",
    "plt.ylabel('Loss')\n",
    "plt.savefig('ej4_2_lossepoch.pdf')"
   ]
  },
  {
   "cell_type": "code",
   "execution_count": null,
   "metadata": {},
   "outputs": [],
   "source": [
    "plt.plot(history.history['val_acc'],label='test data')\n",
    "plt.plot(history.history['acc'],label='train data')\n",
    "plt.legend()\n",
    "plt.xlabel('Épocas')\n",
    "plt.ylabel('Accuracy')\n",
    "plt.savefig('ej4_2_accloss.pdf')"
   ]
  }
 ],
 "metadata": {
  "kernelspec": {
   "display_name": "Python 3",
   "language": "python",
   "name": "python3"
  },
  "language_info": {
   "codemirror_mode": {
    "name": "ipython",
    "version": 3
   },
   "file_extension": ".py",
   "mimetype": "text/x-python",
   "name": "python",
   "nbconvert_exporter": "python",
   "pygments_lexer": "ipython3",
   "version": "3.7.7"
  }
 },
 "nbformat": 4,
 "nbformat_minor": 4
}
