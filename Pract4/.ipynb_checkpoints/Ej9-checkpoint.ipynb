{
 "cells": [
  {
   "cell_type": "code",
   "execution_count": 1,
   "metadata": {
    "id": "RYLdPzeSJFT5"
   },
   "outputs": [
    {
     "name": "stderr",
     "output_type": "stream",
     "text": [
      "Using TensorFlow backend.\n"
     ]
    }
   ],
   "source": [
    "import keras \n",
    "import tensorflow as tf\n",
    "from keras.datasets import mnist #cargo los datos del mnist\n",
    "import numpy as np\n",
    "from keras.callbacks import History \n",
    "import matplotlib.pyplot as plt\n",
    "from numpy import genfromtxt\n",
    "from keras.utils import to_categorical\n",
    "from keras.datasets import mnist"
   ]
  },
  {
   "cell_type": "code",
   "execution_count": 2,
   "metadata": {
    "id": "5b2R_CDnJQc1"
   },
   "outputs": [],
   "source": [
    "#ok funciona bien\n",
    "#funcion que hace reshape de las imagenes\n",
    "#sin agregar el bias\n",
    "def reshapeImages(x,y):\n",
    "    im_shape = x.shape[1:]\n",
    "    x = np.reshape(x,(x.shape[0],np.prod(im_shape)))\n",
    "    return x,y"
   ]
  },
  {
   "cell_type": "code",
   "execution_count": 19,
   "metadata": {
    "id": "ybIScDVEJQlT"
   },
   "outputs": [],
   "source": [
    "#definicion de constantes\n",
    "n_clases = 10 #cantidad de clases\n",
    "n_capa1 = 100 #cantidad de neuronas capa 1\n",
    "n_capa2 = n_clases #cantidad de neuronas capa 2 (= cantidad de clases)\n",
    "#importamos los datos de training y testing\n",
    "(x_train,y_train),(x_test,y_test) = mnist.load_data() \n",
    "#preprocesado de los datos\n",
    "mean = np.mean(x_train,axis=0)\n",
    "#sigma = np.std(x_train,axis=0) algunos elementos son = 0, cambio por 255\n",
    "sigma = 255.0\n",
    "x_train = (x_train - mean)/sigma\n",
    "x_test = (x_test - mean)/sigma\n",
    "#reshaping y flatten\n",
    "x_train,y_train = reshapeImages(x_train,y_train)\n",
    "x_test,y_test = reshapeImages(x_test,y_test)\n",
    "yy_train = to_categorical(y_train)\n",
    "yy_test = to_categorical(y_test)\n",
    "n_dim = x_train.shape[1] #dimension de entrada\n",
    "epocas = 100 #cantidad de epocas\n",
    "#permutamos con el codigo de la guia\n",
    "permutation = np.random.permutation(28*28)\n",
    "x_train_perm = x_train.reshape(x_train.shape[0], -1)\n",
    "x_train_perm = x_train_perm[:,permutation]\n",
    "x_train_perm = x_train_perm.reshape(x_train.shape)\n",
    "x_test_perm = x_test.reshape(x_test.shape[0], -1)\n",
    "x_test_perm = x_test_perm[:,permutation]\n",
    "x_test_perm = x_test_perm.reshape(x_test.shape)"
   ]
  },
  {
   "cell_type": "code",
   "execution_count": 10,
   "metadata": {
    "id": "d_Qgxg7jPgg1"
   },
   "outputs": [],
   "source": [
    "#red neuronal solo con capas densas"
   ]
  },
  {
   "cell_type": "code",
   "execution_count": 24,
   "metadata": {
    "colab": {
     "base_uri": "https://localhost:8080/",
     "height": 1000
    },
    "id": "l4or7NCzJQtD",
    "outputId": "18ac2398-82bd-4c8e-cd84-80834604f122"
   },
   "outputs": [
    {
     "name": "stdout",
     "output_type": "stream",
     "text": [
      "Train on 60000 samples, validate on 10000 samples\n",
      "Epoch 1/100\n",
      " - 1s - loss: 0.1247 - acc: 0.3031 - val_loss: 0.0963 - val_acc: 0.4621\n",
      "Epoch 2/100\n",
      " - 1s - loss: 0.0867 - acc: 0.5362 - val_loss: 0.0780 - val_acc: 0.6034\n",
      "Epoch 3/100\n"
     ]
    },
    {
     "ename": "KeyboardInterrupt",
     "evalue": "",
     "output_type": "error",
     "traceback": [
      "\u001b[1;31m---------------------------------------------------------------------------\u001b[0m",
      "\u001b[1;31mKeyboardInterrupt\u001b[0m                         Traceback (most recent call last)",
      "\u001b[1;32m<ipython-input-24-9ffc3764ae86>\u001b[0m in \u001b[0;36m<module>\u001b[1;34m\u001b[0m\n\u001b[0;32m      7\u001b[0m \u001b[0moptimizer\u001b[0m \u001b[1;33m=\u001b[0m \u001b[0mkeras\u001b[0m\u001b[1;33m.\u001b[0m\u001b[0moptimizers\u001b[0m\u001b[1;33m.\u001b[0m\u001b[0mSGD\u001b[0m\u001b[1;33m(\u001b[0m\u001b[0mlearning_rate\u001b[0m\u001b[1;33m=\u001b[0m\u001b[1;36m5e-3\u001b[0m\u001b[1;33m)\u001b[0m\u001b[1;33m\u001b[0m\u001b[1;33m\u001b[0m\u001b[0m\n\u001b[0;32m      8\u001b[0m \u001b[0mmodel\u001b[0m\u001b[1;33m.\u001b[0m\u001b[0mcompile\u001b[0m\u001b[1;33m(\u001b[0m\u001b[0moptimizer\u001b[0m\u001b[1;33m,\u001b[0m \u001b[0mloss\u001b[0m\u001b[1;33m=\u001b[0m\u001b[0mkeras\u001b[0m\u001b[1;33m.\u001b[0m\u001b[0mlosses\u001b[0m\u001b[1;33m.\u001b[0m\u001b[0mMSE\u001b[0m\u001b[1;33m,\u001b[0m \u001b[0mmetrics\u001b[0m\u001b[1;33m=\u001b[0m\u001b[1;33m[\u001b[0m\u001b[1;34m'acc'\u001b[0m\u001b[1;33m]\u001b[0m\u001b[1;33m)\u001b[0m\u001b[1;33m\u001b[0m\u001b[1;33m\u001b[0m\u001b[0m\n\u001b[1;32m----> 9\u001b[1;33m \u001b[0mhistory\u001b[0m \u001b[1;33m=\u001b[0m \u001b[0mmodel\u001b[0m\u001b[1;33m.\u001b[0m\u001b[0mfit\u001b[0m\u001b[1;33m(\u001b[0m\u001b[0mx_train\u001b[0m\u001b[1;33m,\u001b[0m \u001b[0myy_train\u001b[0m\u001b[1;33m,\u001b[0m \u001b[0mepochs\u001b[0m\u001b[1;33m=\u001b[0m\u001b[0mepocas\u001b[0m\u001b[1;33m,\u001b[0m \u001b[0mvalidation_data\u001b[0m\u001b[1;33m=\u001b[0m\u001b[1;33m(\u001b[0m\u001b[0mx_test\u001b[0m\u001b[1;33m,\u001b[0m \u001b[0myy_test\u001b[0m\u001b[1;33m)\u001b[0m\u001b[1;33m,\u001b[0m\u001b[0mbatch_size\u001b[0m\u001b[1;33m=\u001b[0m\u001b[1;36m100\u001b[0m\u001b[1;33m,\u001b[0m \u001b[0mverbose\u001b[0m\u001b[1;33m=\u001b[0m\u001b[1;36m2\u001b[0m\u001b[1;33m)\u001b[0m\u001b[1;33m\u001b[0m\u001b[1;33m\u001b[0m\u001b[0m\n\u001b[0m",
      "\u001b[1;32m~\\Anaconda3\\envs\\tf-gpu\\lib\\site-packages\\keras\\engine\\training.py\u001b[0m in \u001b[0;36mfit\u001b[1;34m(self, x, y, batch_size, epochs, verbose, callbacks, validation_split, validation_data, shuffle, class_weight, sample_weight, initial_epoch, steps_per_epoch, validation_steps, validation_freq, max_queue_size, workers, use_multiprocessing, **kwargs)\u001b[0m\n\u001b[0;32m   1237\u001b[0m                                         \u001b[0msteps_per_epoch\u001b[0m\u001b[1;33m=\u001b[0m\u001b[0msteps_per_epoch\u001b[0m\u001b[1;33m,\u001b[0m\u001b[1;33m\u001b[0m\u001b[1;33m\u001b[0m\u001b[0m\n\u001b[0;32m   1238\u001b[0m                                         \u001b[0mvalidation_steps\u001b[0m\u001b[1;33m=\u001b[0m\u001b[0mvalidation_steps\u001b[0m\u001b[1;33m,\u001b[0m\u001b[1;33m\u001b[0m\u001b[1;33m\u001b[0m\u001b[0m\n\u001b[1;32m-> 1239\u001b[1;33m                                         validation_freq=validation_freq)\n\u001b[0m\u001b[0;32m   1240\u001b[0m \u001b[1;33m\u001b[0m\u001b[0m\n\u001b[0;32m   1241\u001b[0m     def evaluate(self,\n",
      "\u001b[1;32m~\\Anaconda3\\envs\\tf-gpu\\lib\\site-packages\\keras\\engine\\training_arrays.py\u001b[0m in \u001b[0;36mfit_loop\u001b[1;34m(model, fit_function, fit_inputs, out_labels, batch_size, epochs, verbose, callbacks, val_function, val_inputs, shuffle, initial_epoch, steps_per_epoch, validation_steps, validation_freq)\u001b[0m\n\u001b[0;32m    194\u001b[0m                     \u001b[0mins_batch\u001b[0m\u001b[1;33m[\u001b[0m\u001b[0mi\u001b[0m\u001b[1;33m]\u001b[0m \u001b[1;33m=\u001b[0m \u001b[0mins_batch\u001b[0m\u001b[1;33m[\u001b[0m\u001b[0mi\u001b[0m\u001b[1;33m]\u001b[0m\u001b[1;33m.\u001b[0m\u001b[0mtoarray\u001b[0m\u001b[1;33m(\u001b[0m\u001b[1;33m)\u001b[0m\u001b[1;33m\u001b[0m\u001b[1;33m\u001b[0m\u001b[0m\n\u001b[0;32m    195\u001b[0m \u001b[1;33m\u001b[0m\u001b[0m\n\u001b[1;32m--> 196\u001b[1;33m                 \u001b[0mouts\u001b[0m \u001b[1;33m=\u001b[0m \u001b[0mfit_function\u001b[0m\u001b[1;33m(\u001b[0m\u001b[0mins_batch\u001b[0m\u001b[1;33m)\u001b[0m\u001b[1;33m\u001b[0m\u001b[1;33m\u001b[0m\u001b[0m\n\u001b[0m\u001b[0;32m    197\u001b[0m                 \u001b[0mouts\u001b[0m \u001b[1;33m=\u001b[0m \u001b[0mto_list\u001b[0m\u001b[1;33m(\u001b[0m\u001b[0mouts\u001b[0m\u001b[1;33m)\u001b[0m\u001b[1;33m\u001b[0m\u001b[1;33m\u001b[0m\u001b[0m\n\u001b[0;32m    198\u001b[0m                 \u001b[1;32mfor\u001b[0m \u001b[0ml\u001b[0m\u001b[1;33m,\u001b[0m \u001b[0mo\u001b[0m \u001b[1;32min\u001b[0m \u001b[0mzip\u001b[0m\u001b[1;33m(\u001b[0m\u001b[0mout_labels\u001b[0m\u001b[1;33m,\u001b[0m \u001b[0mouts\u001b[0m\u001b[1;33m)\u001b[0m\u001b[1;33m:\u001b[0m\u001b[1;33m\u001b[0m\u001b[1;33m\u001b[0m\u001b[0m\n",
      "\u001b[1;32m~\\Anaconda3\\envs\\tf-gpu\\lib\\site-packages\\tensorflow_core\\python\\keras\\backend.py\u001b[0m in \u001b[0;36m__call__\u001b[1;34m(self, inputs)\u001b[0m\n\u001b[0;32m   3725\u001b[0m         \u001b[0mvalue\u001b[0m \u001b[1;33m=\u001b[0m \u001b[0mmath_ops\u001b[0m\u001b[1;33m.\u001b[0m\u001b[0mcast\u001b[0m\u001b[1;33m(\u001b[0m\u001b[0mvalue\u001b[0m\u001b[1;33m,\u001b[0m \u001b[0mtensor\u001b[0m\u001b[1;33m.\u001b[0m\u001b[0mdtype\u001b[0m\u001b[1;33m)\u001b[0m\u001b[1;33m\u001b[0m\u001b[1;33m\u001b[0m\u001b[0m\n\u001b[0;32m   3726\u001b[0m       \u001b[0mconverted_inputs\u001b[0m\u001b[1;33m.\u001b[0m\u001b[0mappend\u001b[0m\u001b[1;33m(\u001b[0m\u001b[0mvalue\u001b[0m\u001b[1;33m)\u001b[0m\u001b[1;33m\u001b[0m\u001b[1;33m\u001b[0m\u001b[0m\n\u001b[1;32m-> 3727\u001b[1;33m     \u001b[0moutputs\u001b[0m \u001b[1;33m=\u001b[0m \u001b[0mself\u001b[0m\u001b[1;33m.\u001b[0m\u001b[0m_graph_fn\u001b[0m\u001b[1;33m(\u001b[0m\u001b[1;33m*\u001b[0m\u001b[0mconverted_inputs\u001b[0m\u001b[1;33m)\u001b[0m\u001b[1;33m\u001b[0m\u001b[1;33m\u001b[0m\u001b[0m\n\u001b[0m\u001b[0;32m   3728\u001b[0m \u001b[1;33m\u001b[0m\u001b[0m\n\u001b[0;32m   3729\u001b[0m     \u001b[1;31m# EagerTensor.numpy() will often make a copy to ensure memory safety.\u001b[0m\u001b[1;33m\u001b[0m\u001b[1;33m\u001b[0m\u001b[1;33m\u001b[0m\u001b[0m\n",
      "\u001b[1;32m~\\Anaconda3\\envs\\tf-gpu\\lib\\site-packages\\tensorflow_core\\python\\eager\\function.py\u001b[0m in \u001b[0;36m__call__\u001b[1;34m(self, *args, **kwargs)\u001b[0m\n\u001b[0;32m   1549\u001b[0m       \u001b[0mTypeError\u001b[0m\u001b[1;33m:\u001b[0m \u001b[0mFor\u001b[0m \u001b[0minvalid\u001b[0m \u001b[0mpositional\u001b[0m\u001b[1;33m/\u001b[0m\u001b[0mkeyword\u001b[0m \u001b[0margument\u001b[0m \u001b[0mcombinations\u001b[0m\u001b[1;33m.\u001b[0m\u001b[1;33m\u001b[0m\u001b[1;33m\u001b[0m\u001b[0m\n\u001b[0;32m   1550\u001b[0m     \"\"\"\n\u001b[1;32m-> 1551\u001b[1;33m     \u001b[1;32mreturn\u001b[0m \u001b[0mself\u001b[0m\u001b[1;33m.\u001b[0m\u001b[0m_call_impl\u001b[0m\u001b[1;33m(\u001b[0m\u001b[0margs\u001b[0m\u001b[1;33m,\u001b[0m \u001b[0mkwargs\u001b[0m\u001b[1;33m)\u001b[0m\u001b[1;33m\u001b[0m\u001b[1;33m\u001b[0m\u001b[0m\n\u001b[0m\u001b[0;32m   1552\u001b[0m \u001b[1;33m\u001b[0m\u001b[0m\n\u001b[0;32m   1553\u001b[0m   \u001b[1;32mdef\u001b[0m \u001b[0m_call_impl\u001b[0m\u001b[1;33m(\u001b[0m\u001b[0mself\u001b[0m\u001b[1;33m,\u001b[0m \u001b[0margs\u001b[0m\u001b[1;33m,\u001b[0m \u001b[0mkwargs\u001b[0m\u001b[1;33m,\u001b[0m \u001b[0mcancellation_manager\u001b[0m\u001b[1;33m=\u001b[0m\u001b[1;32mNone\u001b[0m\u001b[1;33m)\u001b[0m\u001b[1;33m:\u001b[0m\u001b[1;33m\u001b[0m\u001b[1;33m\u001b[0m\u001b[0m\n",
      "\u001b[1;32m~\\Anaconda3\\envs\\tf-gpu\\lib\\site-packages\\tensorflow_core\\python\\eager\\function.py\u001b[0m in \u001b[0;36m_call_impl\u001b[1;34m(self, args, kwargs, cancellation_manager)\u001b[0m\n\u001b[0;32m   1589\u001b[0m       raise TypeError(\"Keyword arguments {} unknown. Expected {}.\".format(\n\u001b[0;32m   1590\u001b[0m           list(kwargs.keys()), list(self._arg_keywords)))\n\u001b[1;32m-> 1591\u001b[1;33m     \u001b[1;32mreturn\u001b[0m \u001b[0mself\u001b[0m\u001b[1;33m.\u001b[0m\u001b[0m_call_flat\u001b[0m\u001b[1;33m(\u001b[0m\u001b[0margs\u001b[0m\u001b[1;33m,\u001b[0m \u001b[0mself\u001b[0m\u001b[1;33m.\u001b[0m\u001b[0mcaptured_inputs\u001b[0m\u001b[1;33m,\u001b[0m \u001b[0mcancellation_manager\u001b[0m\u001b[1;33m)\u001b[0m\u001b[1;33m\u001b[0m\u001b[1;33m\u001b[0m\u001b[0m\n\u001b[0m\u001b[0;32m   1592\u001b[0m \u001b[1;33m\u001b[0m\u001b[0m\n\u001b[0;32m   1593\u001b[0m   \u001b[1;32mdef\u001b[0m \u001b[0m_filtered_call\u001b[0m\u001b[1;33m(\u001b[0m\u001b[0mself\u001b[0m\u001b[1;33m,\u001b[0m \u001b[0margs\u001b[0m\u001b[1;33m,\u001b[0m \u001b[0mkwargs\u001b[0m\u001b[1;33m)\u001b[0m\u001b[1;33m:\u001b[0m\u001b[1;33m\u001b[0m\u001b[1;33m\u001b[0m\u001b[0m\n",
      "\u001b[1;32m~\\Anaconda3\\envs\\tf-gpu\\lib\\site-packages\\tensorflow_core\\python\\eager\\function.py\u001b[0m in \u001b[0;36m_call_flat\u001b[1;34m(self, args, captured_inputs, cancellation_manager)\u001b[0m\n\u001b[0;32m   1690\u001b[0m       \u001b[1;31m# No tape is watching; skip to running the function.\u001b[0m\u001b[1;33m\u001b[0m\u001b[1;33m\u001b[0m\u001b[1;33m\u001b[0m\u001b[0m\n\u001b[0;32m   1691\u001b[0m       return self._build_call_outputs(self._inference_function.call(\n\u001b[1;32m-> 1692\u001b[1;33m           ctx, args, cancellation_manager=cancellation_manager))\n\u001b[0m\u001b[0;32m   1693\u001b[0m     forward_backward = self._select_forward_and_backward_functions(\n\u001b[0;32m   1694\u001b[0m         \u001b[0margs\u001b[0m\u001b[1;33m,\u001b[0m\u001b[1;33m\u001b[0m\u001b[1;33m\u001b[0m\u001b[0m\n",
      "\u001b[1;32m~\\Anaconda3\\envs\\tf-gpu\\lib\\site-packages\\tensorflow_core\\python\\eager\\function.py\u001b[0m in \u001b[0;36mcall\u001b[1;34m(self, ctx, args, cancellation_manager)\u001b[0m\n\u001b[0;32m    543\u001b[0m               \u001b[0minputs\u001b[0m\u001b[1;33m=\u001b[0m\u001b[0margs\u001b[0m\u001b[1;33m,\u001b[0m\u001b[1;33m\u001b[0m\u001b[1;33m\u001b[0m\u001b[0m\n\u001b[0;32m    544\u001b[0m               \u001b[0mattrs\u001b[0m\u001b[1;33m=\u001b[0m\u001b[1;33m(\u001b[0m\u001b[1;34m\"executor_type\"\u001b[0m\u001b[1;33m,\u001b[0m \u001b[0mexecutor_type\u001b[0m\u001b[1;33m,\u001b[0m \u001b[1;34m\"config_proto\"\u001b[0m\u001b[1;33m,\u001b[0m \u001b[0mconfig\u001b[0m\u001b[1;33m)\u001b[0m\u001b[1;33m,\u001b[0m\u001b[1;33m\u001b[0m\u001b[1;33m\u001b[0m\u001b[0m\n\u001b[1;32m--> 545\u001b[1;33m               ctx=ctx)\n\u001b[0m\u001b[0;32m    546\u001b[0m         \u001b[1;32melse\u001b[0m\u001b[1;33m:\u001b[0m\u001b[1;33m\u001b[0m\u001b[1;33m\u001b[0m\u001b[0m\n\u001b[0;32m    547\u001b[0m           outputs = execute.execute_with_cancellation(\n",
      "\u001b[1;32m~\\Anaconda3\\envs\\tf-gpu\\lib\\site-packages\\tensorflow_core\\python\\eager\\execute.py\u001b[0m in \u001b[0;36mquick_execute\u001b[1;34m(op_name, num_outputs, inputs, attrs, ctx, name)\u001b[0m\n\u001b[0;32m     59\u001b[0m     tensors = pywrap_tensorflow.TFE_Py_Execute(ctx._handle, device_name,\n\u001b[0;32m     60\u001b[0m                                                \u001b[0mop_name\u001b[0m\u001b[1;33m,\u001b[0m \u001b[0minputs\u001b[0m\u001b[1;33m,\u001b[0m \u001b[0mattrs\u001b[0m\u001b[1;33m,\u001b[0m\u001b[1;33m\u001b[0m\u001b[1;33m\u001b[0m\u001b[0m\n\u001b[1;32m---> 61\u001b[1;33m                                                num_outputs)\n\u001b[0m\u001b[0;32m     62\u001b[0m   \u001b[1;32mexcept\u001b[0m \u001b[0mcore\u001b[0m\u001b[1;33m.\u001b[0m\u001b[0m_NotOkStatusException\u001b[0m \u001b[1;32mas\u001b[0m \u001b[0me\u001b[0m\u001b[1;33m:\u001b[0m\u001b[1;33m\u001b[0m\u001b[1;33m\u001b[0m\u001b[0m\n\u001b[0;32m     63\u001b[0m     \u001b[1;32mif\u001b[0m \u001b[0mname\u001b[0m \u001b[1;32mis\u001b[0m \u001b[1;32mnot\u001b[0m \u001b[1;32mNone\u001b[0m\u001b[1;33m:\u001b[0m\u001b[1;33m\u001b[0m\u001b[1;33m\u001b[0m\u001b[0m\n",
      "\u001b[1;31mKeyboardInterrupt\u001b[0m: "
     ]
    }
   ],
   "source": [
    "x = keras.layers.Input(shape=(n_dim,))\n",
    "l1 = keras.layers.Dense(units=n_capa1, activation='relu', use_bias=True, \n",
    "                           kernel_regularizer=keras.regularizers.l2(1e-5))(x)\n",
    "l2 = keras.layers.Dense(units=n_capa2, activation='linear',use_bias=True,\n",
    "                           kernel_regularizer=keras.regularizers.l2(1e-5))(l1)\n",
    "model = keras.Model(inputs=x, outputs=l2)\n",
    "optimizer = keras.optimizers.SGD(learning_rate=5e-3)\n",
    "model.compile(optimizer, loss=keras.losses.MSE, metrics=['acc'])\n",
    "history = model.fit(x_train, yy_train, epochs=epocas, validation_data=(x_test, yy_test),batch_size=100, verbose=2)"
   ]
  },
  {
   "cell_type": "code",
   "execution_count": null,
   "metadata": {
    "colab": {
     "base_uri": "https://localhost:8080/",
     "height": 281
    },
    "id": "svaTUpgfKrR2",
    "outputId": "bdbf67a3-5172-4ba1-ed77-c992999047bd"
   },
   "outputs": [],
   "source": [
    "plt.plot(history.history['val_loss'],label='test data',linewidth=2)\n",
    "plt.plot(history.history['loss'],label='train data',linewidth=2)\n",
    "plt.legend()\n",
    "plt.xlabel('Épocas')\n",
    "plt.ylabel('Loss')\n",
    "#plt.savefig('ej9_1_loss.pdf')"
   ]
  },
  {
   "cell_type": "code",
   "execution_count": null,
   "metadata": {
    "colab": {
     "base_uri": "https://localhost:8080/",
     "height": 281
    },
    "id": "fG_1RecdKri0",
    "outputId": "9155ade1-ff45-4104-adf8-02958a192790"
   },
   "outputs": [],
   "source": [
    "plt.plot(history.history['val_acc'],label='test data',linewidth=2)\n",
    "plt.plot(history.history['acc'],label='train data',linewidth=2)\n",
    "plt.legend()\n",
    "plt.text(60,0.45,'test accuracy final: '+str(round(history.history['val_acc'][-1],2)))\n",
    "plt.xlabel('Épocas')\n",
    "plt.ylabel('Accuracy')\n",
    "#plt.savefig('ej9_1_acc.pdf')"
   ]
  },
  {
   "cell_type": "code",
   "execution_count": null,
   "metadata": {
    "id": "ffSRu8pAKrxs"
   },
   "outputs": [],
   "source": [
    "#red neuronal con capas convolucionales"
   ]
  },
  {
   "cell_type": "code",
   "execution_count": 25,
   "metadata": {
    "colab": {
     "base_uri": "https://localhost:8080/",
     "height": 50
    },
    "id": "VSWJOjfqPx_L",
    "outputId": "004b0f8b-8b8a-4df2-e8a4-176340de165d"
   },
   "outputs": [],
   "source": [
    "(x_train,y_train),(x_test,y_test) = mnist.load_data() \n",
    "train_shape = x_train.shape\n",
    "test_shape = x_test.shape\n",
    "#preprocesado de los datos\n",
    "mean = np.mean(x_train,axis=0)\n",
    "sigma = 255.0\n",
    "x_train = (x_train - mean)/sigma\n",
    "x_test = (x_test - mean)/sigma\n",
    "#reshaping y flatten\n",
    "x_train,y_train = reshapeImages(x_train,y_train)\n",
    "x_test,y_test = reshapeImages(x_test,y_test)\n",
    "yy_train = to_categorical(y_train)\n",
    "yy_test = to_categorical(y_test)\n",
    "n_dim = x_train.shape[1] #dimension de entrada\n",
    "epocas = 100 #cantidad de epocas\n",
    "n_categorias = 10\n",
    "#permutamos con el codigo de la guia\n",
    "permutation = np.random.permutation(28*28)\n",
    "x_train_perm = x_train.reshape(x_train.shape[0], -1)\n",
    "x_train_perm = x_train_perm[:,permutation]\n",
    "x_train_perm = x_train_perm.reshape(x_train.shape)\n",
    "x_test_perm = x_test.reshape(x_test.shape[0], -1)\n",
    "x_test_perm = x_test_perm[:,permutation]\n",
    "x_test_perm = x_test_perm.reshape(x_test.shape)"
   ]
  },
  {
   "cell_type": "code",
   "execution_count": 28,
   "metadata": {
    "colab": {
     "base_uri": "https://localhost:8080/",
     "height": 1000
    },
    "id": "ex-X6IoS7Hcv",
    "outputId": "3aa81201-693d-465d-d0f6-9c50069bfe41"
   },
   "outputs": [
    {
     "name": "stdout",
     "output_type": "stream",
     "text": [
      "Train on 60000 samples, validate on 10000 samples\n",
      "Epoch 1/100\n",
      " - 4s - loss: 1.6777 - acc: 0.8304 - val_loss: 1.5634 - val_acc: 0.9119\n",
      "Epoch 2/100\n",
      " - 4s - loss: 1.5629 - acc: 0.9099 - val_loss: 1.5422 - val_acc: 0.9272\n",
      "Epoch 3/100\n",
      " - 4s - loss: 1.5455 - acc: 0.9236 - val_loss: 1.5303 - val_acc: 0.9370\n",
      "Epoch 4/100\n",
      " - 4s - loss: 1.5353 - acc: 0.9320 - val_loss: 1.5241 - val_acc: 0.9426\n",
      "Epoch 5/100\n",
      " - 4s - loss: 1.5290 - acc: 0.9381 - val_loss: 1.5208 - val_acc: 0.9449\n",
      "Epoch 6/100\n",
      " - 4s - loss: 1.5234 - acc: 0.9430 - val_loss: 1.5161 - val_acc: 0.9500\n",
      "Epoch 7/100\n",
      " - 4s - loss: 1.5206 - acc: 0.9451 - val_loss: 1.5141 - val_acc: 0.9514\n",
      "Epoch 8/100\n",
      " - 4s - loss: 1.5168 - acc: 0.9487 - val_loss: 1.5113 - val_acc: 0.9529\n",
      "Epoch 9/100\n",
      " - 4s - loss: 1.5149 - acc: 0.9505 - val_loss: 1.5150 - val_acc: 0.9490\n",
      "Epoch 10/100\n",
      " - 4s - loss: 1.5118 - acc: 0.9539 - val_loss: 1.5090 - val_acc: 0.9554\n",
      "Epoch 11/100\n",
      " - 4s - loss: 1.5107 - acc: 0.9539 - val_loss: 1.5075 - val_acc: 0.9557\n",
      "Epoch 12/100\n",
      " - 4s - loss: 1.5085 - acc: 0.9561 - val_loss: 1.5061 - val_acc: 0.9581\n",
      "Epoch 13/100\n",
      " - 4s - loss: 1.5071 - acc: 0.9575 - val_loss: 1.5077 - val_acc: 0.9562\n",
      "Epoch 14/100\n",
      " - 4s - loss: 1.5063 - acc: 0.9583 - val_loss: 1.5065 - val_acc: 0.9569\n",
      "Epoch 15/100\n",
      " - 4s - loss: 1.5056 - acc: 0.9586 - val_loss: 1.5043 - val_acc: 0.9590\n",
      "Epoch 16/100\n",
      " - 4s - loss: 1.5038 - acc: 0.9606 - val_loss: 1.5019 - val_acc: 0.9614\n",
      "Epoch 17/100\n",
      " - 4s - loss: 1.5028 - acc: 0.9612 - val_loss: 1.5025 - val_acc: 0.9598\n",
      "Epoch 18/100\n",
      " - 4s - loss: 1.5017 - acc: 0.9625 - val_loss: 1.5042 - val_acc: 0.9581\n",
      "Epoch 19/100\n",
      " - 4s - loss: 1.5014 - acc: 0.9623 - val_loss: 1.5019 - val_acc: 0.9613\n",
      "Epoch 20/100\n",
      " - 4s - loss: 1.5003 - acc: 0.9639 - val_loss: 1.5003 - val_acc: 0.9620\n",
      "Epoch 21/100\n",
      " - 4s - loss: 1.5005 - acc: 0.9633 - val_loss: 1.5005 - val_acc: 0.9625\n",
      "Epoch 22/100\n",
      " - 4s - loss: 1.4988 - acc: 0.9650 - val_loss: 1.5004 - val_acc: 0.9618\n",
      "Epoch 23/100\n",
      " - 4s - loss: 1.4980 - acc: 0.9660 - val_loss: 1.5001 - val_acc: 0.9630\n",
      "Epoch 24/100\n",
      " - 4s - loss: 1.4989 - acc: 0.9644 - val_loss: 1.5001 - val_acc: 0.9623\n",
      "Epoch 25/100\n",
      " - 4s - loss: 1.4973 - acc: 0.9660 - val_loss: 1.4994 - val_acc: 0.9639\n",
      "Epoch 26/100\n",
      " - 4s - loss: 1.4966 - acc: 0.9668 - val_loss: 1.5001 - val_acc: 0.9607\n",
      "Epoch 27/100\n",
      " - 4s - loss: 1.4960 - acc: 0.9676 - val_loss: 1.4987 - val_acc: 0.9637\n",
      "Epoch 28/100\n",
      " - 4s - loss: 1.4963 - acc: 0.9665 - val_loss: 1.4985 - val_acc: 0.9641\n",
      "Epoch 29/100\n",
      " - 4s - loss: 1.4957 - acc: 0.9674 - val_loss: 1.4997 - val_acc: 0.9626\n",
      "Epoch 30/100\n",
      " - 4s - loss: 1.4955 - acc: 0.9679 - val_loss: 1.4985 - val_acc: 0.9636\n",
      "Epoch 31/100\n",
      " - 4s - loss: 1.4944 - acc: 0.9690 - val_loss: 1.4999 - val_acc: 0.9621\n",
      "Epoch 32/100\n",
      " - 4s - loss: 1.4946 - acc: 0.9683 - val_loss: 1.4974 - val_acc: 0.9648\n",
      "Epoch 33/100\n",
      " - 4s - loss: 1.4938 - acc: 0.9694 - val_loss: 1.4983 - val_acc: 0.9636\n",
      "Epoch 34/100\n",
      " - 4s - loss: 1.4934 - acc: 0.9697 - val_loss: 1.4976 - val_acc: 0.9647\n",
      "Epoch 35/100\n",
      " - 4s - loss: 1.4927 - acc: 0.9701 - val_loss: 1.4978 - val_acc: 0.9642\n",
      "Epoch 36/100\n",
      " - 4s - loss: 1.4928 - acc: 0.9702 - val_loss: 1.4973 - val_acc: 0.9655\n",
      "Epoch 37/100\n",
      " - 4s - loss: 1.4931 - acc: 0.9701 - val_loss: 1.4979 - val_acc: 0.9641\n",
      "Epoch 38/100\n",
      " - 4s - loss: 1.4933 - acc: 0.9697 - val_loss: 1.4987 - val_acc: 0.9629\n",
      "Epoch 39/100\n",
      " - 4s - loss: 1.4924 - acc: 0.9707 - val_loss: 1.4972 - val_acc: 0.9642\n",
      "Epoch 40/100\n",
      " - 4s - loss: 1.4921 - acc: 0.9711 - val_loss: 1.4975 - val_acc: 0.9649\n",
      "Epoch 41/100\n",
      " - 4s - loss: 1.4923 - acc: 0.9704 - val_loss: 1.4967 - val_acc: 0.9655\n",
      "Epoch 42/100\n",
      " - 4s - loss: 1.4905 - acc: 0.9725 - val_loss: 1.4969 - val_acc: 0.9654\n",
      "Epoch 43/100\n",
      " - 4s - loss: 1.4906 - acc: 0.9723 - val_loss: 1.4964 - val_acc: 0.9648\n",
      "Epoch 44/100\n",
      " - 4s - loss: 1.4919 - acc: 0.9712 - val_loss: 1.4963 - val_acc: 0.9656\n",
      "Epoch 45/100\n",
      " - 4s - loss: 1.4909 - acc: 0.9717 - val_loss: 1.4956 - val_acc: 0.9667\n",
      "Epoch 46/100\n",
      " - 4s - loss: 1.4908 - acc: 0.9720 - val_loss: 1.4991 - val_acc: 0.9630\n",
      "Epoch 47/100\n",
      " - 4s - loss: 1.4914 - acc: 0.9711 - val_loss: 1.4970 - val_acc: 0.9647\n",
      "Epoch 48/100\n",
      " - 4s - loss: 1.4901 - acc: 0.9729 - val_loss: 1.4965 - val_acc: 0.9656\n",
      "Epoch 49/100\n",
      " - 4s - loss: 1.4905 - acc: 0.9721 - val_loss: 1.4957 - val_acc: 0.9663\n",
      "Epoch 50/100\n",
      " - 4s - loss: 1.4900 - acc: 0.9729 - val_loss: 1.4949 - val_acc: 0.9669\n",
      "Epoch 51/100\n",
      " - 4s - loss: 1.4898 - acc: 0.9732 - val_loss: 1.4972 - val_acc: 0.9643\n",
      "Epoch 52/100\n",
      " - 4s - loss: 1.4899 - acc: 0.9728 - val_loss: 1.4954 - val_acc: 0.9667\n",
      "Epoch 53/100\n",
      " - 4s - loss: 1.4891 - acc: 0.9737 - val_loss: 1.4963 - val_acc: 0.9657\n",
      "Epoch 54/100\n",
      " - 4s - loss: 1.4892 - acc: 0.9733 - val_loss: 1.4950 - val_acc: 0.9668\n",
      "Epoch 55/100\n",
      " - 4s - loss: 1.4889 - acc: 0.9739 - val_loss: 1.4958 - val_acc: 0.9657\n",
      "Epoch 56/100\n",
      " - 4s - loss: 1.4891 - acc: 0.9735 - val_loss: 1.4961 - val_acc: 0.9663\n",
      "Epoch 57/100\n",
      " - 4s - loss: 1.4890 - acc: 0.9732 - val_loss: 1.4951 - val_acc: 0.9666\n",
      "Epoch 58/100\n",
      " - 4s - loss: 1.4897 - acc: 0.9731 - val_loss: 1.4964 - val_acc: 0.9648\n",
      "Epoch 59/100\n",
      " - 4s - loss: 1.4890 - acc: 0.9736 - val_loss: 1.4961 - val_acc: 0.9655\n",
      "Epoch 60/100\n",
      " - 4s - loss: 1.4881 - acc: 0.9744 - val_loss: 1.4950 - val_acc: 0.9673\n",
      "Epoch 61/100\n",
      " - 4s - loss: 1.4882 - acc: 0.9743 - val_loss: 1.4949 - val_acc: 0.9674\n",
      "Epoch 62/100\n",
      " - 4s - loss: 1.4888 - acc: 0.9734 - val_loss: 1.4961 - val_acc: 0.9651\n",
      "Epoch 63/100\n",
      " - 4s - loss: 1.4880 - acc: 0.9744 - val_loss: 1.4948 - val_acc: 0.9671\n",
      "Epoch 64/100\n",
      " - 4s - loss: 1.4885 - acc: 0.9743 - val_loss: 1.4956 - val_acc: 0.9654\n",
      "Epoch 65/100\n",
      " - 4s - loss: 1.4878 - acc: 0.9746 - val_loss: 1.4953 - val_acc: 0.9666\n",
      "Epoch 66/100\n",
      " - 4s - loss: 1.4885 - acc: 0.9738 - val_loss: 1.4947 - val_acc: 0.9668\n",
      "Epoch 67/100\n",
      " - 4s - loss: 1.4874 - acc: 0.9749 - val_loss: 1.4958 - val_acc: 0.9663\n",
      "Epoch 68/100\n",
      " - 4s - loss: 1.4879 - acc: 0.9744 - val_loss: 1.4947 - val_acc: 0.9674\n",
      "Epoch 69/100\n",
      " - 4s - loss: 1.4877 - acc: 0.9748 - val_loss: 1.4967 - val_acc: 0.9652\n",
      "Epoch 70/100\n",
      " - 4s - loss: 1.4874 - acc: 0.9749 - val_loss: 1.4958 - val_acc: 0.9656\n",
      "Epoch 71/100\n",
      " - 4s - loss: 1.4879 - acc: 0.9742 - val_loss: 1.4960 - val_acc: 0.9649\n",
      "Epoch 72/100\n",
      " - 4s - loss: 1.4871 - acc: 0.9754 - val_loss: 1.4946 - val_acc: 0.9672\n",
      "Epoch 73/100\n",
      " - 4s - loss: 1.4872 - acc: 0.9750 - val_loss: 1.4947 - val_acc: 0.9666\n",
      "Epoch 74/100\n",
      " - 4s - loss: 1.4869 - acc: 0.9756 - val_loss: 1.4947 - val_acc: 0.9672\n",
      "Epoch 75/100\n",
      " - 4s - loss: 1.4863 - acc: 0.9757 - val_loss: 1.4959 - val_acc: 0.9651\n",
      "Epoch 76/100\n",
      " - 4s - loss: 1.4871 - acc: 0.9754 - val_loss: 1.4951 - val_acc: 0.9662\n",
      "Epoch 77/100\n",
      " - 4s - loss: 1.4867 - acc: 0.9755 - val_loss: 1.4949 - val_acc: 0.9661\n",
      "Epoch 78/100\n",
      " - 4s - loss: 1.4869 - acc: 0.9748 - val_loss: 1.4958 - val_acc: 0.9660\n",
      "Epoch 79/100\n",
      " - 4s - loss: 1.4872 - acc: 0.9749 - val_loss: 1.4948 - val_acc: 0.9665\n",
      "Epoch 80/100\n",
      " - 4s - loss: 1.4859 - acc: 0.9765 - val_loss: 1.4952 - val_acc: 0.9670\n",
      "Epoch 81/100\n",
      " - 4s - loss: 1.4871 - acc: 0.9750 - val_loss: 1.4960 - val_acc: 0.9655\n",
      "Epoch 82/100\n",
      " - 4s - loss: 1.4865 - acc: 0.9755 - val_loss: 1.4950 - val_acc: 0.9666\n",
      "Epoch 83/100\n",
      " - 4s - loss: 1.4866 - acc: 0.9754 - val_loss: 1.4955 - val_acc: 0.9662\n",
      "Epoch 84/100\n",
      " - 4s - loss: 1.4870 - acc: 0.9753 - val_loss: 1.4954 - val_acc: 0.9664\n",
      "Epoch 85/100\n",
      " - 4s - loss: 1.4861 - acc: 0.9760 - val_loss: 1.4953 - val_acc: 0.9666\n",
      "Epoch 86/100\n",
      " - 4s - loss: 1.4857 - acc: 0.9764 - val_loss: 1.4939 - val_acc: 0.9679\n",
      "Epoch 87/100\n",
      " - 4s - loss: 1.4861 - acc: 0.9760 - val_loss: 1.4946 - val_acc: 0.9669\n",
      "Epoch 88/100\n",
      " - 4s - loss: 1.4860 - acc: 0.9760 - val_loss: 1.4942 - val_acc: 0.9673\n",
      "Epoch 89/100\n",
      " - 4s - loss: 1.4861 - acc: 0.9762 - val_loss: 1.4947 - val_acc: 0.9666\n",
      "Epoch 90/100\n",
      " - 4s - loss: 1.4861 - acc: 0.9762 - val_loss: 1.4943 - val_acc: 0.9673\n",
      "Epoch 91/100\n",
      " - 4s - loss: 1.4854 - acc: 0.9765 - val_loss: 1.4950 - val_acc: 0.9667\n",
      "Epoch 92/100\n",
      " - 4s - loss: 1.4859 - acc: 0.9763 - val_loss: 1.4941 - val_acc: 0.9679\n",
      "Epoch 93/100\n",
      " - 4s - loss: 1.4856 - acc: 0.9764 - val_loss: 1.4961 - val_acc: 0.9657\n",
      "Epoch 94/100\n",
      " - 4s - loss: 1.4851 - acc: 0.9769 - val_loss: 1.4941 - val_acc: 0.9675\n",
      "Epoch 95/100\n",
      " - 4s - loss: 1.4856 - acc: 0.9763 - val_loss: 1.4944 - val_acc: 0.9666\n",
      "Epoch 96/100\n",
      " - 4s - loss: 1.4860 - acc: 0.9763 - val_loss: 1.4946 - val_acc: 0.9680\n"
     ]
    },
    {
     "name": "stdout",
     "output_type": "stream",
     "text": [
      "Epoch 97/100\n",
      " - 4s - loss: 1.4860 - acc: 0.9758 - val_loss: 1.4942 - val_acc: 0.9675\n",
      "Epoch 98/100\n",
      " - 4s - loss: 1.4859 - acc: 0.9759 - val_loss: 1.4949 - val_acc: 0.9658\n",
      "Epoch 99/100\n",
      " - 4s - loss: 1.4851 - acc: 0.9772 - val_loss: 1.4948 - val_acc: 0.9668\n",
      "Epoch 100/100\n",
      " - 4s - loss: 1.4848 - acc: 0.9771 - val_loss: 1.4945 - val_acc: 0.9666\n"
     ]
    }
   ],
   "source": [
    "x_train_perm = x_train_perm.reshape(train_shape)\n",
    "x_test_perm = x_test_perm.reshape(test_shape)\n",
    "x_train_perm = x_train_perm[...,tf.newaxis]\n",
    "x_test_perm = x_test_perm[...,tf.newaxis]\n",
    "epocas = 100\n",
    "model = keras.Sequential()\n",
    "model.add(keras.layers.Conv2D(16,(3, 3), activation='relu', padding='same',input_shape=(28,28,1)))\n",
    "model.add(keras.layers.MaxPooling2D(pool_size = (2, 2), padding='same'))\n",
    "model.add(keras.layers.Dropout(0.3))\n",
    "model.add(keras.layers.Flatten())\n",
    "model.add(keras.layers.Dense(10,activation='softmax'))\n",
    "model.compile(optimizer='adam', loss=tf.keras.losses.CategoricalCrossentropy(from_logits=True),metrics=['acc'])\n",
    "history = model.fit(x_train_perm, yy_train, epochs=epocas, validation_data=(x_test_perm, yy_test),shuffle=True,batch_size=100, verbose=2)"
   ]
  },
  {
   "cell_type": "code",
   "execution_count": 29,
   "metadata": {
    "colab": {
     "base_uri": "https://localhost:8080/",
     "height": 281
    },
    "id": "C21lpwOTPyO7",
    "outputId": "4731cb1a-d4f6-4cca-a8e7-54e14ca36f7d"
   },
   "outputs": [
    {
     "data": {
      "image/png": "[encoded data removed]",
      "text/plain": [
       "<Figure size 432x288 with 1 Axes>"
      ]
     },
     "metadata": {
      "needs_background": "light"
     },
     "output_type": "display_data"
    }
   ],
   "source": [
    "plt.plot(history.history['val_loss'],label='test data',linewidth=2)\n",
    "plt.plot(history.history['loss'],label='train data',linewidth=2)\n",
    "plt.legend()\n",
    "plt.xlabel('Épocas')\n",
    "plt.ylabel('Loss')\n",
    "plt.savefig('ej9_2_loss.pdf')"
   ]
  },
  {
   "cell_type": "code",
   "execution_count": 31,
   "metadata": {
    "colab": {
     "base_uri": "https://localhost:8080/",
     "height": 281
    },
    "id": "q18GfM57Pybr",
    "outputId": "12f2df34-5d5e-41bd-d9c8-feeea52b331e"
   },
   "outputs": [
    {
     "data": {
      "image/png": "[encoded data removed]",
      "text/plain": [
       "<Figure size 432x288 with 1 Axes>"
      ]
     },
     "metadata": {
      "needs_background": "light"
     },
     "output_type": "display_data"
    }
   ],
   "source": [
    "plt.plot(history.history['val_acc'],label='test data',linewidth=2)\n",
    "plt.plot(history.history['acc'],label='train data',linewidth=2)\n",
    "plt.legend()\n",
    "plt.text(60,0.86,'test accuracy final: '+str(round(history.history['val_acc'][-1],2)))\n",
    "plt.xlabel('Épocas')\n",
    "plt.ylabel('Accuracy') \n",
    "plt.savefig('ej9_2_acc.pdf')"
   ]
  },
  {
   "cell_type": "code",
   "execution_count": null,
   "metadata": {
    "id": "vyVME0utGOLQ"
   },
   "outputs": [],
   "source": []
  }
 ],
 "metadata": {
  "accelerator": "GPU",
  "colab": {
   "name": "Ej8",
   "provenance": []
  },
  "kernelspec": {
   "display_name": "Python 3",
   "language": "python",
   "name": "python3"
  },
  "language_info": {
   "codemirror_mode": {
    "name": "ipython",
    "version": 3
   },
   "file_extension": ".py",
   "mimetype": "text/x-python",
   "name": "python",
   "nbconvert_exporter": "python",
   "pygments_lexer": "ipython3",
   "version": "3.7.7"
  }
 },
 "nbformat": 4,
 "nbformat_minor": 1
}
