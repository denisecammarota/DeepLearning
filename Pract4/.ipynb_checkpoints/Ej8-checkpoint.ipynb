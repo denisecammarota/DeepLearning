{
 "cells": [
  {
   "cell_type": "code",
   "execution_count": 2,
   "metadata": {
    "id": "RYLdPzeSJFT5"
   },
   "outputs": [],
   "source": [
    "import keras \n",
    "import tensorflow as tf\n",
    "from keras.datasets import mnist #cargo los datos del mnist\n",
    "import numpy as np\n",
    "from keras.callbacks import History \n",
    "import matplotlib.pyplot as plt\n",
    "from numpy import genfromtxt\n",
    "from keras.utils import to_categorical\n",
    "from keras.datasets import mnist"
   ]
  },
  {
   "cell_type": "code",
   "execution_count": 3,
   "metadata": {
    "id": "5b2R_CDnJQc1"
   },
   "outputs": [],
   "source": [
    "#ok funciona bien\n",
    "#funcion que hace reshape de las imagenes\n",
    "#sin agregar el bias\n",
    "def reshapeImages(x,y):\n",
    "    im_shape = x.shape[1:]\n",
    "    x = np.reshape(x,(x.shape[0],np.prod(im_shape)))\n",
    "    return x,y"
   ]
  },
  {
   "cell_type": "code",
   "execution_count": null,
   "metadata": {
    "id": "ybIScDVEJQlT"
   },
   "outputs": [],
   "source": [
    "#definicion de constantes\n",
    "n_clases = 10 #cantidad de clases\n",
    "n_capa1 = 100 #cantidad de neuronas capa 1\n",
    "n_capa2 = n_clases #cantidad de neuronas capa 2 (= cantidad de clases)\n",
    "#importamos los datos de training y testing\n",
    "(x_train,y_train),(x_test,y_test) = mnist.load_data() \n",
    "#preprocesado de los datos\n",
    "mean = np.mean(x_train,axis=0)\n",
    "#sigma = np.std(x_train,axis=0) algunos elementos son = 0, cambio por 255\n",
    "sigma = 255.0\n",
    "x_train = (x_train - mean)/sigma\n",
    "x_test = (x_test - mean)/sigma\n",
    "#reshaping y flatten\n",
    "x_train,y_train = reshapeImages(x_train,y_train)\n",
    "x_test,y_test = reshapeImages(x_test,y_test)\n",
    "yy_train = to_categorical(y_train)\n",
    "yy_test = to_categorical(y_test)\n",
    "n_dim = x_train.shape[1] #dimension de entrada\n",
    "epocas = 100 #cantidad de epocas"
   ]
  },
  {
   "cell_type": "code",
   "execution_count": null,
   "metadata": {
    "id": "d_Qgxg7jPgg1"
   },
   "outputs": [],
   "source": [
    "#red neuronal solo con capas densas"
   ]
  },
  {
   "cell_type": "code",
   "execution_count": null,
   "metadata": {
    "colab": {
     "base_uri": "https://localhost:8080/",
     "height": 1000
    },
    "id": "l4or7NCzJQtD",
    "outputId": "18ac2398-82bd-4c8e-cd84-80834604f122"
   },
   "outputs": [
    {
     "name": "stdout",
     "output_type": "stream",
     "text": [
      "Epoch 1/100\n",
      "600/600 - 1s - loss: 0.1372 - acc: 0.2644 - val_loss: 0.0978 - val_acc: 0.4500\n",
      "Epoch 2/100\n",
      "600/600 - 1s - loss: 0.0880 - acc: 0.5322 - val_loss: 0.0783 - val_acc: 0.6138\n",
      "Epoch 3/100\n",
      "600/600 - 1s - loss: 0.0750 - acc: 0.6413 - val_loss: 0.0693 - val_acc: 0.6929\n",
      "Epoch 4/100\n",
      "600/600 - 1s - loss: 0.0678 - acc: 0.7007 - val_loss: 0.0636 - val_acc: 0.7356\n",
      "Epoch 5/100\n",
      "600/600 - 1s - loss: 0.0629 - acc: 0.7377 - val_loss: 0.0596 - val_acc: 0.7648\n",
      "Epoch 6/100\n",
      "600/600 - 1s - loss: 0.0593 - acc: 0.7641 - val_loss: 0.0565 - val_acc: 0.7860\n",
      "Epoch 7/100\n",
      "600/600 - 1s - loss: 0.0564 - acc: 0.7838 - val_loss: 0.0540 - val_acc: 0.8016\n",
      "Epoch 8/100\n",
      "600/600 - 1s - loss: 0.0541 - acc: 0.7986 - val_loss: 0.0519 - val_acc: 0.8134\n",
      "Epoch 9/100\n",
      "600/600 - 1s - loss: 0.0521 - acc: 0.8111 - val_loss: 0.0501 - val_acc: 0.8263\n",
      "Epoch 10/100\n",
      "600/600 - 1s - loss: 0.0504 - acc: 0.8208 - val_loss: 0.0486 - val_acc: 0.8358\n",
      "Epoch 11/100\n",
      "600/600 - 1s - loss: 0.0490 - acc: 0.8290 - val_loss: 0.0472 - val_acc: 0.8427\n",
      "Epoch 12/100\n",
      "600/600 - 1s - loss: 0.0476 - acc: 0.8357 - val_loss: 0.0460 - val_acc: 0.8483\n",
      "Epoch 13/100\n",
      "600/600 - 1s - loss: 0.0465 - acc: 0.8417 - val_loss: 0.0449 - val_acc: 0.8536\n",
      "Epoch 14/100\n",
      "600/600 - 1s - loss: 0.0454 - acc: 0.8471 - val_loss: 0.0439 - val_acc: 0.8582\n",
      "Epoch 15/100\n",
      "600/600 - 1s - loss: 0.0444 - acc: 0.8522 - val_loss: 0.0430 - val_acc: 0.8624\n",
      "Epoch 16/100\n",
      "600/600 - 1s - loss: 0.0436 - acc: 0.8571 - val_loss: 0.0422 - val_acc: 0.8674\n",
      "Epoch 17/100\n",
      "600/600 - 1s - loss: 0.0427 - acc: 0.8608 - val_loss: 0.0415 - val_acc: 0.8706\n",
      "Epoch 18/100\n",
      "600/600 - 1s - loss: 0.0420 - acc: 0.8644 - val_loss: 0.0408 - val_acc: 0.8741\n",
      "Epoch 19/100\n",
      "600/600 - 1s - loss: 0.0413 - acc: 0.8679 - val_loss: 0.0401 - val_acc: 0.8776\n",
      "Epoch 20/100\n",
      "600/600 - 1s - loss: 0.0406 - acc: 0.8712 - val_loss: 0.0395 - val_acc: 0.8801\n",
      "Epoch 21/100\n",
      "600/600 - 1s - loss: 0.0400 - acc: 0.8733 - val_loss: 0.0389 - val_acc: 0.8826\n",
      "Epoch 22/100\n",
      "600/600 - 1s - loss: 0.0394 - acc: 0.8763 - val_loss: 0.0384 - val_acc: 0.8839\n",
      "Epoch 23/100\n",
      "600/600 - 1s - loss: 0.0389 - acc: 0.8782 - val_loss: 0.0379 - val_acc: 0.8857\n",
      "Epoch 24/100\n",
      "600/600 - 1s - loss: 0.0384 - acc: 0.8806 - val_loss: 0.0374 - val_acc: 0.8874\n",
      "Epoch 25/100\n",
      "600/600 - 1s - loss: 0.0379 - acc: 0.8828 - val_loss: 0.0369 - val_acc: 0.8906\n",
      "Epoch 26/100\n",
      "600/600 - 1s - loss: 0.0375 - acc: 0.8851 - val_loss: 0.0365 - val_acc: 0.8915\n",
      "Epoch 27/100\n",
      "600/600 - 1s - loss: 0.0370 - acc: 0.8868 - val_loss: 0.0361 - val_acc: 0.8936\n",
      "Epoch 28/100\n",
      "600/600 - 1s - loss: 0.0366 - acc: 0.8882 - val_loss: 0.0357 - val_acc: 0.8950\n",
      "Epoch 29/100\n",
      "600/600 - 1s - loss: 0.0362 - acc: 0.8896 - val_loss: 0.0353 - val_acc: 0.8966\n",
      "Epoch 30/100\n",
      "600/600 - 1s - loss: 0.0358 - acc: 0.8912 - val_loss: 0.0350 - val_acc: 0.8977\n",
      "Epoch 31/100\n",
      "600/600 - 1s - loss: 0.0355 - acc: 0.8926 - val_loss: 0.0346 - val_acc: 0.8986\n",
      "Epoch 32/100\n",
      "600/600 - 1s - loss: 0.0351 - acc: 0.8937 - val_loss: 0.0343 - val_acc: 0.8998\n",
      "Epoch 33/100\n",
      "600/600 - 1s - loss: 0.0348 - acc: 0.8950 - val_loss: 0.0340 - val_acc: 0.9012\n",
      "Epoch 34/100\n",
      "600/600 - 1s - loss: 0.0345 - acc: 0.8965 - val_loss: 0.0337 - val_acc: 0.9024\n",
      "Epoch 35/100\n",
      "600/600 - 1s - loss: 0.0342 - acc: 0.8980 - val_loss: 0.0334 - val_acc: 0.9035\n",
      "Epoch 36/100\n",
      "600/600 - 1s - loss: 0.0339 - acc: 0.8991 - val_loss: 0.0331 - val_acc: 0.9043\n",
      "Epoch 37/100\n",
      "600/600 - 1s - loss: 0.0336 - acc: 0.9003 - val_loss: 0.0329 - val_acc: 0.9057\n",
      "Epoch 38/100\n",
      "600/600 - 1s - loss: 0.0333 - acc: 0.9013 - val_loss: 0.0326 - val_acc: 0.9062\n",
      "Epoch 39/100\n",
      "600/600 - 1s - loss: 0.0331 - acc: 0.9022 - val_loss: 0.0324 - val_acc: 0.9072\n",
      "Epoch 40/100\n",
      "600/600 - 1s - loss: 0.0328 - acc: 0.9031 - val_loss: 0.0321 - val_acc: 0.9078\n",
      "Epoch 41/100\n",
      "600/600 - 1s - loss: 0.0326 - acc: 0.9040 - val_loss: 0.0319 - val_acc: 0.9081\n",
      "Epoch 42/100\n",
      "600/600 - 1s - loss: 0.0323 - acc: 0.9049 - val_loss: 0.0317 - val_acc: 0.9092\n",
      "Epoch 43/100\n",
      "600/600 - 1s - loss: 0.0321 - acc: 0.9059 - val_loss: 0.0315 - val_acc: 0.9103\n",
      "Epoch 44/100\n",
      "600/600 - 1s - loss: 0.0319 - acc: 0.9068 - val_loss: 0.0313 - val_acc: 0.9109\n",
      "Epoch 45/100\n",
      "600/600 - 1s - loss: 0.0317 - acc: 0.9075 - val_loss: 0.0311 - val_acc: 0.9115\n",
      "Epoch 46/100\n",
      "600/600 - 1s - loss: 0.0315 - acc: 0.9082 - val_loss: 0.0309 - val_acc: 0.9126\n",
      "Epoch 47/100\n",
      "600/600 - 1s - loss: 0.0313 - acc: 0.9090 - val_loss: 0.0307 - val_acc: 0.9129\n",
      "Epoch 48/100\n",
      "600/600 - 1s - loss: 0.0311 - acc: 0.9098 - val_loss: 0.0305 - val_acc: 0.9135\n",
      "Epoch 49/100\n",
      "600/600 - 1s - loss: 0.0309 - acc: 0.9103 - val_loss: 0.0303 - val_acc: 0.9142\n",
      "Epoch 50/100\n",
      "600/600 - 1s - loss: 0.0307 - acc: 0.9110 - val_loss: 0.0301 - val_acc: 0.9142\n",
      "Epoch 51/100\n",
      "600/600 - 1s - loss: 0.0305 - acc: 0.9116 - val_loss: 0.0300 - val_acc: 0.9155\n",
      "Epoch 52/100\n",
      "600/600 - 1s - loss: 0.0303 - acc: 0.9121 - val_loss: 0.0298 - val_acc: 0.9155\n",
      "Epoch 53/100\n",
      "600/600 - 1s - loss: 0.0302 - acc: 0.9128 - val_loss: 0.0296 - val_acc: 0.9160\n",
      "Epoch 54/100\n",
      "600/600 - 1s - loss: 0.0300 - acc: 0.9135 - val_loss: 0.0295 - val_acc: 0.9167\n",
      "Epoch 55/100\n",
      "600/600 - 1s - loss: 0.0298 - acc: 0.9142 - val_loss: 0.0293 - val_acc: 0.9178\n",
      "Epoch 56/100\n",
      "600/600 - 1s - loss: 0.0297 - acc: 0.9150 - val_loss: 0.0292 - val_acc: 0.9183\n",
      "Epoch 57/100\n",
      "600/600 - 1s - loss: 0.0295 - acc: 0.9156 - val_loss: 0.0290 - val_acc: 0.9189\n",
      "Epoch 58/100\n",
      "600/600 - 1s - loss: 0.0294 - acc: 0.9162 - val_loss: 0.0289 - val_acc: 0.9196\n",
      "Epoch 59/100\n",
      "600/600 - 1s - loss: 0.0292 - acc: 0.9167 - val_loss: 0.0288 - val_acc: 0.9203\n",
      "Epoch 60/100\n",
      "600/600 - 1s - loss: 0.0291 - acc: 0.9172 - val_loss: 0.0286 - val_acc: 0.9208\n",
      "Epoch 61/100\n",
      "600/600 - 1s - loss: 0.0290 - acc: 0.9177 - val_loss: 0.0285 - val_acc: 0.9213\n",
      "Epoch 62/100\n",
      "600/600 - 1s - loss: 0.0288 - acc: 0.9183 - val_loss: 0.0284 - val_acc: 0.9218\n",
      "Epoch 63/100\n",
      "600/600 - 1s - loss: 0.0287 - acc: 0.9189 - val_loss: 0.0282 - val_acc: 0.9221\n",
      "Epoch 64/100\n",
      "600/600 - 1s - loss: 0.0286 - acc: 0.9191 - val_loss: 0.0281 - val_acc: 0.9222\n",
      "Epoch 65/100\n",
      "600/600 - 1s - loss: 0.0284 - acc: 0.9196 - val_loss: 0.0280 - val_acc: 0.9222\n",
      "Epoch 66/100\n",
      "600/600 - 1s - loss: 0.0283 - acc: 0.9199 - val_loss: 0.0279 - val_acc: 0.9226\n",
      "Epoch 67/100\n",
      "600/600 - 1s - loss: 0.0282 - acc: 0.9203 - val_loss: 0.0277 - val_acc: 0.9228\n",
      "Epoch 68/100\n",
      "600/600 - 1s - loss: 0.0281 - acc: 0.9207 - val_loss: 0.0276 - val_acc: 0.9232\n",
      "Epoch 69/100\n",
      "600/600 - 1s - loss: 0.0279 - acc: 0.9211 - val_loss: 0.0275 - val_acc: 0.9233\n",
      "Epoch 70/100\n",
      "600/600 - 1s - loss: 0.0278 - acc: 0.9216 - val_loss: 0.0274 - val_acc: 0.9239\n",
      "Epoch 71/100\n",
      "600/600 - 1s - loss: 0.0277 - acc: 0.9216 - val_loss: 0.0273 - val_acc: 0.9245\n",
      "Epoch 72/100\n",
      "600/600 - 1s - loss: 0.0276 - acc: 0.9221 - val_loss: 0.0272 - val_acc: 0.9245\n",
      "Epoch 73/100\n",
      "600/600 - 1s - loss: 0.0275 - acc: 0.9226 - val_loss: 0.0271 - val_acc: 0.9252\n",
      "Epoch 74/100\n",
      "600/600 - 1s - loss: 0.0274 - acc: 0.9229 - val_loss: 0.0270 - val_acc: 0.9257\n",
      "Epoch 75/100\n",
      "600/600 - 1s - loss: 0.0273 - acc: 0.9233 - val_loss: 0.0269 - val_acc: 0.9261\n",
      "Epoch 76/100\n",
      "600/600 - 1s - loss: 0.0272 - acc: 0.9235 - val_loss: 0.0268 - val_acc: 0.9263\n",
      "Epoch 77/100\n",
      "600/600 - 1s - loss: 0.0271 - acc: 0.9240 - val_loss: 0.0267 - val_acc: 0.9266\n",
      "Epoch 78/100\n",
      "600/600 - 1s - loss: 0.0270 - acc: 0.9243 - val_loss: 0.0266 - val_acc: 0.9271\n",
      "Epoch 79/100\n",
      "600/600 - 1s - loss: 0.0269 - acc: 0.9247 - val_loss: 0.0265 - val_acc: 0.9272\n",
      "Epoch 80/100\n",
      "600/600 - 1s - loss: 0.0268 - acc: 0.9250 - val_loss: 0.0264 - val_acc: 0.9279\n",
      "Epoch 81/100\n",
      "600/600 - 1s - loss: 0.0267 - acc: 0.9252 - val_loss: 0.0263 - val_acc: 0.9282\n",
      "Epoch 82/100\n",
      "600/600 - 1s - loss: 0.0266 - acc: 0.9255 - val_loss: 0.0262 - val_acc: 0.9284\n",
      "Epoch 83/100\n",
      "600/600 - 1s - loss: 0.0265 - acc: 0.9258 - val_loss: 0.0261 - val_acc: 0.9285\n",
      "Epoch 84/100\n",
      "600/600 - 1s - loss: 0.0264 - acc: 0.9263 - val_loss: 0.0261 - val_acc: 0.9290\n",
      "Epoch 85/100\n",
      "600/600 - 1s - loss: 0.0263 - acc: 0.9266 - val_loss: 0.0260 - val_acc: 0.9293\n",
      "Epoch 86/100\n",
      "600/600 - 1s - loss: 0.0262 - acc: 0.9272 - val_loss: 0.0259 - val_acc: 0.9294\n",
      "Epoch 87/100\n",
      "600/600 - 1s - loss: 0.0261 - acc: 0.9273 - val_loss: 0.0258 - val_acc: 0.9296\n",
      "Epoch 88/100\n",
      "600/600 - 1s - loss: 0.0260 - acc: 0.9277 - val_loss: 0.0257 - val_acc: 0.9299\n",
      "Epoch 89/100\n",
      "600/600 - 1s - loss: 0.0260 - acc: 0.9280 - val_loss: 0.0256 - val_acc: 0.9303\n",
      "Epoch 90/100\n",
      "600/600 - 1s - loss: 0.0259 - acc: 0.9282 - val_loss: 0.0256 - val_acc: 0.9307\n",
      "Epoch 91/100\n",
      "600/600 - 1s - loss: 0.0258 - acc: 0.9284 - val_loss: 0.0255 - val_acc: 0.9311\n",
      "Epoch 92/100\n",
      "600/600 - 1s - loss: 0.0257 - acc: 0.9288 - val_loss: 0.0254 - val_acc: 0.9312\n",
      "Epoch 93/100\n",
      "600/600 - 1s - loss: 0.0256 - acc: 0.9291 - val_loss: 0.0253 - val_acc: 0.9317\n",
      "Epoch 94/100\n",
      "600/600 - 1s - loss: 0.0256 - acc: 0.9293 - val_loss: 0.0253 - val_acc: 0.9319\n",
      "Epoch 95/100\n",
      "600/600 - 1s - loss: 0.0255 - acc: 0.9294 - val_loss: 0.0252 - val_acc: 0.9323\n",
      "Epoch 96/100\n",
      "600/600 - 1s - loss: 0.0254 - acc: 0.9299 - val_loss: 0.0251 - val_acc: 0.9324\n",
      "Epoch 97/100\n",
      "600/600 - 1s - loss: 0.0253 - acc: 0.9301 - val_loss: 0.0251 - val_acc: 0.9325\n",
      "Epoch 98/100\n",
      "600/600 - 1s - loss: 0.0253 - acc: 0.9305 - val_loss: 0.0250 - val_acc: 0.9326\n",
      "Epoch 99/100\n",
      "600/600 - 1s - loss: 0.0252 - acc: 0.9306 - val_loss: 0.0249 - val_acc: 0.9328\n",
      "Epoch 100/100\n",
      "600/600 - 1s - loss: 0.0251 - acc: 0.9308 - val_loss: 0.0248 - val_acc: 0.9334\n"
     ]
    }
   ],
   "source": [
    "x = keras.layers.Input(shape=(n_dim,))\n",
    "l1 = keras.layers.Dense(units=n_capa1, activation='relu', use_bias=True, \n",
    "                           kernel_regularizer=keras.regularizers.l2(1e-5))(x)\n",
    "l2 = keras.layers.Dense(units=n_capa2, activation='linear',use_bias=True,\n",
    "                           kernel_regularizer=keras.regularizers.l2(1e-5))(l1)\n",
    "model = keras.Model(inputs=x, outputs=l2)\n",
    "optimizer = keras.optimizers.SGD(learning_rate=5e-3)\n",
    "model.compile(optimizer, loss=keras.losses.MSE, metrics=['acc'])\n",
    "history = model.fit(x_train, yy_train, epochs=epocas, validation_data=(x_test, yy_test),batch_size=100, verbose=2)"
   ]
  },
  {
   "cell_type": "code",
   "execution_count": null,
   "metadata": {
    "colab": {
     "base_uri": "https://localhost:8080/",
     "height": 281
    },
    "id": "svaTUpgfKrR2",
    "outputId": "bdbf67a3-5172-4ba1-ed77-c992999047bd"
   },
   "outputs": [
    {
     "data": {
      "application/javascript": [
       "\n",
       "    async function download(id, filename, size) {\n",
       "      if (!google.colab.kernel.accessAllowed) {\n",
       "        return;\n",
       "      }\n",
       "      const div = document.createElement('div');\n",
       "      const label = document.createElement('label');\n",
       "      label.textContent = `Downloading \"${filename}\": `;\n",
       "      div.appendChild(label);\n",
       "      const progress = document.createElement('progress');\n",
       "      progress.max = size;\n",
       "      div.appendChild(progress);\n",
       "      document.body.appendChild(div);\n",
       "\n",
       "      const buffers = [];\n",
       "      let downloaded = 0;\n",
       "\n",
       "      const channel = await google.colab.kernel.comms.open(id);\n",
       "      // Send a message to notify the kernel that we're ready.\n",
       "      channel.send({})\n",
       "\n",
       "      for await (const message of channel.messages) {\n",
       "        // Send a message to notify the kernel that we're ready.\n",
       "        channel.send({})\n",
       "        if (message.buffers) {\n",
       "          for (const buffer of message.buffers) {\n",
       "            buffers.push(buffer);\n",
       "            downloaded += buffer.byteLength;\n",
       "            progress.value = downloaded;\n",
       "          }\n",
       "        }\n",
       "      }\n",
       "      const blob = new Blob(buffers, {type: 'application/binary'});\n",
       "      const a = document.createElement('a');\n",
       "      a.href = window.URL.createObjectURL(blob);\n",
       "      a.download = filename;\n",
       "      div.appendChild(a);\n",
       "      a.click();\n",
       "      div.remove();\n",
       "    }\n",
       "  "
      ],
      "text/plain": [
       "<IPython.core.display.Javascript object>"
      ]
     },
     "metadata": {
      "tags": []
     },
     "output_type": "display_data"
    },
    {
     "data": {
      "application/javascript": [
       "download(\"download_90538ebb-f561-438a-86be-0400061089fb\", \"ej8_1_loss.pdf\", 11848)"
      ],
      "text/plain": [
       "<IPython.core.display.Javascript object>"
      ]
     },
     "metadata": {
      "tags": []
     },
     "output_type": "display_data"
    },
    {
     "data": {
      "image/png": "[encoded data removed]",
      "text/plain": [
       "<Figure size 432x288 with 1 Axes>"
      ]
     },
     "metadata": {
      "needs_background": "light",
      "tags": []
     },
     "output_type": "display_data"
    }
   ],
   "source": [
    "plt.plot(history.history['val_loss'],label='test data',linewidth=2)\n",
    "plt.plot(history.history['loss'],label='train data',linewidth=2)\n",
    "plt.legend()\n",
    "plt.xlabel('Épocas')\n",
    "plt.ylabel('Loss')\n",
    "plt.savefig('ej8_1_loss.pdf')\n",
    "files.download( 'ej8_1_loss.pdf' ) "
   ]
  },
  {
   "cell_type": "code",
   "execution_count": null,
   "metadata": {
    "colab": {
     "base_uri": "https://localhost:8080/",
     "height": 281
    },
    "id": "fG_1RecdKri0",
    "outputId": "9155ade1-ff45-4104-adf8-02958a192790"
   },
   "outputs": [
    {
     "data": {
      "application/javascript": [
       "\n",
       "    async function download(id, filename, size) {\n",
       "      if (!google.colab.kernel.accessAllowed) {\n",
       "        return;\n",
       "      }\n",
       "      const div = document.createElement('div');\n",
       "      const label = document.createElement('label');\n",
       "      label.textContent = `Downloading \"${filename}\": `;\n",
       "      div.appendChild(label);\n",
       "      const progress = document.createElement('progress');\n",
       "      progress.max = size;\n",
       "      div.appendChild(progress);\n",
       "      document.body.appendChild(div);\n",
       "\n",
       "      const buffers = [];\n",
       "      let downloaded = 0;\n",
       "\n",
       "      const channel = await google.colab.kernel.comms.open(id);\n",
       "      // Send a message to notify the kernel that we're ready.\n",
       "      channel.send({})\n",
       "\n",
       "      for await (const message of channel.messages) {\n",
       "        // Send a message to notify the kernel that we're ready.\n",
       "        channel.send({})\n",
       "        if (message.buffers) {\n",
       "          for (const buffer of message.buffers) {\n",
       "            buffers.push(buffer);\n",
       "            downloaded += buffer.byteLength;\n",
       "            progress.value = downloaded;\n",
       "          }\n",
       "        }\n",
       "      }\n",
       "      const blob = new Blob(buffers, {type: 'application/binary'});\n",
       "      const a = document.createElement('a');\n",
       "      a.href = window.URL.createObjectURL(blob);\n",
       "      a.download = filename;\n",
       "      div.appendChild(a);\n",
       "      a.click();\n",
       "      div.remove();\n",
       "    }\n",
       "  "
      ],
      "text/plain": [
       "<IPython.core.display.Javascript object>"
      ]
     },
     "metadata": {
      "tags": []
     },
     "output_type": "display_data"
    },
    {
     "data": {
      "application/javascript": [
       "download(\"download_42b81a75-9815-4a2e-b29d-f8d5a1f75efc\", \"ej8_1_acc.pdf\", 14405)"
      ],
      "text/plain": [
       "<IPython.core.display.Javascript object>"
      ]
     },
     "metadata": {
      "tags": []
     },
     "output_type": "display_data"
    },
    {
     "data": {
      "image/png": "[encoded data removed]",
      "text/plain": [
       "<Figure size 432x288 with 1 Axes>"
      ]
     },
     "metadata": {
      "needs_background": "light",
      "tags": []
     },
     "output_type": "display_data"
    }
   ],
   "source": [
    "plt.plot(history.history['val_acc'],label='test data',linewidth=2)\n",
    "plt.plot(history.history['acc'],label='train data',linewidth=2)\n",
    "plt.legend()\n",
    "plt.text(60,0.4,'test accuracy final: '+str(round(history.history['val_acc'][-1],2)))\n",
    "plt.xlabel('Épocas')\n",
    "plt.ylabel('Accuracy')\n",
    "plt.savefig('ej8_1_acc.pdf')\n",
    "files.download( 'ej8_1_acc.pdf' ) "
   ]
  },
  {
   "cell_type": "code",
   "execution_count": null,
   "metadata": {
    "id": "ffSRu8pAKrxs"
   },
   "outputs": [],
   "source": [
    "#red neuronal con capas convolucionales"
   ]
  },
  {
   "cell_type": "code",
   "execution_count": 4,
   "metadata": {
    "colab": {
     "base_uri": "https://localhost:8080/",
     "height": 50
    },
    "id": "VSWJOjfqPx_L",
    "outputId": "004b0f8b-8b8a-4df2-e8a4-176340de165d"
   },
   "outputs": [
    {
     "name": "stdout",
     "output_type": "stream",
     "text": [
      "Downloading data from https://storage.googleapis.com/tensorflow/tf-keras-datasets/mnist.npz\n",
      "11493376/11490434 [==============================] - 0s 0us/step\n"
     ]
    }
   ],
   "source": [
    "(x_train,y_train),(x_test,y_test) = mnist.load_data() \n",
    "train_shape = x_train.shape\n",
    "test_shape = x_test.shape\n",
    "#preprocesado de los datos\n",
    "mean = np.mean(x_train,axis=0)\n",
    "sigma = 255.0\n",
    "x_train = (x_train - mean)/sigma\n",
    "x_test = (x_test - mean)/sigma\n",
    "#reshaping y flatten\n",
    "x_train,y_train = reshapeImages(x_train,y_train)\n",
    "x_test,y_test = reshapeImages(x_test,y_test)\n",
    "yy_train = to_categorical(y_train)\n",
    "yy_test = to_categorical(y_test)\n",
    "n_dim = x_train.shape[1] #dimension de entrada\n",
    "epocas = 100 #cantidad de epocas\n",
    "n_categorias = 10"
   ]
  },
  {
   "cell_type": "code",
   "execution_count": 23,
   "metadata": {
    "colab": {
     "base_uri": "https://localhost:8080/",
     "height": 1000
    },
    "id": "ex-X6IoS7Hcv",
    "outputId": "3aa81201-693d-465d-d0f6-9c50069bfe41"
   },
   "outputs": [
    {
     "name": "stdout",
     "output_type": "stream",
     "text": [
      "Epoch 1/100\n",
      "600/600 - 2s - loss: 1.6448 - acc: 0.8558 - val_loss: 1.5317 - val_acc: 0.9404\n",
      "Epoch 2/100\n",
      "600/600 - 2s - loss: 1.5302 - acc: 0.9395 - val_loss: 1.5103 - val_acc: 0.9574\n",
      "Epoch 3/100\n",
      "600/600 - 2s - loss: 1.5137 - acc: 0.9544 - val_loss: 1.5003 - val_acc: 0.9650\n",
      "Epoch 4/100\n",
      "600/600 - 2s - loss: 1.5050 - acc: 0.9610 - val_loss: 1.4956 - val_acc: 0.9690\n",
      "Epoch 5/100\n",
      "600/600 - 2s - loss: 1.5002 - acc: 0.9659 - val_loss: 1.4918 - val_acc: 0.9720\n",
      "Epoch 6/100\n",
      "600/600 - 2s - loss: 1.4966 - acc: 0.9688 - val_loss: 1.4898 - val_acc: 0.9742\n",
      "Epoch 7/100\n",
      "600/600 - 2s - loss: 1.4944 - acc: 0.9707 - val_loss: 1.4879 - val_acc: 0.9753\n",
      "Epoch 8/100\n",
      "600/600 - 2s - loss: 1.4918 - acc: 0.9725 - val_loss: 1.4863 - val_acc: 0.9771\n",
      "Epoch 9/100\n",
      "600/600 - 2s - loss: 1.4906 - acc: 0.9734 - val_loss: 1.4849 - val_acc: 0.9790\n",
      "Epoch 10/100\n",
      "600/600 - 2s - loss: 1.4888 - acc: 0.9754 - val_loss: 1.4844 - val_acc: 0.9782\n",
      "Epoch 11/100\n",
      "600/600 - 2s - loss: 1.4877 - acc: 0.9761 - val_loss: 1.4833 - val_acc: 0.9795\n",
      "Epoch 12/100\n",
      "600/600 - 2s - loss: 1.4877 - acc: 0.9761 - val_loss: 1.4825 - val_acc: 0.9809\n",
      "Epoch 13/100\n",
      "600/600 - 2s - loss: 1.4863 - acc: 0.9771 - val_loss: 1.4826 - val_acc: 0.9796\n",
      "Epoch 14/100\n",
      "600/600 - 2s - loss: 1.4859 - acc: 0.9777 - val_loss: 1.4812 - val_acc: 0.9819\n",
      "Epoch 15/100\n",
      "600/600 - 2s - loss: 1.4846 - acc: 0.9787 - val_loss: 1.4813 - val_acc: 0.9824\n",
      "Epoch 16/100\n",
      "600/600 - 2s - loss: 1.4842 - acc: 0.9790 - val_loss: 1.4812 - val_acc: 0.9819\n",
      "Epoch 17/100\n",
      "600/600 - 2s - loss: 1.4835 - acc: 0.9801 - val_loss: 1.4805 - val_acc: 0.9825\n",
      "Epoch 18/100\n",
      "600/600 - 2s - loss: 1.4828 - acc: 0.9804 - val_loss: 1.4806 - val_acc: 0.9811\n",
      "Epoch 19/100\n",
      "600/600 - 2s - loss: 1.4824 - acc: 0.9804 - val_loss: 1.4803 - val_acc: 0.9818\n",
      "Epoch 20/100\n",
      "600/600 - 2s - loss: 1.4819 - acc: 0.9811 - val_loss: 1.4799 - val_acc: 0.9823\n",
      "Epoch 21/100\n",
      "600/600 - 2s - loss: 1.4819 - acc: 0.9814 - val_loss: 1.4799 - val_acc: 0.9823\n",
      "Epoch 22/100\n",
      "600/600 - 2s - loss: 1.4813 - acc: 0.9819 - val_loss: 1.4792 - val_acc: 0.9826\n",
      "Epoch 23/100\n",
      "600/600 - 2s - loss: 1.4807 - acc: 0.9822 - val_loss: 1.4788 - val_acc: 0.9831\n",
      "Epoch 24/100\n",
      "600/600 - 2s - loss: 1.4810 - acc: 0.9819 - val_loss: 1.4792 - val_acc: 0.9827\n",
      "Epoch 25/100\n",
      "600/600 - 2s - loss: 1.4801 - acc: 0.9823 - val_loss: 1.4790 - val_acc: 0.9831\n",
      "Epoch 26/100\n",
      "600/600 - 2s - loss: 1.4799 - acc: 0.9829 - val_loss: 1.4782 - val_acc: 0.9835\n",
      "Epoch 27/100\n",
      "600/600 - 2s - loss: 1.4792 - acc: 0.9835 - val_loss: 1.4789 - val_acc: 0.9834\n",
      "Epoch 28/100\n",
      "600/600 - 2s - loss: 1.4793 - acc: 0.9832 - val_loss: 1.4786 - val_acc: 0.9838\n",
      "Epoch 29/100\n",
      "600/600 - 2s - loss: 1.4794 - acc: 0.9830 - val_loss: 1.4782 - val_acc: 0.9843\n",
      "Epoch 30/100\n",
      "600/600 - 2s - loss: 1.4787 - acc: 0.9837 - val_loss: 1.4788 - val_acc: 0.9833\n",
      "Epoch 31/100\n",
      "600/600 - 2s - loss: 1.4785 - acc: 0.9841 - val_loss: 1.4786 - val_acc: 0.9835\n",
      "Epoch 32/100\n",
      "600/600 - 2s - loss: 1.4778 - acc: 0.9847 - val_loss: 1.4782 - val_acc: 0.9838\n",
      "Epoch 33/100\n",
      "600/600 - 2s - loss: 1.4785 - acc: 0.9840 - val_loss: 1.4780 - val_acc: 0.9841\n",
      "Epoch 34/100\n",
      "600/600 - 2s - loss: 1.4778 - acc: 0.9849 - val_loss: 1.4780 - val_acc: 0.9842\n",
      "Epoch 35/100\n",
      "600/600 - 2s - loss: 1.4780 - acc: 0.9844 - val_loss: 1.4780 - val_acc: 0.9836\n",
      "Epoch 36/100\n",
      "600/600 - 2s - loss: 1.4775 - acc: 0.9848 - val_loss: 1.4783 - val_acc: 0.9841\n",
      "600/600 - 2s - loss: 1.4769 - acc: 0.9855 - val_loss: 1.4778 - val_acc: 0.9844\n",
      "Epoch 39/100\n",
      "600/600 - 2s - loss: 1.4768 - acc: 0.9854 - val_loss: 1.4778 - val_acc: 0.9845\n",
      "Epoch 40/100\n",
      "600/600 - 2s - loss: 1.4771 - acc: 0.9856 - val_loss: 1.4775 - val_acc: 0.9838\n",
      "Epoch 41/100\n",
      "600/600 - 2s - loss: 1.4767 - acc: 0.9858 - val_loss: 1.4774 - val_acc: 0.9846\n",
      "Epoch 42/100\n",
      "600/600 - 2s - loss: 1.4770 - acc: 0.9854 - val_loss: 1.4770 - val_acc: 0.9856\n",
      "Epoch 43/100\n",
      "600/600 - 2s - loss: 1.4760 - acc: 0.9865 - val_loss: 1.4773 - val_acc: 0.9850\n",
      "Epoch 44/100\n",
      "600/600 - 2s - loss: 1.4764 - acc: 0.9857 - val_loss: 1.4771 - val_acc: 0.9846\n",
      "Epoch 45/100\n",
      "600/600 - 2s - loss: 1.4758 - acc: 0.9869 - val_loss: 1.4773 - val_acc: 0.9843\n",
      "Epoch 46/100\n",
      "600/600 - 2s - loss: 1.4759 - acc: 0.9863 - val_loss: 1.4775 - val_acc: 0.9843\n",
      "Epoch 47/100\n",
      "600/600 - 2s - loss: 1.4760 - acc: 0.9866 - val_loss: 1.4773 - val_acc: 0.9842\n",
      "Epoch 48/100\n",
      "600/600 - 2s - loss: 1.4760 - acc: 0.9862 - val_loss: 1.4770 - val_acc: 0.9854\n",
      "Epoch 49/100\n",
      "600/600 - 2s - loss: 1.4752 - acc: 0.9872 - val_loss: 1.4774 - val_acc: 0.9843\n",
      "Epoch 50/100\n",
      "600/600 - 2s - loss: 1.4758 - acc: 0.9865 - val_loss: 1.4774 - val_acc: 0.9845\n",
      "Epoch 51/100\n",
      "600/600 - 2s - loss: 1.4750 - acc: 0.9871 - val_loss: 1.4775 - val_acc: 0.9841\n",
      "Epoch 52/100\n",
      "600/600 - 2s - loss: 1.4748 - acc: 0.9873 - val_loss: 1.4770 - val_acc: 0.9849\n",
      "Epoch 53/100\n",
      "600/600 - 2s - loss: 1.4750 - acc: 0.9873 - val_loss: 1.4771 - val_acc: 0.9844\n",
      "Epoch 54/100\n",
      "600/600 - 2s - loss: 1.4748 - acc: 0.9874 - val_loss: 1.4774 - val_acc: 0.9845\n",
      "Epoch 55/100\n",
      "600/600 - 2s - loss: 1.4750 - acc: 0.9870 - val_loss: 1.4773 - val_acc: 0.9843\n",
      "Epoch 56/100\n",
      "600/600 - 2s - loss: 1.4747 - acc: 0.9876 - val_loss: 1.4773 - val_acc: 0.9839\n",
      "Epoch 57/100\n",
      "600/600 - 2s - loss: 1.4750 - acc: 0.9871 - val_loss: 1.4773 - val_acc: 0.9846\n",
      "Epoch 58/100\n",
      "600/600 - 2s - loss: 1.4744 - acc: 0.9877 - val_loss: 1.4774 - val_acc: 0.9844\n",
      "Epoch 59/100\n",
      "600/600 - 2s - loss: 1.4742 - acc: 0.9880 - val_loss: 1.4768 - val_acc: 0.9846\n",
      "Epoch 60/100\n",
      "600/600 - 2s - loss: 1.4743 - acc: 0.9876 - val_loss: 1.4776 - val_acc: 0.9844\n",
      "Epoch 61/100\n",
      "600/600 - 2s - loss: 1.4744 - acc: 0.9875 - val_loss: 1.4764 - val_acc: 0.9854\n",
      "Epoch 62/100\n",
      "600/600 - 2s - loss: 1.4742 - acc: 0.9877 - val_loss: 1.4767 - val_acc: 0.9856\n",
      "Epoch 63/100\n",
      "600/600 - 2s - loss: 1.4743 - acc: 0.9882 - val_loss: 1.4773 - val_acc: 0.9840\n",
      "Epoch 64/100\n",
      "600/600 - 2s - loss: 1.4737 - acc: 0.9885 - val_loss: 1.4767 - val_acc: 0.9855\n",
      "Epoch 65/100\n",
      "600/600 - 2s - loss: 1.4736 - acc: 0.9886 - val_loss: 1.4767 - val_acc: 0.9851\n",
      "Epoch 66/100\n",
      "600/600 - 2s - loss: 1.4739 - acc: 0.9883 - val_loss: 1.4767 - val_acc: 0.9853\n",
      "Epoch 67/100\n",
      "600/600 - 2s - loss: 1.4737 - acc: 0.9884 - val_loss: 1.4769 - val_acc: 0.9846\n",
      "Epoch 68/100\n",
      "600/600 - 2s - loss: 1.4742 - acc: 0.9877 - val_loss: 1.4762 - val_acc: 0.9855\n",
      "Epoch 69/100\n",
      "600/600 - 2s - loss: 1.4734 - acc: 0.9886 - val_loss: 1.4763 - val_acc: 0.9859\n",
      "Epoch 70/100\n",
      "600/600 - 2s - loss: 1.4739 - acc: 0.9880 - val_loss: 1.4765 - val_acc: 0.9847\n",
      "Epoch 71/100\n",
      "600/600 - 2s - loss: 1.4737 - acc: 0.9883 - val_loss: 1.4768 - val_acc: 0.9844\n",
      "Epoch 72/100\n",
      "600/600 - 2s - loss: 1.4734 - acc: 0.9888 - val_loss: 1.4763 - val_acc: 0.9855\n",
      "Epoch 73/100\n",
      "600/600 - 2s - loss: 1.4729 - acc: 0.9891 - val_loss: 1.4762 - val_acc: 0.9854\n",
      "Epoch 74/100\n",
      "600/600 - 2s - loss: 1.4729 - acc: 0.9891 - val_loss: 1.4765 - val_acc: 0.9847\n",
      "Epoch 75/100\n",
      "600/600 - 2s - loss: 1.4733 - acc: 0.9888 - val_loss: 1.4769 - val_acc: 0.9846\n",
      "Epoch 76/100\n",
      "600/600 - 2s - loss: 1.4731 - acc: 0.9891 - val_loss: 1.4763 - val_acc: 0.9857\n",
      "Epoch 77/100\n",
      "600/600 - 2s - loss: 1.4729 - acc: 0.9893 - val_loss: 1.4764 - val_acc: 0.9852\n",
      "Epoch 78/100\n",
      "600/600 - 2s - loss: 1.4729 - acc: 0.9891 - val_loss: 1.4764 - val_acc: 0.9851\n",
      "Epoch 79/100\n",
      "600/600 - 2s - loss: 1.4729 - acc: 0.9890 - val_loss: 1.4767 - val_acc: 0.9850\n",
      "Epoch 80/100\n",
      "600/600 - 2s - loss: 1.4728 - acc: 0.9893 - val_loss: 1.4772 - val_acc: 0.9843\n",
      "Epoch 81/100\n",
      "600/600 - 2s - loss: 1.4733 - acc: 0.9888 - val_loss: 1.4766 - val_acc: 0.9856\n",
      "Epoch 82/100\n",
      "600/600 - 2s - loss: 1.4726 - acc: 0.9894 - val_loss: 1.4771 - val_acc: 0.9841\n",
      "Epoch 83/100\n",
      "600/600 - 2s - loss: 1.4729 - acc: 0.9891 - val_loss: 1.4768 - val_acc: 0.9847\n",
      "Epoch 84/100\n",
      "600/600 - 2s - loss: 1.4724 - acc: 0.9895 - val_loss: 1.4764 - val_acc: 0.9855\n",
      "Epoch 85/100\n",
      "600/600 - 2s - loss: 1.4729 - acc: 0.9890 - val_loss: 1.4766 - val_acc: 0.9852\n",
      "Epoch 86/100\n",
      "600/600 - 2s - loss: 1.4728 - acc: 0.9891 - val_loss: 1.4760 - val_acc: 0.9856\n",
      "Epoch 87/100\n",
      "600/600 - 2s - loss: 1.4731 - acc: 0.9887 - val_loss: 1.4763 - val_acc: 0.9855\n",
      "Epoch 88/100\n",
      "600/600 - 2s - loss: 1.4722 - acc: 0.9898 - val_loss: 1.4768 - val_acc: 0.9849\n",
      "Epoch 89/100\n",
      "600/600 - 2s - loss: 1.4725 - acc: 0.9895 - val_loss: 1.4761 - val_acc: 0.9855\n",
      "Epoch 90/100\n",
      "600/600 - 2s - loss: 1.4721 - acc: 0.9899 - val_loss: 1.4763 - val_acc: 0.9848\n",
      "Epoch 91/100\n",
      "600/600 - 2s - loss: 1.4725 - acc: 0.9894 - val_loss: 1.4758 - val_acc: 0.9859\n",
      "Epoch 92/100\n",
      "600/600 - 2s - loss: 1.4721 - acc: 0.9898 - val_loss: 1.4757 - val_acc: 0.9862\n",
      "Epoch 93/100\n",
      "600/600 - 2s - loss: 1.4728 - acc: 0.9889 - val_loss: 1.4752 - val_acc: 0.9866\n",
      "Epoch 94/100\n",
      "600/600 - 2s - loss: 1.4722 - acc: 0.9897 - val_loss: 1.4755 - val_acc: 0.9856\n",
      "Epoch 95/100\n",
      "600/600 - 2s - loss: 1.4722 - acc: 0.9898 - val_loss: 1.4757 - val_acc: 0.9856\n",
      "Epoch 96/100\n",
      "600/600 - 2s - loss: 1.4725 - acc: 0.9895 - val_loss: 1.4764 - val_acc: 0.9850\n",
      "Epoch 97/100\n",
      "600/600 - 2s - loss: 1.4717 - acc: 0.9903 - val_loss: 1.4760 - val_acc: 0.9858\n",
      "Epoch 98/100\n",
      "600/600 - 2s - loss: 1.4718 - acc: 0.9900 - val_loss: 1.4766 - val_acc: 0.9841\n",
      "Epoch 99/100\n",
      "600/600 - 2s - loss: 1.4722 - acc: 0.9898 - val_loss: 1.4755 - val_acc: 0.9863\n",
      "Epoch 100/100\n",
      "600/600 - 2s - loss: 1.4720 - acc: 0.9899 - val_loss: 1.4761 - val_acc: 0.9855\n"
     ]
    }
   ],
   "source": [
    "x_train = x_train.reshape(train_shape)\n",
    "x_test = x_test.reshape(test_shape)\n",
    "x_train = x_train[...,tf.newaxis]\n",
    "x_test = x_test[...,tf.newaxis]\n",
    "epocas = 100\n",
    "model = keras.Sequential()\n",
    "model.add(keras.layers.Conv2D(16,(3, 3), activation='relu', padding='same',input_shape=(28,28,1)))\n",
    "model.add(keras.layers.MaxPooling2D(pool_size = (2, 2), padding='same'))\n",
    "model.add(keras.layers.Dropout(0.3))\n",
    "model.add(keras.layers.Flatten())\n",
    "model.add(keras.layers.Dense(10,activation='softmax'))\n",
    "model.compile(optimizer='adam', loss=tf.keras.losses.CategoricalCrossentropy(from_logits=True),metrics=['acc'])\n",
    "history = model.fit(x_train, yy_train, epochs=epocas, validation_data=(x_test, yy_test),shuffle=True,batch_size=100, verbose=2)"
   ]
  },
  {
   "cell_type": "code",
   "execution_count": 35,
   "metadata": {
    "colab": {
     "base_uri": "https://localhost:8080/",
     "height": 281
    },
    "id": "C21lpwOTPyO7",
    "outputId": "4731cb1a-d4f6-4cca-a8e7-54e14ca36f7d"
   },
   "outputs": [
    {
     "data": {
      "application/javascript": [
       "\n",
       "    async function download(id, filename, size) {\n",
       "      if (!google.colab.kernel.accessAllowed) {\n",
       "        return;\n",
       "      }\n",
       "      const div = document.createElement('div');\n",
       "      const label = document.createElement('label');\n",
       "      label.textContent = `Downloading \"${filename}\": `;\n",
       "      div.appendChild(label);\n",
       "      const progress = document.createElement('progress');\n",
       "      progress.max = size;\n",
       "      div.appendChild(progress);\n",
       "      document.body.appendChild(div);\n",
       "\n",
       "      const buffers = [];\n",
       "      let downloaded = 0;\n",
       "\n",
       "      const channel = await google.colab.kernel.comms.open(id);\n",
       "      // Send a message to notify the kernel that we're ready.\n",
       "      channel.send({})\n",
       "\n",
       "      for await (const message of channel.messages) {\n",
       "        // Send a message to notify the kernel that we're ready.\n",
       "        channel.send({})\n",
       "        if (message.buffers) {\n",
       "          for (const buffer of message.buffers) {\n",
       "            buffers.push(buffer);\n",
       "            downloaded += buffer.byteLength;\n",
       "            progress.value = downloaded;\n",
       "          }\n",
       "        }\n",
       "      }\n",
       "      const blob = new Blob(buffers, {type: 'application/binary'});\n",
       "      const a = document.createElement('a');\n",
       "      a.href = window.URL.createObjectURL(blob);\n",
       "      a.download = filename;\n",
       "      div.appendChild(a);\n",
       "      a.click();\n",
       "      div.remove();\n",
       "    }\n",
       "  "
      ],
      "text/plain": [
       "<IPython.core.display.Javascript object>"
      ]
     },
     "metadata": {
      "tags": []
     },
     "output_type": "display_data"
    },
    {
     "data": {
      "application/javascript": [
       "download(\"download_2d0baa2a-d6aa-48b2-b902-eae67868cca4\", \"ej8_2_loss.pdf\", 12373)"
      ],
      "text/plain": [
       "<IPython.core.display.Javascript object>"
      ]
     },
     "metadata": {
      "tags": []
     },
     "output_type": "display_data"
    },
    {
     "data": {
      "image/png": "[encoded data removed]",
      "text/plain": [
       "<Figure size 432x288 with 1 Axes>"
      ]
     },
     "metadata": {
      "needs_background": "light",
      "tags": []
     },
     "output_type": "display_data"
    }
   ],
   "source": [
    "plt.plot(history.history['val_loss'],label='test data',linewidth=2)\n",
    "plt.plot(history.history['loss'],label='train data',linewidth=2)\n",
    "plt.legend()\n",
    "plt.xlabel('Épocas')\n",
    "plt.ylabel('Loss')\n",
    "plt.savefig('ej8_2_loss.pdf')\n",
    "files.download( 'ej8_2_loss.pdf' ) "
   ]
  },
  {
   "cell_type": "code",
   "execution_count": 36,
   "metadata": {
    "colab": {
     "base_uri": "https://localhost:8080/",
     "height": 281
    },
    "id": "q18GfM57Pybr",
    "outputId": "12f2df34-5d5e-41bd-d9c8-feeea52b331e"
   },
   "outputs": [
    {
     "data": {
      "application/javascript": [
       "\n",
       "    async function download(id, filename, size) {\n",
       "      if (!google.colab.kernel.accessAllowed) {\n",
       "        return;\n",
       "      }\n",
       "      const div = document.createElement('div');\n",
       "      const label = document.createElement('label');\n",
       "      label.textContent = `Downloading \"${filename}\": `;\n",
       "      div.appendChild(label);\n",
       "      const progress = document.createElement('progress');\n",
       "      progress.max = size;\n",
       "      div.appendChild(progress);\n",
       "      document.body.appendChild(div);\n",
       "\n",
       "      const buffers = [];\n",
       "      let downloaded = 0;\n",
       "\n",
       "      const channel = await google.colab.kernel.comms.open(id);\n",
       "      // Send a message to notify the kernel that we're ready.\n",
       "      channel.send({})\n",
       "\n",
       "      for await (const message of channel.messages) {\n",
       "        // Send a message to notify the kernel that we're ready.\n",
       "        channel.send({})\n",
       "        if (message.buffers) {\n",
       "          for (const buffer of message.buffers) {\n",
       "            buffers.push(buffer);\n",
       "            downloaded += buffer.byteLength;\n",
       "            progress.value = downloaded;\n",
       "          }\n",
       "        }\n",
       "      }\n",
       "      const blob = new Blob(buffers, {type: 'application/binary'});\n",
       "      const a = document.createElement('a');\n",
       "      a.href = window.URL.createObjectURL(blob);\n",
       "      a.download = filename;\n",
       "      div.appendChild(a);\n",
       "      a.click();\n",
       "      div.remove();\n",
       "    }\n",
       "  "
      ],
      "text/plain": [
       "<IPython.core.display.Javascript object>"
      ]
     },
     "metadata": {
      "tags": []
     },
     "output_type": "display_data"
    },
    {
     "data": {
      "application/javascript": [
       "download(\"download_091a590c-2048-4016-b4af-557829b31939\", \"ej8_2_acc.pdf\", 13278)"
      ],
      "text/plain": [
       "<IPython.core.display.Javascript object>"
      ]
     },
     "metadata": {
      "tags": []
     },
     "output_type": "display_data"
    },
    {
     "data": {
      "image/png": "[encoded data removed]",
      "text/plain": [
       "<Figure size 432x288 with 1 Axes>"
      ]
     },
     "metadata": {
      "needs_background": "light",
      "tags": []
     },
     "output_type": "display_data"
    }
   ],
   "source": [
    "plt.plot(history.history['val_acc'],label='test data',linewidth=2)\n",
    "plt.plot(history.history['acc'],label='train data',linewidth=2)\n",
    "plt.legend()\n",
    "plt.text(60,0.88,'test accuracy final: '+str(round(history.history['val_acc'][-1],2)))\n",
    "plt.xlabel('Épocas')\n",
    "plt.ylabel('Accuracy')\n",
    "plt.savefig('ej8_2_acc.pdf')\n",
    "files.download( 'ej8_2_acc.pdf' ) "
   ]
  },
  {
   "cell_type": "code",
   "execution_count": null,
   "metadata": {
    "id": "vyVME0utGOLQ"
   },
   "outputs": [],
   "source": []
  }
 ],
 "metadata": {
  "accelerator": "GPU",
  "colab": {
   "name": "Ej8",
   "provenance": []
  },
  "kernelspec": {
   "display_name": "Python 3",
   "language": "python",
   "name": "python3"
  },
  "language_info": {
   "codemirror_mode": {
    "name": "ipython",
    "version": 3
   },
   "file_extension": ".py",
   "mimetype": "text/x-python",
   "name": "python",
   "nbconvert_exporter": "python",
   "pygments_lexer": "ipython3",
   "version": "3.7.7"
  }
 },
 "nbformat": 4,
 "nbformat_minor": 1
}
