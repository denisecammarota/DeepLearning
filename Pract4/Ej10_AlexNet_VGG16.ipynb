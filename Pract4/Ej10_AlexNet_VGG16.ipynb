{
 "cells": [
  {
   "cell_type": "code",
   "execution_count": 1,
   "metadata": {
    "id": "W1xYtVa-Ohfe"
   },
   "outputs": [
    {
     "name": "stderr",
     "output_type": "stream",
     "text": [
      "Using TensorFlow backend.\n"
     ]
    }
   ],
   "source": [
    "import keras \n",
    "import tensorflow as tf\n",
    "from keras.datasets import mnist #cargo los datos del mnist\n",
    "import numpy as np\n",
    "from keras.callbacks import History \n",
    "import matplotlib.pyplot as plt\n",
    "from numpy import genfromtxt\n",
    "from keras.utils import to_categorical\n",
    "from keras.datasets import cifar10\n",
    "from keras.datasets import cifar100\n",
    "from keras.preprocessing.image import ImageDataGenerator"
   ]
  },
  {
   "cell_type": "code",
   "execution_count": 2,
   "metadata": {
    "id": "2lqspN03O806"
   },
   "outputs": [],
   "source": [
    "#cargo datos de cifar\n",
    "(x_train,y_train),(x_test,y_test) = cifar10.load_data() \n",
    "#mean = np.mean(x_train,axis=0)\n",
    "#sigma = np.std(x_train,axis=0) \n",
    "#x_train = (x_train - mean)/sigma\n",
    "#x_test = (x_test - mean)/sigma\n",
    "yy_test = to_categorical(y_test)\n",
    "yy_train = to_categorical(y_train)\n",
    "epocas = 100"
   ]
  },
  {
   "cell_type": "code",
   "execution_count": null,
   "metadata": {
    "colab": {
     "base_uri": "https://localhost:8080/",
     "height": 571
    },
    "id": "_vLQ_d-qPp9D",
    "outputId": "cdb2c24d-241b-4a79-f2f4-51d90c3a0911"
   },
   "outputs": [
    {
     "name": "stdout",
     "output_type": "stream",
     "text": [
      "Train on 50000 samples, validate on 10000 samples\n",
      "Epoch 1/100\n",
      " - 12s - loss: 1.9710 - acc: 0.2793 - val_loss: 1.7117 - val_acc: 0.3827\n",
      "Epoch 2/100\n",
      " - 11s - loss: 1.6579 - acc: 0.4037 - val_loss: 1.5870 - val_acc: 0.4314\n",
      "Epoch 3/100\n",
      " - 11s - loss: 1.5172 - acc: 0.4546 - val_loss: 1.4524 - val_acc: 0.4730\n",
      "Epoch 4/100\n",
      " - 11s - loss: 1.4331 - acc: 0.4861 - val_loss: 1.4221 - val_acc: 0.4913\n",
      "Epoch 5/100\n",
      " - 11s - loss: 1.3694 - acc: 0.5099 - val_loss: 1.3597 - val_acc: 0.5043\n",
      "Epoch 6/100\n",
      " - 11s - loss: 1.3089 - acc: 0.5352 - val_loss: 1.3142 - val_acc: 0.5313\n",
      "Epoch 7/100\n",
      " - 11s - loss: 1.2660 - acc: 0.5479 - val_loss: 1.2814 - val_acc: 0.5483\n",
      "Epoch 8/100\n",
      " - 11s - loss: 1.2170 - acc: 0.5682 - val_loss: 1.3159 - val_acc: 0.5364\n",
      "Epoch 9/100\n",
      " - 11s - loss: 1.1773 - acc: 0.5853 - val_loss: 1.2470 - val_acc: 0.5601\n",
      "Epoch 10/100\n",
      " - 11s - loss: 1.1384 - acc: 0.5968 - val_loss: 1.2231 - val_acc: 0.5583\n",
      "Epoch 11/100\n",
      " - 11s - loss: 1.0980 - acc: 0.6125 - val_loss: 1.3589 - val_acc: 0.5151\n",
      "Epoch 12/100\n",
      " - 11s - loss: 1.0658 - acc: 0.6236 - val_loss: 1.1986 - val_acc: 0.5760\n",
      "Epoch 13/100\n",
      " - 11s - loss: 1.0389 - acc: 0.6333 - val_loss: 1.1733 - val_acc: 0.5848\n",
      "Epoch 14/100\n",
      " - 11s - loss: 1.0020 - acc: 0.6470 - val_loss: 1.1722 - val_acc: 0.5913\n",
      "Epoch 15/100\n",
      " - 11s - loss: 0.9742 - acc: 0.6563 - val_loss: 1.2694 - val_acc: 0.5624\n",
      "Epoch 16/100\n",
      " - 12s - loss: 0.9405 - acc: 0.6675 - val_loss: 1.1628 - val_acc: 0.5958\n",
      "Epoch 17/100\n",
      " - 12s - loss: 0.9154 - acc: 0.6776 - val_loss: 1.1462 - val_acc: 0.6013\n",
      "Epoch 18/100\n"
     ]
    }
   ],
   "source": [
    "#ALEXNET\n",
    "model = keras.models.Sequential()\n",
    "model.add(keras.layers.Conv2D(96,(11,11),strides=(4,4),activation='relu',input_shape=(32,32,3)))\n",
    "model.add(keras.layers.MaxPooling2D(pool_size=(2,2),strides=(2,2)))\n",
    "model.add(keras.layers.Conv2D(96,(5,5),strides=(1,1),activation='relu',padding='same'))\n",
    "model.add(keras.layers.MaxPooling2D(pool_size=(2,2),strides=(2,2)))\n",
    "model.add(keras.layers.Conv2D(384,(3,3),strides=(1,1),activation='relu',padding='same'))\n",
    "model.add(keras.layers.Conv2D(384,(3,3),strides=(1,1),activation='relu',padding='same'))\n",
    "#model.add(keras.layers.Conv2D(256,(3,3),strides=(1,1),activation='relu',padding='same'))\n",
    "#model.add(keras.layers.MaxPooling2D(pool_size=(3,3),strides=(2,2)))\n",
    "model.add(keras.layers.Flatten())\n",
    "model.add(keras.layers.Dense(4096, activation='relu'))\n",
    "model.add(keras.layers.Dense(4096, activation='relu'))\n",
    "model.add(keras.layers.Dense(10, activation='linear'))\n",
    "#model.summary()\n",
    "optimizer = keras.optimizers.SGD(5e-3)\n",
    "model.compile(optimizer,loss=keras.losses.CategoricalCrossentropy(from_logits=True),metrics=['acc'])\n",
    "history = model.fit(x_train, yy_train,epochs=epocas,shuffle=True,validation_data=(x_test, yy_test),batch_size=100, verbose=2)"
   ]
  },
  {
   "cell_type": "code",
   "execution_count": 10,
   "metadata": {
    "id": "2N49u9rTPqPJ"
   },
   "outputs": [
    {
     "name": "stdout",
     "output_type": "stream",
     "text": [
      "Train on 50000 samples, validate on 10000 samples\n",
      "Epoch 1/100\n",
      " - 20s - loss: 2.2781 - acc: 0.1514 - val_loss: 2.2465 - val_acc: 0.1866\n",
      "Epoch 2/100\n",
      " - 20s - loss: 2.2355 - acc: 0.2092 - val_loss: 2.2116 - val_acc: 0.2356\n",
      "Epoch 3/100\n",
      " - 20s - loss: 2.2051 - acc: 0.2455 - val_loss: 2.1577 - val_acc: 0.3004\n",
      "Epoch 4/100\n",
      " - 20s - loss: 2.1805 - acc: 0.2711 - val_loss: 2.1542 - val_acc: 0.2969\n",
      "Epoch 5/100\n",
      " - 20s - loss: 2.1553 - acc: 0.2991 - val_loss: 2.1295 - val_acc: 0.3258\n",
      "Epoch 6/100\n",
      " - 20s - loss: 2.1348 - acc: 0.3204 - val_loss: 2.1062 - val_acc: 0.3510\n",
      "Epoch 7/100\n",
      " - 20s - loss: 2.1164 - acc: 0.3399 - val_loss: 2.1316 - val_acc: 0.3245\n",
      "Epoch 8/100\n",
      " - 20s - loss: 2.1052 - acc: 0.3498 - val_loss: 2.1046 - val_acc: 0.3505\n",
      "Epoch 9/100\n",
      " - 20s - loss: 2.0878 - acc: 0.3687 - val_loss: 2.0636 - val_acc: 0.3983\n",
      "Epoch 10/100\n",
      " - 20s - loss: 2.0745 - acc: 0.3832 - val_loss: 2.0534 - val_acc: 0.4066\n",
      "Epoch 11/100\n",
      " - 20s - loss: 2.0633 - acc: 0.3942 - val_loss: 2.0469 - val_acc: 0.4108\n",
      "Epoch 12/100\n",
      " - 20s - loss: 2.0512 - acc: 0.4066 - val_loss: 2.0427 - val_acc: 0.4194\n",
      "Epoch 13/100\n",
      " - 20s - loss: 2.0453 - acc: 0.4135 - val_loss: 2.0319 - val_acc: 0.4249\n",
      "Epoch 14/100\n",
      " - 20s - loss: 2.0318 - acc: 0.4277 - val_loss: 2.0401 - val_acc: 0.4169\n",
      "Epoch 15/100\n",
      " - 20s - loss: 2.0303 - acc: 0.4289 - val_loss: 2.0184 - val_acc: 0.4390\n",
      "Epoch 16/100\n",
      " - 20s - loss: 2.0204 - acc: 0.4404 - val_loss: 2.0195 - val_acc: 0.4391\n",
      "Epoch 17/100\n",
      " - 20s - loss: 2.0156 - acc: 0.4440 - val_loss: 2.0243 - val_acc: 0.4311\n",
      "Epoch 18/100\n",
      " - 20s - loss: 2.0114 - acc: 0.4486 - val_loss: 2.0204 - val_acc: 0.4360\n",
      "Epoch 19/100\n",
      " - 20s - loss: 2.0020 - acc: 0.4574 - val_loss: 2.0100 - val_acc: 0.4486\n",
      "Epoch 20/100\n",
      " - 20s - loss: 1.9937 - acc: 0.4653 - val_loss: 2.0143 - val_acc: 0.4425\n",
      "Epoch 21/100\n",
      " - 20s - loss: 1.9884 - acc: 0.4717 - val_loss: 2.0047 - val_acc: 0.4533\n",
      "Epoch 22/100\n",
      " - 20s - loss: 1.9856 - acc: 0.4754 - val_loss: 1.9889 - val_acc: 0.4732\n",
      "Epoch 23/100\n",
      " - 20s - loss: 1.9817 - acc: 0.4789 - val_loss: 2.0009 - val_acc: 0.4560\n",
      "Epoch 24/100\n",
      " - 20s - loss: 1.9768 - acc: 0.4838 - val_loss: 1.9822 - val_acc: 0.4778\n",
      "Epoch 25/100\n",
      " - 20s - loss: 1.9675 - acc: 0.4933 - val_loss: 1.9819 - val_acc: 0.4769\n",
      "Epoch 26/100\n",
      " - 20s - loss: 1.9627 - acc: 0.4985 - val_loss: 1.9751 - val_acc: 0.4851\n",
      "Epoch 27/100\n",
      " - 20s - loss: 1.9571 - acc: 0.5061 - val_loss: 1.9658 - val_acc: 0.4948\n",
      "Epoch 28/100\n",
      " - 20s - loss: 1.9537 - acc: 0.5094 - val_loss: 1.9713 - val_acc: 0.4888\n",
      "Epoch 29/100\n",
      " - 20s - loss: 1.9461 - acc: 0.5173 - val_loss: 1.9653 - val_acc: 0.4913\n",
      "Epoch 30/100\n",
      " - 20s - loss: 1.9419 - acc: 0.5212 - val_loss: 1.9568 - val_acc: 0.5011\n",
      "Epoch 31/100\n",
      " - 20s - loss: 1.9344 - acc: 0.5271 - val_loss: 1.9477 - val_acc: 0.5119\n",
      "Epoch 32/100\n",
      " - 20s - loss: 1.9348 - acc: 0.5281 - val_loss: 1.9547 - val_acc: 0.5065\n",
      "Epoch 33/100\n"
     ]
    },
    {
     "ename": "KeyboardInterrupt",
     "evalue": "",
     "output_type": "error",
     "traceback": [
      "\u001b[1;31m---------------------------------------------------------------------------\u001b[0m",
      "\u001b[1;31mKeyboardInterrupt\u001b[0m                         Traceback (most recent call last)",
      "\u001b[1;32m<ipython-input-10-35abe640ce61>\u001b[0m in \u001b[0;36m<module>\u001b[1;34m\u001b[0m\n\u001b[0;32m     25\u001b[0m \u001b[1;31m#model.summary()\u001b[0m\u001b[1;33m\u001b[0m\u001b[1;33m\u001b[0m\u001b[1;33m\u001b[0m\u001b[0m\n\u001b[0;32m     26\u001b[0m \u001b[0mmodel\u001b[0m\u001b[1;33m.\u001b[0m\u001b[0mcompile\u001b[0m\u001b[1;33m(\u001b[0m\u001b[0moptimizer\u001b[0m\u001b[1;33m=\u001b[0m\u001b[1;34m'sgd'\u001b[0m\u001b[1;33m,\u001b[0m\u001b[0mloss\u001b[0m\u001b[1;33m=\u001b[0m\u001b[0mkeras\u001b[0m\u001b[1;33m.\u001b[0m\u001b[0mlosses\u001b[0m\u001b[1;33m.\u001b[0m\u001b[0mCategoricalCrossentropy\u001b[0m\u001b[1;33m(\u001b[0m\u001b[0mfrom_logits\u001b[0m\u001b[1;33m=\u001b[0m\u001b[1;32mTrue\u001b[0m\u001b[1;33m)\u001b[0m\u001b[1;33m,\u001b[0m\u001b[0mmetrics\u001b[0m\u001b[1;33m=\u001b[0m\u001b[1;33m[\u001b[0m\u001b[1;34m'acc'\u001b[0m\u001b[1;33m]\u001b[0m\u001b[1;33m)\u001b[0m\u001b[1;33m\u001b[0m\u001b[1;33m\u001b[0m\u001b[0m\n\u001b[1;32m---> 27\u001b[1;33m \u001b[0mhistory\u001b[0m \u001b[1;33m=\u001b[0m \u001b[0mmodel\u001b[0m\u001b[1;33m.\u001b[0m\u001b[0mfit\u001b[0m\u001b[1;33m(\u001b[0m\u001b[0mx_train\u001b[0m\u001b[1;33m,\u001b[0m \u001b[0myy_train\u001b[0m\u001b[1;33m,\u001b[0m\u001b[0mepochs\u001b[0m\u001b[1;33m=\u001b[0m\u001b[0mepocas\u001b[0m\u001b[1;33m,\u001b[0m\u001b[0mshuffle\u001b[0m\u001b[1;33m=\u001b[0m\u001b[1;32mTrue\u001b[0m\u001b[1;33m,\u001b[0m\u001b[0mvalidation_data\u001b[0m\u001b[1;33m=\u001b[0m\u001b[1;33m(\u001b[0m\u001b[0mx_test\u001b[0m\u001b[1;33m,\u001b[0m \u001b[0myy_test\u001b[0m\u001b[1;33m)\u001b[0m\u001b[1;33m,\u001b[0m\u001b[0mbatch_size\u001b[0m\u001b[1;33m=\u001b[0m\u001b[1;36m1000\u001b[0m\u001b[1;33m,\u001b[0m \u001b[0mverbose\u001b[0m\u001b[1;33m=\u001b[0m\u001b[1;36m2\u001b[0m\u001b[1;33m)\u001b[0m\u001b[1;33m\u001b[0m\u001b[1;33m\u001b[0m\u001b[0m\n\u001b[0m",
      "\u001b[1;32m~\\Anaconda3\\envs\\tf-gpu\\lib\\site-packages\\keras\\engine\\training.py\u001b[0m in \u001b[0;36mfit\u001b[1;34m(self, x, y, batch_size, epochs, verbose, callbacks, validation_split, validation_data, shuffle, class_weight, sample_weight, initial_epoch, steps_per_epoch, validation_steps, validation_freq, max_queue_size, workers, use_multiprocessing, **kwargs)\u001b[0m\n\u001b[0;32m   1237\u001b[0m                                         \u001b[0msteps_per_epoch\u001b[0m\u001b[1;33m=\u001b[0m\u001b[0msteps_per_epoch\u001b[0m\u001b[1;33m,\u001b[0m\u001b[1;33m\u001b[0m\u001b[1;33m\u001b[0m\u001b[0m\n\u001b[0;32m   1238\u001b[0m                                         \u001b[0mvalidation_steps\u001b[0m\u001b[1;33m=\u001b[0m\u001b[0mvalidation_steps\u001b[0m\u001b[1;33m,\u001b[0m\u001b[1;33m\u001b[0m\u001b[1;33m\u001b[0m\u001b[0m\n\u001b[1;32m-> 1239\u001b[1;33m                                         validation_freq=validation_freq)\n\u001b[0m\u001b[0;32m   1240\u001b[0m \u001b[1;33m\u001b[0m\u001b[0m\n\u001b[0;32m   1241\u001b[0m     def evaluate(self,\n",
      "\u001b[1;32m~\\Anaconda3\\envs\\tf-gpu\\lib\\site-packages\\keras\\engine\\training_arrays.py\u001b[0m in \u001b[0;36mfit_loop\u001b[1;34m(model, fit_function, fit_inputs, out_labels, batch_size, epochs, verbose, callbacks, val_function, val_inputs, shuffle, initial_epoch, steps_per_epoch, validation_steps, validation_freq)\u001b[0m\n\u001b[0;32m    208\u001b[0m                                          \u001b[0mbatch_size\u001b[0m\u001b[1;33m=\u001b[0m\u001b[0mbatch_size\u001b[0m\u001b[1;33m,\u001b[0m\u001b[1;33m\u001b[0m\u001b[1;33m\u001b[0m\u001b[0m\n\u001b[0;32m    209\u001b[0m                                          \u001b[0mcallbacks\u001b[0m\u001b[1;33m=\u001b[0m\u001b[0mcallbacks\u001b[0m\u001b[1;33m,\u001b[0m\u001b[1;33m\u001b[0m\u001b[1;33m\u001b[0m\u001b[0m\n\u001b[1;32m--> 210\u001b[1;33m                                          verbose=0)\n\u001b[0m\u001b[0;32m    211\u001b[0m                     \u001b[0mval_outs\u001b[0m \u001b[1;33m=\u001b[0m \u001b[0mto_list\u001b[0m\u001b[1;33m(\u001b[0m\u001b[0mval_outs\u001b[0m\u001b[1;33m)\u001b[0m\u001b[1;33m\u001b[0m\u001b[1;33m\u001b[0m\u001b[0m\n\u001b[0;32m    212\u001b[0m                     \u001b[1;31m# Same labels assumed.\u001b[0m\u001b[1;33m\u001b[0m\u001b[1;33m\u001b[0m\u001b[1;33m\u001b[0m\u001b[0m\n",
      "\u001b[1;32m~\\Anaconda3\\envs\\tf-gpu\\lib\\site-packages\\keras\\engine\\training_arrays.py\u001b[0m in \u001b[0;36mtest_loop\u001b[1;34m(model, f, ins, batch_size, verbose, steps, callbacks)\u001b[0m\n\u001b[0;32m    447\u001b[0m             \u001b[0mbatch_logs\u001b[0m \u001b[1;33m=\u001b[0m \u001b[1;33m{\u001b[0m\u001b[1;34m'batch'\u001b[0m\u001b[1;33m:\u001b[0m \u001b[0mbatch_index\u001b[0m\u001b[1;33m,\u001b[0m \u001b[1;34m'size'\u001b[0m\u001b[1;33m:\u001b[0m \u001b[0mlen\u001b[0m\u001b[1;33m(\u001b[0m\u001b[0mbatch_ids\u001b[0m\u001b[1;33m)\u001b[0m\u001b[1;33m}\u001b[0m\u001b[1;33m\u001b[0m\u001b[1;33m\u001b[0m\u001b[0m\n\u001b[0;32m    448\u001b[0m             \u001b[0mcallbacks\u001b[0m\u001b[1;33m.\u001b[0m\u001b[0m_call_batch_hook\u001b[0m\u001b[1;33m(\u001b[0m\u001b[1;34m'test'\u001b[0m\u001b[1;33m,\u001b[0m \u001b[1;34m'begin'\u001b[0m\u001b[1;33m,\u001b[0m \u001b[0mbatch_index\u001b[0m\u001b[1;33m,\u001b[0m \u001b[0mbatch_logs\u001b[0m\u001b[1;33m)\u001b[0m\u001b[1;33m\u001b[0m\u001b[1;33m\u001b[0m\u001b[0m\n\u001b[1;32m--> 449\u001b[1;33m             \u001b[0mbatch_outs\u001b[0m \u001b[1;33m=\u001b[0m \u001b[0mf\u001b[0m\u001b[1;33m(\u001b[0m\u001b[0mins_batch\u001b[0m\u001b[1;33m)\u001b[0m\u001b[1;33m\u001b[0m\u001b[1;33m\u001b[0m\u001b[0m\n\u001b[0m\u001b[0;32m    450\u001b[0m             \u001b[1;32mif\u001b[0m \u001b[0misinstance\u001b[0m\u001b[1;33m(\u001b[0m\u001b[0mbatch_outs\u001b[0m\u001b[1;33m,\u001b[0m \u001b[0mlist\u001b[0m\u001b[1;33m)\u001b[0m\u001b[1;33m:\u001b[0m\u001b[1;33m\u001b[0m\u001b[1;33m\u001b[0m\u001b[0m\n\u001b[0;32m    451\u001b[0m                 \u001b[1;32mif\u001b[0m \u001b[0mbatch_index\u001b[0m \u001b[1;33m==\u001b[0m \u001b[1;36m0\u001b[0m\u001b[1;33m:\u001b[0m\u001b[1;33m\u001b[0m\u001b[1;33m\u001b[0m\u001b[0m\n",
      "\u001b[1;32m~\\Anaconda3\\envs\\tf-gpu\\lib\\site-packages\\tensorflow_core\\python\\keras\\backend.py\u001b[0m in \u001b[0;36m__call__\u001b[1;34m(self, inputs)\u001b[0m\n\u001b[0;32m   3719\u001b[0m               'You must feed a value for placeholder %s' % (tensor,))\n\u001b[0;32m   3720\u001b[0m       \u001b[1;32mif\u001b[0m \u001b[1;32mnot\u001b[0m \u001b[0misinstance\u001b[0m\u001b[1;33m(\u001b[0m\u001b[0mvalue\u001b[0m\u001b[1;33m,\u001b[0m \u001b[0mops\u001b[0m\u001b[1;33m.\u001b[0m\u001b[0mTensor\u001b[0m\u001b[1;33m)\u001b[0m\u001b[1;33m:\u001b[0m\u001b[1;33m\u001b[0m\u001b[1;33m\u001b[0m\u001b[0m\n\u001b[1;32m-> 3721\u001b[1;33m         \u001b[0mvalue\u001b[0m \u001b[1;33m=\u001b[0m \u001b[0mops\u001b[0m\u001b[1;33m.\u001b[0m\u001b[0mconvert_to_tensor\u001b[0m\u001b[1;33m(\u001b[0m\u001b[0mvalue\u001b[0m\u001b[1;33m,\u001b[0m \u001b[0mdtype\u001b[0m\u001b[1;33m=\u001b[0m\u001b[0mtensor\u001b[0m\u001b[1;33m.\u001b[0m\u001b[0mdtype\u001b[0m\u001b[1;33m)\u001b[0m\u001b[1;33m\u001b[0m\u001b[1;33m\u001b[0m\u001b[0m\n\u001b[0m\u001b[0;32m   3722\u001b[0m       \u001b[1;32mif\u001b[0m \u001b[0mvalue\u001b[0m\u001b[1;33m.\u001b[0m\u001b[0mdtype\u001b[0m \u001b[1;33m!=\u001b[0m \u001b[0mtensor\u001b[0m\u001b[1;33m.\u001b[0m\u001b[0mdtype\u001b[0m\u001b[1;33m:\u001b[0m\u001b[1;33m\u001b[0m\u001b[1;33m\u001b[0m\u001b[0m\n\u001b[0;32m   3723\u001b[0m         \u001b[1;31m# Temporary workaround due to `convert_to_tensor` not casting floats.\u001b[0m\u001b[1;33m\u001b[0m\u001b[1;33m\u001b[0m\u001b[1;33m\u001b[0m\u001b[0m\n",
      "\u001b[1;32m~\\Anaconda3\\envs\\tf-gpu\\lib\\site-packages\\tensorflow_core\\python\\framework\\ops.py\u001b[0m in \u001b[0;36mconvert_to_tensor\u001b[1;34m(value, dtype, name, as_ref, preferred_dtype, dtype_hint, ctx, accepted_result_types)\u001b[0m\n\u001b[0;32m   1312\u001b[0m \u001b[1;33m\u001b[0m\u001b[0m\n\u001b[0;32m   1313\u001b[0m     \u001b[1;32mif\u001b[0m \u001b[0mret\u001b[0m \u001b[1;32mis\u001b[0m \u001b[1;32mNone\u001b[0m\u001b[1;33m:\u001b[0m\u001b[1;33m\u001b[0m\u001b[1;33m\u001b[0m\u001b[0m\n\u001b[1;32m-> 1314\u001b[1;33m       \u001b[0mret\u001b[0m \u001b[1;33m=\u001b[0m \u001b[0mconversion_func\u001b[0m\u001b[1;33m(\u001b[0m\u001b[0mvalue\u001b[0m\u001b[1;33m,\u001b[0m \u001b[0mdtype\u001b[0m\u001b[1;33m=\u001b[0m\u001b[0mdtype\u001b[0m\u001b[1;33m,\u001b[0m \u001b[0mname\u001b[0m\u001b[1;33m=\u001b[0m\u001b[0mname\u001b[0m\u001b[1;33m,\u001b[0m \u001b[0mas_ref\u001b[0m\u001b[1;33m=\u001b[0m\u001b[0mas_ref\u001b[0m\u001b[1;33m)\u001b[0m\u001b[1;33m\u001b[0m\u001b[1;33m\u001b[0m\u001b[0m\n\u001b[0m\u001b[0;32m   1315\u001b[0m \u001b[1;33m\u001b[0m\u001b[0m\n\u001b[0;32m   1316\u001b[0m     \u001b[1;32mif\u001b[0m \u001b[0mret\u001b[0m \u001b[1;32mis\u001b[0m \u001b[0mNotImplemented\u001b[0m\u001b[1;33m:\u001b[0m\u001b[1;33m\u001b[0m\u001b[1;33m\u001b[0m\u001b[0m\n",
      "\u001b[1;32m~\\Anaconda3\\envs\\tf-gpu\\lib\\site-packages\\tensorflow_core\\python\\framework\\tensor_conversion_registry.py\u001b[0m in \u001b[0;36m_default_conversion_function\u001b[1;34m(***failed resolving arguments***)\u001b[0m\n\u001b[0;32m     50\u001b[0m \u001b[1;32mdef\u001b[0m \u001b[0m_default_conversion_function\u001b[0m\u001b[1;33m(\u001b[0m\u001b[0mvalue\u001b[0m\u001b[1;33m,\u001b[0m \u001b[0mdtype\u001b[0m\u001b[1;33m,\u001b[0m \u001b[0mname\u001b[0m\u001b[1;33m,\u001b[0m \u001b[0mas_ref\u001b[0m\u001b[1;33m)\u001b[0m\u001b[1;33m:\u001b[0m\u001b[1;33m\u001b[0m\u001b[1;33m\u001b[0m\u001b[0m\n\u001b[0;32m     51\u001b[0m   \u001b[1;32mdel\u001b[0m \u001b[0mas_ref\u001b[0m  \u001b[1;31m# Unused.\u001b[0m\u001b[1;33m\u001b[0m\u001b[1;33m\u001b[0m\u001b[0m\n\u001b[1;32m---> 52\u001b[1;33m   \u001b[1;32mreturn\u001b[0m \u001b[0mconstant_op\u001b[0m\u001b[1;33m.\u001b[0m\u001b[0mconstant\u001b[0m\u001b[1;33m(\u001b[0m\u001b[0mvalue\u001b[0m\u001b[1;33m,\u001b[0m \u001b[0mdtype\u001b[0m\u001b[1;33m,\u001b[0m \u001b[0mname\u001b[0m\u001b[1;33m=\u001b[0m\u001b[0mname\u001b[0m\u001b[1;33m)\u001b[0m\u001b[1;33m\u001b[0m\u001b[1;33m\u001b[0m\u001b[0m\n\u001b[0m\u001b[0;32m     53\u001b[0m \u001b[1;33m\u001b[0m\u001b[0m\n\u001b[0;32m     54\u001b[0m \u001b[1;33m\u001b[0m\u001b[0m\n",
      "\u001b[1;32m~\\Anaconda3\\envs\\tf-gpu\\lib\\site-packages\\tensorflow_core\\python\\framework\\constant_op.py\u001b[0m in \u001b[0;36mconstant\u001b[1;34m(value, dtype, shape, name)\u001b[0m\n\u001b[0;32m    256\u001b[0m   \"\"\"\n\u001b[0;32m    257\u001b[0m   return _constant_impl(value, dtype, shape, name, verify_shape=False,\n\u001b[1;32m--> 258\u001b[1;33m                         allow_broadcast=True)\n\u001b[0m\u001b[0;32m    259\u001b[0m \u001b[1;33m\u001b[0m\u001b[0m\n\u001b[0;32m    260\u001b[0m \u001b[1;33m\u001b[0m\u001b[0m\n",
      "\u001b[1;32m~\\Anaconda3\\envs\\tf-gpu\\lib\\site-packages\\tensorflow_core\\python\\framework\\constant_op.py\u001b[0m in \u001b[0;36m_constant_impl\u001b[1;34m(value, dtype, shape, name, verify_shape, allow_broadcast)\u001b[0m\n\u001b[0;32m    264\u001b[0m   \u001b[0mctx\u001b[0m \u001b[1;33m=\u001b[0m \u001b[0mcontext\u001b[0m\u001b[1;33m.\u001b[0m\u001b[0mcontext\u001b[0m\u001b[1;33m(\u001b[0m\u001b[1;33m)\u001b[0m\u001b[1;33m\u001b[0m\u001b[1;33m\u001b[0m\u001b[0m\n\u001b[0;32m    265\u001b[0m   \u001b[1;32mif\u001b[0m \u001b[0mctx\u001b[0m\u001b[1;33m.\u001b[0m\u001b[0mexecuting_eagerly\u001b[0m\u001b[1;33m(\u001b[0m\u001b[1;33m)\u001b[0m\u001b[1;33m:\u001b[0m\u001b[1;33m\u001b[0m\u001b[1;33m\u001b[0m\u001b[0m\n\u001b[1;32m--> 266\u001b[1;33m     \u001b[0mt\u001b[0m \u001b[1;33m=\u001b[0m \u001b[0mconvert_to_eager_tensor\u001b[0m\u001b[1;33m(\u001b[0m\u001b[0mvalue\u001b[0m\u001b[1;33m,\u001b[0m \u001b[0mctx\u001b[0m\u001b[1;33m,\u001b[0m \u001b[0mdtype\u001b[0m\u001b[1;33m)\u001b[0m\u001b[1;33m\u001b[0m\u001b[1;33m\u001b[0m\u001b[0m\n\u001b[0m\u001b[0;32m    267\u001b[0m     \u001b[1;32mif\u001b[0m \u001b[0mshape\u001b[0m \u001b[1;32mis\u001b[0m \u001b[1;32mNone\u001b[0m\u001b[1;33m:\u001b[0m\u001b[1;33m\u001b[0m\u001b[1;33m\u001b[0m\u001b[0m\n\u001b[0;32m    268\u001b[0m       \u001b[1;32mreturn\u001b[0m \u001b[0mt\u001b[0m\u001b[1;33m\u001b[0m\u001b[1;33m\u001b[0m\u001b[0m\n",
      "\u001b[1;32m~\\Anaconda3\\envs\\tf-gpu\\lib\\site-packages\\tensorflow_core\\python\\framework\\constant_op.py\u001b[0m in \u001b[0;36mconvert_to_eager_tensor\u001b[1;34m(value, ctx, dtype)\u001b[0m\n\u001b[0;32m     94\u001b[0m       \u001b[0mdtype\u001b[0m \u001b[1;33m=\u001b[0m \u001b[0mdtypes\u001b[0m\u001b[1;33m.\u001b[0m\u001b[0mas_dtype\u001b[0m\u001b[1;33m(\u001b[0m\u001b[0mdtype\u001b[0m\u001b[1;33m)\u001b[0m\u001b[1;33m.\u001b[0m\u001b[0mas_datatype_enum\u001b[0m\u001b[1;33m\u001b[0m\u001b[1;33m\u001b[0m\u001b[0m\n\u001b[0;32m     95\u001b[0m   \u001b[0mctx\u001b[0m\u001b[1;33m.\u001b[0m\u001b[0mensure_initialized\u001b[0m\u001b[1;33m(\u001b[0m\u001b[1;33m)\u001b[0m\u001b[1;33m\u001b[0m\u001b[1;33m\u001b[0m\u001b[0m\n\u001b[1;32m---> 96\u001b[1;33m   \u001b[1;32mreturn\u001b[0m \u001b[0mops\u001b[0m\u001b[1;33m.\u001b[0m\u001b[0mEagerTensor\u001b[0m\u001b[1;33m(\u001b[0m\u001b[0mvalue\u001b[0m\u001b[1;33m,\u001b[0m \u001b[0mctx\u001b[0m\u001b[1;33m.\u001b[0m\u001b[0mdevice_name\u001b[0m\u001b[1;33m,\u001b[0m \u001b[0mdtype\u001b[0m\u001b[1;33m)\u001b[0m\u001b[1;33m\u001b[0m\u001b[1;33m\u001b[0m\u001b[0m\n\u001b[0m\u001b[0;32m     97\u001b[0m \u001b[1;33m\u001b[0m\u001b[0m\n\u001b[0;32m     98\u001b[0m \u001b[1;33m\u001b[0m\u001b[0m\n",
      "\u001b[1;31mKeyboardInterrupt\u001b[0m: "
     ]
    }
   ],
   "source": [
    "#VGG16\n",
    "model = keras.models.Sequential()\n",
    "model.add(keras.layers.Conv2D(64,(3,3),strides=(1,1),activation='relu',padding='same',input_shape=(32,32,3))) \n",
    "model.add(keras.layers.Conv2D(64,(3,3),strides=(1,1),activation='relu',padding='same'))\n",
    "model.add(keras.layers.MaxPooling2D(pool_size=(2,2),strides=(2,2),padding='same')) #1er maxpooling\n",
    "model.add(keras.layers.Conv2D(128,(3,3),strides=(1,1),activation='relu',padding='same'))\n",
    "model.add(keras.layers.Conv2D(128,(3,3),strides=(1,1),activation='relu',padding='same'))\n",
    "model.add(keras.layers.MaxPooling2D(pool_size=(2,2),strides=(2,2),padding='same')) #2do maxpooling\n",
    "model.add(keras.layers.Conv2D(256,(3,3),strides=(1,1),activation='relu',padding='same'))\n",
    "model.add(keras.layers.Conv2D(256,(3,3),strides=(1,1),activation='relu',padding='same'))\n",
    "model.add(keras.layers.Conv2D(256,(3,3),strides=(1,1),activation='relu',padding='same'))\n",
    "model.add(keras.layers.MaxPooling2D(pool_size=(2,2),strides=(2,2),padding='same')) #3er maxpooling\n",
    "#model.add(keras.layers.Conv2D(512,(3,3),strides=(1,1),activation='relu',padding='same'))\n",
    "#model.add(keras.layers.Conv2D(512,(3,3),strides=(1,1),activation='relu',padding='same'))\n",
    "#model.add(keras.layers.Conv2D(512,(3,3),strides=(1,1),activation='relu',padding='same'))\n",
    "#model.add(keras.layers.MaxPooling2D(pool_size=(3,3),strides=(2,2),padding='same')) #4to maxpooling\n",
    "#model.add(keras.layers.Conv2D(512,(3,3),strides=(1,1),activation='relu',padding='same'))\n",
    "#model.add(keras.layers.Conv2D(512,(3,3),strides=(1,1),activation='relu',padding='same'))\n",
    "#model.add(keras.layers.Conv2D(512,(3,3),strides=(1,1),activation='relu',padding='same'))\n",
    "model.add(keras.layers.Flatten())\n",
    "model.add(keras.layers.Dense(1000, activation='relu'))\n",
    "model.add(keras.layers.Dense(50, activation='relu'))\n",
    "model.add(keras.layers.Dense(50, activation='relu'))\n",
    "model.add(keras.layers.Dense(10, activation='softmax'))\n",
    "#model.summary()\n",
    "model.compile(optimizer='RMSprop',loss=keras.losses.CategoricalCrossentropy(from_logits=True),metrics=['acc'])\n",
    "history = model.fit(x_train, yy_train,epochs=epocas,shuffle=True,validation_data=(x_test, yy_test),batch_size=1000, verbose=2)"
   ]
  },
  {
   "cell_type": "code",
   "execution_count": null,
   "metadata": {
    "id": "9CCGb3-mMT9a"
   },
   "outputs": [],
   "source": []
  }
 ],
 "metadata": {
  "accelerator": "GPU",
  "colab": {
   "collapsed_sections": [],
   "name": "Ej10-AlexNet_VGG16",
   "provenance": []
  },
  "kernelspec": {
   "display_name": "Python 3",
   "language": "python",
   "name": "python3"
  },
  "language_info": {
   "codemirror_mode": {
    "name": "ipython",
    "version": 3
   },
   "file_extension": ".py",
   "mimetype": "text/x-python",
   "name": "python",
   "nbconvert_exporter": "python",
   "pygments_lexer": "ipython3",
   "version": "3.7.7"
  }
 },
 "nbformat": 4,
 "nbformat_minor": 1
}
