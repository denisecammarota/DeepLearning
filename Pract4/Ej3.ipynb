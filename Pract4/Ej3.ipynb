{
 "cells": [
  {
   "cell_type": "code",
   "execution_count": 2,
   "metadata": {},
   "outputs": [
    {
     "name": "stderr",
     "output_type": "stream",
     "text": [
      "Using TensorFlow backend.\n"
     ]
    }
   ],
   "source": [
    "import keras \n",
    "import tensorflow as tf\n",
    "from keras.datasets import cifar10\n",
    "import numpy as np\n",
    "from keras.callbacks import History \n",
    "import matplotlib.pyplot as plt\n",
    "from keras.datasets import imdb #cargo los datos del imdb\n",
    "from keras.utils import to_categorical"
   ]
  },
  {
   "cell_type": "code",
   "execution_count": 3,
   "metadata": {},
   "outputs": [],
   "source": [
    "def randomize(x,y):\n",
    "    #x matriz de datos (datos x dimension)\n",
    "    #y matriz de datos verdaderos (datos x categorias)\n",
    "    indices = np.random.choice(x.shape[0], x.shape[0], replace=False)\n",
    "    x = x[indices]\n",
    "    y = y[indices]\n",
    "    return x,y"
   ]
  },
  {
   "cell_type": "code",
   "execution_count": 4,
   "metadata": {},
   "outputs": [],
   "source": [
    "#reshape como quiero a la data de la bd IMDB\n",
    "def reshapeData(x_total,y_total,n_palabras):\n",
    "    y = to_categorical(y_total) #queda dimensiones reviews x 2\n",
    "    x = np.zeros((len(x_total), n_palabras)) #queda dimensiones reviews x n_palabras\n",
    "    for i, x_total in enumerate(x_total):\n",
    "        x[i, x_total] = 1 #un 1 en posicion en la que hay una palabra, queda cero en otro caso\n",
    "    return x,y"
   ]
  },
  {
   "cell_type": "code",
   "execution_count": 5,
   "metadata": {},
   "outputs": [],
   "source": [
    "def separateData(x_total,y_total):\n",
    "    n_review = y_total.shape[0]\n",
    "    n_train = int(n_reviews * 0.75) #cantidad de datos de train\n",
    "    x_total, y_total = randomize(x_total,y_total)\n",
    "    x_train = x_total[:n_train,:]\n",
    "    y_train = y_total[:n_train]\n",
    "    x_test = x_total[n_train:,:]\n",
    "    y_test = y_total[n_train:]\n",
    "    return x_train,y_train,x_test,y_test"
   ]
  },
  {
   "cell_type": "code",
   "execution_count": 6,
   "metadata": {},
   "outputs": [
    {
     "name": "stderr",
     "output_type": "stream",
     "text": [
      "C:\\Users\\denis\\Anaconda3\\envs\\tf-gpu\\lib\\site-packages\\keras\\datasets\\imdb.py:101: VisibleDeprecationWarning: Creating an ndarray from ragged nested sequences (which is a list-or-tuple of lists-or-tuples-or ndarrays with different lengths or shapes) is deprecated. If you meant to do this, you must specify 'dtype=object' when creating the ndarray\n",
      "  x_train, y_train = np.array(xs[:idx]), np.array(labels[:idx])\n",
      "C:\\Users\\denis\\Anaconda3\\envs\\tf-gpu\\lib\\site-packages\\keras\\datasets\\imdb.py:102: VisibleDeprecationWarning: Creating an ndarray from ragged nested sequences (which is a list-or-tuple of lists-or-tuples-or ndarrays with different lengths or shapes) is deprecated. If you meant to do this, you must specify 'dtype=object' when creating the ndarray\n",
      "  x_test, y_test = np.array(xs[idx:]), np.array(labels[idx:])\n"
     ]
    }
   ],
   "source": [
    "#cargo los datos como dice en el enunciado\n",
    "(x_train, y_train), (x_test, y_test) = imdb.load_data(num_words = 10000) #solo las 10k palabras mas frecuentes en reviews \n",
    "                                                                         #asi que hay 10k palabras posibles por review"
   ]
  },
  {
   "cell_type": "code",
   "execution_count": 7,
   "metadata": {},
   "outputs": [
    {
     "name": "stdout",
     "output_type": "stream",
     "text": [
      "Datos de train originales: 25000\n",
      "Datos de test originales: 25000\n",
      "Palabras en primera review:  218\n",
      "Palabras en decima review:  130\n"
     ]
    }
   ],
   "source": [
    "#cuantos datos de train y test hay por default?\n",
    "print('Datos de train originales:',y_train.shape[0]) #dice 25000 (1/2 del total)\n",
    "print('Datos de test originales:',y_test.shape[0]) #dice 25000 (1/2 del total)\n",
    "n_reviews = y_train.shape[0] + y_test.shape[0] #cantidad total de datos (= 50000)\n",
    "#junto todos los datos para reformatear y separar bien despues como en los otros ejercicios\n",
    "x_total = np.hstack((x_train,x_test)) #lista de palabras de reviews de las peliculas codificadas segun diccionario\n",
    "y_total = np.hstack((y_train,y_test)) #calificacion positiva (1) o calificacion negativa (0)\n",
    "#cuantas palabras tiene cada review? todas formateadas a 10k?\n",
    "#por ejemplo...\n",
    "print(\"Palabras en primera review: \",len(x_total[0])) #218 palabras\n",
    "print(\"Palabras en decima review: \",len(x_total[9])) #130 palabras\n",
    "#bueno, claramente no entonces (no es que tiene 1 si esta la palabra y 0 sino, que seria deseable)\n",
    "n_palabras = 10000 #cantidad de palabras posibles\n",
    "x_total, y_total = reshapeData(x_total,y_total,n_palabras)\n",
    "x_train,y_train,x_test,y_test = separateData(x_total,y_total) #separo en datos de train y test"
   ]
  },
  {
   "cell_type": "markdown",
   "metadata": {},
   "source": [
    "# ejercicio 3 con regularizacion "
   ]
  },
  {
   "cell_type": "code",
   "execution_count": 8,
   "metadata": {},
   "outputs": [],
   "source": [
    "#defino algunas constantes que son utiles, las mismas de los problemas del ejercicio 2\n",
    "n_capa1 = 100  \n",
    "n_capa2 = 10 \n",
    "n_capa3 = 2\n",
    "lr = 1e-2\n",
    "rg = 5e-3 #ya probe foto:5e-3 para overfitting contra 5e-3. sin reg es poner rg=0\n",
    "epocas = 100 #cantidad de epocas"
   ]
  },
  {
   "cell_type": "code",
   "execution_count": 1,
   "metadata": {},
   "outputs": [
    {
     "ename": "NameError",
     "evalue": "name 'keras' is not defined",
     "output_type": "error",
     "traceback": [
      "\u001b[1;31m---------------------------------------------------------------------------\u001b[0m",
      "\u001b[1;31mNameError\u001b[0m                                 Traceback (most recent call last)",
      "\u001b[1;32m<ipython-input-1-9e388b64eeca>\u001b[0m in \u001b[0;36m<module>\u001b[1;34m\u001b[0m\n\u001b[0;32m      1\u001b[0m \u001b[1;31m#entonces puedo proceder a armar la red neuronal parecido al ejercicio anterior\u001b[0m\u001b[1;33m\u001b[0m\u001b[1;33m\u001b[0m\u001b[1;33m\u001b[0m\u001b[0m\n\u001b[0;32m      2\u001b[0m \u001b[1;31m#porque el formato de los datos es el mismo\u001b[0m\u001b[1;33m\u001b[0m\u001b[1;33m\u001b[0m\u001b[1;33m\u001b[0m\u001b[0m\n\u001b[1;32m----> 3\u001b[1;33m \u001b[0mx\u001b[0m \u001b[1;33m=\u001b[0m \u001b[0mkeras\u001b[0m\u001b[1;33m.\u001b[0m\u001b[0mlayers\u001b[0m\u001b[1;33m.\u001b[0m\u001b[0mInput\u001b[0m\u001b[1;33m(\u001b[0m\u001b[0mshape\u001b[0m\u001b[1;33m=\u001b[0m\u001b[1;33m(\u001b[0m\u001b[0mn_palabras\u001b[0m\u001b[1;33m,\u001b[0m\u001b[1;33m)\u001b[0m\u001b[1;33m)\u001b[0m \u001b[1;31m#capa de input\u001b[0m\u001b[1;33m\u001b[0m\u001b[1;33m\u001b[0m\u001b[0m\n\u001b[0m\u001b[0;32m      4\u001b[0m \u001b[0me\u001b[0m \u001b[1;33m=\u001b[0m \u001b[0mkeras\u001b[0m\u001b[1;33m.\u001b[0m\u001b[0mlayers\u001b[0m\u001b[1;33m.\u001b[0m\u001b[0mEmbedding\u001b[0m\u001b[1;33m(\u001b[0m\u001b[0mn_palabras\u001b[0m\u001b[1;33m)\u001b[0m\u001b[1;33m(\u001b[0m\u001b[0mx\u001b[0m\u001b[1;33m)\u001b[0m\u001b[1;33m\u001b[0m\u001b[1;33m\u001b[0m\u001b[0m\n\u001b[0;32m      5\u001b[0m \u001b[1;31m#l1 = keras.layers.Dense(units=n_capa1, activation='relu',kernel_regularizer=keras.regularizers.l2(rg))(x)\u001b[0m\u001b[1;33m\u001b[0m\u001b[1;33m\u001b[0m\u001b[1;33m\u001b[0m\u001b[0m\n",
      "\u001b[1;31mNameError\u001b[0m: name 'keras' is not defined"
     ]
    }
   ],
   "source": [
    "#entonces puedo proceder a armar la red neuronal parecido al ejercicio anterior\n",
    "#porque el formato de los datos es el mismo\n",
    "x = keras.layers.Input(shape=(n_palabras,)) #capa de input\n",
    "l1 = keras.layers.Dense(units=n_capa1, activation='relu',kernel_regularizer=keras.regularizers.l2(rg))(x)\n",
    "l2 = keras.layers.Dense(units=n_capa2, activation='relu',kernel_regularizer=keras.regularizers.l2(rg))(l1)\n",
    "l3 = keras.layers.Dense(units=n_capa3, activation='sigmoid',kernel_regularizer=keras.regularizers.l2(rg))(l2)\n",
    "model = keras.Model(inputs=x, outputs=l3)\n",
    "optimizer = keras.optimizers.SGD(learning_rate=lr)\n",
    "model.compile(optimizer, loss=keras.losses.MSE, metrics=['acc'])\n",
    "history = model.fit(x_train, y_train, epochs=epocas, validation_data=(x_test, y_test),batch_size=100, verbose=2)"
   ]
  },
  {
   "cell_type": "code",
   "execution_count": 142,
   "metadata": {},
   "outputs": [
    {
     "data": {
      "image/png": "[encoded data removed]",
      "text/plain": [
       "<Figure size 432x288 with 1 Axes>"
      ]
     },
     "metadata": {
      "needs_background": "light"
     },
     "output_type": "display_data"
    }
   ],
   "source": [
    "plt.plot(history.history['val_loss'],label='test data')\n",
    "plt.plot(history.history['loss'],label='train data')\n",
    "plt.legend()\n",
    "plt.xlabel('Épocas')\n",
    "plt.ylabel('Loss')\n",
    "plt.savefig('ej3_1_loss_rg.pdf')"
   ]
  },
  {
   "cell_type": "code",
   "execution_count": 143,
   "metadata": {},
   "outputs": [
    {
     "data": {
      "image/png": "[encoded data removed]",
      "text/plain": [
       "<Figure size 432x288 with 1 Axes>"
      ]
     },
     "metadata": {
      "needs_background": "light"
     },
     "output_type": "display_data"
    }
   ],
   "source": [
    "plt.plot(history.history['val_acc'],label='test data')\n",
    "plt.plot(history.history['acc'],label='train data')\n",
    "plt.legend()\n",
    "plt.xlabel('Épocas')\n",
    "plt.ylabel('Accuracy')\n",
    "plt.savefig('ej3_1_acc_rg.pdf')"
   ]
  },
  {
   "cell_type": "markdown",
   "metadata": {},
   "source": [
    "# ejercicio 3 con dropout"
   ]
  },
  {
   "cell_type": "code",
   "execution_count": 180,
   "metadata": {},
   "outputs": [],
   "source": [
    "#defino algunas constantes que son utiles, las mismas de los problemas del ejercicio 2\n",
    "n_capa1 = 100  \n",
    "n_capa2 = 10 \n",
    "n_capa3 = 2\n",
    "lr = 1e-2\n",
    "dprate = 0.3 #dropout imagenes actuales es 0.3\n",
    "epocas = 100 #cantidad de epocas\n",
    "rg = 5e-3"
   ]
  },
  {
   "cell_type": "code",
   "execution_count": 181,
   "metadata": {},
   "outputs": [
    {
     "name": "stdout",
     "output_type": "stream",
     "text": [
      "Train on 37500 samples, validate on 12500 samples\n",
      "Epoch 1/100\n",
      " - 6s - loss: 1.3042 - acc: 0.5556 - val_loss: 1.2550 - val_acc: 0.6894\n",
      "Epoch 2/100\n",
      " - 5s - loss: 1.2117 - acc: 0.6379 - val_loss: 1.1599 - val_acc: 0.7830\n",
      "Epoch 3/100\n",
      " - 5s - loss: 1.1245 - acc: 0.6833 - val_loss: 1.0742 - val_acc: 0.8094\n",
      "Epoch 4/100\n",
      " - 5s - loss: 1.0469 - acc: 0.7135 - val_loss: 0.9980 - val_acc: 0.8234\n",
      "Epoch 5/100\n",
      " - 5s - loss: 0.9763 - acc: 0.7374 - val_loss: 0.9289 - val_acc: 0.8337\n",
      "Epoch 6/100\n",
      " - 5s - loss: 0.9124 - acc: 0.7599 - val_loss: 0.8664 - val_acc: 0.8410\n",
      "Epoch 7/100\n",
      " - 5s - loss: 0.8549 - acc: 0.7809 - val_loss: 0.8108 - val_acc: 0.8437\n",
      "Epoch 8/100\n",
      " - 5s - loss: 0.8024 - acc: 0.7926 - val_loss: 0.7605 - val_acc: 0.8473\n",
      "Epoch 9/100\n",
      " - 5s - loss: 0.7532 - acc: 0.8043 - val_loss: 0.7143 - val_acc: 0.8498\n",
      "Epoch 10/100\n",
      " - 5s - loss: 0.7092 - acc: 0.8141 - val_loss: 0.6710 - val_acc: 0.8598\n",
      "Epoch 11/100\n",
      " - 5s - loss: 0.6684 - acc: 0.8227 - val_loss: 0.6323 - val_acc: 0.8617\n",
      "Epoch 12/100\n",
      " - 5s - loss: 0.6303 - acc: 0.8294 - val_loss: 0.5959 - val_acc: 0.8634\n",
      "Epoch 13/100\n",
      " - 5s - loss: 0.5951 - acc: 0.8338 - val_loss: 0.5629 - val_acc: 0.8652\n",
      "Epoch 14/100\n",
      " - 5s - loss: 0.5640 - acc: 0.8365 - val_loss: 0.5325 - val_acc: 0.8679\n",
      "Epoch 15/100\n",
      " - 5s - loss: 0.5338 - acc: 0.8411 - val_loss: 0.5042 - val_acc: 0.8694\n",
      "Epoch 16/100\n",
      " - 5s - loss: 0.5066 - acc: 0.8441 - val_loss: 0.4782 - val_acc: 0.8706\n",
      "Epoch 17/100\n",
      " - 5s - loss: 0.4809 - acc: 0.8485 - val_loss: 0.4543 - val_acc: 0.8713\n",
      "Epoch 18/100\n",
      " - 5s - loss: 0.4567 - acc: 0.8519 - val_loss: 0.4320 - val_acc: 0.8736\n",
      "Epoch 19/100\n",
      " - 5s - loss: 0.4352 - acc: 0.8526 - val_loss: 0.4115 - val_acc: 0.8746\n",
      "Epoch 20/100\n",
      " - 5s - loss: 0.4147 - acc: 0.8574 - val_loss: 0.3924 - val_acc: 0.8752\n",
      "Epoch 21/100\n",
      " - 5s - loss: 0.3962 - acc: 0.8576 - val_loss: 0.3748 - val_acc: 0.8766\n",
      "Epoch 22/100\n",
      " - 5s - loss: 0.3781 - acc: 0.8621 - val_loss: 0.3593 - val_acc: 0.8749\n",
      "Epoch 23/100\n",
      " - 5s - loss: 0.3619 - acc: 0.8642 - val_loss: 0.3434 - val_acc: 0.8783\n",
      "Epoch 24/100\n",
      " - 5s - loss: 0.3474 - acc: 0.8651 - val_loss: 0.3295 - val_acc: 0.8787\n",
      "Epoch 25/100\n",
      " - 5s - loss: 0.3338 - acc: 0.8657 - val_loss: 0.3171 - val_acc: 0.8775\n",
      "Epoch 26/100\n",
      " - 5s - loss: 0.3208 - acc: 0.8666 - val_loss: 0.3048 - val_acc: 0.8798\n",
      "Epoch 27/100\n",
      " - 5s - loss: 0.3085 - acc: 0.8687 - val_loss: 0.2935 - val_acc: 0.8806\n",
      "Epoch 28/100\n",
      " - 5s - loss: 0.2979 - acc: 0.8694 - val_loss: 0.2832 - val_acc: 0.8811\n",
      "Epoch 29/100\n",
      " - 5s - loss: 0.2871 - acc: 0.8710 - val_loss: 0.2742 - val_acc: 0.8804\n",
      "Epoch 30/100\n",
      " - 5s - loss: 0.2786 - acc: 0.8710 - val_loss: 0.2651 - val_acc: 0.8819\n",
      "Epoch 31/100\n",
      " - 5s - loss: 0.2691 - acc: 0.8761 - val_loss: 0.2569 - val_acc: 0.8818\n",
      "Epoch 32/100\n",
      " - 5s - loss: 0.2615 - acc: 0.8742 - val_loss: 0.2499 - val_acc: 0.8805\n",
      "Epoch 33/100\n",
      " - 6s - loss: 0.2536 - acc: 0.8753 - val_loss: 0.2425 - val_acc: 0.8827\n",
      "Epoch 34/100\n",
      " - 6s - loss: 0.2467 - acc: 0.8763 - val_loss: 0.2362 - val_acc: 0.8812\n",
      "Epoch 35/100\n",
      " - 6s - loss: 0.2400 - acc: 0.8769 - val_loss: 0.2301 - val_acc: 0.8820\n",
      "Epoch 36/100\n",
      " - 6s - loss: 0.2340 - acc: 0.8787 - val_loss: 0.2244 - val_acc: 0.8836\n",
      "Epoch 37/100\n",
      " - 6s - loss: 0.2287 - acc: 0.8778 - val_loss: 0.2193 - val_acc: 0.8830\n",
      "Epoch 38/100\n",
      " - 6s - loss: 0.2239 - acc: 0.8784 - val_loss: 0.2144 - val_acc: 0.8844\n",
      "Epoch 39/100\n",
      " - 6s - loss: 0.2190 - acc: 0.8787 - val_loss: 0.2099 - val_acc: 0.8841\n",
      "Epoch 40/100\n",
      " - 6s - loss: 0.2137 - acc: 0.8815 - val_loss: 0.2059 - val_acc: 0.8847\n",
      "Epoch 41/100\n",
      " - 6s - loss: 0.2099 - acc: 0.8813 - val_loss: 0.2023 - val_acc: 0.8838\n",
      "Epoch 42/100\n",
      " - 6s - loss: 0.2064 - acc: 0.8808 - val_loss: 0.1990 - val_acc: 0.8831\n",
      "Epoch 43/100\n",
      " - 6s - loss: 0.2025 - acc: 0.8822 - val_loss: 0.1955 - val_acc: 0.8826\n",
      "Epoch 44/100\n",
      " - 6s - loss: 0.1994 - acc: 0.8827 - val_loss: 0.1924 - val_acc: 0.8850\n",
      "Epoch 45/100\n",
      " - 6s - loss: 0.1963 - acc: 0.8818 - val_loss: 0.1895 - val_acc: 0.8849\n",
      "Epoch 46/100\n",
      " - 6s - loss: 0.1935 - acc: 0.8824 - val_loss: 0.1871 - val_acc: 0.8837\n",
      "Epoch 47/100\n",
      " - 6s - loss: 0.1905 - acc: 0.8837 - val_loss: 0.1845 - val_acc: 0.8851\n",
      "Epoch 48/100\n",
      " - 6s - loss: 0.1877 - acc: 0.8846 - val_loss: 0.1826 - val_acc: 0.8839\n",
      "Epoch 49/100\n",
      " - 6s - loss: 0.1860 - acc: 0.8842 - val_loss: 0.1803 - val_acc: 0.8856\n",
      "Epoch 50/100\n",
      " - 6s - loss: 0.1831 - acc: 0.8858 - val_loss: 0.1783 - val_acc: 0.8862\n",
      "Epoch 51/100\n",
      " - 6s - loss: 0.1805 - acc: 0.8877 - val_loss: 0.1765 - val_acc: 0.8865\n",
      "Epoch 52/100\n",
      " - 6s - loss: 0.1802 - acc: 0.8861 - val_loss: 0.1756 - val_acc: 0.8844\n",
      "Epoch 53/100\n",
      " - 6s - loss: 0.1777 - acc: 0.8854 - val_loss: 0.1735 - val_acc: 0.8856\n",
      "Epoch 54/100\n",
      " - 6s - loss: 0.1761 - acc: 0.8870 - val_loss: 0.1722 - val_acc: 0.8860\n",
      "Epoch 55/100\n",
      " - 6s - loss: 0.1738 - acc: 0.8884 - val_loss: 0.1705 - val_acc: 0.8868\n",
      "Epoch 56/100\n",
      " - 6s - loss: 0.1730 - acc: 0.8892 - val_loss: 0.1694 - val_acc: 0.8861\n",
      "Epoch 57/100\n",
      " - 6s - loss: 0.1722 - acc: 0.8870 - val_loss: 0.1683 - val_acc: 0.8842\n",
      "Epoch 58/100\n",
      " - 6s - loss: 0.1707 - acc: 0.8880 - val_loss: 0.1673 - val_acc: 0.8866\n",
      "Epoch 59/100\n",
      " - 6s - loss: 0.1703 - acc: 0.8871 - val_loss: 0.1664 - val_acc: 0.8868\n",
      "Epoch 60/100\n",
      " - 6s - loss: 0.1689 - acc: 0.8879 - val_loss: 0.1654 - val_acc: 0.8862\n",
      "Epoch 61/100\n",
      " - 6s - loss: 0.1677 - acc: 0.8905 - val_loss: 0.1646 - val_acc: 0.8866\n",
      "Epoch 62/100\n",
      " - 6s - loss: 0.1669 - acc: 0.8886 - val_loss: 0.1637 - val_acc: 0.8867\n",
      "Epoch 63/100\n",
      " - 6s - loss: 0.1658 - acc: 0.8892 - val_loss: 0.1631 - val_acc: 0.8837\n",
      "Epoch 64/100\n",
      " - 6s - loss: 0.1652 - acc: 0.8897 - val_loss: 0.1624 - val_acc: 0.8865\n",
      "Epoch 65/100\n",
      " - 6s - loss: 0.1643 - acc: 0.8889 - val_loss: 0.1618 - val_acc: 0.8854\n",
      "Epoch 66/100\n",
      " - 6s - loss: 0.1635 - acc: 0.8899 - val_loss: 0.1612 - val_acc: 0.8878\n",
      "Epoch 67/100\n",
      " - 6s - loss: 0.1636 - acc: 0.8894 - val_loss: 0.1606 - val_acc: 0.8854\n",
      "Epoch 68/100\n",
      " - 6s - loss: 0.1624 - acc: 0.8897 - val_loss: 0.1603 - val_acc: 0.8858\n",
      "Epoch 69/100\n",
      " - 6s - loss: 0.1616 - acc: 0.8901 - val_loss: 0.1597 - val_acc: 0.8866\n",
      "Epoch 70/100\n",
      " - 6s - loss: 0.1614 - acc: 0.8901 - val_loss: 0.1595 - val_acc: 0.8858\n",
      "Epoch 71/100\n",
      " - 6s - loss: 0.1613 - acc: 0.8908 - val_loss: 0.1589 - val_acc: 0.8865\n",
      "Epoch 72/100\n",
      " - 6s - loss: 0.1606 - acc: 0.8915 - val_loss: 0.1586 - val_acc: 0.8867\n",
      "Epoch 73/100\n",
      " - 6s - loss: 0.1598 - acc: 0.8927 - val_loss: 0.1582 - val_acc: 0.8862\n",
      "Epoch 74/100\n",
      " - 6s - loss: 0.1597 - acc: 0.8889 - val_loss: 0.1579 - val_acc: 0.8866\n",
      "Epoch 75/100\n",
      " - 6s - loss: 0.1595 - acc: 0.8921 - val_loss: 0.1579 - val_acc: 0.8858\n",
      "Epoch 76/100\n",
      " - 6s - loss: 0.1589 - acc: 0.8901 - val_loss: 0.1574 - val_acc: 0.8855\n",
      "Epoch 77/100\n",
      " - 6s - loss: 0.1581 - acc: 0.8918 - val_loss: 0.1577 - val_acc: 0.8854\n",
      "Epoch 78/100\n",
      " - 6s - loss: 0.1585 - acc: 0.8924 - val_loss: 0.1570 - val_acc: 0.8866\n",
      "Epoch 79/100\n",
      " - 6s - loss: 0.1575 - acc: 0.8912 - val_loss: 0.1566 - val_acc: 0.8860\n",
      "Epoch 80/100\n",
      " - 6s - loss: 0.1569 - acc: 0.8937 - val_loss: 0.1563 - val_acc: 0.8870\n",
      "Epoch 81/100\n",
      " - 6s - loss: 0.1568 - acc: 0.8909 - val_loss: 0.1565 - val_acc: 0.8872\n",
      "Epoch 82/100\n",
      " - 6s - loss: 0.1570 - acc: 0.8916 - val_loss: 0.1563 - val_acc: 0.8865\n",
      "Epoch 83/100\n",
      " - 6s - loss: 0.1566 - acc: 0.8946 - val_loss: 0.1558 - val_acc: 0.8881\n",
      "Epoch 84/100\n",
      " - 6s - loss: 0.1567 - acc: 0.8903 - val_loss: 0.1558 - val_acc: 0.8846\n",
      "Epoch 85/100\n",
      " - 6s - loss: 0.1565 - acc: 0.8907 - val_loss: 0.1556 - val_acc: 0.8859\n",
      "Epoch 86/100\n",
      " - 6s - loss: 0.1566 - acc: 0.8923 - val_loss: 0.1555 - val_acc: 0.8875\n",
      "Epoch 87/100\n",
      " - 6s - loss: 0.1564 - acc: 0.8918 - val_loss: 0.1554 - val_acc: 0.8867\n",
      "Epoch 88/100\n",
      " - 6s - loss: 0.1557 - acc: 0.8922 - val_loss: 0.1553 - val_acc: 0.8878\n",
      "Epoch 89/100\n",
      " - 6s - loss: 0.1558 - acc: 0.8903 - val_loss: 0.1552 - val_acc: 0.8870\n",
      "Epoch 90/100\n",
      " - 6s - loss: 0.1560 - acc: 0.8918 - val_loss: 0.1554 - val_acc: 0.8864\n",
      "Epoch 91/100\n",
      " - 6s - loss: 0.1555 - acc: 0.8926 - val_loss: 0.1550 - val_acc: 0.8879\n",
      "Epoch 92/100\n",
      " - 6s - loss: 0.1555 - acc: 0.8919 - val_loss: 0.1549 - val_acc: 0.8867\n",
      "Epoch 93/100\n",
      " - 6s - loss: 0.1551 - acc: 0.8930 - val_loss: 0.1549 - val_acc: 0.8855\n",
      "Epoch 94/100\n",
      " - 6s - loss: 0.1555 - acc: 0.8937 - val_loss: 0.1549 - val_acc: 0.8881\n",
      "Epoch 95/100\n",
      " - 6s - loss: 0.1549 - acc: 0.8942 - val_loss: 0.1547 - val_acc: 0.8872\n",
      "Epoch 96/100\n",
      " - 6s - loss: 0.1551 - acc: 0.8906 - val_loss: 0.1546 - val_acc: 0.8880\n"
     ]
    },
    {
     "name": "stdout",
     "output_type": "stream",
     "text": [
      "Epoch 97/100\n",
      " - 6s - loss: 0.1553 - acc: 0.8915 - val_loss: 0.1545 - val_acc: 0.8875\n",
      "Epoch 98/100\n",
      " - 6s - loss: 0.1548 - acc: 0.8922 - val_loss: 0.1547 - val_acc: 0.8875\n",
      "Epoch 99/100\n",
      " - 6s - loss: 0.1550 - acc: 0.8921 - val_loss: 0.1546 - val_acc: 0.8876\n",
      "Epoch 100/100\n",
      " - 6s - loss: 0.1544 - acc: 0.8947 - val_loss: 0.1544 - val_acc: 0.8866\n"
     ]
    }
   ],
   "source": [
    "#entonces puedo proceder a armar la red neuronal parecido al ejercicio anterior\n",
    "#porque el formato de los datos es el mismo\n",
    "x = keras.layers.Input(shape=(n_palabras,)) #capa de input\n",
    "l1 = keras.layers.Dense(units=n_capa1, activation='relu',kernel_regularizer=keras.regularizers.l2(rg))(x)\n",
    "d1 = keras.layers.Dropout(dprate)(l1)\n",
    "l2 = keras.layers.Dense(units=n_capa2, activation='relu',kernel_regularizer=keras.regularizers.l2(rg))(d1)\n",
    "d2 = keras.layers.Dropout(dprate)(l2)\n",
    "l3 = keras.layers.Dense(units=n_capa3, activation='sigmoid',kernel_regularizer=keras.regularizers.l2(rg))(d2)\n",
    "model = keras.Model(inputs=x, outputs=l3)\n",
    "optimizer = keras.optimizers.SGD(learning_rate=lr)\n",
    "model.compile(optimizer, loss=keras.losses.MSE, metrics=['acc'])\n",
    "#model.summary()\n",
    "history = model.fit(x_train, y_train, epochs=epocas, validation_data=(x_test, y_test),batch_size=100, verbose=2)"
   ]
  },
  {
   "cell_type": "code",
   "execution_count": 185,
   "metadata": {},
   "outputs": [
    {
     "data": {
      "image/png": "[encoded data removed]",
      "text/plain": [
       "<Figure size 432x288 with 1 Axes>"
      ]
     },
     "metadata": {
      "needs_background": "light"
     },
     "output_type": "display_data"
    }
   ],
   "source": [
    "plt.plot(history.history['val_loss'],label='test data')\n",
    "plt.plot(history.history['loss'],label='train data')\n",
    "plt.legend()\n",
    "plt.xlabel('Épocas')\n",
    "plt.ylabel('Loss')\n",
    "plt.savefig('ej3_1_loss_dropout_2.pdf')"
   ]
  },
  {
   "cell_type": "code",
   "execution_count": 184,
   "metadata": {},
   "outputs": [
    {
     "data": {
      "image/png": "[encoded data removed]",
      "text/plain": [
       "<Figure size 432x288 with 1 Axes>"
      ]
     },
     "metadata": {
      "needs_background": "light"
     },
     "output_type": "display_data"
    }
   ],
   "source": [
    "plt.plot(history.history['val_acc'],label='test data')\n",
    "plt.plot(history.history['acc'],label='train data')\n",
    "plt.legend()\n",
    "plt.xlabel('Épocas')\n",
    "plt.ylabel('Accuracy')\n",
    "plt.savefig('ej3_1_acc_dropout_2.pdf')"
   ]
  },
  {
   "cell_type": "markdown",
   "metadata": {},
   "source": [
    "# ejercicio 3 con batchnormalization"
   ]
  },
  {
   "cell_type": "code",
   "execution_count": 260,
   "metadata": {},
   "outputs": [],
   "source": [
    "#defino algunas constantes que son utiles, las mismas de los problemas del ejercicio 2\n",
    "n_capa1 = 100  \n",
    "n_capa2 = 10 \n",
    "n_capa3 = 2\n",
    "lr = 1e-3\n",
    "rg = 1e-2\n",
    "epocas = 100 #cantidad de epocas\n",
    "n_dim = x_train.shape[1]"
   ]
  },
  {
   "cell_type": "code",
   "execution_count": null,
   "metadata": {},
   "outputs": [
    {
     "name": "stdout",
     "output_type": "stream",
     "text": [
      "Train on 37500 samples, validate on 12500 samples\n",
      "Epoch 1/100\n",
      " - 7s - loss: 2.4418 - acc: 0.5635 - val_loss: 2.4002 - val_acc: 0.6211\n",
      "Epoch 2/100\n",
      " - 6s - loss: 2.3655 - acc: 0.6609 - val_loss: 2.3414 - val_acc: 0.6763\n",
      "Epoch 3/100\n",
      " - 6s - loss: 2.3107 - acc: 0.7135 - val_loss: 2.2915 - val_acc: 0.7201\n",
      "Epoch 4/100\n",
      " - 6s - loss: 2.2660 - acc: 0.7458 - val_loss: 2.2505 - val_acc: 0.7470\n",
      "Epoch 5/100\n",
      " - 6s - loss: 2.2262 - acc: 0.7678 - val_loss: 2.2115 - val_acc: 0.7630\n",
      "Epoch 6/100\n",
      " - 6s - loss: 2.1891 - acc: 0.7838 - val_loss: 2.1748 - val_acc: 0.7737\n",
      "Epoch 7/100\n",
      " - 5s - loss: 2.1535 - acc: 0.7960 - val_loss: 2.1450 - val_acc: 0.7827\n",
      "Epoch 8/100\n",
      " - 6s - loss: 2.1199 - acc: 0.8049 - val_loss: 2.1130 - val_acc: 0.7717\n",
      "Epoch 9/100\n",
      " - 6s - loss: 2.0873 - acc: 0.8117 - val_loss: 2.0836 - val_acc: 0.7768\n",
      "Epoch 10/100\n",
      " - 6s - loss: 2.0550 - acc: 0.8215 - val_loss: 2.0493 - val_acc: 0.8014\n",
      "Epoch 11/100\n",
      " - 6s - loss: 2.0240 - acc: 0.8273 - val_loss: 2.0199 - val_acc: 0.7895\n",
      "Epoch 12/100\n",
      " - 6s - loss: 1.9937 - acc: 0.8296 - val_loss: 1.9890 - val_acc: 0.8099\n",
      "Epoch 13/100\n",
      " - 5s - loss: 1.9634 - acc: 0.8376 - val_loss: 1.9591 - val_acc: 0.8138\n",
      "Epoch 14/100\n",
      " - 6s - loss: 1.9342 - acc: 0.8415 - val_loss: 1.9305 - val_acc: 0.8153\n",
      "Epoch 15/100\n",
      " - 6s - loss: 1.9056 - acc: 0.8453 - val_loss: 1.9008 - val_acc: 0.8148\n",
      "Epoch 16/100\n",
      " - 6s - loss: 1.8771 - acc: 0.8493 - val_loss: 1.8755 - val_acc: 0.8218\n",
      "Epoch 17/100\n",
      " - 6s - loss: 1.8491 - acc: 0.8546 - val_loss: 1.8491 - val_acc: 0.8222\n",
      "Epoch 18/100\n",
      " - 6s - loss: 1.8213 - acc: 0.8587 - val_loss: 1.8193 - val_acc: 0.8217\n",
      "Epoch 19/100\n",
      " - 6s - loss: 1.7944 - acc: 0.8623 - val_loss: 1.7990 - val_acc: 0.8217\n",
      "Epoch 20/100\n",
      " - 6s - loss: 1.7677 - acc: 0.8663 - val_loss: 1.7674 - val_acc: 0.8288\n",
      "Epoch 21/100\n",
      " - 6s - loss: 1.7420 - acc: 0.8676 - val_loss: 1.7428 - val_acc: 0.8325\n",
      "Epoch 22/100\n",
      " - 6s - loss: 1.7159 - acc: 0.8721 - val_loss: 1.7193 - val_acc: 0.8349\n",
      "Epoch 23/100\n",
      " - 6s - loss: 1.6908 - acc: 0.8749 - val_loss: 1.6936 - val_acc: 0.8302\n",
      "Epoch 24/100\n",
      " - 6s - loss: 1.6657 - acc: 0.8772 - val_loss: 1.6682 - val_acc: 0.8380\n",
      "Epoch 25/100\n",
      " - 6s - loss: 1.6409 - acc: 0.8826 - val_loss: 1.6473 - val_acc: 0.8319\n",
      "Epoch 26/100\n",
      " - 6s - loss: 1.6167 - acc: 0.8841 - val_loss: 1.6302 - val_acc: 0.8309\n",
      "Epoch 27/100\n"
     ]
    },
    {
     "ename": "KeyboardInterrupt",
     "evalue": "",
     "output_type": "error",
     "traceback": [
      "\u001b[1;31m---------------------------------------------------------------------------\u001b[0m",
      "\u001b[1;31mKeyboardInterrupt\u001b[0m                         Traceback (most recent call last)",
      "\u001b[1;32m<ipython-input-261-8f20698c84be>\u001b[0m in \u001b[0;36m<module>\u001b[1;34m\u001b[0m\n\u001b[0;32m     13\u001b[0m \u001b[0moptimizer\u001b[0m \u001b[1;33m=\u001b[0m \u001b[0mkeras\u001b[0m\u001b[1;33m.\u001b[0m\u001b[0moptimizers\u001b[0m\u001b[1;33m.\u001b[0m\u001b[0mSGD\u001b[0m\u001b[1;33m(\u001b[0m\u001b[0mlearning_rate\u001b[0m\u001b[1;33m=\u001b[0m\u001b[0mlr\u001b[0m\u001b[1;33m)\u001b[0m\u001b[1;33m\u001b[0m\u001b[1;33m\u001b[0m\u001b[0m\n\u001b[0;32m     14\u001b[0m \u001b[0mmodel\u001b[0m\u001b[1;33m.\u001b[0m\u001b[0mcompile\u001b[0m\u001b[1;33m(\u001b[0m\u001b[0moptimizer\u001b[0m\u001b[1;33m,\u001b[0m \u001b[0mloss\u001b[0m\u001b[1;33m=\u001b[0m\u001b[0mkeras\u001b[0m\u001b[1;33m.\u001b[0m\u001b[0mlosses\u001b[0m\u001b[1;33m.\u001b[0m\u001b[0mMSE\u001b[0m\u001b[1;33m,\u001b[0m \u001b[0mmetrics\u001b[0m\u001b[1;33m=\u001b[0m\u001b[1;33m[\u001b[0m\u001b[1;34m'acc'\u001b[0m\u001b[1;33m]\u001b[0m\u001b[1;33m)\u001b[0m\u001b[1;33m\u001b[0m\u001b[1;33m\u001b[0m\u001b[0m\n\u001b[1;32m---> 15\u001b[1;33m \u001b[0mhistory\u001b[0m \u001b[1;33m=\u001b[0m \u001b[0mmodel\u001b[0m\u001b[1;33m.\u001b[0m\u001b[0mfit\u001b[0m\u001b[1;33m(\u001b[0m\u001b[0mx_train\u001b[0m\u001b[1;33m,\u001b[0m \u001b[0my_train\u001b[0m\u001b[1;33m,\u001b[0m \u001b[0mepochs\u001b[0m\u001b[1;33m=\u001b[0m\u001b[0mepocas\u001b[0m\u001b[1;33m,\u001b[0m \u001b[0mvalidation_data\u001b[0m\u001b[1;33m=\u001b[0m\u001b[1;33m(\u001b[0m\u001b[0mx_test\u001b[0m\u001b[1;33m,\u001b[0m \u001b[0my_test\u001b[0m\u001b[1;33m)\u001b[0m\u001b[1;33m,\u001b[0m\u001b[0mbatch_size\u001b[0m\u001b[1;33m=\u001b[0m\u001b[1;36m100\u001b[0m\u001b[1;33m,\u001b[0m \u001b[0mverbose\u001b[0m\u001b[1;33m=\u001b[0m\u001b[1;36m2\u001b[0m\u001b[1;33m)\u001b[0m\u001b[1;33m\u001b[0m\u001b[1;33m\u001b[0m\u001b[0m\n\u001b[0m",
      "\u001b[1;32m~\\Anaconda3\\envs\\tf-gpu\\lib\\site-packages\\keras\\engine\\training.py\u001b[0m in \u001b[0;36mfit\u001b[1;34m(self, x, y, batch_size, epochs, verbose, callbacks, validation_split, validation_data, shuffle, class_weight, sample_weight, initial_epoch, steps_per_epoch, validation_steps, validation_freq, max_queue_size, workers, use_multiprocessing, **kwargs)\u001b[0m\n\u001b[0;32m   1237\u001b[0m                                         \u001b[0msteps_per_epoch\u001b[0m\u001b[1;33m=\u001b[0m\u001b[0msteps_per_epoch\u001b[0m\u001b[1;33m,\u001b[0m\u001b[1;33m\u001b[0m\u001b[1;33m\u001b[0m\u001b[0m\n\u001b[0;32m   1238\u001b[0m                                         \u001b[0mvalidation_steps\u001b[0m\u001b[1;33m=\u001b[0m\u001b[0mvalidation_steps\u001b[0m\u001b[1;33m,\u001b[0m\u001b[1;33m\u001b[0m\u001b[1;33m\u001b[0m\u001b[0m\n\u001b[1;32m-> 1239\u001b[1;33m                                         validation_freq=validation_freq)\n\u001b[0m\u001b[0;32m   1240\u001b[0m \u001b[1;33m\u001b[0m\u001b[0m\n\u001b[0;32m   1241\u001b[0m     def evaluate(self,\n",
      "\u001b[1;32m~\\Anaconda3\\envs\\tf-gpu\\lib\\site-packages\\keras\\engine\\training_arrays.py\u001b[0m in \u001b[0;36mfit_loop\u001b[1;34m(model, fit_function, fit_inputs, out_labels, batch_size, epochs, verbose, callbacks, val_function, val_inputs, shuffle, initial_epoch, steps_per_epoch, validation_steps, validation_freq)\u001b[0m\n\u001b[0;32m    194\u001b[0m                     \u001b[0mins_batch\u001b[0m\u001b[1;33m[\u001b[0m\u001b[0mi\u001b[0m\u001b[1;33m]\u001b[0m \u001b[1;33m=\u001b[0m \u001b[0mins_batch\u001b[0m\u001b[1;33m[\u001b[0m\u001b[0mi\u001b[0m\u001b[1;33m]\u001b[0m\u001b[1;33m.\u001b[0m\u001b[0mtoarray\u001b[0m\u001b[1;33m(\u001b[0m\u001b[1;33m)\u001b[0m\u001b[1;33m\u001b[0m\u001b[1;33m\u001b[0m\u001b[0m\n\u001b[0;32m    195\u001b[0m \u001b[1;33m\u001b[0m\u001b[0m\n\u001b[1;32m--> 196\u001b[1;33m                 \u001b[0mouts\u001b[0m \u001b[1;33m=\u001b[0m \u001b[0mfit_function\u001b[0m\u001b[1;33m(\u001b[0m\u001b[0mins_batch\u001b[0m\u001b[1;33m)\u001b[0m\u001b[1;33m\u001b[0m\u001b[1;33m\u001b[0m\u001b[0m\n\u001b[0m\u001b[0;32m    197\u001b[0m                 \u001b[0mouts\u001b[0m \u001b[1;33m=\u001b[0m \u001b[0mto_list\u001b[0m\u001b[1;33m(\u001b[0m\u001b[0mouts\u001b[0m\u001b[1;33m)\u001b[0m\u001b[1;33m\u001b[0m\u001b[1;33m\u001b[0m\u001b[0m\n\u001b[0;32m    198\u001b[0m                 \u001b[1;32mfor\u001b[0m \u001b[0ml\u001b[0m\u001b[1;33m,\u001b[0m \u001b[0mo\u001b[0m \u001b[1;32min\u001b[0m \u001b[0mzip\u001b[0m\u001b[1;33m(\u001b[0m\u001b[0mout_labels\u001b[0m\u001b[1;33m,\u001b[0m \u001b[0mouts\u001b[0m\u001b[1;33m)\u001b[0m\u001b[1;33m:\u001b[0m\u001b[1;33m\u001b[0m\u001b[1;33m\u001b[0m\u001b[0m\n",
      "\u001b[1;32m~\\Anaconda3\\envs\\tf-gpu\\lib\\site-packages\\tensorflow_core\\python\\keras\\backend.py\u001b[0m in \u001b[0;36m__call__\u001b[1;34m(self, inputs)\u001b[0m\n\u001b[0;32m   3725\u001b[0m         \u001b[0mvalue\u001b[0m \u001b[1;33m=\u001b[0m \u001b[0mmath_ops\u001b[0m\u001b[1;33m.\u001b[0m\u001b[0mcast\u001b[0m\u001b[1;33m(\u001b[0m\u001b[0mvalue\u001b[0m\u001b[1;33m,\u001b[0m \u001b[0mtensor\u001b[0m\u001b[1;33m.\u001b[0m\u001b[0mdtype\u001b[0m\u001b[1;33m)\u001b[0m\u001b[1;33m\u001b[0m\u001b[1;33m\u001b[0m\u001b[0m\n\u001b[0;32m   3726\u001b[0m       \u001b[0mconverted_inputs\u001b[0m\u001b[1;33m.\u001b[0m\u001b[0mappend\u001b[0m\u001b[1;33m(\u001b[0m\u001b[0mvalue\u001b[0m\u001b[1;33m)\u001b[0m\u001b[1;33m\u001b[0m\u001b[1;33m\u001b[0m\u001b[0m\n\u001b[1;32m-> 3727\u001b[1;33m     \u001b[0moutputs\u001b[0m \u001b[1;33m=\u001b[0m \u001b[0mself\u001b[0m\u001b[1;33m.\u001b[0m\u001b[0m_graph_fn\u001b[0m\u001b[1;33m(\u001b[0m\u001b[1;33m*\u001b[0m\u001b[0mconverted_inputs\u001b[0m\u001b[1;33m)\u001b[0m\u001b[1;33m\u001b[0m\u001b[1;33m\u001b[0m\u001b[0m\n\u001b[0m\u001b[0;32m   3728\u001b[0m \u001b[1;33m\u001b[0m\u001b[0m\n\u001b[0;32m   3729\u001b[0m     \u001b[1;31m# EagerTensor.numpy() will often make a copy to ensure memory safety.\u001b[0m\u001b[1;33m\u001b[0m\u001b[1;33m\u001b[0m\u001b[1;33m\u001b[0m\u001b[0m\n",
      "\u001b[1;32m~\\Anaconda3\\envs\\tf-gpu\\lib\\site-packages\\tensorflow_core\\python\\eager\\function.py\u001b[0m in \u001b[0;36m__call__\u001b[1;34m(self, *args, **kwargs)\u001b[0m\n\u001b[0;32m   1549\u001b[0m       \u001b[0mTypeError\u001b[0m\u001b[1;33m:\u001b[0m \u001b[0mFor\u001b[0m \u001b[0minvalid\u001b[0m \u001b[0mpositional\u001b[0m\u001b[1;33m/\u001b[0m\u001b[0mkeyword\u001b[0m \u001b[0margument\u001b[0m \u001b[0mcombinations\u001b[0m\u001b[1;33m.\u001b[0m\u001b[1;33m\u001b[0m\u001b[1;33m\u001b[0m\u001b[0m\n\u001b[0;32m   1550\u001b[0m     \"\"\"\n\u001b[1;32m-> 1551\u001b[1;33m     \u001b[1;32mreturn\u001b[0m \u001b[0mself\u001b[0m\u001b[1;33m.\u001b[0m\u001b[0m_call_impl\u001b[0m\u001b[1;33m(\u001b[0m\u001b[0margs\u001b[0m\u001b[1;33m,\u001b[0m \u001b[0mkwargs\u001b[0m\u001b[1;33m)\u001b[0m\u001b[1;33m\u001b[0m\u001b[1;33m\u001b[0m\u001b[0m\n\u001b[0m\u001b[0;32m   1552\u001b[0m \u001b[1;33m\u001b[0m\u001b[0m\n\u001b[0;32m   1553\u001b[0m   \u001b[1;32mdef\u001b[0m \u001b[0m_call_impl\u001b[0m\u001b[1;33m(\u001b[0m\u001b[0mself\u001b[0m\u001b[1;33m,\u001b[0m \u001b[0margs\u001b[0m\u001b[1;33m,\u001b[0m \u001b[0mkwargs\u001b[0m\u001b[1;33m,\u001b[0m \u001b[0mcancellation_manager\u001b[0m\u001b[1;33m=\u001b[0m\u001b[1;32mNone\u001b[0m\u001b[1;33m)\u001b[0m\u001b[1;33m:\u001b[0m\u001b[1;33m\u001b[0m\u001b[1;33m\u001b[0m\u001b[0m\n",
      "\u001b[1;32m~\\Anaconda3\\envs\\tf-gpu\\lib\\site-packages\\tensorflow_core\\python\\eager\\function.py\u001b[0m in \u001b[0;36m_call_impl\u001b[1;34m(self, args, kwargs, cancellation_manager)\u001b[0m\n\u001b[0;32m   1589\u001b[0m       raise TypeError(\"Keyword arguments {} unknown. Expected {}.\".format(\n\u001b[0;32m   1590\u001b[0m           list(kwargs.keys()), list(self._arg_keywords)))\n\u001b[1;32m-> 1591\u001b[1;33m     \u001b[1;32mreturn\u001b[0m \u001b[0mself\u001b[0m\u001b[1;33m.\u001b[0m\u001b[0m_call_flat\u001b[0m\u001b[1;33m(\u001b[0m\u001b[0margs\u001b[0m\u001b[1;33m,\u001b[0m \u001b[0mself\u001b[0m\u001b[1;33m.\u001b[0m\u001b[0mcaptured_inputs\u001b[0m\u001b[1;33m,\u001b[0m \u001b[0mcancellation_manager\u001b[0m\u001b[1;33m)\u001b[0m\u001b[1;33m\u001b[0m\u001b[1;33m\u001b[0m\u001b[0m\n\u001b[0m\u001b[0;32m   1592\u001b[0m \u001b[1;33m\u001b[0m\u001b[0m\n\u001b[0;32m   1593\u001b[0m   \u001b[1;32mdef\u001b[0m \u001b[0m_filtered_call\u001b[0m\u001b[1;33m(\u001b[0m\u001b[0mself\u001b[0m\u001b[1;33m,\u001b[0m \u001b[0margs\u001b[0m\u001b[1;33m,\u001b[0m \u001b[0mkwargs\u001b[0m\u001b[1;33m)\u001b[0m\u001b[1;33m:\u001b[0m\u001b[1;33m\u001b[0m\u001b[1;33m\u001b[0m\u001b[0m\n",
      "\u001b[1;32m~\\Anaconda3\\envs\\tf-gpu\\lib\\site-packages\\tensorflow_core\\python\\eager\\function.py\u001b[0m in \u001b[0;36m_call_flat\u001b[1;34m(self, args, captured_inputs, cancellation_manager)\u001b[0m\n\u001b[0;32m   1690\u001b[0m       \u001b[1;31m# No tape is watching; skip to running the function.\u001b[0m\u001b[1;33m\u001b[0m\u001b[1;33m\u001b[0m\u001b[1;33m\u001b[0m\u001b[0m\n\u001b[0;32m   1691\u001b[0m       return self._build_call_outputs(self._inference_function.call(\n\u001b[1;32m-> 1692\u001b[1;33m           ctx, args, cancellation_manager=cancellation_manager))\n\u001b[0m\u001b[0;32m   1693\u001b[0m     forward_backward = self._select_forward_and_backward_functions(\n\u001b[0;32m   1694\u001b[0m         \u001b[0margs\u001b[0m\u001b[1;33m,\u001b[0m\u001b[1;33m\u001b[0m\u001b[1;33m\u001b[0m\u001b[0m\n",
      "\u001b[1;32m~\\Anaconda3\\envs\\tf-gpu\\lib\\site-packages\\tensorflow_core\\python\\eager\\function.py\u001b[0m in \u001b[0;36mcall\u001b[1;34m(self, ctx, args, cancellation_manager)\u001b[0m\n\u001b[0;32m    543\u001b[0m               \u001b[0minputs\u001b[0m\u001b[1;33m=\u001b[0m\u001b[0margs\u001b[0m\u001b[1;33m,\u001b[0m\u001b[1;33m\u001b[0m\u001b[1;33m\u001b[0m\u001b[0m\n\u001b[0;32m    544\u001b[0m               \u001b[0mattrs\u001b[0m\u001b[1;33m=\u001b[0m\u001b[1;33m(\u001b[0m\u001b[1;34m\"executor_type\"\u001b[0m\u001b[1;33m,\u001b[0m \u001b[0mexecutor_type\u001b[0m\u001b[1;33m,\u001b[0m \u001b[1;34m\"config_proto\"\u001b[0m\u001b[1;33m,\u001b[0m \u001b[0mconfig\u001b[0m\u001b[1;33m)\u001b[0m\u001b[1;33m,\u001b[0m\u001b[1;33m\u001b[0m\u001b[1;33m\u001b[0m\u001b[0m\n\u001b[1;32m--> 545\u001b[1;33m               ctx=ctx)\n\u001b[0m\u001b[0;32m    546\u001b[0m         \u001b[1;32melse\u001b[0m\u001b[1;33m:\u001b[0m\u001b[1;33m\u001b[0m\u001b[1;33m\u001b[0m\u001b[0m\n\u001b[0;32m    547\u001b[0m           outputs = execute.execute_with_cancellation(\n",
      "\u001b[1;32m~\\Anaconda3\\envs\\tf-gpu\\lib\\site-packages\\tensorflow_core\\python\\eager\\execute.py\u001b[0m in \u001b[0;36mquick_execute\u001b[1;34m(op_name, num_outputs, inputs, attrs, ctx, name)\u001b[0m\n\u001b[0;32m     59\u001b[0m     tensors = pywrap_tensorflow.TFE_Py_Execute(ctx._handle, device_name,\n\u001b[0;32m     60\u001b[0m                                                \u001b[0mop_name\u001b[0m\u001b[1;33m,\u001b[0m \u001b[0minputs\u001b[0m\u001b[1;33m,\u001b[0m \u001b[0mattrs\u001b[0m\u001b[1;33m,\u001b[0m\u001b[1;33m\u001b[0m\u001b[1;33m\u001b[0m\u001b[0m\n\u001b[1;32m---> 61\u001b[1;33m                                                num_outputs)\n\u001b[0m\u001b[0;32m     62\u001b[0m   \u001b[1;32mexcept\u001b[0m \u001b[0mcore\u001b[0m\u001b[1;33m.\u001b[0m\u001b[0m_NotOkStatusException\u001b[0m \u001b[1;32mas\u001b[0m \u001b[0me\u001b[0m\u001b[1;33m:\u001b[0m\u001b[1;33m\u001b[0m\u001b[1;33m\u001b[0m\u001b[0m\n\u001b[0;32m     63\u001b[0m     \u001b[1;32mif\u001b[0m \u001b[0mname\u001b[0m \u001b[1;32mis\u001b[0m \u001b[1;32mnot\u001b[0m \u001b[1;32mNone\u001b[0m\u001b[1;33m:\u001b[0m\u001b[1;33m\u001b[0m\u001b[1;33m\u001b[0m\u001b[0m\n",
      "\u001b[1;31mKeyboardInterrupt\u001b[0m: "
     ]
    }
   ],
   "source": [
    "#entonces puedo proceder a armar la red neuronal parecido al ejercicio anterior\n",
    "#porque el formato de los datos es el mismo\n",
    "model = keras.models.Sequential()\n",
    "model.add(keras.layers.Dense(units=n_capa1,kernel_regularizer=keras.regularizers.l2(rg),input_shape=(n_dim,)))\n",
    "model.add(keras.layers.BatchNormalization(momentum=0.0))\n",
    "model.add(keras.layers.Activation('relu'))\n",
    "model.add(keras.layers.Dense(units=n_capa2,kernel_regularizer=keras.regularizers.l2(rg)))\n",
    "model.add(keras.layers.BatchNormalization(momentum=0.0))\n",
    "model.add(keras.layers.Activation('relu'))\n",
    "model.add(keras.layers.Dense(units=n_capa3,kernel_regularizer=keras.regularizers.l2(rg)))\n",
    "model.add(keras.layers.BatchNormalization(momentum=0.0))\n",
    "model.add(keras.layers.Activation('sigmoid'))\n",
    "optimizer = keras.optimizers.SGD(learning_rate=lr)\n",
    "model.compile(optimizer, loss=keras.losses.MSE, metrics=['acc'])\n",
    "history = model.fit(x_train, y_train, epochs=epocas, validation_data=(x_test, y_test),batch_size=100, verbose=2)"
   ]
  },
  {
   "cell_type": "code",
   "execution_count": null,
   "metadata": {},
   "outputs": [],
   "source": [
    "plt.plot(history.history['val_loss'],label='test data')\n",
    "plt.plot(history.history['loss'],label='train data')\n",
    "plt.legend()\n",
    "plt.xlabel('Épocas')\n",
    "plt.ylabel('Loss')\n",
    "#plt.savefig('ej3_1_loss_bn_2.pdf')"
   ]
  },
  {
   "cell_type": "code",
   "execution_count": null,
   "metadata": {},
   "outputs": [],
   "source": [
    "plt.plot(history.history['val_acc'],label='test data')\n",
    "plt.plot(history.history['acc'],label='train data')\n",
    "plt.legend()\n",
    "plt.xlabel('Épocas')\n",
    "plt.ylabel('Accuracy')\n",
    "#plt.savefig('ej3_1_acc_bn_2.pdf')"
   ]
  }
 ],
 "metadata": {
  "kernelspec": {
   "display_name": "Python 3",
   "language": "python",
   "name": "python3"
  },
  "language_info": {
   "codemirror_mode": {
    "name": "ipython",
    "version": 3
   },
   "file_extension": ".py",
   "mimetype": "text/x-python",
   "name": "python",
   "nbconvert_exporter": "python",
   "pygments_lexer": "ipython3",
   "version": "3.7.7"
  }
 },
 "nbformat": 4,
 "nbformat_minor": 4
}
