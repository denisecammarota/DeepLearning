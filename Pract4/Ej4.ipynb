{
 "cells": [
  {
   "cell_type": "code",
   "execution_count": 1,
   "metadata": {},
   "outputs": [
    {
     "name": "stderr",
     "output_type": "stream",
     "text": [
      "Using TensorFlow backend.\n"
     ]
    }
   ],
   "source": [
    "import keras \n",
    "import tensorflow as tf\n",
    "from keras.datasets import cifar10\n",
    "import numpy as np\n",
    "from keras.callbacks import History \n",
    "import matplotlib.pyplot as plt\n",
    "from keras.datasets import imdb #cargo los datos del imdb\n",
    "from keras.utils import to_categorical\n",
    "from tensorflow.keras.utils import plot_model"
   ]
  },
  {
   "cell_type": "code",
   "execution_count": 2,
   "metadata": {},
   "outputs": [],
   "source": [
    "def randomize(x,y):\n",
    "    #x matriz de datos (datos x dimension)\n",
    "    #y matriz de datos verdaderos (datos x categorias)\n",
    "    indices = np.random.choice(x.shape[0], x.shape[0], replace=False)\n",
    "    x = x[indices]\n",
    "    y = y[indices]\n",
    "    return x,y"
   ]
  },
  {
   "cell_type": "code",
   "execution_count": 3,
   "metadata": {},
   "outputs": [],
   "source": [
    "#reshape como quiero a la data de la bd IMDB\n",
    "def reshapeData(x_total,y_total,n_palabras):\n",
    "    y = to_categorical(y_total) #queda dimensiones reviews x 2\n",
    "    x = np.zeros((len(x_total), n_palabras)) #queda dimensiones reviews x n_palabras\n",
    "    for i, x_total in enumerate(x_total):\n",
    "        x[i, x_total] = 1 #un 1 en posicion en la que hay una palabra, queda cero en otro caso\n",
    "    return x,y"
   ]
  },
  {
   "cell_type": "code",
   "execution_count": 4,
   "metadata": {},
   "outputs": [],
   "source": [
    "def separateData(x_total,y_total):\n",
    "    n_review = y_total.shape[0]\n",
    "    n_train = int(n_review * 0.75) #cantidad de datos de train\n",
    "    x_total, y_total = randomize(x_total,y_total)\n",
    "    x_train = x_total[:n_train,:]\n",
    "    y_train = y_total[:n_train]\n",
    "    x_test = x_total[n_train:,:]\n",
    "    y_test = y_total[n_train:]\n",
    "    return x_train,y_train,x_test,y_test"
   ]
  },
  {
   "cell_type": "code",
   "execution_count": 5,
   "metadata": {},
   "outputs": [
    {
     "name": "stderr",
     "output_type": "stream",
     "text": [
      "C:\\Users\\denis\\Anaconda3\\envs\\tf-gpu\\lib\\site-packages\\keras\\datasets\\imdb.py:101: VisibleDeprecationWarning: Creating an ndarray from ragged nested sequences (which is a list-or-tuple of lists-or-tuples-or ndarrays with different lengths or shapes) is deprecated. If you meant to do this, you must specify 'dtype=object' when creating the ndarray\n",
      "  x_train, y_train = np.array(xs[:idx]), np.array(labels[:idx])\n",
      "C:\\Users\\denis\\Anaconda3\\envs\\tf-gpu\\lib\\site-packages\\keras\\datasets\\imdb.py:102: VisibleDeprecationWarning: Creating an ndarray from ragged nested sequences (which is a list-or-tuple of lists-or-tuples-or ndarrays with different lengths or shapes) is deprecated. If you meant to do this, you must specify 'dtype=object' when creating the ndarray\n",
      "  x_test, y_test = np.array(xs[idx:]), np.array(labels[idx:])\n"
     ]
    }
   ],
   "source": [
    "#cargo los datos como dice en el enunciado\n",
    "(x_train, y_train), (x_test, y_test) = imdb.load_data(num_words = 10000) #solo las 10k palabras mas frecuentes en reviews \n",
    "                                                                         #asi que hay 10k palabras posibles por review"
   ]
  },
  {
   "cell_type": "code",
   "execution_count": 6,
   "metadata": {},
   "outputs": [],
   "source": [
    "#junto todos los datos para reformatear y separar bien despues como en los otros ejercicios\n",
    "x_total = np.hstack((x_train,x_test)) #lista de palabras de reviews de las peliculas codificadas segun diccionario\n",
    "y_total = np.hstack((y_train,y_test)) #calificacion positiva (1) o calificacion negativa (0)\n",
    "n_palabras = 10000 #cantidad de palabras posibles"
   ]
  },
  {
   "cell_type": "code",
   "execution_count": 7,
   "metadata": {},
   "outputs": [],
   "source": [
    "#defino algunas constantes que son utiles, las mismas de los problemas del ejercicio 2\n",
    "n_capa1 = 100  \n",
    "n_capa2 = 10 \n",
    "n_capa3 = 2\n",
    "lr = 1e-1\n",
    "rg = 1e-3\n",
    "dprate = 0.5\n",
    "epocas = 100 #cantidad de epocas"
   ]
  },
  {
   "cell_type": "code",
   "execution_count": 8,
   "metadata": {},
   "outputs": [],
   "source": [
    "#padding antes del embedding\n",
    "max_length = 500\n",
    "n_embedding = 100\n",
    "x_total= keras.preprocessing.sequence.pad_sequences(x_total,maxlen=max_length,padding='post',truncating='post') #padding the data like requested"
   ]
  },
  {
   "cell_type": "code",
   "execution_count": 9,
   "metadata": {},
   "outputs": [],
   "source": [
    "y_total = to_categorical(y_total) #to categorical bc n_capa3 = 2 (could be done another way but idk this how i did it)\n",
    "x_train,y_train,x_test,y_test = separateData(x_total,y_total) #separo en datos de train y test"
   ]
  },
  {
   "cell_type": "code",
   "execution_count": 10,
   "metadata": {
    "scrolled": true
   },
   "outputs": [
    {
     "name": "stdout",
     "output_type": "stream",
     "text": [
      "Failed to import pydot. You must install pydot and graphviz for `pydotprint` to work.\n"
     ]
    }
   ],
   "source": [
    "#entonces puedo proceder a armar la red neuronal parecido al ejercicio anterior\n",
    "#porque el formato de los datos es el mismo\n",
    "x = keras.layers.Input(shape=(x_total.shape[1],)) #capa de input\n",
    "e = keras.layers.Embedding(n_palabras,n_embedding,input_length=max_length)(x)\n",
    "f = keras.layers.Flatten()(e)\n",
    "l1 = keras.layers.Dense(units=n_capa1, activation='relu',kernel_regularizer=keras.regularizers.l2(rg))(f)\n",
    "l2 = keras.layers.Dense(units=n_capa2, activation='relu',kernel_regularizer=keras.regularizers.l2(rg))(l1)\n",
    "l3 = keras.layers.Dense(units=n_capa3, activation='sigmoid',kernel_regularizer=keras.regularizers.l2(rg))(l2)\n",
    "model = keras.Model(inputs=x, outputs=l3)\n",
    "optimizer = keras.optimizers.SGD(learning_rate=lr)\n",
    "model.compile(optimizer, loss=keras.losses.MSE, metrics=['acc'])\n",
    "plot_model(model, show_shapes=True)\n",
    "#history = model.fit(x_train, y_train, epochs=epocas, validation_data=(x_test, y_test),batch_size=100, verbose=2)"
   ]
  },
  {
   "cell_type": "code",
   "execution_count": null,
   "metadata": {},
   "outputs": [],
   "source": [
    "plt.plot(history.history['val_loss'],label='test data')\n",
    "plt.plot(history.history['loss'],label='train data')\n",
    "plt.legend()\n",
    "plt.xlabel('Épocas')\n",
    "plt.ylabel('Loss')\n",
    "#plt.savefig('ej4_1_lossepoch.pdf')"
   ]
  },
  {
   "cell_type": "code",
   "execution_count": null,
   "metadata": {},
   "outputs": [],
   "source": [
    "plt.plot(history.history['val_acc'],label='test data')\n",
    "plt.plot(history.history['acc'],label='train data')\n",
    "plt.legend()\n",
    "plt.xlabel('Épocas')\n",
    "plt.ylabel('Accuracy')\n",
    "#plt.savefig('ej4_1_lossacc.pdf')"
   ]
  }
 ],
 "metadata": {
  "kernelspec": {
   "display_name": "Python 3",
   "language": "python",
   "name": "python3"
  },
  "language_info": {
   "codemirror_mode": {
    "name": "ipython",
    "version": 3
   },
   "file_extension": ".py",
   "mimetype": "text/x-python",
   "name": "python",
   "nbconvert_exporter": "python",
   "pygments_lexer": "ipython3",
   "version": "3.7.7"
  }
 },
 "nbformat": 4,
 "nbformat_minor": 4
}
