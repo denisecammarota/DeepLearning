{
 "cells": [
  {
   "cell_type": "code",
   "execution_count": 5,
   "metadata": {},
   "outputs": [
    {
     "name": "stderr",
     "output_type": "stream",
     "text": [
      "Using TensorFlow backend.\n"
     ]
    }
   ],
   "source": [
    "import time\n",
    "import numpy as np\n",
    "from keras.datasets import cifar10\n",
    "from keras.datasets import mnist\n",
    "import matplotlib.pyplot as plt\n",
    "#using tensorflow backend"
   ]
  },
  {
   "cell_type": "code",
   "execution_count": 6,
   "metadata": {},
   "outputs": [],
   "source": [
    "#ok, verificado\n",
    "#me pone el bias de manera correcta\n",
    "#con el 1 al final\n",
    "def reshapeimages(x,y):\n",
    "    im_shape = x.shape[1:]\n",
    "    x = np.reshape(x,(x.shape[0],np.prod(im_shape)))\n",
    "    a = np.zeros((x.shape[0],np.prod(im_shape)+1))+1\n",
    "    a[:,:-1] = x #le agrego los 1 al final de fila\n",
    "    return a,y"
   ]
  },
  {
   "cell_type": "code",
   "execution_count": 7,
   "metadata": {},
   "outputs": [],
   "source": [
    "#sampleo de data para los batch\n",
    "def createbatch(x,y,batchsize):\n",
    "    indices = np.random.choice(x.shape[0], batchsize, replace=False) #toma batchsize de filas random\n",
    "    x_batch = x[indices] #selecciono en x y obtengo el batch\n",
    "    y_batch = y[indices] #selecciono en y obtengo el batch\n",
    "    return x_batch,y_batch"
   ]
  },
  {
   "cell_type": "code",
   "execution_count": 8,
   "metadata": {},
   "outputs": [],
   "source": [
    "class LinearClassifier:\n",
    "    #constructor, solo digo que tengo W\n",
    "    def __init__(self):\n",
    "        self.W = None\n",
    "    #inicializo la matriz de pesos randomly\n",
    "    def randominicializar(self,k,d):\n",
    "        self.W = np.random.rand(d,k) #en un rango [0,1) \n",
    "        self.W = self.W/1000 #elementos chicos  \n",
    "    #paso una imagenes y me da el score para cada una\n",
    "    def predict(self,x):\n",
    "        yp = np.zeros(x.shape[0],np.uint8)\n",
    "        for i in range(x.shape[0]):\n",
    "            s = (x[i,:]).dot(self.W)\n",
    "            idx = np.argmax(s)\n",
    "            yp[i] = idx\n",
    "        return yp\n",
    "    #funcion de la practica, definida despues para cada linear classifier\n",
    "    def loss_gradient(self,x,y):\n",
    "        pass\n",
    "    #funcion de costo, idem comentario que la anterior\n",
    "    def loss_fun(self,x,y):\n",
    "        pass\n",
    "    \n",
    "    #funcion accuracy\n",
    "    def accuracy(self,x,y):\n",
    "        ypr = self.predict(x)\n",
    "        accpercent =  np.mean(ypr==y)*100 #lo devuelve en porcentaje\n",
    "        return accpercent \n",
    "        \n",
    "    #fit igual para SVM y softmax, como hablamos el miercoles con las epocas\n",
    "    def fit(self,x,y,batchsize,alpha):\n",
    "        epocas = 20\n",
    "        vloss = []\n",
    "        vacc = []\n",
    "        for i in range(epocas):\n",
    "            x,y = createbatch(x,y,x.shape[0])\n",
    "            nit = (x.shape[0]/batchsize)\n",
    "            it = 0\n",
    "            index = 0\n",
    "            vloss.append(self.loss_fun(x_test,y_test))\n",
    "            vacc.append(self.accuracy(x_test,y_test))\n",
    "            print(\"nit: \",nit)\n",
    "            while it < nit:\n",
    "                x_batch = x[index:index+batchsize]\n",
    "                y_batch = y[index:index+batchsize]\n",
    "                index = index + batchsize\n",
    "                loss,grad = self.loss_gradient(x_batch,y_batch)\n",
    "                self.W = self.W - (alpha)*(grad)\n",
    "                it = it + 1\n",
    "        return vloss,vacc\n",
    "        "
   ]
  },
  {
   "cell_type": "code",
   "execution_count": 2,
   "metadata": {},
   "outputs": [],
   "source": [
    "class SVM(LinearClassifier):\n",
    "    #data loss para una imagen en particular\n",
    "    def __init__(self,lam,delta=1):\n",
    "        super().__init__() #herencia\n",
    "        self.delta = delta\n",
    "        self.lam = lam\n",
    "    #calculo la loss y el gradiente\n",
    "    #(nota personal: version modificada, la anterior del gradiente andaba lenta por el for)\n",
    "    #(no confundirme con la notebook ejercicio5)\n",
    "    def loss_gradient(self,x,y):\n",
    "        #calculo la loss\n",
    "        s = x.dot(self.W)\n",
    "        y = list(y)\n",
    "        sy = s[np.arange(x.shape[0]), y]\n",
    "        margen = s-sy[:,np.newaxis]+self.delta\n",
    "        margen = np.maximum(0,margen)\n",
    "        margen[np.arange(x.shape[0]),y] = 0       \n",
    "        loss = margen.sum(axis=1)\n",
    "        loss = np.mean(loss)\n",
    "        W2 = (self.W*self.W).flatten()\n",
    "        loss = loss + (self.lam)*(sum(W2))\n",
    "        #calculo el gradiente\n",
    "        binary = margen.copy()\n",
    "        binary[binary>0]=1\n",
    "        #clases que no dan ok, donde va la suma de las que le ganan a la correcta\n",
    "        aux = binary.sum(axis=1)\n",
    "        binary[np.arange(x.shape[0]),y] = -aux\n",
    "        grad = (x.T).dot(binary) #como estaba en las slides\n",
    "        grad = grad/(x.shape[0])\n",
    "        grad = grad + 2*(self.W)*(self.lam)\n",
    "        return loss,grad\n",
    "    #defino la loss function para SVM\n",
    "    def loss_fun(self,x,y):\n",
    "        s = x.dot(self.W)\n",
    "        y = list(y)\n",
    "        sy = s[np.arange(x.shape[0]), y]\n",
    "        margen = s-sy[:,np.newaxis]+self.delta \n",
    "        #nota personal: no quitar el newaxis, no estoy haciendo reshape como en la version anterior\n",
    "        margen = np.maximum(0,margen)\n",
    "        margen[np.arange(x.shape[0]),y] = 0       \n",
    "        loss = margen.sum(axis=1)\n",
    "        loss = np.mean(loss)\n",
    "        W2 = (self.W*self.W).flatten()\n",
    "        loss = loss + (self.lam)*(sum(W2))\n",
    "        return loss\n",
    "                "
   ]
  },
  {
   "cell_type": "code",
   "execution_count": 3,
   "metadata": {},
   "outputs": [],
   "source": [
    "class SoftMax(LinearClassifier):\n",
    "    def __init__(self,lam):\n",
    "        super().__init__() #herencia\n",
    "        self.lam = lam\n",
    "    #defino loss gradient para SoftMax\n",
    "    def loss_gradient(self,x,y):\n",
    "        #primero calculamos el data loss\n",
    "        s = x.dot(self.W)\n",
    "        sm = s.max(axis=1)\n",
    "        #teniendo en cuenta la estabilidad numerica\n",
    "        s = s - sm[:,np.newaxis] #ref:notas de stanford cs231n, se hace esto para estabilidad numerica\n",
    "        sy = s[np.arange(x.shape[0]),y]\n",
    "        s = np.exp(s)\n",
    "        aux = s.sum(axis=1)\n",
    "        loss = np.log(aux) - sy\n",
    "        loss = loss.mean()\n",
    "        W2 = (self.W*self.W).flatten()\n",
    "        loss = loss + (self.lam)*(sum(W2))\n",
    "        #calculo gradiente \n",
    "        grad = (1/aux)[:,np.newaxis]*s\n",
    "        grad[np.arange(y.shape[0]),y] = grad[np.arange(y.shape[0]),y] - 1\n",
    "        grad = ((x.T).dot(grad))/(x.shape[0])\n",
    "        W2 = (self.W*self.W).flatten()\n",
    "        grad = grad + (self.lam)*(sum(W2))\n",
    "        return loss,grad\n",
    "    #defino loss function para SoftMax\n",
    "    def loss_fun(self,x,y):\n",
    "        #primero calculamos el data loss\n",
    "        s = x.dot(self.W)\n",
    "        sm = s.max(axis=1)\n",
    "        #teniendo en cuenta la estabilidad numerica\n",
    "        s = s - sm[:,np.newaxis] #ref:notas de stanford cs231n, se hace esto para estabilidad numerica\n",
    "        sy = s[np.arange(x.shape[0]),y]\n",
    "        exp = np.exp(s)\n",
    "        aux = exp.sum(axis=1)\n",
    "        loss = np.log(aux) - sy\n",
    "        loss = loss.mean()\n",
    "        W2 = (self.W*self.W).flatten()\n",
    "        loss = loss + (self.lam)*(sum(W2))\n",
    "        return loss"
   ]
  },
  {
   "cell_type": "markdown",
   "metadata": {},
   "source": [
    "# MNIST 20 EPOCHS 10 DATA BATCH + PREDICTION SVM"
   ]
  },
  {
   "cell_type": "code",
   "execution_count": 4,
   "metadata": {},
   "outputs": [
    {
     "ename": "NameError",
     "evalue": "name 'mnist' is not defined",
     "output_type": "error",
     "traceback": [
      "\u001b[1;31m---------------------------------------------------------------------------\u001b[0m",
      "\u001b[1;31mNameError\u001b[0m                                 Traceback (most recent call last)",
      "\u001b[1;32m<ipython-input-4-9af4f936270a>\u001b[0m in \u001b[0;36m<module>\u001b[1;34m\u001b[0m\n\u001b[1;32m----> 1\u001b[1;33m \u001b[1;33m(\u001b[0m\u001b[0mx_train\u001b[0m\u001b[1;33m,\u001b[0m\u001b[0my_train\u001b[0m\u001b[1;33m)\u001b[0m\u001b[1;33m,\u001b[0m\u001b[1;33m(\u001b[0m\u001b[0mx_test\u001b[0m\u001b[1;33m,\u001b[0m\u001b[0my_test\u001b[0m\u001b[1;33m)\u001b[0m \u001b[1;33m=\u001b[0m \u001b[0mmnist\u001b[0m\u001b[1;33m.\u001b[0m\u001b[0mload_data\u001b[0m\u001b[1;33m(\u001b[0m\u001b[1;33m)\u001b[0m \u001b[1;31m#x = images #y = categories #loading data\u001b[0m\u001b[1;33m\u001b[0m\u001b[1;33m\u001b[0m\u001b[0m\n\u001b[0m\u001b[0;32m      2\u001b[0m \u001b[0mx_train\u001b[0m \u001b[1;33m=\u001b[0m \u001b[0mx_train\u001b[0m\u001b[1;33m\u001b[0m\u001b[1;33m\u001b[0m\u001b[0m\n\u001b[0;32m      3\u001b[0m \u001b[0my_train\u001b[0m \u001b[1;33m=\u001b[0m \u001b[0my_train\u001b[0m\u001b[1;33m\u001b[0m\u001b[1;33m\u001b[0m\u001b[0m\n\u001b[0;32m      4\u001b[0m \u001b[0mx_train\u001b[0m\u001b[1;33m,\u001b[0m\u001b[0my_train\u001b[0m \u001b[1;33m=\u001b[0m \u001b[0mreshapeimages\u001b[0m\u001b[1;33m(\u001b[0m\u001b[0mx_train\u001b[0m\u001b[1;33m,\u001b[0m\u001b[0my_train\u001b[0m\u001b[1;33m)\u001b[0m\u001b[1;33m\u001b[0m\u001b[1;33m\u001b[0m\u001b[0m\n\u001b[0;32m      5\u001b[0m \u001b[0mx_test\u001b[0m\u001b[1;33m,\u001b[0m\u001b[0my_test\u001b[0m \u001b[1;33m=\u001b[0m \u001b[0mreshapeimages\u001b[0m\u001b[1;33m(\u001b[0m\u001b[0mx_test\u001b[0m\u001b[1;33m,\u001b[0m\u001b[0my_test\u001b[0m\u001b[1;33m)\u001b[0m\u001b[1;33m\u001b[0m\u001b[1;33m\u001b[0m\u001b[0m\n",
      "\u001b[1;31mNameError\u001b[0m: name 'mnist' is not defined"
     ]
    }
   ],
   "source": [
    "(x_train,y_train),(x_test,y_test) = mnist.load_data() #x = images #y = categories #loading data\n",
    "x_train = x_train\n",
    "y_train = y_train\n",
    "x_train,y_train = reshapeimages(x_train,y_train)\n",
    "x_test,y_test = reshapeimages(x_test,y_test)\n",
    "x_test = x_test\n",
    "y_test = y_test"
   ]
  },
  {
   "cell_type": "code",
   "execution_count": 28,
   "metadata": {},
   "outputs": [
    {
     "name": "stdout",
     "output_type": "stream",
     "text": [
      "nit:  6000.0\n",
      "nit:  6000.0\n",
      "nit:  6000.0\n",
      "nit:  6000.0\n",
      "nit:  6000.0\n",
      "nit:  6000.0\n",
      "nit:  6000.0\n",
      "nit:  6000.0\n",
      "nit:  6000.0\n",
      "nit:  6000.0\n",
      "nit:  6000.0\n",
      "nit:  6000.0\n",
      "nit:  6000.0\n",
      "nit:  6000.0\n",
      "nit:  6000.0\n",
      "nit:  6000.0\n",
      "nit:  6000.0\n",
      "nit:  6000.0\n",
      "nit:  6000.0\n",
      "nit:  6000.0\n"
     ]
    }
   ],
   "source": [
    "k=10 #10 categories\n",
    "d=x_train.shape[1]\n",
    "delta = 1 # delta del SVM\n",
    "lam = 1e-3 #lambda de la reg\n",
    "alpha = 1e-6 #alpha del step\n",
    "s = SVM(lam,delta)\n",
    "s.randominicializar(k,d)\n",
    "vloss, vacc = s.fit(x_train,y_train,10,alpha)"
   ]
  },
  {
   "cell_type": "code",
   "execution_count": 33,
   "metadata": {},
   "outputs": [
    {
     "data": {
      "text/plain": [
       "[<matplotlib.lines.Line2D at 0x251e00a6348>]"
      ]
     },
     "execution_count": 33,
     "metadata": {},
     "output_type": "execute_result"
    },
    {
     "data": {
      "image/png": "[encoded data removed]",
      "text/plain": [
       "<Figure size 432x288 with 1 Axes>"
      ]
     },
     "metadata": {
      "needs_background": "light"
     },
     "output_type": "display_data"
    }
   ],
   "source": [
    "plt.scatter(vacc,vloss)"
   ]
  },
  {
   "cell_type": "code",
   "execution_count": 34,
   "metadata": {},
   "outputs": [
    {
     "name": "stdout",
     "output_type": "stream",
     "text": [
      "(10000,)\n",
      "(10000,)\n",
      "91.07\n"
     ]
    }
   ],
   "source": [
    "ytestpr =  s.predict(x_test)\n",
    "y_test = y_test.flatten()\n",
    "print(ytestpr.shape)\n",
    "print(y_test.shape)\n",
    "print(np.mean(ytestpr==y_test)*100) #lo devuelve en porcentaje"
   ]
  },
  {
   "cell_type": "markdown",
   "metadata": {},
   "source": [
    "#  MNIST 20 EPOCHS 10 DATA BATCH + PREDICTION  SOFTMAX"
   ]
  },
  {
   "cell_type": "code",
   "execution_count": null,
   "metadata": {},
   "outputs": [],
   "source": [
    "(x_train,y_train),(x_test,y_test) = mnist.load_data() #x = images #y = categories #loading data\n",
    "x_train = x_train\n",
    "y_train = y_train\n",
    "x_train,y_train = reshapeimages(x_train,y_train)\n",
    "x_test,y_test = reshapeimages(x_test,y_test)\n",
    "x_test = x_test\n",
    "y_test = y_test"
   ]
  },
  {
   "cell_type": "code",
   "execution_count": 37,
   "metadata": {},
   "outputs": [
    {
     "name": "stdout",
     "output_type": "stream",
     "text": [
      "nit:  6000.0\n",
      "nit:  6000.0\n",
      "nit:  6000.0\n",
      "nit:  6000.0\n",
      "nit:  6000.0\n",
      "nit:  6000.0\n",
      "nit:  6000.0\n",
      "nit:  6000.0\n",
      "nit:  6000.0\n",
      "nit:  6000.0\n",
      "nit:  6000.0\n",
      "nit:  6000.0\n",
      "nit:  6000.0\n",
      "nit:  6000.0\n",
      "nit:  6000.0\n",
      "nit:  6000.0\n",
      "nit:  6000.0\n",
      "nit:  6000.0\n",
      "nit:  6000.0\n",
      "nit:  6000.0\n"
     ]
    }
   ],
   "source": [
    "k=10 #10 categories\n",
    "d=x_train.shape[1]\n",
    "delta = 1 # delta del SVM\n",
    "lam = 1e-3 #lambda de la reg\n",
    "alpha = 1e-6 #alpha del step\n",
    "s = SoftMax(lam)\n",
    "s.randominicializar(k,d)\n",
    "vloss, vacc = s.fit(x_train,y_train,10,alpha)"
   ]
  },
  {
   "cell_type": "code",
   "execution_count": 38,
   "metadata": {},
   "outputs": [
    {
     "name": "stdout",
     "output_type": "stream",
     "text": [
      "(10000,)\n",
      "(10000,)\n",
      "92.16\n"
     ]
    }
   ],
   "source": [
    "ytestpr =  s.predict(x_test)\n",
    "y_test = y_test.flatten()\n",
    "print(ytestpr.shape)\n",
    "print(y_test.shape)\n",
    "print(np.mean(ytestpr==y_test)*100) #lo devuelve en porcentaje"
   ]
  },
  {
   "cell_type": "code",
   "execution_count": 41,
   "metadata": {},
   "outputs": [
    {
     "data": {
      "text/plain": [
       "[16.215,\n",
       " 91.26333333333334,\n",
       " 91.50833333333334,\n",
       " 92.19833333333334,\n",
       " 92.425,\n",
       " 92.435,\n",
       " 92.52,\n",
       " 92.525,\n",
       " 92.69166666666668,\n",
       " 92.75,\n",
       " 92.47833333333332,\n",
       " 92.80333333333334,\n",
       " 92.86999999999999,\n",
       " 93.03333333333333,\n",
       " 92.85333333333334,\n",
       " 92.97333333333333,\n",
       " 92.85833333333333,\n",
       " 93.15166666666667,\n",
       " 92.89666666666668,\n",
       " 93.10666666666667]"
      ]
     },
     "execution_count": 41,
     "metadata": {},
     "output_type": "execute_result"
    },
    {
     "data": {
      "image/png": "[encoded data removed]",
      "text/plain": [
       "<Figure size 432x288 with 1 Axes>"
      ]
     },
     "metadata": {
      "needs_background": "light"
     },
     "output_type": "display_data"
    }
   ],
   "source": [
    "plt.scatter(vacc,vloss)\n",
    "vacc"
   ]
  },
  {
   "cell_type": "markdown",
   "metadata": {},
   "source": [
    "# CIFAR10 10 DATA BATCH + PREDICTION SVM"
   ]
  },
  {
   "cell_type": "code",
   "execution_count": 42,
   "metadata": {},
   "outputs": [],
   "source": [
    "(x_train,y_train),(x_test,y_test) = cifar10.load_data() #x = images #y = categories #loading data\n",
    "y_test = y_test.flatten()\n",
    "y_train = y_train.flatten()"
   ]
  },
  {
   "cell_type": "code",
   "execution_count": 43,
   "metadata": {},
   "outputs": [],
   "source": [
    "x_train,y_train = reshapeimages(x_train,y_train)\n",
    "x_test,y_test = reshapeimages(x_test,y_test)"
   ]
  },
  {
   "cell_type": "code",
   "execution_count": 44,
   "metadata": {},
   "outputs": [
    {
     "name": "stdout",
     "output_type": "stream",
     "text": [
      "nit:  5000.0\n",
      "nit:  5000.0\n",
      "nit:  5000.0\n",
      "nit:  5000.0\n",
      "nit:  5000.0\n",
      "nit:  5000.0\n",
      "nit:  5000.0\n",
      "nit:  5000.0\n",
      "nit:  5000.0\n",
      "nit:  5000.0\n",
      "nit:  5000.0\n",
      "nit:  5000.0\n",
      "nit:  5000.0\n",
      "nit:  5000.0\n",
      "nit:  5000.0\n",
      "nit:  5000.0\n",
      "nit:  5000.0\n",
      "nit:  5000.0\n",
      "nit:  5000.0\n",
      "nit:  5000.0\n"
     ]
    }
   ],
   "source": [
    "k=10 #10 categories\n",
    "d=x_train.shape[1]\n",
    "delta = 1 # delta del SVM\n",
    "lam = 1e-3 #lambda de la reg\n",
    "alpha = 1e-6 #alpha del step\n",
    "s = SoftMax(lam)\n",
    "s.randominicializar(k,d)\n",
    "vloss, vacc = s.fit(x_train,y_train,10,alpha)"
   ]
  },
  {
   "cell_type": "code",
   "execution_count": 45,
   "metadata": {},
   "outputs": [
    {
     "name": "stdout",
     "output_type": "stream",
     "text": [
      "(10000,)\n",
      "(10000,)\n",
      "30.89\n"
     ]
    }
   ],
   "source": [
    "ytestpr =  s.predict(x_test)\n",
    "y_test = y_test.flatten()\n",
    "print(ytestpr.shape)\n",
    "print(y_test.shape)\n",
    "print(np.mean(ytestpr==y_test)*100) #lo devuelve en porcentaje"
   ]
  },
  {
   "cell_type": "code",
   "execution_count": 46,
   "metadata": {},
   "outputs": [
    {
     "data": {
      "text/plain": [
       "<matplotlib.collections.PathCollection at 0x251df9f8a48>"
      ]
     },
     "execution_count": 46,
     "metadata": {},
     "output_type": "execute_result"
    },
    {
     "data": {
      "image/png": "[encoded data removed]",
      "text/plain": [
       "<Figure size 432x288 with 1 Axes>"
      ]
     },
     "metadata": {
      "needs_background": "light"
     },
     "output_type": "display_data"
    }
   ],
   "source": [
    "plt.scatter(vacc,vloss)"
   ]
  },
  {
   "cell_type": "markdown",
   "metadata": {},
   "source": [
    "# CIFAR10 10 DATA BATCH + PREDICTION Softmax"
   ]
  },
  {
   "cell_type": "code",
   "execution_count": 7,
   "metadata": {},
   "outputs": [],
   "source": [
    "(x_train,y_train),(x_test,y_test) = cifar10.load_data() #x = images #y = categories #loading data\n",
    "y_test = y_test.flatten()\n",
    "y_train = y_train.flatten()"
   ]
  },
  {
   "cell_type": "code",
   "execution_count": 8,
   "metadata": {},
   "outputs": [],
   "source": [
    "x_train,y_train = reshapeimages(x_train,y_train)\n",
    "x_test,y_test = reshapeimages(x_test,y_test)"
   ]
  },
  {
   "cell_type": "code",
   "execution_count": 9,
   "metadata": {},
   "outputs": [
    {
     "name": "stdout",
     "output_type": "stream",
     "text": [
      "nit:  5000.0\n",
      "nit:  5000.0\n",
      "nit:  5000.0\n",
      "nit:  5000.0\n",
      "nit:  5000.0\n",
      "nit:  5000.0\n",
      "nit:  5000.0\n",
      "nit:  5000.0\n",
      "nit:  5000.0\n",
      "nit:  5000.0\n",
      "nit:  5000.0\n",
      "nit:  5000.0\n",
      "nit:  5000.0\n",
      "nit:  5000.0\n",
      "nit:  5000.0\n",
      "nit:  5000.0\n",
      "nit:  5000.0\n",
      "nit:  5000.0\n",
      "nit:  5000.0\n",
      "nit:  5000.0\n"
     ]
    }
   ],
   "source": [
    "k=10 #10 categories\n",
    "d=x_train.shape[1]\n",
    "delta = 1 # delta del SVM\n",
    "lam = 1e-3 #lambda de la reg\n",
    "alpha = 1e-6 #alpha del step\n",
    "s = SoftMax(lam)\n",
    "s.randominicializar(k,d)\n",
    "vloss, vacc = s.fit(x_train,y_train,10,alpha)"
   ]
  },
  {
   "cell_type": "code",
   "execution_count": 10,
   "metadata": {},
   "outputs": [
    {
     "name": "stdout",
     "output_type": "stream",
     "text": [
      "(10000,)\n",
      "(10000,)\n",
      "24.69\n"
     ]
    }
   ],
   "source": [
    "ytestpr =  s.predict(x_test)\n",
    "y_test = y_test.flatten()\n",
    "print(ytestpr.shape)\n",
    "print(y_test.shape)\n",
    "print(np.mean(ytestpr==y_test)*100) #lo devuelve en porcentaje"
   ]
  },
  {
   "cell_type": "code",
   "execution_count": 11,
   "metadata": {},
   "outputs": [
    {
     "data": {
      "text/plain": [
       "<matplotlib.collections.PathCollection at 0x20e78269ec8>"
      ]
     },
     "execution_count": 11,
     "metadata": {},
     "output_type": "execute_result"
    },
    {
     "data": {
      "image/png": "[encoded data removed]",
      "text/plain": [
       "<Figure size 432x288 with 1 Axes>"
      ]
     },
     "metadata": {
      "needs_background": "light"
     },
     "output_type": "display_data"
    }
   ],
   "source": [
    "plt.scatter(vacc,vloss)"
   ]
  }
 ],
 "metadata": {
  "celltoolbar": "Raw Cell Format",
  "kernelspec": {
   "display_name": "Python 3",
   "language": "python",
   "name": "python3"
  },
  "language_info": {
   "codemirror_mode": {
    "name": "ipython",
    "version": 3
   },
   "file_extension": ".py",
   "mimetype": "text/x-python",
   "name": "python",
   "nbconvert_exporter": "python",
   "pygments_lexer": "ipython3",
   "version": "3.7.7"
  }
 },
 "nbformat": 4,
 "nbformat_minor": 4
}
