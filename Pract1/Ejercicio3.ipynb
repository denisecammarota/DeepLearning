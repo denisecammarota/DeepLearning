{
 "cells": [
  {
   "cell_type": "code",
   "execution_count": 1,
   "metadata": {},
   "outputs": [
    {
     "name": "stderr",
     "output_type": "stream",
     "text": [
      "Using TensorFlow backend.\n"
     ]
    }
   ],
   "source": [
    "import time\n",
    "import numpy as np\n",
    "from keras.datasets import cifar10\n",
    "from keras.datasets import mnist\n",
    "#using tensorflow backend"
   ]
  },
  {
   "cell_type": "code",
   "execution_count": 2,
   "metadata": {},
   "outputs": [],
   "source": [
    "#clase knn\n",
    "#por defecto k = 1 o sea\n",
    "#que es un Nearest Neighbour en ese caso\n",
    "class kNearestNeighbour:\n",
    "    \n",
    "    def __init__(self,ka=1):\n",
    "        self.X = None\n",
    "        self.Y = None\n",
    "        self.k = ka\n",
    "        \n",
    "    def train(self,X,Y):\n",
    "        self.im_shape = X.shape[1:]\n",
    "        self.X = np.reshape(X,(X.shape[0],np.prod(self.im_shape)))\n",
    "        self.Y = Y\n",
    "        #self.X size es (50000, 3072) ok for cifar\n",
    "        \n",
    "    def decide(self,idmins):\n",
    "        opc = self.Y[idmins]\n",
    "        u, c = np.unique(opc, return_counts=True)\n",
    "        opccount = np.asarray((u, c))\n",
    "        na = np.argmax(opccount[1,:])\n",
    "        return opccount[0,na]\n",
    "    \n",
    "    \n",
    "    def predict(self,X):\n",
    "        assert self.X is not None, 'Train method need to be called first'\n",
    "        Yp = np.zeros(X.shape[0],np.uint8)\n",
    "        for idx in range(X.shape[0]):\n",
    "            norm = np.linalg.norm(self.X - X[idx].ravel(),axis=-1) \n",
    "            idmins = np.argpartition(norm,self.k)\n",
    "            classidmin = self.decide(idmins[:self.k])\n",
    "            Yp[idx] = classidmin\n",
    "        return Yp"
   ]
  },
  {
   "cell_type": "markdown",
   "metadata": {},
   "source": [
    "# Testing code below"
   ]
  },
  {
   "cell_type": "code",
   "execution_count": 3,
   "metadata": {},
   "outputs": [
    {
     "name": "stdout",
     "output_type": "stream",
     "text": [
      "loaded data\n"
     ]
    }
   ],
   "source": [
    "(x_train,y_train),(x_test,y_test) = cifar10.load_data() #x = images #y = categories\n",
    "x_train = x_train.astype(np.int16)\n",
    "x_test = x_test.astype(np.int16)\n",
    "print(\"loaded data\")"
   ]
  },
  {
   "cell_type": "markdown",
   "metadata": {},
   "source": [
    "# NN con 1000 imagenes (k=1)"
   ]
  },
  {
   "cell_type": "code",
   "execution_count": 15,
   "metadata": {},
   "outputs": [],
   "source": [
    "model = kNearestNeighbour()\n",
    "model.train(x_train,y_train)"
   ]
  },
  {
   "cell_type": "code",
   "execution_count": 16,
   "metadata": {},
   "outputs": [
    {
     "name": "stdout",
     "output_type": "stream",
     "text": [
      "[3 8 8 0 6 6 1 6 3 1 0 9 5 7 9 8 5 7 8 6 7 0 4 9 5 2 4 0 9 6 6 5 4 5 9 2 4\n",
      " 1 9 5 4 6 5 6 0 9 3 9 7 6 9 8 0 3 8 8 7 7 4 6 7 3 6 3 6 2 1 2 3 7 2 6 8 8\n",
      " 0 2 9 3 3 8 8 1 1 7 2 5 2 7 8 9 0 3 8 6 4 6 6 0 0 7 4 5 6 3 1 1 3 6 8 7 4\n",
      " 0 6 2 1 3 0 4 2 7 8 3 1 2 8 0 8 3 5 2 4 1 8 9 1 2 9 7 2 9 6 5 6 3 8 7 6 2\n",
      " 5 2 8 9 6 0 0 5 2 9 5 4 2 1 6 6 8 4 8 4 5 0 9 9 9 8 9 9 3 7 5 0 0 5 2 2 3\n",
      " 8 6 3 4 0 5 8 0 1 7 2 8 8 7 8 5 1 8 7 1 3 0 5 7 9 7 4 5 9 8 0 7 9 8 2 7 6\n",
      " 9 4 3 9 6 4 7 6 5 1 5 8 8 0 4 0 5 5 1 1 8 9 0 3 1 9 2 2 5 3 9 9 4 0 3 0 0\n",
      " 9 8 1 5 7 0 8 2 4 7 0 2 3 6 3 8 5 0 3 4 3 9 0 6 1 0 9 1 0 7 9 1 2 6 9 3 4\n",
      " 6 0 0 6 6 6 3 2 6 1 8 2 1 6 8 6 8 0 4 0 7 7 5 5 3 5 2 3 4 1 7 5 4 6 1 9 3\n",
      " 6 6 9 3 8 0 7 2 6 2 5 8 5 4 6 8 9 9 1 0 2 2 7 3 2 8 0 9 5 8 1 9 4 1 3 8 1\n",
      " 4 7 9 4 2 7 0 7 0 6 6 9 0 9 2 8 7 2 2 5 1 2 6 2 9 6 2 3 0 3 9 8 7 8 8 4 0\n",
      " 1 8 2 7 9 3 6 1 9 0 7 3 7 4 5 0 0 2 9 3 4 0 6 2 5 3 7 3 7 2 5 3 1 1 4 9 9\n",
      " 5 7 5 0 2 2 2 9 7 3 9 4 3 5 4 6 5 6 1 4 3 4 4 3 7 8 3 7 8 0 5 7 6 0 5 4 8\n",
      " 6 8 5 5 9 9 9 5 0 1 0 8 1 1 8 0 2 2 0 4 6 5 4 9 4 7 9 9 4 5 6 6 1 5 3 8 9\n",
      " 5 8 5 7 0 7 0 5 0 0 4 6 9 0 9 5 6 6 6 2 9 0 1 7 6 7 5 9 1 6 2 5 5 5 8 5 9\n",
      " 4 6 4 3 2 0 7 6 2 2 3 9 7 9 2 6 7 1 3 6 6 8 9 7 5 4 0 8 4 0 9 3 4 8 9 6 9\n",
      " 2 6 1 4 7 3 5 3 8 5 0 2 1 6 4 3 3 9 6 9 8 8 5 8 6 6 2 1 7 7 1 2 7 9 9 4 4\n",
      " 1 2 5 6 8 7 6 8 3 0 5 5 3 0 7 9 1 3 4 4 5 3 9 5 6 9 2 1 1 4 1 9 4 7 6 3 8\n",
      " 9 0 1 3 6 3 6 3 2 0 3 1 0 5 9 6 4 8 9 6 9 6 3 0 3 2 2 7 8 3 8 2 7 5 7 2 4\n",
      " 8 7 4 2 9 8 8 6 8 8 7 4 3 3 8 4 9 4 8 8 1 8 2 1 3 6 5 4 2 7 9 9 4 1 4 1 3\n",
      " 2 7 0 7 9 7 6 6 2 5 9 2 9 1 2 2 6 8 2 1 3 6 6 0 1 2 7 0 5 4 6 1 6 4 0 2 2\n",
      " 6 0 5 9 1 7 6 7 0 3 9 6 8 3 0 3 4 7 7 1 4 7 2 7 1 4 7 4 4 8 4 7 7 5 3 7 2\n",
      " 0 8 9 5 8 3 6 2 0 8 7 3 7 6 5 3 1 3 2 2 5 4 1 2 9 2 7 0 7 2 1 3 2 0 2 4 7\n",
      " 9 8 9 0 7 7 0 7 8 4 6 3 3 0 1 3 7 0 1 3 1 4 2 3 8 4 2 3 7 8 4 3 0 9 0 0 1\n",
      " 0 4 4 6 7 6 1 1 3 7 3 5 2 6 6 5 8 7 1 6 8 8 5 3 0 4 0 1 3 8 8 0 6 9 9 9 5\n",
      " 5 8 6 0 0 4 2 3 2 7 2 2 5 9 8 9 1 7 4 0 3 0 1 3 8 3 9 6 1 4 7 0 3 7 8 9 1\n",
      " 1 6 6 6 6 9 1 9 9 4 2 1 7 0 6 8 1 9 2 9 0 4 7 8 3 1 2 0 1 5 8 4 6 3 8 1 3\n",
      " 8]\n",
      "\n",
      "\n",
      "[4 8 8 0 4 6 4 2 4 8 8 8 5 6 4 4 3 3 1 6 8 0 0 7 4 4 6 9 4 6 6 4 3 2 3 4 3\n",
      " 8 0 2 4 6 6 2 0 8 5 0 4 4 7 2 6 3 8 8 4 3 4 4 4 7 6 9 6 4 8 0 3 9 2 4 8 8\n",
      " 8 4 9 5 5 0 8 1 4 0 7 7 5 8 8 9 0 4 0 6 2 3 4 0 0 2 4 4 6 4 1 1 3 6 5 5 4\n",
      " 6 3 4 4 5 0 4 3 5 8 4 2 5 8 2 5 3 5 8 4 1 8 9 6 3 9 0 2 8 6 5 3 3 0 2 2 5\n",
      " 3 2 8 2 4 8 0 5 2 0 4 4 0 2 6 4 8 3 8 4 3 0 0 2 6 8 8 9 0 4 5 8 0 2 6 2 3\n",
      " 0 2 3 8 8 2 0 2 2 2 5 4 5 3 3 5 4 8 3 0 4 0 2 7 0 2 3 3 7 8 6 6 9 0 4 7 4\n",
      " 8 0 3 5 2 3 9 6 3 1 9 4 0 0 4 1 8 6 1 4 4 0 0 4 4 8 6 6 2 5 6 6 6 8 6 8 8\n",
      " 3 8 8 4 3 8 8 2 4 7 0 5 2 6 5 8 3 8 4 5 5 9 4 3 1 8 4 1 8 4 9 1 4 4 3 5 4\n",
      " 2 0 2 4 4 2 6 3 6 0 8 2 1 4 8 6 8 0 2 5 9 3 5 6 4 3 6 6 5 5 8 5 3 2 1 9 6\n",
      " 6 2 4 2 8 8 4 3 4 2 6 8 2 4 2 8 8 7 3 1 2 3 3 6 6 0 1 2 3 8 0 6 8 4 1 0 4\n",
      " 4 7 0 0 2 7 8 4 4 6 8 9 4 0 2 0 4 6 2 5 5 0 2 5 6 2 2 7 0 8 9 8 3 0 8 2 0\n",
      " 7 8 3 8 9 2 6 9 8 8 7 3 0 6 4 8 5 2 8 3 6 8 6 6 5 5 6 2 4 4 4 2 1 4 4 1 8\n",
      " 4 4 8 0 2 0 3 9 5 2 1 2 4 2 6 8 7 4 1 6 3 6 7 2 3 4 3 6 8 4 4 5 4 8 2 4 8\n",
      " 6 8 0 5 8 9 9 0 0 4 7 8 4 8 8 8 2 5 2 4 6 2 4 8 0 7 0 3 4 5 6 6 1 5 6 8 9\n",
      " 9 8 5 0 8 7 0 2 4 2 8 6 0 8 2 8 2 6 4 4 1 0 0 0 6 6 5 9 1 2 2 5 2 6 8 6 8\n",
      " 8 2 6 3 2 0 2 4 4 4 3 4 5 0 6 6 7 0 2 6 6 8 8 2 8 4 8 4 4 0 4 8 2 8 0 6 0\n",
      " 4 4 8 2 0 4 7 5 2 2 8 2 1 6 2 3 6 9 4 8 8 8 4 3 3 4 0 9 6 4 7 2 4 4 6 4 4\n",
      " 5 8 0 6 3 6 8 9 4 8 2 6 2 2 2 8 1 2 2 4 3 3 6 6 2 9 8 1 1 4 6 0 5 7 4 5 8\n",
      " 5 0 9 6 2 5 5 3 4 2 4 2 6 5 9 3 7 4 2 5 9 5 6 8 4 2 3 4 8 4 8 5 4 4 3 0 3\n",
      " 1 2 4 0 2 8 8 6 8 8 7 4 6 2 4 4 0 2 8 8 8 8 0 8 5 4 5 4 2 7 2 8 2 0 0 1 7\n",
      " 2 7 4 4 4 2 2 6 2 3 4 2 9 4 4 4 2 8 8 1 3 6 6 1 1 4 5 8 4 2 3 2 5 5 2 4 7\n",
      " 6 2 5 4 4 4 4 6 8 3 9 4 8 0 0 6 8 5 8 4 3 6 0 7 8 0 7 0 6 8 2 0 3 3 3 7 2\n",
      " 0 1 3 4 4 2 9 2 9 8 4 0 7 3 6 7 2 3 6 6 4 4 1 5 4 2 7 4 4 4 5 3 4 0 4 4 5\n",
      " 5 8 9 0 1 7 0 4 4 4 0 3 3 0 1 3 2 4 3 6 0 4 0 3 0 4 2 8 2 8 7 8 0 9 4 0 9\n",
      " 4 4 4 4 7 6 1 1 3 7 5 5 4 6 6 5 8 4 4 2 8 4 6 5 0 4 3 8 4 8 8 4 4 2 9 9 4\n",
      " 3 8 6 0 8 6 2 3 3 1 8 2 5 4 8 4 7 2 4 0 5 0 5 4 4 6 9 5 7 4 7 0 2 6 8 8 2\n",
      " 0 4 6 2 6 9 2 4 2 6 6 6 2 0 2 8 3 8 4 8 3 4 7 8 5 8 0 0 0 4 8 6 4 4 8 0 3\n",
      " 8]\n",
      "porcentaje: 0.353\n",
      "tiempo 1569.4467163085938\n"
     ]
    }
   ],
   "source": [
    "start_time = time.time()\n",
    "yp = model.predict(x_test[:1000]) #testeo con 1000\n",
    "yp = yp.flatten()\n",
    "y_test = y_test.flatten()\n",
    "print(\"porcentaje:\",np.mean(yp==y_test[:1000]))\n",
    "end_time = time.time()\n",
    "print(\"tiempo\",end_time - start_time)"
   ]
  },
  {
   "cell_type": "markdown",
   "metadata": {},
   "source": [
    "# NN con 1000 imagenes (k=5)"
   ]
  },
  {
   "cell_type": "code",
   "execution_count": 5,
   "metadata": {},
   "outputs": [],
   "source": [
    "model = kNearestNeighbour(5)\n",
    "model.train(x_train,y_train)"
   ]
  },
  {
   "cell_type": "code",
   "execution_count": 6,
   "metadata": {},
   "outputs": [
    {
     "name": "stdout",
     "output_type": "stream",
     "text": [
      "[3 8 8 0 6 6 1 6 3 1 0 9 5 7 9 8 5 7 8 6 7 0 4 9 5 2 4 0 9 6 6 5 4 5 9 2 4\n",
      " 1 9 5 4 6 5 6 0 9 3 9 7 6 9 8 0 3 8 8 7 7 4 6 7 3 6 3 6 2 1 2 3 7 2 6 8 8\n",
      " 0 2 9 3 3 8 8 1 1 7 2 5 2 7 8 9 0 3 8 6 4 6 6 0 0 7 4 5 6 3 1 1 3 6 8 7 4\n",
      " 0 6 2 1 3 0 4 2 7 8 3 1 2 8 0 8 3 5 2 4 1 8 9 1 2 9 7 2 9 6 5 6 3 8 7 6 2\n",
      " 5 2 8 9 6 0 0 5 2 9 5 4 2 1 6 6 8 4 8 4 5 0 9 9 9 8 9 9 3 7 5 0 0 5 2 2 3\n",
      " 8 6 3 4 0 5 8 0 1 7 2 8 8 7 8 5 1 8 7 1 3 0 5 7 9 7 4 5 9 8 0 7 9 8 2 7 6\n",
      " 9 4 3 9 6 4 7 6 5 1 5 8 8 0 4 0 5 5 1 1 8 9 0 3 1 9 2 2 5 3 9 9 4 0 3 0 0\n",
      " 9 8 1 5 7 0 8 2 4 7 0 2 3 6 3 8 5 0 3 4 3 9 0 6 1 0 9 1 0 7 9 1 2 6 9 3 4\n",
      " 6 0 0 6 6 6 3 2 6 1 8 2 1 6 8 6 8 0 4 0 7 7 5 5 3 5 2 3 4 1 7 5 4 6 1 9 3\n",
      " 6 6 9 3 8 0 7 2 6 2 5 8 5 4 6 8 9 9 1 0 2 2 7 3 2 8 0 9 5 8 1 9 4 1 3 8 1\n",
      " 4 7 9 4 2 7 0 7 0 6 6 9 0 9 2 8 7 2 2 5 1 2 6 2 9 6 2 3 0 3 9 8 7 8 8 4 0\n",
      " 1 8 2 7 9 3 6 1 9 0 7 3 7 4 5 0 0 2 9 3 4 0 6 2 5 3 7 3 7 2 5 3 1 1 4 9 9\n",
      " 5 7 5 0 2 2 2 9 7 3 9 4 3 5 4 6 5 6 1 4 3 4 4 3 7 8 3 7 8 0 5 7 6 0 5 4 8\n",
      " 6 8 5 5 9 9 9 5 0 1 0 8 1 1 8 0 2 2 0 4 6 5 4 9 4 7 9 9 4 5 6 6 1 5 3 8 9\n",
      " 5 8 5 7 0 7 0 5 0 0 4 6 9 0 9 5 6 6 6 2 9 0 1 7 6 7 5 9 1 6 2 5 5 5 8 5 9\n",
      " 4 6 4 3 2 0 7 6 2 2 3 9 7 9 2 6 7 1 3 6 6 8 9 7 5 4 0 8 4 0 9 3 4 8 9 6 9\n",
      " 2 6 1 4 7 3 5 3 8 5 0 2 1 6 4 3 3 9 6 9 8 8 5 8 6 6 2 1 7 7 1 2 7 9 9 4 4\n",
      " 1 2 5 6 8 7 6 8 3 0 5 5 3 0 7 9 1 3 4 4 5 3 9 5 6 9 2 1 1 4 1 9 4 7 6 3 8\n",
      " 9 0 1 3 6 3 6 3 2 0 3 1 0 5 9 6 4 8 9 6 9 6 3 0 3 2 2 7 8 3 8 2 7 5 7 2 4\n",
      " 8 7 4 2 9 8 8 6 8 8 7 4 3 3 8 4 9 4 8 8 1 8 2 1 3 6 5 4 2 7 9 9 4 1 4 1 3\n",
      " 2 7 0 7 9 7 6 6 2 5 9 2 9 1 2 2 6 8 2 1 3 6 6 0 1 2 7 0 5 4 6 1 6 4 0 2 2\n",
      " 6 0 5 9 1 7 6 7 0 3 9 6 8 3 0 3 4 7 7 1 4 7 2 7 1 4 7 4 4 8 4 7 7 5 3 7 2\n",
      " 0 8 9 5 8 3 6 2 0 8 7 3 7 6 5 3 1 3 2 2 5 4 1 2 9 2 7 0 7 2 1 3 2 0 2 4 7\n",
      " 9 8 9 0 7 7 0 7 8 4 6 3 3 0 1 3 7 0 1 3 1 4 2 3 8 4 2 3 7 8 4 3 0 9 0 0 1\n",
      " 0 4 4 6 7 6 1 1 3 7 3 5 2 6 6 5 8 7 1 6 8 8 5 3 0 4 0 1 3 8 8 0 6 9 9 9 5\n",
      " 5 8 6 0 0 4 2 3 2 7 2 2 5 9 8 9 1 7 4 0 3 0 1 3 8 3 9 6 1 4 7 0 3 7 8 9 1\n",
      " 1 6 6 6 6 9 1 9 9 4 2 1 7 0 6 8 1 9 2 9 0 4 7 8 3 1 2 0 1 5 8 4 6 3 8 1 3\n",
      " 8]\n",
      "\n",
      "\n",
      "[2 8 8 0 4 6 6 2 4 8 0 8 5 1 4 8 3 2 1 3 4 0 0 3 2 4 2 9 2 4 6 2 2 2 8 1 4\n",
      " 8 0 2 0 4 2 4 0 8 5 8 4 4 1 8 6 3 8 8 7 6 8 0 4 3 3 9 4 4 8 2 5 9 2 4 8 8\n",
      " 0 4 9 5 2 0 8 1 4 0 0 0 4 8 8 8 0 4 8 6 2 0 4 0 0 2 4 4 5 3 1 8 2 6 2 5 4\n",
      " 0 4 4 2 5 0 4 3 6 8 4 2 2 8 2 8 3 4 2 4 1 0 6 6 0 0 0 2 8 2 8 6 3 0 4 6 5\n",
      " 7 3 8 2 3 8 0 3 2 8 6 4 0 2 3 4 8 4 8 4 3 0 0 0 8 8 4 1 0 4 5 8 0 0 2 2 2\n",
      " 0 6 3 5 8 4 3 2 3 6 5 8 8 3 3 3 0 8 2 8 4 0 4 2 8 2 0 0 4 8 2 8 9 0 4 7 4\n",
      " 8 2 3 2 2 3 2 2 3 1 2 4 0 0 4 0 0 5 1 4 4 0 0 4 2 0 6 6 2 5 4 4 4 0 4 8 8\n",
      " 4 5 8 4 4 8 0 8 4 7 0 2 2 4 3 8 3 8 4 5 5 1 4 2 1 8 4 1 8 3 9 1 4 2 8 6 4\n",
      " 2 0 0 2 4 2 2 2 2 8 2 2 1 4 8 6 8 0 2 2 5 4 4 4 5 3 6 4 2 1 2 2 8 2 4 9 4\n",
      " 6 4 4 6 8 2 4 3 0 2 3 7 2 4 2 8 8 5 3 1 2 3 2 4 5 8 0 4 5 8 0 8 8 4 1 0 4\n",
      " 4 7 0 8 2 2 8 6 4 2 4 9 4 0 2 0 4 2 2 2 0 0 4 5 6 2 2 5 0 3 9 6 2 8 8 4 0\n",
      " 7 8 2 8 9 2 4 9 8 6 1 3 4 4 4 8 6 2 8 3 4 4 6 2 5 4 6 2 4 2 4 2 4 0 4 1 8\n",
      " 3 2 8 0 2 0 4 9 5 2 0 2 4 4 4 8 5 4 1 4 2 6 7 2 6 0 3 2 8 2 2 6 2 8 2 4 8\n",
      " 2 8 2 5 8 9 4 8 0 4 7 8 2 8 8 8 2 2 0 4 6 4 4 2 2 2 4 3 4 5 4 6 0 3 6 8 8\n",
      " 7 8 0 0 0 7 0 2 2 0 8 4 0 3 2 8 2 4 2 6 8 0 0 0 6 4 5 9 1 2 2 5 2 3 8 4 8\n",
      " 8 2 4 3 2 0 4 4 2 4 3 9 4 0 2 6 7 0 2 6 4 8 8 2 8 2 0 4 4 0 8 6 0 8 8 6 0\n",
      " 2 4 8 4 0 4 6 5 2 2 8 2 1 5 3 3 6 9 6 0 8 8 4 3 7 4 0 9 4 7 0 2 4 8 3 4 4\n",
      " 3 8 0 6 8 6 0 0 3 8 2 3 2 8 2 0 1 4 2 3 2 2 4 3 2 9 8 1 1 2 0 0 5 7 4 5 8\n",
      " 2 0 8 6 2 2 4 6 4 2 4 3 0 5 9 6 7 4 9 4 4 3 6 2 2 2 2 7 8 4 8 4 7 4 7 0 3\n",
      " 1 2 4 0 5 8 8 0 8 8 7 2 4 2 8 4 8 2 8 8 8 8 0 6 4 4 5 4 2 7 4 2 2 0 0 1 3\n",
      " 2 3 4 7 2 2 2 6 2 4 4 2 6 3 4 2 6 8 8 1 4 2 0 8 1 2 6 8 5 8 1 2 5 4 2 4 2\n",
      " 4 2 6 4 0 4 4 4 8 3 9 8 0 0 6 6 8 2 4 4 3 6 4 7 0 0 7 4 2 8 2 2 0 3 6 7 2\n",
      " 8 1 3 4 0 4 6 6 4 8 4 2 7 4 6 3 8 3 2 6 4 4 8 4 4 2 7 0 4 2 3 3 5 0 4 4 5\n",
      " 3 8 8 0 8 8 0 4 0 4 2 4 3 0 8 3 0 2 0 6 0 4 0 3 0 4 2 8 7 8 4 8 0 8 0 8 2\n",
      " 8 4 4 4 5 6 1 1 3 2 7 4 4 6 4 2 8 0 8 2 8 4 4 5 6 4 3 8 4 8 8 2 2 0 2 6 2\n",
      " 3 2 2 0 8 4 2 3 3 7 2 2 4 4 6 4 2 7 4 8 5 0 5 4 4 8 8 2 8 4 7 0 2 4 8 3 2\n",
      " 6 4 5 2 6 9 1 9 2 4 4 6 2 0 2 8 2 4 4 8 3 4 7 8 3 8 0 0 2 6 8 6 4 4 8 0 3\n",
      " 8]\n",
      "porcentaje: 34.699999999999996 %\n",
      "tiempo 1533.0590851306915\n"
     ]
    }
   ],
   "source": [
    "start_time = time.time()\n",
    "yp = model.predict(x_test[:1000]) #testeo con 1000\n",
    "yp = yp.flatten()\n",
    "y_test = y_test.flatten()\n",
    "print(y_test[:1000])\n",
    "print(\"\\n\")\n",
    "print(yp)\n",
    "print(\"porcentaje:\",np.mean(yp==y_test[:1000])*100,\"%\")\n",
    "end_time = time.time()\n",
    "print(\"tiempo\",end_time - start_time)"
   ]
  },
  {
   "cell_type": "markdown",
   "metadata": {},
   "source": [
    "# NN con 1000 imagenes (k=10) FALTA CORRER"
   ]
  },
  {
   "cell_type": "code",
   "execution_count": 5,
   "metadata": {},
   "outputs": [],
   "source": [
    "model = kNearestNeighbour(10)\n",
    "model.train(x_train,y_train)"
   ]
  },
  {
   "cell_type": "code",
   "execution_count": 6,
   "metadata": {},
   "outputs": [
    {
     "name": "stdout",
     "output_type": "stream",
     "text": [
      "porcentaje: 33.0 %\n",
      "tiempo 3420.7264173030853\n"
     ]
    }
   ],
   "source": [
    "start_time = time.time()\n",
    "yp = model.predict(x_test[:1000]) #testeo con 1000\n",
    "yp = yp.flatten()\n",
    "y_test = y_test.flatten()\n",
    "print(\"porcentaje:\",np.mean(yp==y_test[:1000])*100,\"%\")\n",
    "end_time = time.time()\n",
    "print(\"tiempo\",end_time - start_time)"
   ]
  },
  {
   "cell_type": "markdown",
   "metadata": {},
   "source": [
    "# MNIST DATA IMPORT AND ANALYZE (k=1) for 20 first"
   ]
  },
  {
   "cell_type": "code",
   "execution_count": 33,
   "metadata": {},
   "outputs": [
    {
     "name": "stdout",
     "output_type": "stream",
     "text": [
      "loaded data\n"
     ]
    }
   ],
   "source": [
    "(x_train,y_train),(x_test,y_test) = mnist.load_data() #x = images #y = categories\n",
    "x_train = x_train.astype(np.int16)\n",
    "x_test = x_test.astype(np.int16)\n",
    "print(\"loaded data\")"
   ]
  },
  {
   "cell_type": "code",
   "execution_count": 37,
   "metadata": {},
   "outputs": [],
   "source": [
    "model = kNearestNeighbour()\n",
    "model.train(x_train,y_train)"
   ]
  },
  {
   "cell_type": "code",
   "execution_count": 7,
   "metadata": {},
   "outputs": [
    {
     "name": "stdout",
     "output_type": "stream",
     "text": [
      "porcentaje: 100.0 %\n",
      "tiempo 20.949383974075317\n"
     ]
    }
   ],
   "source": [
    "start_time = time.time()\n",
    "yp = model.predict(x_test[:20]) #testeo con 1000\n",
    "y_test = y_test.flatten()\n",
    "yp = yp.flatten()\n",
    "print(\"porcentaje:\",np.mean(yp==y_test[:20])*100,\"%\")\n",
    "end_time = time.time()\n",
    "print(\"tiempo\",end_time - start_time)"
   ]
  },
  {
   "cell_type": "markdown",
   "metadata": {},
   "source": [
    "# MNIST DATA IMPORT AND ANALYZE (k=3) for 20 first"
   ]
  },
  {
   "cell_type": "code",
   "execution_count": 42,
   "metadata": {},
   "outputs": [],
   "source": [
    "model = kNearestNeighbour(3)\n",
    "model.train(x_train,y_train)"
   ]
  },
  {
   "cell_type": "code",
   "execution_count": 43,
   "metadata": {},
   "outputs": [
    {
     "name": "stdout",
     "output_type": "stream",
     "text": [
      "porcentaje: 100.0 %\n",
      "tiempo 25.7166166305542\n"
     ]
    }
   ],
   "source": [
    "start_time = time.time()\n",
    "yp = model.predict(x_test[:20]) #testeo con 1000\n",
    "y_test = y_test.flatten()\n",
    "yp = yp.flatten()\n",
    "print(\"porcentaje:\",np.mean(yp==y_test[:20])*100,\"%\")\n",
    "end_time = time.time()\n",
    "print(\"tiempo\",end_time - start_time)"
   ]
  }
 ],
 "metadata": {
  "kernelspec": {
   "display_name": "Python 3",
   "language": "python",
   "name": "python3"
  },
  "language_info": {
   "codemirror_mode": {
    "name": "ipython",
    "version": 3
   },
   "file_extension": ".py",
   "mimetype": "text/x-python",
   "name": "python",
   "nbconvert_exporter": "python",
   "pygments_lexer": "ipython3",
   "version": "3.7.7"
  }
 },
 "nbformat": 4,
 "nbformat_minor": 4
}
