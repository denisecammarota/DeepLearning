{
 "cells": [
  {
   "cell_type": "code",
   "execution_count": 1,
   "metadata": {},
   "outputs": [
    {
     "name": "stderr",
     "output_type": "stream",
     "text": [
      "Using TensorFlow backend.\n"
     ]
    }
   ],
   "source": [
    "import numpy as np\n",
    "import matplotlib.pyplot as plt\n",
    "import pandas as pd\n",
    "import keras\n",
    "import tensorflow as tf\n",
    "from sklearn.preprocessing import MinMaxScaler #scaling de los datos entre 0 y 1\n",
    "from sklearn.metrics import mean_squared_error"
   ]
  },
  {
   "cell_type": "code",
   "execution_count": 2,
   "metadata": {},
   "outputs": [],
   "source": [
    "data_msal = 'Datos2/Covid19Casos.csv'\n",
    "data_mobility = 'Datos2/Global_Mobility_Report.csv'"
   ]
  },
  {
   "cell_type": "markdown",
   "metadata": {},
   "source": [
    "# funciones auxiliares (armadas para mi tesis)"
   ]
  },
  {
   "cell_type": "code",
   "execution_count": 3,
   "metadata": {},
   "outputs": [],
   "source": [
    "def new_cases_per_day(fecha_sintomas,graph=False,ret=False):\n",
    "    \"\"\"\n",
    "    args: \n",
    "    -fecha_sintomas: day of beginning of symptomps for each case, can't be NaN or NaT (already processed)\n",
    "    -graph: defaults to False. if True, makes graph of new cases per day \n",
    "    -ret: defaults to False. if True, returns days-cases per day  np.array casos_por_dia\n",
    "    given the days of beginning of symptoms, processes to get np.array of cases per day and days since epidemic\n",
    "    can graph and return this vector with the defaults explained before\n",
    "    latest update = checked the days again, it works perfectly splendid\n",
    "    \"\"\"\n",
    "    counts = np.bincount(fecha_sintomas)\n",
    "    ultima_fecha = max(fecha_sintomas)\n",
    "    aux = range(ultima_fecha+1)\n",
    "    casos_por_dia = np.vstack((aux,counts[aux])).T #(days since inicio_epidemia x (fecha_inicio_sintomas == days))\n",
    "    if graph == True:\n",
    "        plt.xlabel(\"Dia\")\n",
    "        plt.ylabel(\"Casos\")\n",
    "        plt.axvspan(ultima_fecha-10, ultima_fecha+3, facecolor='r', alpha=0.5,label=\"últimos 10 días\")\n",
    "        plt.plot(casos_por_dia[:,0],casos_por_dia[:,1],'-ob',label=\"casos hasta dia: \"+str(ultima_fecha))\n",
    "        plt.style.use('ggplot')\n",
    "        plt.legend()\n",
    "        #plt.savefig(\"casos_por_dia_bariloche.pdf\")\n",
    "    if ret == True:\n",
    "        return casos_por_dia   "
   ]
  },
  {
   "cell_type": "code",
   "execution_count": 4,
   "metadata": {},
   "outputs": [],
   "source": [
    "def cumulative_cases(fecha_sintomas,graph=False,ret=False):\n",
    "    \"\"\"\n",
    "    args: \n",
    "    -fecha_sintomas: day of beginning of symptomps for each case, can't be NaN or NaT (already processed)\n",
    "    -graph: defaults to False. if True, makes graph of new cases per day \n",
    "    -ret: defaults to False. if True, returns days-cumulative cases per day np array\n",
    "    given the days of beginning of symptoms, processes to get np.array of cumulative cases per day and days since epidemic\n",
    "    can graph and return this vector with the defaults explained before\n",
    "    latest update = checked the days again, it works perfectly splendid\n",
    "    \"\"\"\n",
    "    ultima_fecha = max(fecha_sintomas)\n",
    "    casos_por_dia = new_cases_per_day(fecha_sintomas,ret=True)\n",
    "    casos_acumulados_por_dia = np.copy(casos_por_dia)\n",
    "    casos_acumulados_por_dia[:,1] = np.cumsum(casos_por_dia[:,1]) \n",
    "    if graph == True:\n",
    "        plt.xlabel(\"Dia\")\n",
    "        plt.ylabel(\"Casos acumulados\")\n",
    "        plt.axvspan(ultima_fecha-10, ultima_fecha+3, facecolor='r', alpha=0.5,label=\"últimos 10 días\")\n",
    "        plt.scatter(casos_acumulados_por_dia[:,0],casos_acumulados_por_dia[:,1],c='b',label=\"casos acumulados hasta dia: \"+str(ultima_fecha))\n",
    "        plt.legend()\n",
    "        plt.style.use('ggplot')\n",
    "        plt.savefig(\"casos_acumulados_bariloche.pdf\")\n",
    "    if ret == True:\n",
    "        return casos_acumulados_por_dia "
   ]
  },
  {
   "cell_type": "code",
   "execution_count": 5,
   "metadata": {},
   "outputs": [],
   "source": [
    "def change_dates(df):\n",
    "    #changes fecha_inicio_sintomas according to new criteria\n",
    "    filt_df1 = (df.fecha_inicio_sintomas.isnull()) #filter fecha_inicio_sintomas = inexistant\n",
    "    df_sin_fecha = df.loc[filt_df1]\n",
    "    n_size = df_sin_fecha.shape[0]\n",
    "    df.loc[filt_df1,\"fecha_inicio_sintomas\"] = df.loc[filt_df1,\"fecha_apertura\"] - np.random.randint(0,9,n_size)"
   ]
  },
  {
   "cell_type": "markdown",
   "metadata": {},
   "source": [
    "# ejercicio en si // trato de hacer todo primero para capital "
   ]
  },
  {
   "cell_type": "markdown",
   "metadata": {},
   "source": [
    "# primero manejo los datos de movilidad"
   ]
  },
  {
   "cell_type": "code",
   "execution_count": 163,
   "metadata": {},
   "outputs": [
    {
     "name": "stderr",
     "output_type": "stream",
     "text": [
      "C:\\Users\\denis\\Anaconda3\\envs\\tf-gpu\\lib\\site-packages\\IPython\\core\\interactiveshell.py:3146: DtypeWarning: Columns (4) have mixed types.Specify dtype option on import or set low_memory=False.\n",
      "  interactivity=interactivity, compiler=compiler, result=result)\n"
     ]
    }
   ],
   "source": [
    "data1 = pd.read_csv(data_mobility,sep=\",\",quotechar='\"',dtype={'iso_3166_2_code':str},\n",
    "                   parse_dates=[\"date\"],na_values=['']) #data loading\n",
    "df1 = pd.DataFrame(data1)"
   ]
  },
  {
   "cell_type": "code",
   "execution_count": 164,
   "metadata": {
    "scrolled": false
   },
   "outputs": [],
   "source": [
    "df1 = df1[df1.iso_3166_2_code == 'AR-C']"
   ]
  },
  {
   "cell_type": "code",
   "execution_count": 165,
   "metadata": {},
   "outputs": [],
   "source": [
    "df1 = df1.drop(['country_region_code','country_region','sub_region_1','sub_region_2','metro_area','iso_3166_2_code','census_fips_code'],axis=1)"
   ]
  },
  {
   "cell_type": "code",
   "execution_count": 166,
   "metadata": {},
   "outputs": [
    {
     "name": "stdout",
     "output_type": "stream",
     "text": [
      "primer dia 2020-02-15 00:00:00\n",
      "ult dia 2020-11-13 00:00:00\n"
     ]
    }
   ],
   "source": [
    "primer_dia = min(df1[\"date\"])\n",
    "ult_dia = max(df1[\"date\"])\n",
    "print('primer dia',primer_dia)\n",
    "print('ult dia',ult_dia)"
   ]
  },
  {
   "cell_type": "markdown",
   "metadata": {},
   "source": [
    "# ahora manejo los datos del msal"
   ]
  },
  {
   "cell_type": "code",
   "execution_count": 10,
   "metadata": {},
   "outputs": [],
   "source": [
    "data2 = pd.read_csv(data_msal,sep=\",\",quotechar='\"',\n",
    "                   parse_dates=[\"fecha_inicio_sintomas\",\"fecha_apertura\",\"fecha_internacion\",\"fecha_cui_intensivo\",\n",
    "                               \"fecha_fallecimiento\",\"fecha_diagnostico\",\"ultima_actualizacion\"]\n",
    "                    ,na_values=['']) #data loading"
   ]
  },
  {
   "cell_type": "code",
   "execution_count": 11,
   "metadata": {},
   "outputs": [],
   "source": [
    "df2 = pd.DataFrame(data2)"
   ]
  },
  {
   "cell_type": "code",
   "execution_count": 12,
   "metadata": {},
   "outputs": [],
   "source": [
    "df2 = df2[df2.residencia_provincia_nombre == 'CABA']"
   ]
  },
  {
   "cell_type": "code",
   "execution_count": 13,
   "metadata": {},
   "outputs": [],
   "source": [
    "df2 = df2.drop([\"id_evento_caso\",\"sexo\",\"edad\",\"edad_años_meses\",\"residencia_pais_nombre\",\n",
    "          \"residencia_provincia_nombre\",\"residencia_departamento_nombre\",\n",
    "         \"carga_provincia_nombre\",\"carga_provincia_id\",\"origen_financiamiento\",\n",
    "         \"residencia_provincia_id\",\"residencia_departamento_id\",\"ultima_actualizacion\",\n",
    "        \"asistencia_respiratoria_mecanica\",\"sepi_apertura\"],axis=1)"
   ]
  },
  {
   "cell_type": "code",
   "execution_count": 14,
   "metadata": {},
   "outputs": [
    {
     "data": {
      "text/html": [
       "<div>\n",
       "<style scoped>\n",
       "    .dataframe tbody tr th:only-of-type {\n",
       "        vertical-align: middle;\n",
       "    }\n",
       "\n",
       "    .dataframe tbody tr th {\n",
       "        vertical-align: top;\n",
       "    }\n",
       "\n",
       "    .dataframe thead th {\n",
       "        text-align: right;\n",
       "    }\n",
       "</style>\n",
       "<table border=\"1\" class=\"dataframe\">\n",
       "  <thead>\n",
       "    <tr style=\"text-align: right;\">\n",
       "      <th></th>\n",
       "      <th>fecha_inicio_sintomas</th>\n",
       "      <th>fecha_apertura</th>\n",
       "      <th>fecha_internacion</th>\n",
       "      <th>cuidado_intensivo</th>\n",
       "      <th>fecha_cui_intensivo</th>\n",
       "      <th>fallecido</th>\n",
       "      <th>fecha_fallecimiento</th>\n",
       "      <th>clasificacion</th>\n",
       "      <th>clasificacion_resumen</th>\n",
       "      <th>fecha_diagnostico</th>\n",
       "    </tr>\n",
       "  </thead>\n",
       "  <tbody>\n",
       "    <tr>\n",
       "      <th>0</th>\n",
       "      <td>NaT</td>\n",
       "      <td>2020-06-01</td>\n",
       "      <td>NaT</td>\n",
       "      <td>NO</td>\n",
       "      <td>NaT</td>\n",
       "      <td>NO</td>\n",
       "      <td>NaT</td>\n",
       "      <td>Caso Descartado</td>\n",
       "      <td>Descartado</td>\n",
       "      <td>2020-06-09</td>\n",
       "    </tr>\n",
       "    <tr>\n",
       "      <th>6</th>\n",
       "      <td>2020-05-31</td>\n",
       "      <td>2020-06-01</td>\n",
       "      <td>NaT</td>\n",
       "      <td>NO</td>\n",
       "      <td>NaT</td>\n",
       "      <td>NO</td>\n",
       "      <td>NaT</td>\n",
       "      <td>Caso Descartado</td>\n",
       "      <td>Descartado</td>\n",
       "      <td>2020-06-01</td>\n",
       "    </tr>\n",
       "    <tr>\n",
       "      <th>8</th>\n",
       "      <td>NaT</td>\n",
       "      <td>2020-06-01</td>\n",
       "      <td>NaT</td>\n",
       "      <td>NO</td>\n",
       "      <td>NaT</td>\n",
       "      <td>NO</td>\n",
       "      <td>NaT</td>\n",
       "      <td>Caso confirmado por laboratorio - No activo (p...</td>\n",
       "      <td>Confirmado</td>\n",
       "      <td>2020-06-01</td>\n",
       "    </tr>\n",
       "    <tr>\n",
       "      <th>10</th>\n",
       "      <td>2020-05-26</td>\n",
       "      <td>2020-06-01</td>\n",
       "      <td>2020-05-31</td>\n",
       "      <td>NO</td>\n",
       "      <td>NaT</td>\n",
       "      <td>NO</td>\n",
       "      <td>NaT</td>\n",
       "      <td>Caso confirmado por laboratorio - No Activo po...</td>\n",
       "      <td>Confirmado</td>\n",
       "      <td>2020-05-31</td>\n",
       "    </tr>\n",
       "    <tr>\n",
       "      <th>13</th>\n",
       "      <td>2020-05-18</td>\n",
       "      <td>2020-06-01</td>\n",
       "      <td>NaT</td>\n",
       "      <td>NO</td>\n",
       "      <td>NaT</td>\n",
       "      <td>NO</td>\n",
       "      <td>NaT</td>\n",
       "      <td>Caso confirmado por laboratorio - No activo (p...</td>\n",
       "      <td>Confirmado</td>\n",
       "      <td>2020-06-01</td>\n",
       "    </tr>\n",
       "    <tr>\n",
       "      <th>...</th>\n",
       "      <td>...</td>\n",
       "      <td>...</td>\n",
       "      <td>...</td>\n",
       "      <td>...</td>\n",
       "      <td>...</td>\n",
       "      <td>...</td>\n",
       "      <td>...</td>\n",
       "      <td>...</td>\n",
       "      <td>...</td>\n",
       "      <td>...</td>\n",
       "    </tr>\n",
       "    <tr>\n",
       "      <th>3283418</th>\n",
       "      <td>2020-05-15</td>\n",
       "      <td>2020-06-01</td>\n",
       "      <td>NaT</td>\n",
       "      <td>NO</td>\n",
       "      <td>NaT</td>\n",
       "      <td>NO</td>\n",
       "      <td>NaT</td>\n",
       "      <td>Caso Descartado</td>\n",
       "      <td>Descartado</td>\n",
       "      <td>2020-06-01</td>\n",
       "    </tr>\n",
       "    <tr>\n",
       "      <th>3283422</th>\n",
       "      <td>NaT</td>\n",
       "      <td>2020-06-01</td>\n",
       "      <td>NaT</td>\n",
       "      <td>NO</td>\n",
       "      <td>NaT</td>\n",
       "      <td>NO</td>\n",
       "      <td>NaT</td>\n",
       "      <td>Caso Descartado</td>\n",
       "      <td>Descartado</td>\n",
       "      <td>2020-06-02</td>\n",
       "    </tr>\n",
       "    <tr>\n",
       "      <th>3283428</th>\n",
       "      <td>2020-05-28</td>\n",
       "      <td>2020-06-01</td>\n",
       "      <td>2020-05-31</td>\n",
       "      <td>NO</td>\n",
       "      <td>NaT</td>\n",
       "      <td>NO</td>\n",
       "      <td>NaT</td>\n",
       "      <td>Caso confirmado por laboratorio - No Activo po...</td>\n",
       "      <td>Confirmado</td>\n",
       "      <td>2020-06-01</td>\n",
       "    </tr>\n",
       "    <tr>\n",
       "      <th>3283433</th>\n",
       "      <td>NaT</td>\n",
       "      <td>2020-06-01</td>\n",
       "      <td>NaT</td>\n",
       "      <td>NO</td>\n",
       "      <td>NaT</td>\n",
       "      <td>NO</td>\n",
       "      <td>NaT</td>\n",
       "      <td>Caso Descartado</td>\n",
       "      <td>Descartado</td>\n",
       "      <td>2020-06-01</td>\n",
       "    </tr>\n",
       "    <tr>\n",
       "      <th>3283434</th>\n",
       "      <td>NaT</td>\n",
       "      <td>2020-06-01</td>\n",
       "      <td>NaT</td>\n",
       "      <td>NO</td>\n",
       "      <td>NaT</td>\n",
       "      <td>NO</td>\n",
       "      <td>NaT</td>\n",
       "      <td>Caso Descartado</td>\n",
       "      <td>Descartado</td>\n",
       "      <td>2020-06-02</td>\n",
       "    </tr>\n",
       "  </tbody>\n",
       "</table>\n",
       "<p>499915 rows × 10 columns</p>\n",
       "</div>"
      ],
      "text/plain": [
       "        fecha_inicio_sintomas fecha_apertura fecha_internacion  \\\n",
       "0                         NaT     2020-06-01               NaT   \n",
       "6                  2020-05-31     2020-06-01               NaT   \n",
       "8                         NaT     2020-06-01               NaT   \n",
       "10                 2020-05-26     2020-06-01        2020-05-31   \n",
       "13                 2020-05-18     2020-06-01               NaT   \n",
       "...                       ...            ...               ...   \n",
       "3283418            2020-05-15     2020-06-01               NaT   \n",
       "3283422                   NaT     2020-06-01               NaT   \n",
       "3283428            2020-05-28     2020-06-01        2020-05-31   \n",
       "3283433                   NaT     2020-06-01               NaT   \n",
       "3283434                   NaT     2020-06-01               NaT   \n",
       "\n",
       "        cuidado_intensivo fecha_cui_intensivo fallecido fecha_fallecimiento  \\\n",
       "0                      NO                 NaT        NO                 NaT   \n",
       "6                      NO                 NaT        NO                 NaT   \n",
       "8                      NO                 NaT        NO                 NaT   \n",
       "10                     NO                 NaT        NO                 NaT   \n",
       "13                     NO                 NaT        NO                 NaT   \n",
       "...                   ...                 ...       ...                 ...   \n",
       "3283418                NO                 NaT        NO                 NaT   \n",
       "3283422                NO                 NaT        NO                 NaT   \n",
       "3283428                NO                 NaT        NO                 NaT   \n",
       "3283433                NO                 NaT        NO                 NaT   \n",
       "3283434                NO                 NaT        NO                 NaT   \n",
       "\n",
       "                                             clasificacion  \\\n",
       "0                                          Caso Descartado   \n",
       "6                                          Caso Descartado   \n",
       "8        Caso confirmado por laboratorio - No activo (p...   \n",
       "10       Caso confirmado por laboratorio - No Activo po...   \n",
       "13       Caso confirmado por laboratorio - No activo (p...   \n",
       "...                                                    ...   \n",
       "3283418                                    Caso Descartado   \n",
       "3283422                                    Caso Descartado   \n",
       "3283428  Caso confirmado por laboratorio - No Activo po...   \n",
       "3283433                                    Caso Descartado   \n",
       "3283434                                    Caso Descartado   \n",
       "\n",
       "        clasificacion_resumen fecha_diagnostico  \n",
       "0                  Descartado        2020-06-09  \n",
       "6                  Descartado        2020-06-01  \n",
       "8                  Confirmado        2020-06-01  \n",
       "10                 Confirmado        2020-05-31  \n",
       "13                 Confirmado        2020-06-01  \n",
       "...                       ...               ...  \n",
       "3283418            Descartado        2020-06-01  \n",
       "3283422            Descartado        2020-06-02  \n",
       "3283428            Confirmado        2020-06-01  \n",
       "3283433            Descartado        2020-06-01  \n",
       "3283434            Descartado        2020-06-02  \n",
       "\n",
       "[499915 rows x 10 columns]"
      ]
     },
     "execution_count": 14,
     "metadata": {},
     "output_type": "execute_result"
    }
   ],
   "source": [
    "df2"
   ]
  },
  {
   "cell_type": "markdown",
   "metadata": {},
   "source": [
    "# primero lo convencional, casos en funcion del tiempo"
   ]
  },
  {
   "cell_type": "code",
   "execution_count": 15,
   "metadata": {},
   "outputs": [],
   "source": [
    "#datos acumulados - fecha \n",
    "df = df2.copy()\n",
    "df = df[df.clasificacion_resumen == \"Confirmado\"]"
   ]
  },
  {
   "cell_type": "code",
   "execution_count": 16,
   "metadata": {},
   "outputs": [],
   "source": [
    "df = df.drop([\"fecha_internacion\",\"cuidado_intensivo\",\"fecha_cui_intensivo\",\"fallecido\",\"fecha_fallecimiento\",\"clasificacion\",\"clasificacion_resumen\",\"fecha_diagnostico\"],axis=1)"
   ]
  },
  {
   "cell_type": "code",
   "execution_count": 17,
   "metadata": {},
   "outputs": [
    {
     "name": "stdout",
     "output_type": "stream",
     "text": [
      "primer sintoma de persona confirmada:  2020-01-06 00:00:00\n",
      "ultimo sintoma de persona confirmada:  2020-11-15 00:00:00\n",
      "ultima apertura de persona confirmada:  2020-11-16 00:00:00\n"
     ]
    }
   ],
   "source": [
    "filt_df1 = (df.fecha_inicio_sintomas.notnull()) #filter fecha_inicio_sintomas = inexistant\n",
    "inicio_epidemia = min(df.loc[filt_df1,\"fecha_inicio_sintomas\"]) #first symptoms of a person registered\n",
    "ultima_actualizacion_sintomas = max(df.loc[filt_df1,\"fecha_inicio_sintomas\"]) #last day symptoms of a person registered\n",
    "ultima_actualizacion_apertura = max(df[\"fecha_apertura\"])\n",
    "df[\"fecha_inicio_sintomas\"] -= inicio_epidemia #correcting by inicio_epidemia \n",
    "df[\"fecha_apertura\"] -= inicio_epidemia #correcting by inicio_epidemia\n",
    "df.fecha_inicio_sintomas = df.fecha_inicio_sintomas.dt.days #change to int, ditch days \n",
    "df.fecha_apertura = df.fecha_apertura.dt.days #change to int, ditch days\n",
    "change_dates(df) #replaces non existing fecha_inicio_sintomas acc to new criteria\n",
    "print(\"primer sintoma de persona confirmada: \",inicio_epidemia)\n",
    "print(\"ultimo sintoma de persona confirmada: \",ultima_actualizacion_sintomas)\n",
    "print(\"ultima apertura de persona confirmada: \",ultima_actualizacion_apertura)"
   ]
  },
  {
   "cell_type": "code",
   "execution_count": 18,
   "metadata": {},
   "outputs": [],
   "source": [
    "fecha_sintomas = df.fecha_inicio_sintomas.to_numpy() #numpy array of fecha_inicio_sintomas\n",
    "fecha_apertura = df.fecha_apertura.to_numpy() #numpy array of fecha_apertura\n",
    "fecha_sintomas = fecha_sintomas.astype(int)"
   ]
  },
  {
   "cell_type": "code",
   "execution_count": 19,
   "metadata": {},
   "outputs": [],
   "source": [
    "ac_cases = cumulative_cases(fecha_sintomas,graph=False,ret=True) #casos acumulados \n",
    "dif_cases = np.zeros((ac_cases.shape[0],1),dtype=float)"
   ]
  },
  {
   "cell_type": "code",
   "execution_count": 20,
   "metadata": {},
   "outputs": [],
   "source": [
    "for i in range(ac_cases.shape[0]):\n",
    "    if i != 0:\n",
    "        dif_cases[i] = ac_cases[i,1] - ac_cases[i-1,1]\n",
    "ac_cases = np.concatenate([ac_cases,dif_cases],axis=1)"
   ]
  },
  {
   "cell_type": "markdown",
   "metadata": {},
   "source": [
    "# fallecimientos en funcion del tiempo "
   ]
  },
  {
   "cell_type": "code",
   "execution_count": 21,
   "metadata": {},
   "outputs": [],
   "source": [
    "dff = df2.copy()\n",
    "dff = dff[dff.clasificacion_resumen == \"Confirmado\"]\n",
    "dff = dff[dff.fallecido == \"SI\"]"
   ]
  },
  {
   "cell_type": "code",
   "execution_count": 22,
   "metadata": {},
   "outputs": [],
   "source": [
    "dff = dff.drop([\"fecha_inicio_sintomas\",\"fecha_apertura\",\"fecha_internacion\",\"cuidado_intensivo\",\"fecha_cui_intensivo\",\"fallecido\",\n",
    "         \"clasificacion\",\"clasificacion_resumen\",\"fecha_diagnostico\"],axis=1)"
   ]
  },
  {
   "cell_type": "code",
   "execution_count": 23,
   "metadata": {},
   "outputs": [
    {
     "data": {
      "text/html": [
       "<div>\n",
       "<style scoped>\n",
       "    .dataframe tbody tr th:only-of-type {\n",
       "        vertical-align: middle;\n",
       "    }\n",
       "\n",
       "    .dataframe tbody tr th {\n",
       "        vertical-align: top;\n",
       "    }\n",
       "\n",
       "    .dataframe thead th {\n",
       "        text-align: right;\n",
       "    }\n",
       "</style>\n",
       "<table border=\"1\" class=\"dataframe\">\n",
       "  <thead>\n",
       "    <tr style=\"text-align: right;\">\n",
       "      <th></th>\n",
       "      <th>fecha_fallecimiento</th>\n",
       "    </tr>\n",
       "  </thead>\n",
       "  <tbody>\n",
       "    <tr>\n",
       "      <th>117</th>\n",
       "      <td>2020-06-17</td>\n",
       "    </tr>\n",
       "    <tr>\n",
       "      <th>282</th>\n",
       "      <td>2020-06-09</td>\n",
       "    </tr>\n",
       "    <tr>\n",
       "      <th>324</th>\n",
       "      <td>2020-06-16</td>\n",
       "    </tr>\n",
       "    <tr>\n",
       "      <th>481</th>\n",
       "      <td>2020-06-23</td>\n",
       "    </tr>\n",
       "    <tr>\n",
       "      <th>1129</th>\n",
       "      <td>2020-06-03</td>\n",
       "    </tr>\n",
       "    <tr>\n",
       "      <th>...</th>\n",
       "      <td>...</td>\n",
       "    </tr>\n",
       "    <tr>\n",
       "      <th>3281333</th>\n",
       "      <td>2020-07-08</td>\n",
       "    </tr>\n",
       "    <tr>\n",
       "      <th>3281713</th>\n",
       "      <td>2020-06-19</td>\n",
       "    </tr>\n",
       "    <tr>\n",
       "      <th>3281907</th>\n",
       "      <td>2020-06-06</td>\n",
       "    </tr>\n",
       "    <tr>\n",
       "      <th>3282167</th>\n",
       "      <td>2020-06-16</td>\n",
       "    </tr>\n",
       "    <tr>\n",
       "      <th>3282487</th>\n",
       "      <td>2020-06-01</td>\n",
       "    </tr>\n",
       "  </tbody>\n",
       "</table>\n",
       "<p>5247 rows × 1 columns</p>\n",
       "</div>"
      ],
      "text/plain": [
       "        fecha_fallecimiento\n",
       "117              2020-06-17\n",
       "282              2020-06-09\n",
       "324              2020-06-16\n",
       "481              2020-06-23\n",
       "1129             2020-06-03\n",
       "...                     ...\n",
       "3281333          2020-07-08\n",
       "3281713          2020-06-19\n",
       "3281907          2020-06-06\n",
       "3282167          2020-06-16\n",
       "3282487          2020-06-01\n",
       "\n",
       "[5247 rows x 1 columns]"
      ]
     },
     "execution_count": 23,
     "metadata": {},
     "output_type": "execute_result"
    }
   ],
   "source": [
    "dff"
   ]
  },
  {
   "cell_type": "code",
   "execution_count": 24,
   "metadata": {},
   "outputs": [],
   "source": [
    "dff[\"fecha_fallecimiento\"] -= inicio_epidemia"
   ]
  },
  {
   "cell_type": "code",
   "execution_count": 25,
   "metadata": {},
   "outputs": [
    {
     "data": {
      "text/html": [
       "<div>\n",
       "<style scoped>\n",
       "    .dataframe tbody tr th:only-of-type {\n",
       "        vertical-align: middle;\n",
       "    }\n",
       "\n",
       "    .dataframe tbody tr th {\n",
       "        vertical-align: top;\n",
       "    }\n",
       "\n",
       "    .dataframe thead th {\n",
       "        text-align: right;\n",
       "    }\n",
       "</style>\n",
       "<table border=\"1\" class=\"dataframe\">\n",
       "  <thead>\n",
       "    <tr style=\"text-align: right;\">\n",
       "      <th></th>\n",
       "      <th>fecha_fallecimiento</th>\n",
       "    </tr>\n",
       "  </thead>\n",
       "  <tbody>\n",
       "    <tr>\n",
       "      <th>117</th>\n",
       "      <td>163 days</td>\n",
       "    </tr>\n",
       "    <tr>\n",
       "      <th>282</th>\n",
       "      <td>155 days</td>\n",
       "    </tr>\n",
       "    <tr>\n",
       "      <th>324</th>\n",
       "      <td>162 days</td>\n",
       "    </tr>\n",
       "    <tr>\n",
       "      <th>481</th>\n",
       "      <td>169 days</td>\n",
       "    </tr>\n",
       "    <tr>\n",
       "      <th>1129</th>\n",
       "      <td>149 days</td>\n",
       "    </tr>\n",
       "    <tr>\n",
       "      <th>...</th>\n",
       "      <td>...</td>\n",
       "    </tr>\n",
       "    <tr>\n",
       "      <th>3281333</th>\n",
       "      <td>184 days</td>\n",
       "    </tr>\n",
       "    <tr>\n",
       "      <th>3281713</th>\n",
       "      <td>165 days</td>\n",
       "    </tr>\n",
       "    <tr>\n",
       "      <th>3281907</th>\n",
       "      <td>152 days</td>\n",
       "    </tr>\n",
       "    <tr>\n",
       "      <th>3282167</th>\n",
       "      <td>162 days</td>\n",
       "    </tr>\n",
       "    <tr>\n",
       "      <th>3282487</th>\n",
       "      <td>147 days</td>\n",
       "    </tr>\n",
       "  </tbody>\n",
       "</table>\n",
       "<p>5247 rows × 1 columns</p>\n",
       "</div>"
      ],
      "text/plain": [
       "        fecha_fallecimiento\n",
       "117                163 days\n",
       "282                155 days\n",
       "324                162 days\n",
       "481                169 days\n",
       "1129               149 days\n",
       "...                     ...\n",
       "3281333            184 days\n",
       "3281713            165 days\n",
       "3281907            152 days\n",
       "3282167            162 days\n",
       "3282487            147 days\n",
       "\n",
       "[5247 rows x 1 columns]"
      ]
     },
     "execution_count": 25,
     "metadata": {},
     "output_type": "execute_result"
    }
   ],
   "source": [
    "dff"
   ]
  },
  {
   "cell_type": "code",
   "execution_count": 26,
   "metadata": {},
   "outputs": [],
   "source": [
    "dff.fecha_fallecimiento = dff.fecha_fallecimiento.dt.days\n",
    "fecha_fallecimiento = dff.fecha_fallecimiento.to_numpy() #numpy array of fecha_apertura\n",
    "fecha_fallecimiento = fecha_fallecimiento.astype(int)"
   ]
  },
  {
   "cell_type": "code",
   "execution_count": 27,
   "metadata": {},
   "outputs": [],
   "source": [
    "fac_cases = cumulative_cases(fecha_fallecimiento,graph=False,ret=True)\n",
    "fac_cases = fac_cases[:,1].reshape(-1,1)"
   ]
  },
  {
   "cell_type": "code",
   "execution_count": 28,
   "metadata": {},
   "outputs": [],
   "source": [
    "ac_cases = np.concatenate([ac_cases,fac_cases],axis=1)"
   ]
  },
  {
   "cell_type": "code",
   "execution_count": 29,
   "metadata": {},
   "outputs": [],
   "source": [
    "dif_cases = np.zeros((ac_cases.shape[0],1),dtype=float)\n",
    "for i in range(ac_cases.shape[0]):\n",
    "    if i != 0:\n",
    "        dif_cases[i] = ac_cases[i,3] - ac_cases[i-1,3]\n",
    "ac_cases = np.concatenate([ac_cases,dif_cases],axis=1)"
   ]
  },
  {
   "cell_type": "code",
   "execution_count": 30,
   "metadata": {},
   "outputs": [
    {
     "data": {
      "text/plain": [
       "array([[0.00000e+00, 1.00000e+00, 0.00000e+00, 0.00000e+00, 0.00000e+00],\n",
       "       [1.00000e+00, 1.00000e+00, 0.00000e+00, 0.00000e+00, 0.00000e+00],\n",
       "       [2.00000e+00, 1.00000e+00, 0.00000e+00, 0.00000e+00, 0.00000e+00],\n",
       "       ...,\n",
       "       [3.13000e+02, 1.53027e+05, 4.60000e+01, 5.24100e+03, 8.00000e+00],\n",
       "       [3.14000e+02, 1.53058e+05, 3.10000e+01, 5.24400e+03, 3.00000e+00],\n",
       "       [3.15000e+02, 1.53069e+05, 1.10000e+01, 5.24700e+03, 3.00000e+00]])"
      ]
     },
     "execution_count": 30,
     "metadata": {},
     "output_type": "execute_result"
    }
   ],
   "source": [
    "ac_cases"
   ]
  },
  {
   "cell_type": "markdown",
   "metadata": {},
   "source": [
    "# agrego la poblacion de caba"
   ]
  },
  {
   "cell_type": "code",
   "execution_count": 32,
   "metadata": {},
   "outputs": [],
   "source": [
    "filas = ac_cases.shape[0]\n",
    "poblacion = 3075646\n",
    "pop = np.zeros((filas,1)) + poblacion\n",
    "ac_cases = np.concatenate([ac_cases,pop],axis=1)"
   ]
  },
  {
   "cell_type": "markdown",
   "metadata": {},
   "source": [
    "# descartados"
   ]
  },
  {
   "cell_type": "code",
   "execution_count": 95,
   "metadata": {},
   "outputs": [],
   "source": [
    "#datos acumulados - fecha \n",
    "dff = df2.copy()\n",
    "dff = dff[dff.]\n",
    "dff = dff[dff.clasificacion_resumen == \"Descartado\"]"
   ]
  },
  {
   "cell_type": "code",
   "execution_count": 96,
   "metadata": {},
   "outputs": [],
   "source": [
    "dff = dff.drop([\"fecha_inicio_sintomas\",\"fecha_apertura\",\"fecha_internacion\",\"cuidado_intensivo\",\"fecha_cui_intensivo\",\n",
    "                \"fallecido\",\"fecha_fallecimiento\",\"clasificacion\",\"clasificacion_resumen\"],axis=1)"
   ]
  },
  {
   "cell_type": "code",
   "execution_count": 97,
   "metadata": {},
   "outputs": [],
   "source": [
    "dff[\"fecha_diagnostico\"] -= inicio_epidemia\n",
    "dff.fecha_diagnostico = dff.fecha_diagnostico.dt.days\n",
    "fecha_diagnostico = dff.fecha_diagnostico.to_numpy() #numpy array of fecha_apertura\n",
    "fecha_diagnostico = fecha_diagnostico.astype(int)\n",
    "fecha_diagnostico[fecha_diagnostico<0] = 0"
   ]
  },
  {
   "cell_type": "code",
   "execution_count": 100,
   "metadata": {},
   "outputs": [],
   "source": [
    "fac_cases = cumulative_cases(fecha_diagnostico,graph=False,ret=True)\n",
    "fac_cases = fac_cases[:,1].reshape(-1,1)"
   ]
  },
  {
   "cell_type": "code",
   "execution_count": 101,
   "metadata": {},
   "outputs": [],
   "source": [
    "ac_cases = np.concatenate([ac_cases,fac_cases],axis=1)"
   ]
  },
  {
   "cell_type": "markdown",
   "metadata": {},
   "source": [
    "# cuidados intensivos "
   ]
  },
  {
   "cell_type": "code",
   "execution_count": 119,
   "metadata": {},
   "outputs": [],
   "source": [
    "dff = df2.copy()\n",
    "dff = dff[dff.clasificacion_resumen == \"Confirmado\"]\n",
    "dff = dff[dff.cuidado_intensivo==\"SI\"] \n",
    "dff = dff.drop([\"fecha_inicio_sintomas\",\"fecha_apertura\",\"fecha_internacion\",\"cuidado_intensivo\",\"fallecido\",\"fecha_fallecimiento\",\n",
    "         \"clasificacion\",\"clasificacion_resumen\",\"fecha_diagnostico\"],axis=1)"
   ]
  },
  {
   "cell_type": "code",
   "execution_count": 122,
   "metadata": {},
   "outputs": [],
   "source": [
    "dff[\"fecha_cui_intensivo\"] -= inicio_epidemia"
   ]
  },
  {
   "cell_type": "code",
   "execution_count": 123,
   "metadata": {},
   "outputs": [],
   "source": [
    "dff.fecha_cui_intensivo = dff.fecha_cui_intensivo.dt.days\n",
    "fecha_cui_intensivo = dff.fecha_cui_intensivo.to_numpy() #numpy array of fecha_apertura\n",
    "fecha_cui_intensivo = fecha_cui_intensivo.astype(int)"
   ]
  },
  {
   "cell_type": "code",
   "execution_count": 124,
   "metadata": {},
   "outputs": [],
   "source": [
    "fac_cases = cumulative_cases(fecha_fallecimiento,graph=False,ret=True)\n",
    "fac_cases = fac_cases[:,1].reshape(-1,1)"
   ]
  },
  {
   "cell_type": "code",
   "execution_count": 127,
   "metadata": {},
   "outputs": [],
   "source": [
    "ac_cases = np.concatenate([ac_cases,fac_cases],axis=1)"
   ]
  },
  {
   "cell_type": "markdown",
   "metadata": {},
   "source": [
    "# le sumamos los datos de movilidad"
   ]
  },
  {
   "cell_type": "code",
   "execution_count": 167,
   "metadata": {},
   "outputs": [],
   "source": [
    "df1[\"date\"] -= inicio_epidemia"
   ]
  },
  {
   "cell_type": "code",
   "execution_count": 168,
   "metadata": {},
   "outputs": [],
   "source": [
    "df1.date = df1.date.dt.days"
   ]
  },
  {
   "cell_type": "code",
   "execution_count": 171,
   "metadata": {},
   "outputs": [],
   "source": [
    "min_date = min(df1.date)\n",
    "max_date = max(df1.date)"
   ]
  },
  {
   "cell_type": "code",
   "execution_count": 172,
   "metadata": {},
   "outputs": [],
   "source": [
    "df1 = df1.to_numpy()"
   ]
  },
  {
   "cell_type": "code",
   "execution_count": 176,
   "metadata": {},
   "outputs": [],
   "source": [
    "df1 = df1[:,1:]"
   ]
  },
  {
   "cell_type": "code",
   "execution_count": 180,
   "metadata": {},
   "outputs": [],
   "source": [
    "indices1 = (min_date<=ac_cases[:,0])\n",
    "indices2 = (ac_cases[:,0]<=max_date)\n",
    "indices = indices1 * indices2\n",
    "true_data_msal = ac_cases[indices]"
   ]
  },
  {
   "cell_type": "code",
   "execution_count": 184,
   "metadata": {},
   "outputs": [
    {
     "data": {
      "text/plain": [
       "(316, 8)"
      ]
     },
     "execution_count": 184,
     "metadata": {},
     "output_type": "execute_result"
    }
   ],
   "source": [
    "ac_cases.shape"
   ]
  },
  {
   "cell_type": "code",
   "execution_count": 185,
   "metadata": {},
   "outputs": [
    {
     "data": {
      "text/plain": [
       "(273, 8)"
      ]
     },
     "execution_count": 185,
     "metadata": {},
     "output_type": "execute_result"
    }
   ],
   "source": [
    "true_data_msal.shape"
   ]
  },
  {
   "cell_type": "code",
   "execution_count": 186,
   "metadata": {},
   "outputs": [
    {
     "data": {
      "text/plain": [
       "(273, 6)"
      ]
     },
     "execution_count": 186,
     "metadata": {},
     "output_type": "execute_result"
    }
   ],
   "source": [
    "df1.shape"
   ]
  },
  {
   "cell_type": "code",
   "execution_count": 188,
   "metadata": {},
   "outputs": [],
   "source": [
    "total = np.concatenate([true_data_msal,df1],axis=1)"
   ]
  },
  {
   "cell_type": "code",
   "execution_count": 189,
   "metadata": {},
   "outputs": [
    {
     "data": {
      "text/plain": [
       "(273, 14)"
      ]
     },
     "execution_count": 189,
     "metadata": {},
     "output_type": "execute_result"
    }
   ],
   "source": [
    "total.shape"
   ]
  },
  {
   "cell_type": "code",
   "execution_count": 192,
   "metadata": {},
   "outputs": [],
   "source": [
    "header=\"fecha,\"\n",
    "np.savetxt('caba.txt',total,delimiter=\",\")"
   ]
  }
 ],
 "metadata": {
  "kernelspec": {
   "display_name": "Python 3",
   "language": "python",
   "name": "python3"
  },
  "language_info": {
   "codemirror_mode": {
    "name": "ipython",
    "version": 3
   },
   "file_extension": ".py",
   "mimetype": "text/x-python",
   "name": "python",
   "nbconvert_exporter": "python",
   "pygments_lexer": "ipython3",
   "version": "3.7.7"
  }
 },
 "nbformat": 4,
 "nbformat_minor": 4
}
