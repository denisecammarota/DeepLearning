{
 "cells": [
  {
   "cell_type": "code",
   "execution_count": 1,
   "metadata": {},
   "outputs": [
    {
     "name": "stderr",
     "output_type": "stream",
     "text": [
      "Using TensorFlow backend.\n"
     ]
    }
   ],
   "source": [
    "import numpy as np\n",
    "import matplotlib.pyplot as plt\n",
    "import pandas as pd\n",
    "import keras\n",
    "import tensorflow as tf\n",
    "from sklearn.preprocessing import MinMaxScaler #scaling de los datos entre 0 y 1\n",
    "from sklearn.metrics import mean_squared_error"
   ]
  },
  {
   "cell_type": "code",
   "execution_count": 2,
   "metadata": {},
   "outputs": [],
   "source": [
    "def create_dataset(dataset, time_step=1):\n",
    "    dataX, dataY = [], []\n",
    "    for i in range(len(dataset)-time_step-1):\n",
    "        a = dataset[i:(i+time_step), 0]\n",
    "        dataX.append(a)\n",
    "        dataY.append(dataset[i + time_step, 0])\n",
    "    return np.array(dataX), np.array(dataY)"
   ]
  },
  {
   "cell_type": "code",
   "execution_count": 3,
   "metadata": {},
   "outputs": [],
   "source": [
    "#cargo primero los datos\n",
    "file_dir = 'Datos/RiesgoBuenosAires'\n",
    "data = pd.read_csv(file_dir,sep=\",\",quotechar='\"',na_values=[''])\n",
    "data = data[\"incidenciaAcum14d\"]\n",
    "df = pd.DataFrame(data)\n",
    "df = df.to_numpy()\n",
    "df1 = np.copy(df) #el original\n",
    "df = df[:-20] #saco los ultimos 20 dias (ult 10 para probar + ult 10 retrasados)\n",
    "df1 = df1[:-10] #saco los ultimos 10 dias retrasados\n",
    "#normalizacion\n",
    "scaler = MinMaxScaler(feature_range=(0,1))\n",
    "df += np.random.normal(0,0.01,df.shape)\n",
    "df = scaler.fit_transform(df.reshape(-1,1))\n",
    "#split en train y test\n",
    "training_size=int(len(df)*0.8)\n",
    "test_size=len(df)-training_size\n",
    "train_data,test_data=df[0:training_size,:],df[training_size:len(df),:1] #train y test data\n",
    "lag = 3 #creo que este es el que deducen en el paper\n",
    "#creo los que vienen para la red\n",
    "x_train, y_train = create_dataset(train_data, lag)\n",
    "x_test, y_test = create_dataset(test_data, lag)"
   ]
  },
  {
   "cell_type": "code",
   "execution_count": 4,
   "metadata": {},
   "outputs": [],
   "source": [
    "# reshape en (samples, time steps, features) para lstm como en pract7\n",
    "x_train = x_train.reshape(x_train.shape[0],x_train.shape[1] , 1)\n",
    "x_test = x_test.reshape(x_test.shape[0],x_test.shape[1] , 1)"
   ]
  },
  {
   "cell_type": "code",
   "execution_count": 43,
   "metadata": {},
   "outputs": [
    {
     "name": "stdout",
     "output_type": "stream",
     "text": [
      "Train on 232 samples, validate on 55 samples\n",
      "Epoch 1/200\n",
      " - 1s - loss: 0.1523 - mae: 0.1523 - val_loss: 0.6579 - val_mae: 0.6579\n",
      "Epoch 2/200\n",
      " - 0s - loss: 0.1066 - mae: 0.1066 - val_loss: 0.4048 - val_mae: 0.4048\n",
      "Epoch 3/200\n",
      " - 0s - loss: 0.0462 - mae: 0.0462 - val_loss: 0.0409 - val_mae: 0.0409\n",
      "Epoch 4/200\n",
      " - 0s - loss: 0.0231 - mae: 0.0231 - val_loss: 0.0353 - val_mae: 0.0353\n",
      "Epoch 5/200\n",
      " - 0s - loss: 0.0148 - mae: 0.0148 - val_loss: 0.0128 - val_mae: 0.0128\n",
      "Epoch 6/200\n",
      " - 0s - loss: 0.0106 - mae: 0.0106 - val_loss: 0.0194 - val_mae: 0.0194\n",
      "Epoch 7/200\n",
      " - 0s - loss: 0.0109 - mae: 0.0109 - val_loss: 0.0305 - val_mae: 0.0305\n",
      "Epoch 8/200\n",
      " - 0s - loss: 0.0082 - mae: 0.0082 - val_loss: 0.0193 - val_mae: 0.0193\n",
      "Epoch 9/200\n",
      " - 0s - loss: 0.0093 - mae: 0.0093 - val_loss: 0.0278 - val_mae: 0.0278\n",
      "Epoch 10/200\n",
      " - 0s - loss: 0.0092 - mae: 0.0092 - val_loss: 0.0301 - val_mae: 0.0301\n",
      "Epoch 11/200\n",
      " - 0s - loss: 0.0060 - mae: 0.0060 - val_loss: 0.0227 - val_mae: 0.0227\n",
      "Epoch 12/200\n",
      " - 0s - loss: 0.0067 - mae: 0.0067 - val_loss: 0.0112 - val_mae: 0.0112\n",
      "Epoch 13/200\n",
      " - 0s - loss: 0.0081 - mae: 0.0081 - val_loss: 0.0203 - val_mae: 0.0203\n",
      "Epoch 14/200\n",
      " - 0s - loss: 0.0068 - mae: 0.0068 - val_loss: 0.0284 - val_mae: 0.0284\n",
      "Epoch 15/200\n",
      " - 0s - loss: 0.0057 - mae: 0.0057 - val_loss: 0.0318 - val_mae: 0.0318\n",
      "Epoch 16/200\n",
      " - 0s - loss: 0.0066 - mae: 0.0066 - val_loss: 0.0322 - val_mae: 0.0322\n",
      "Epoch 17/200\n",
      " - 0s - loss: 0.0078 - mae: 0.0078 - val_loss: 0.0314 - val_mae: 0.0314\n",
      "Epoch 18/200\n",
      " - 0s - loss: 0.0080 - mae: 0.0080 - val_loss: 0.0159 - val_mae: 0.0159\n",
      "Epoch 19/200\n",
      " - 0s - loss: 0.0077 - mae: 0.0077 - val_loss: 0.0419 - val_mae: 0.0419\n",
      "Epoch 20/200\n",
      " - 0s - loss: 0.0065 - mae: 0.0065 - val_loss: 0.0224 - val_mae: 0.0224\n",
      "Epoch 21/200\n",
      " - 0s - loss: 0.0054 - mae: 0.0054 - val_loss: 0.0362 - val_mae: 0.0362\n",
      "Epoch 22/200\n",
      " - 0s - loss: 0.0049 - mae: 0.0049 - val_loss: 0.0378 - val_mae: 0.0378\n",
      "Epoch 23/200\n",
      " - 0s - loss: 0.0053 - mae: 0.0053 - val_loss: 0.0168 - val_mae: 0.0168\n",
      "Epoch 24/200\n",
      " - 0s - loss: 0.0054 - mae: 0.0054 - val_loss: 0.0304 - val_mae: 0.0304\n",
      "Epoch 25/200\n",
      " - 0s - loss: 0.0048 - mae: 0.0048 - val_loss: 0.0251 - val_mae: 0.0251\n",
      "Epoch 26/200\n",
      " - 0s - loss: 0.0045 - mae: 0.0045 - val_loss: 0.0291 - val_mae: 0.0291\n",
      "Epoch 27/200\n",
      " - 0s - loss: 0.0041 - mae: 0.0041 - val_loss: 0.0317 - val_mae: 0.0317\n",
      "Epoch 28/200\n",
      " - 0s - loss: 0.0050 - mae: 0.0050 - val_loss: 0.0248 - val_mae: 0.0248\n",
      "Epoch 29/200\n",
      " - 0s - loss: 0.0051 - mae: 0.0051 - val_loss: 0.0259 - val_mae: 0.0259\n",
      "Epoch 30/200\n",
      " - 0s - loss: 0.0048 - mae: 0.0048 - val_loss: 0.0281 - val_mae: 0.0281\n",
      "Epoch 31/200\n",
      " - 0s - loss: 0.0040 - mae: 0.0040 - val_loss: 0.0270 - val_mae: 0.0270\n",
      "Epoch 32/200\n",
      " - 0s - loss: 0.0054 - mae: 0.0054 - val_loss: 0.0408 - val_mae: 0.0408\n",
      "Epoch 33/200\n",
      " - 0s - loss: 0.0066 - mae: 0.0066 - val_loss: 0.0148 - val_mae: 0.0148\n",
      "Epoch 34/200\n",
      " - 0s - loss: 0.0054 - mae: 0.0054 - val_loss: 0.0500 - val_mae: 0.0500\n",
      "Epoch 35/200\n",
      " - 0s - loss: 0.0050 - mae: 0.0050 - val_loss: 0.0267 - val_mae: 0.0267\n",
      "Epoch 36/200\n",
      " - 0s - loss: 0.0038 - mae: 0.0038 - val_loss: 0.0259 - val_mae: 0.0259\n",
      "Epoch 37/200\n",
      " - 0s - loss: 0.0046 - mae: 0.0046 - val_loss: 0.0193 - val_mae: 0.0193\n",
      "Epoch 38/200\n",
      " - 0s - loss: 0.0047 - mae: 0.0047 - val_loss: 0.0432 - val_mae: 0.0432\n",
      "Epoch 39/200\n",
      " - 0s - loss: 0.0052 - mae: 0.0052 - val_loss: 0.0363 - val_mae: 0.0363\n",
      "Epoch 40/200\n",
      " - 0s - loss: 0.0041 - mae: 0.0041 - val_loss: 0.0267 - val_mae: 0.0267\n",
      "Epoch 41/200\n",
      " - 0s - loss: 0.0043 - mae: 0.0043 - val_loss: 0.0260 - val_mae: 0.0260\n",
      "Epoch 42/200\n",
      " - 0s - loss: 0.0049 - mae: 0.0049 - val_loss: 0.0157 - val_mae: 0.0157\n",
      "Epoch 43/200\n",
      " - 0s - loss: 0.0040 - mae: 0.0040 - val_loss: 0.0339 - val_mae: 0.0339\n",
      "Epoch 44/200\n",
      " - 0s - loss: 0.0038 - mae: 0.0038 - val_loss: 0.0227 - val_mae: 0.0227\n",
      "Epoch 45/200\n",
      " - 0s - loss: 0.0044 - mae: 0.0044 - val_loss: 0.0177 - val_mae: 0.0177\n",
      "Epoch 46/200\n",
      " - 0s - loss: 0.0049 - mae: 0.0049 - val_loss: 0.0219 - val_mae: 0.0219\n",
      "Epoch 47/200\n",
      " - 0s - loss: 0.0048 - mae: 0.0048 - val_loss: 0.0336 - val_mae: 0.0336\n",
      "Epoch 48/200\n",
      " - 0s - loss: 0.0046 - mae: 0.0046 - val_loss: 0.0166 - val_mae: 0.0166\n",
      "Epoch 49/200\n",
      " - 0s - loss: 0.0042 - mae: 0.0042 - val_loss: 0.0197 - val_mae: 0.0197\n",
      "Epoch 50/200\n",
      " - 0s - loss: 0.0056 - mae: 0.0056 - val_loss: 0.0273 - val_mae: 0.0273\n",
      "Epoch 51/200\n",
      " - 0s - loss: 0.0040 - mae: 0.0040 - val_loss: 0.0322 - val_mae: 0.0322\n",
      "Epoch 52/200\n",
      " - 0s - loss: 0.0043 - mae: 0.0043 - val_loss: 0.0302 - val_mae: 0.0302\n",
      "Epoch 53/200\n",
      " - 0s - loss: 0.0049 - mae: 0.0049 - val_loss: 0.0248 - val_mae: 0.0248\n",
      "Epoch 54/200\n",
      " - 0s - loss: 0.0046 - mae: 0.0046 - val_loss: 0.0327 - val_mae: 0.0327\n",
      "Epoch 55/200\n",
      " - 0s - loss: 0.0044 - mae: 0.0044 - val_loss: 0.0192 - val_mae: 0.0192\n",
      "Epoch 56/200\n",
      " - 0s - loss: 0.0047 - mae: 0.0047 - val_loss: 0.0183 - val_mae: 0.0183\n",
      "Epoch 57/200\n",
      " - 0s - loss: 0.0051 - mae: 0.0051 - val_loss: 0.0272 - val_mae: 0.0272\n",
      "Epoch 58/200\n",
      " - 0s - loss: 0.0037 - mae: 0.0037 - val_loss: 0.0314 - val_mae: 0.0314\n",
      "Epoch 59/200\n",
      " - 0s - loss: 0.0038 - mae: 0.0038 - val_loss: 0.0319 - val_mae: 0.0319\n",
      "Epoch 60/200\n",
      " - 0s - loss: 0.0038 - mae: 0.0038 - val_loss: 0.0294 - val_mae: 0.0294\n",
      "Epoch 61/200\n",
      " - 0s - loss: 0.0037 - mae: 0.0037 - val_loss: 0.0268 - val_mae: 0.0268\n",
      "Epoch 62/200\n",
      " - 0s - loss: 0.0035 - mae: 0.0035 - val_loss: 0.0190 - val_mae: 0.0190\n",
      "Epoch 63/200\n",
      " - 0s - loss: 0.0040 - mae: 0.0040 - val_loss: 0.0222 - val_mae: 0.0222\n",
      "Epoch 64/200\n",
      " - 0s - loss: 0.0040 - mae: 0.0040 - val_loss: 0.0356 - val_mae: 0.0356\n",
      "Epoch 65/200\n",
      " - 0s - loss: 0.0041 - mae: 0.0041 - val_loss: 0.0265 - val_mae: 0.0265\n",
      "Epoch 66/200\n",
      " - 0s - loss: 0.0040 - mae: 0.0040 - val_loss: 0.0288 - val_mae: 0.0288\n",
      "Epoch 67/200\n",
      " - 0s - loss: 0.0037 - mae: 0.0037 - val_loss: 0.0312 - val_mae: 0.0312\n",
      "Epoch 68/200\n",
      " - 0s - loss: 0.0040 - mae: 0.0040 - val_loss: 0.0239 - val_mae: 0.0239\n",
      "Epoch 69/200\n",
      " - 0s - loss: 0.0038 - mae: 0.0038 - val_loss: 0.0180 - val_mae: 0.0180\n",
      "Epoch 70/200\n",
      " - 0s - loss: 0.0039 - mae: 0.0039 - val_loss: 0.0189 - val_mae: 0.0189\n",
      "Epoch 71/200\n",
      " - 0s - loss: 0.0038 - mae: 0.0038 - val_loss: 0.0284 - val_mae: 0.0284\n",
      "Epoch 72/200\n",
      " - 0s - loss: 0.0042 - mae: 0.0042 - val_loss: 0.0302 - val_mae: 0.0302\n",
      "Epoch 73/200\n",
      " - 0s - loss: 0.0057 - mae: 0.0057 - val_loss: 0.0303 - val_mae: 0.0303\n",
      "Epoch 74/200\n",
      " - 0s - loss: 0.0040 - mae: 0.0040 - val_loss: 0.0231 - val_mae: 0.0231\n",
      "Epoch 75/200\n",
      " - 0s - loss: 0.0038 - mae: 0.0038 - val_loss: 0.0216 - val_mae: 0.0216\n",
      "Epoch 76/200\n",
      " - 0s - loss: 0.0037 - mae: 0.0037 - val_loss: 0.0267 - val_mae: 0.0267\n",
      "Epoch 77/200\n",
      " - 0s - loss: 0.0038 - mae: 0.0038 - val_loss: 0.0400 - val_mae: 0.0400\n",
      "Epoch 78/200\n",
      " - 0s - loss: 0.0051 - mae: 0.0051 - val_loss: 0.0177 - val_mae: 0.0177\n",
      "Epoch 79/200\n",
      " - 0s - loss: 0.0038 - mae: 0.0038 - val_loss: 0.0159 - val_mae: 0.0159\n",
      "Epoch 80/200\n",
      " - 0s - loss: 0.0038 - mae: 0.0038 - val_loss: 0.0243 - val_mae: 0.0243\n",
      "Epoch 81/200\n",
      " - 0s - loss: 0.0030 - mae: 0.0030 - val_loss: 0.0364 - val_mae: 0.0364\n",
      "Epoch 82/200\n",
      " - 0s - loss: 0.0050 - mae: 0.0050 - val_loss: 0.0154 - val_mae: 0.0154\n",
      "Epoch 83/200\n",
      " - 0s - loss: 0.0043 - mae: 0.0043 - val_loss: 0.0163 - val_mae: 0.0163\n",
      "Epoch 84/200\n",
      " - 0s - loss: 0.0039 - mae: 0.0039 - val_loss: 0.0196 - val_mae: 0.0196\n",
      "Epoch 85/200\n",
      " - 0s - loss: 0.0036 - mae: 0.0036 - val_loss: 0.0278 - val_mae: 0.0278\n",
      "Epoch 86/200\n",
      " - 0s - loss: 0.0043 - mae: 0.0043 - val_loss: 0.0363 - val_mae: 0.0363\n",
      "Epoch 87/200\n",
      " - 0s - loss: 0.0047 - mae: 0.0047 - val_loss: 0.0264 - val_mae: 0.0264\n",
      "Epoch 88/200\n",
      " - 0s - loss: 0.0049 - mae: 0.0049 - val_loss: 0.0158 - val_mae: 0.0158\n",
      "Epoch 89/200\n",
      " - 0s - loss: 0.0042 - mae: 0.0042 - val_loss: 0.0176 - val_mae: 0.0176\n",
      "Epoch 90/200\n",
      " - 0s - loss: 0.0038 - mae: 0.0038 - val_loss: 0.0252 - val_mae: 0.0252\n",
      "Epoch 91/200\n",
      " - 0s - loss: 0.0043 - mae: 0.0043 - val_loss: 0.0332 - val_mae: 0.0332\n",
      "Epoch 92/200\n",
      " - 0s - loss: 0.0039 - mae: 0.0039 - val_loss: 0.0244 - val_mae: 0.0244\n",
      "Epoch 93/200\n",
      " - 0s - loss: 0.0041 - mae: 0.0041 - val_loss: 0.0140 - val_mae: 0.0140\n",
      "Epoch 94/200\n",
      " - 0s - loss: 0.0039 - mae: 0.0039 - val_loss: 0.0205 - val_mae: 0.0205\n",
      "Epoch 95/200\n",
      " - 0s - loss: 0.0039 - mae: 0.0039 - val_loss: 0.0168 - val_mae: 0.0168\n",
      "Epoch 96/200\n",
      " - 0s - loss: 0.0032 - mae: 0.0032 - val_loss: 0.0179 - val_mae: 0.0179\n"
     ]
    },
    {
     "name": "stdout",
     "output_type": "stream",
     "text": [
      "Epoch 97/200\n",
      " - 0s - loss: 0.0035 - mae: 0.0035 - val_loss: 0.0311 - val_mae: 0.0311\n",
      "Epoch 98/200\n",
      " - 0s - loss: 0.0043 - mae: 0.0043 - val_loss: 0.0287 - val_mae: 0.0287\n",
      "Epoch 99/200\n",
      " - 0s - loss: 0.0040 - mae: 0.0040 - val_loss: 0.0319 - val_mae: 0.0319\n",
      "Epoch 100/200\n",
      " - 0s - loss: 0.0036 - mae: 0.0036 - val_loss: 0.0152 - val_mae: 0.0152\n",
      "Epoch 101/200\n",
      " - 0s - loss: 0.0038 - mae: 0.0038 - val_loss: 0.0190 - val_mae: 0.0190\n",
      "Epoch 102/200\n",
      " - 0s - loss: 0.0046 - mae: 0.0046 - val_loss: 0.0295 - val_mae: 0.0295\n",
      "Epoch 103/200\n",
      " - 0s - loss: 0.0047 - mae: 0.0047 - val_loss: 0.0268 - val_mae: 0.0268\n",
      "Epoch 104/200\n",
      " - 0s - loss: 0.0031 - mae: 0.0031 - val_loss: 0.0207 - val_mae: 0.0207\n",
      "Epoch 105/200\n",
      " - 0s - loss: 0.0035 - mae: 0.0035 - val_loss: 0.0153 - val_mae: 0.0153\n",
      "Epoch 106/200\n",
      " - 0s - loss: 0.0050 - mae: 0.0050 - val_loss: 0.0198 - val_mae: 0.0198\n",
      "Epoch 107/200\n",
      " - 0s - loss: 0.0048 - mae: 0.0048 - val_loss: 0.0186 - val_mae: 0.0186\n",
      "Epoch 108/200\n",
      " - 0s - loss: 0.0060 - mae: 0.0060 - val_loss: 0.0165 - val_mae: 0.0165\n",
      "Epoch 109/200\n",
      " - 0s - loss: 0.0052 - mae: 0.0052 - val_loss: 0.0223 - val_mae: 0.0223\n",
      "Epoch 110/200\n",
      " - 0s - loss: 0.0045 - mae: 0.0045 - val_loss: 0.0242 - val_mae: 0.0242\n",
      "Epoch 111/200\n",
      " - 0s - loss: 0.0039 - mae: 0.0039 - val_loss: 0.0189 - val_mae: 0.0189\n",
      "Epoch 112/200\n",
      " - 0s - loss: 0.0035 - mae: 0.0035 - val_loss: 0.0169 - val_mae: 0.0169\n",
      "Epoch 113/200\n",
      " - 0s - loss: 0.0038 - mae: 0.0038 - val_loss: 0.0236 - val_mae: 0.0236\n",
      "Epoch 114/200\n",
      " - 0s - loss: 0.0040 - mae: 0.0040 - val_loss: 0.0258 - val_mae: 0.0258\n",
      "Epoch 115/200\n",
      " - 0s - loss: 0.0035 - mae: 0.0035 - val_loss: 0.0331 - val_mae: 0.0331\n",
      "Epoch 116/200\n",
      " - 0s - loss: 0.0046 - mae: 0.0046 - val_loss: 0.0147 - val_mae: 0.0147\n",
      "Epoch 117/200\n",
      " - 0s - loss: 0.0037 - mae: 0.0037 - val_loss: 0.0222 - val_mae: 0.0222\n",
      "Epoch 118/200\n",
      " - 0s - loss: 0.0029 - mae: 0.0029 - val_loss: 0.0241 - val_mae: 0.0241\n",
      "Epoch 119/200\n",
      " - 0s - loss: 0.0045 - mae: 0.0045 - val_loss: 0.0235 - val_mae: 0.0235\n",
      "Epoch 120/200\n",
      " - 0s - loss: 0.0057 - mae: 0.0057 - val_loss: 0.0272 - val_mae: 0.0272\n",
      "Epoch 121/200\n",
      " - 0s - loss: 0.0040 - mae: 0.0040 - val_loss: 0.0276 - val_mae: 0.0276\n",
      "Epoch 122/200\n",
      " - 0s - loss: 0.0041 - mae: 0.0041 - val_loss: 0.0159 - val_mae: 0.0159\n",
      "Epoch 123/200\n",
      " - 0s - loss: 0.0033 - mae: 0.0033 - val_loss: 0.0155 - val_mae: 0.0155\n",
      "Epoch 124/200\n",
      " - 0s - loss: 0.0043 - mae: 0.0043 - val_loss: 0.0210 - val_mae: 0.0210\n",
      "Epoch 125/200\n",
      " - 0s - loss: 0.0037 - mae: 0.0037 - val_loss: 0.0213 - val_mae: 0.0213\n",
      "Epoch 126/200\n",
      " - 0s - loss: 0.0039 - mae: 0.0039 - val_loss: 0.0176 - val_mae: 0.0176\n",
      "Epoch 127/200\n",
      " - 0s - loss: 0.0039 - mae: 0.0039 - val_loss: 0.0275 - val_mae: 0.0275\n",
      "Epoch 128/200\n",
      " - 0s - loss: 0.0034 - mae: 0.0034 - val_loss: 0.0287 - val_mae: 0.0287\n",
      "Epoch 129/200\n",
      " - 0s - loss: 0.0038 - mae: 0.0038 - val_loss: 0.0251 - val_mae: 0.0251\n",
      "Epoch 130/200\n",
      " - 0s - loss: 0.0037 - mae: 0.0037 - val_loss: 0.0217 - val_mae: 0.0217\n",
      "Epoch 131/200\n",
      " - 0s - loss: 0.0042 - mae: 0.0042 - val_loss: 0.0152 - val_mae: 0.0152\n",
      "Epoch 132/200\n",
      " - 0s - loss: 0.0044 - mae: 0.0044 - val_loss: 0.0173 - val_mae: 0.0173\n",
      "Epoch 133/200\n",
      " - 0s - loss: 0.0043 - mae: 0.0043 - val_loss: 0.0217 - val_mae: 0.0217\n",
      "Epoch 134/200\n",
      " - 0s - loss: 0.0035 - mae: 0.0035 - val_loss: 0.0175 - val_mae: 0.0175\n",
      "Epoch 135/200\n",
      " - 0s - loss: 0.0039 - mae: 0.0039 - val_loss: 0.0222 - val_mae: 0.0222\n",
      "Epoch 136/200\n",
      " - 0s - loss: 0.0036 - mae: 0.0036 - val_loss: 0.0247 - val_mae: 0.0247\n",
      "Epoch 137/200\n",
      " - 0s - loss: 0.0033 - mae: 0.0033 - val_loss: 0.0207 - val_mae: 0.0207\n",
      "Epoch 138/200\n",
      " - 0s - loss: 0.0035 - mae: 0.0035 - val_loss: 0.0251 - val_mae: 0.0251\n",
      "Epoch 139/200\n",
      " - 0s - loss: 0.0032 - mae: 0.0032 - val_loss: 0.0165 - val_mae: 0.0165\n",
      "Epoch 140/200\n",
      " - 0s - loss: 0.0037 - mae: 0.0037 - val_loss: 0.0159 - val_mae: 0.0159\n",
      "Epoch 141/200\n",
      " - 0s - loss: 0.0038 - mae: 0.0038 - val_loss: 0.0251 - val_mae: 0.0251\n",
      "Epoch 142/200\n",
      " - 0s - loss: 0.0038 - mae: 0.0038 - val_loss: 0.0294 - val_mae: 0.0294\n",
      "Epoch 143/200\n",
      " - 0s - loss: 0.0037 - mae: 0.0037 - val_loss: 0.0159 - val_mae: 0.0159\n",
      "Epoch 144/200\n",
      " - 0s - loss: 0.0049 - mae: 0.0049 - val_loss: 0.0160 - val_mae: 0.0160\n",
      "Epoch 145/200\n",
      " - 0s - loss: 0.0039 - mae: 0.0039 - val_loss: 0.0155 - val_mae: 0.0155\n",
      "Epoch 146/200\n",
      " - 0s - loss: 0.0042 - mae: 0.0042 - val_loss: 0.0171 - val_mae: 0.0171\n",
      "Epoch 147/200\n",
      " - 0s - loss: 0.0037 - mae: 0.0037 - val_loss: 0.0157 - val_mae: 0.0157\n",
      "Epoch 148/200\n",
      " - 0s - loss: 0.0042 - mae: 0.0042 - val_loss: 0.0292 - val_mae: 0.0292\n",
      "Epoch 149/200\n",
      " - 0s - loss: 0.0035 - mae: 0.0035 - val_loss: 0.0216 - val_mae: 0.0216\n",
      "Epoch 150/200\n",
      " - 0s - loss: 0.0032 - mae: 0.0032 - val_loss: 0.0220 - val_mae: 0.0220\n",
      "Epoch 151/200\n",
      " - 0s - loss: 0.0038 - mae: 0.0038 - val_loss: 0.0178 - val_mae: 0.0178\n",
      "Epoch 152/200\n",
      " - 0s - loss: 0.0041 - mae: 0.0041 - val_loss: 0.0244 - val_mae: 0.0244\n",
      "Epoch 153/200\n",
      " - 0s - loss: 0.0041 - mae: 0.0041 - val_loss: 0.0234 - val_mae: 0.0234\n",
      "Epoch 154/200\n",
      " - 0s - loss: 0.0032 - mae: 0.0032 - val_loss: 0.0260 - val_mae: 0.0260\n",
      "Epoch 155/200\n",
      " - 0s - loss: 0.0036 - mae: 0.0036 - val_loss: 0.0222 - val_mae: 0.0222\n",
      "Epoch 156/200\n",
      " - 0s - loss: 0.0038 - mae: 0.0038 - val_loss: 0.0193 - val_mae: 0.0193\n",
      "Epoch 157/200\n",
      " - 0s - loss: 0.0055 - mae: 0.0055 - val_loss: 0.0164 - val_mae: 0.0164\n",
      "Epoch 158/200\n",
      " - 0s - loss: 0.0045 - mae: 0.0045 - val_loss: 0.0171 - val_mae: 0.0171\n",
      "Epoch 159/200\n",
      " - 0s - loss: 0.0041 - mae: 0.0041 - val_loss: 0.0255 - val_mae: 0.0255\n",
      "Epoch 160/200\n",
      " - 0s - loss: 0.0037 - mae: 0.0037 - val_loss: 0.0246 - val_mae: 0.0246\n",
      "Epoch 161/200\n",
      " - 0s - loss: 0.0034 - mae: 0.0034 - val_loss: 0.0226 - val_mae: 0.0226\n",
      "Epoch 162/200\n",
      " - 0s - loss: 0.0031 - mae: 0.0031 - val_loss: 0.0273 - val_mae: 0.0273\n",
      "Epoch 163/200\n",
      " - 0s - loss: 0.0040 - mae: 0.0040 - val_loss: 0.0200 - val_mae: 0.0200\n",
      "Epoch 164/200\n",
      " - 0s - loss: 0.0037 - mae: 0.0037 - val_loss: 0.0170 - val_mae: 0.0170\n",
      "Epoch 165/200\n",
      " - 0s - loss: 0.0036 - mae: 0.0036 - val_loss: 0.0169 - val_mae: 0.0169\n",
      "Epoch 166/200\n",
      " - 0s - loss: 0.0034 - mae: 0.0034 - val_loss: 0.0193 - val_mae: 0.0193\n",
      "Epoch 167/200\n",
      " - 0s - loss: 0.0037 - mae: 0.0037 - val_loss: 0.0274 - val_mae: 0.0274\n",
      "Epoch 168/200\n",
      " - 0s - loss: 0.0043 - mae: 0.0043 - val_loss: 0.0181 - val_mae: 0.0181\n",
      "Epoch 169/200\n",
      " - 0s - loss: 0.0043 - mae: 0.0043 - val_loss: 0.0160 - val_mae: 0.0160\n",
      "Epoch 170/200\n",
      " - 0s - loss: 0.0039 - mae: 0.0039 - val_loss: 0.0186 - val_mae: 0.0186\n",
      "Epoch 171/200\n",
      " - 0s - loss: 0.0033 - mae: 0.0033 - val_loss: 0.0244 - val_mae: 0.0244\n",
      "Epoch 172/200\n",
      " - 0s - loss: 0.0028 - mae: 0.0028 - val_loss: 0.0196 - val_mae: 0.0196\n",
      "Epoch 173/200\n",
      " - 0s - loss: 0.0036 - mae: 0.0036 - val_loss: 0.0228 - val_mae: 0.0228\n",
      "Epoch 174/200\n",
      " - 0s - loss: 0.0032 - mae: 0.0032 - val_loss: 0.0201 - val_mae: 0.0201\n",
      "Epoch 175/200\n",
      " - 0s - loss: 0.0031 - mae: 0.0031 - val_loss: 0.0267 - val_mae: 0.0267\n",
      "Epoch 176/200\n",
      " - 0s - loss: 0.0038 - mae: 0.0038 - val_loss: 0.0178 - val_mae: 0.0178\n",
      "Epoch 177/200\n",
      " - 0s - loss: 0.0034 - mae: 0.0034 - val_loss: 0.0237 - val_mae: 0.0237\n",
      "Epoch 178/200\n",
      " - 0s - loss: 0.0036 - mae: 0.0036 - val_loss: 0.0274 - val_mae: 0.0274\n",
      "Epoch 179/200\n",
      " - 0s - loss: 0.0032 - mae: 0.0032 - val_loss: 0.0211 - val_mae: 0.0211\n",
      "Epoch 180/200\n",
      " - 0s - loss: 0.0031 - mae: 0.0031 - val_loss: 0.0193 - val_mae: 0.0193\n",
      "Epoch 181/200\n",
      " - 0s - loss: 0.0032 - mae: 0.0032 - val_loss: 0.0170 - val_mae: 0.0170\n",
      "Epoch 182/200\n",
      " - 0s - loss: 0.0040 - mae: 0.0040 - val_loss: 0.0181 - val_mae: 0.0181\n",
      "Epoch 183/200\n",
      " - 0s - loss: 0.0032 - mae: 0.0032 - val_loss: 0.0202 - val_mae: 0.0202\n",
      "Epoch 184/200\n",
      " - 0s - loss: 0.0033 - mae: 0.0033 - val_loss: 0.0191 - val_mae: 0.0191\n",
      "Epoch 185/200\n",
      " - 0s - loss: 0.0037 - mae: 0.0037 - val_loss: 0.0190 - val_mae: 0.0190\n",
      "Epoch 186/200\n",
      " - 0s - loss: 0.0033 - mae: 0.0033 - val_loss: 0.0210 - val_mae: 0.0210\n",
      "Epoch 187/200\n",
      " - 0s - loss: 0.0036 - mae: 0.0036 - val_loss: 0.0211 - val_mae: 0.0211\n",
      "Epoch 188/200\n",
      " - 0s - loss: 0.0039 - mae: 0.0039 - val_loss: 0.0184 - val_mae: 0.0184\n",
      "Epoch 189/200\n",
      " - 0s - loss: 0.0035 - mae: 0.0035 - val_loss: 0.0221 - val_mae: 0.0221\n",
      "Epoch 190/200\n",
      " - 0s - loss: 0.0037 - mae: 0.0037 - val_loss: 0.0267 - val_mae: 0.0267\n",
      "Epoch 191/200\n",
      " - 0s - loss: 0.0046 - mae: 0.0046 - val_loss: 0.0193 - val_mae: 0.0193\n",
      "Epoch 192/200\n",
      " - 0s - loss: 0.0050 - mae: 0.0050 - val_loss: 0.0180 - val_mae: 0.0180\n"
     ]
    },
    {
     "name": "stdout",
     "output_type": "stream",
     "text": [
      "Epoch 193/200\n",
      " - 0s - loss: 0.0041 - mae: 0.0041 - val_loss: 0.0185 - val_mae: 0.0185\n",
      "Epoch 194/200\n",
      " - 0s - loss: 0.0039 - mae: 0.0039 - val_loss: 0.0268 - val_mae: 0.0268\n",
      "Epoch 195/200\n",
      " - 0s - loss: 0.0033 - mae: 0.0033 - val_loss: 0.0228 - val_mae: 0.0228\n",
      "Epoch 196/200\n",
      " - 0s - loss: 0.0033 - mae: 0.0033 - val_loss: 0.0212 - val_mae: 0.0212\n",
      "Epoch 197/200\n",
      " - 0s - loss: 0.0032 - mae: 0.0032 - val_loss: 0.0206 - val_mae: 0.0206\n",
      "Epoch 198/200\n",
      " - 0s - loss: 0.0041 - mae: 0.0041 - val_loss: 0.0172 - val_mae: 0.0172\n",
      "Epoch 199/200\n",
      " - 0s - loss: 0.0033 - mae: 0.0033 - val_loss: 0.0182 - val_mae: 0.0182\n",
      "Epoch 200/200\n",
      " - 0s - loss: 0.0031 - mae: 0.0031 - val_loss: 0.0176 - val_mae: 0.0176\n"
     ]
    }
   ],
   "source": [
    "model = keras.Sequential()\n",
    "model.add(keras.layers.Bidirectional(keras.layers.LSTM(units=100,activation='relu',input_shape=(lag,1),recurrent_dropout=0.5)))\n",
    "model.add(keras.layers.Dense(units=1))\n",
    "model.compile(optimizer='adam',loss=keras.losses.MAE,metrics=['mae']) #metrics=['mean_absolute_percentage_error']\n",
    "history = model.fit(x_train, y_train,epochs=200,validation_data=(x_test,y_test),batch_size=16,verbose=2)"
   ]
  },
  {
   "cell_type": "code",
   "execution_count": 44,
   "metadata": {},
   "outputs": [],
   "source": [
    "train_predict=model.predict(x_train)\n",
    "test_predict=model.predict(x_test)"
   ]
  },
  {
   "cell_type": "code",
   "execution_count": 45,
   "metadata": {},
   "outputs": [],
   "source": [
    "train_predict=scaler.inverse_transform(train_predict)\n",
    "test_predict=scaler.inverse_transform(test_predict)"
   ]
  },
  {
   "cell_type": "code",
   "execution_count": 46,
   "metadata": {},
   "outputs": [
    {
     "name": "stdout",
     "output_type": "stream",
     "text": [
      "train mse squared: 143.38479253151695\n",
      "test mse squared: 386.7516369743289\n"
     ]
    }
   ],
   "source": [
    "print('train mse squared:',np.sqrt(mean_squared_error(y_train,train_predict))) \n",
    "print('test mse squared:',np.sqrt(mean_squared_error(y_test,test_predict))) "
   ]
  },
  {
   "cell_type": "code",
   "execution_count": 47,
   "metadata": {},
   "outputs": [
    {
     "data": {
      "image/png": "[encoded data removed]",
      "text/plain": [
       "<Figure size 432x288 with 1 Axes>"
      ]
     },
     "metadata": {
      "needs_background": "light"
     },
     "output_type": "display_data"
    }
   ],
   "source": [
    "trainPredictPlot = np.empty_like(df)\n",
    "trainPredictPlot[:, :] = np.nan\n",
    "trainPredictPlot[lag:len(train_predict)+lag, :] = train_predict\n",
    "# shift test predictions for plotting\n",
    "testPredictPlot = np.empty_like(df)\n",
    "testPredictPlot[:, :] = np.nan\n",
    "testPredictPlot[len(train_predict)+(lag*2)+1:len(df)-1, :] = test_predict\n",
    "# plot baseline and predictions\n",
    "plt.plot(scaler.inverse_transform(df))\n",
    "plt.plot(trainPredictPlot,label='train')\n",
    "plt.plot(testPredictPlot,label='test')\n",
    "plt.grid()\n",
    "plt.title('Argentina')\n",
    "plt.legend()\n",
    "plt.show()"
   ]
  },
  {
   "cell_type": "code",
   "execution_count": 48,
   "metadata": {},
   "outputs": [
    {
     "data": {
      "text/plain": [
       "[<matplotlib.lines.Line2D at 0x156968d4308>]"
      ]
     },
     "execution_count": 48,
     "metadata": {},
     "output_type": "execute_result"
    },
    {
     "data": {
      "image/png": "[encoded data removed]",
      "text/plain": [
       "<Figure size 432x288 with 1 Axes>"
      ]
     },
     "metadata": {
      "needs_background": "light"
     },
     "output_type": "display_data"
    }
   ],
   "source": [
    "plt.plot(history.history['loss'])\n",
    "plt.plot(history.history['val_loss'])"
   ]
  },
  {
   "cell_type": "code",
   "execution_count": 49,
   "metadata": {},
   "outputs": [
    {
     "name": "stdout",
     "output_type": "stream",
     "text": [
      "1 day output [[0.7365446]]\n",
      "2 day output [[0.74141014]]\n",
      "3 day output [[0.7533087]]\n",
      "4 day output [[0.7603308]]\n",
      "5 day output [[0.7668357]]\n",
      "6 day output [[0.7739514]]\n",
      "7 day output [[0.7798863]]\n",
      "8 day output [[0.78536534]]\n",
      "9 day output [[0.7905781]]\n"
     ]
    }
   ],
   "source": [
    "n = len(test_data)\n",
    "x_input=test_data[n-lag:].reshape(1,-1)\n",
    "temp_input=list(x_input)\n",
    "temp_input=temp_input[0].tolist()\n",
    "lst_output=[]\n",
    "n_steps=lag\n",
    "i=0\n",
    "\n",
    "while(i<10): \n",
    "    if(len(temp_input)>lag):\n",
    "        #print(temp_input)\n",
    "        x_input=np.array(temp_input[1:])\n",
    "        x_input=x_input.reshape(1,-1)\n",
    "        x_input = x_input.reshape((1, lag, 1))\n",
    "        #print(x_input)\n",
    "        yhat = model.predict(x_input, verbose=0)\n",
    "        print(\"{} day output {}\".format(i,yhat))\n",
    "        temp_input.extend(yhat[0].tolist())\n",
    "        temp_input=temp_input[1:]\n",
    "        #print(temp_input)\n",
    "        lst_output.extend(yhat.tolist())\n",
    "        i=i+1\n",
    "    else:\n",
    "        x_input = x_input.reshape((1, lag,1))\n",
    "        yhat = model.predict(x_input, verbose=0)\n",
    "        temp_input.extend(yhat[0].tolist())\n",
    "        lst_output.extend(yhat.tolist())\n",
    "        i=i+1"
   ]
  },
  {
   "cell_type": "code",
   "execution_count": 50,
   "metadata": {},
   "outputs": [
    {
     "data": {
      "text/plain": [
       "[<matplotlib.lines.Line2D at 0x156969a5688>]"
      ]
     },
     "execution_count": 50,
     "metadata": {},
     "output_type": "execute_result"
    },
    {
     "data": {
      "image/png": "[encoded data removed]",
      "text/plain": [
       "<Figure size 432x288 with 1 Axes>"
      ]
     },
     "metadata": {
      "needs_background": "light"
     },
     "output_type": "display_data"
    }
   ],
   "source": [
    "plt.plot(df1)\n",
    "days = np.arange(len(df1))\n",
    "dias_forecast = days[-10:]\n",
    "plt.plot(dias_forecast,scaler.inverse_transform(lst_output))"
   ]
  },
  {
   "cell_type": "code",
   "execution_count": 51,
   "metadata": {},
   "outputs": [
    {
     "data": {
      "text/plain": [
       "(290.0, 310.0)"
      ]
     },
     "execution_count": 51,
     "metadata": {},
     "output_type": "execute_result"
    },
    {
     "data": {
      "image/png": "[encoded data removed]",
      "text/plain": [
       "<Figure size 432x288 with 1 Axes>"
      ]
     },
     "metadata": {
      "needs_background": "light"
     },
     "output_type": "display_data"
    }
   ],
   "source": [
    "plt.plot(df1)\n",
    "dias_forecast = np.arange(0,10) + len(df) - 1\n",
    "plt.plot(dias_forecast,scaler.inverse_transform(lst_output),'o')\n",
    "plt.xlim(290,310)"
   ]
  },
  {
   "cell_type": "code",
   "execution_count": 52,
   "metadata": {},
   "outputs": [
    {
     "name": "stdout",
     "output_type": "stream",
     "text": [
      "[[ -19.81531187]\n",
      " [ -33.83679617]\n",
      " [ -40.55137425]\n",
      " [ -54.50932187]\n",
      " [ -67.45440789]\n",
      " [ -78.14042399]\n",
      " [ -89.96979245]\n",
      " [ -99.92964015]\n",
      " [-110.33135509]\n",
      " [-119.24097987]]\n"
     ]
    }
   ],
   "source": [
    "print(df1[-10:]-scaler.inverse_transform(lst_output))"
   ]
  }
 ],
 "metadata": {
  "kernelspec": {
   "display_name": "Python 3",
   "language": "python",
   "name": "python3"
  },
  "language_info": {
   "codemirror_mode": {
    "name": "ipython",
    "version": 3
   },
   "file_extension": ".py",
   "mimetype": "text/x-python",
   "name": "python",
   "nbconvert_exporter": "python",
   "pygments_lexer": "ipython3",
   "version": "3.7.7"
  }
 },
 "nbformat": 4,
 "nbformat_minor": 4
}
