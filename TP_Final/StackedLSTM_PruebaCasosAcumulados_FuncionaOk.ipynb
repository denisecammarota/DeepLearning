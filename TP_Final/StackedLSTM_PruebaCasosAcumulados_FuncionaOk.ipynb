{
 "cells": [
  {
   "cell_type": "code",
   "execution_count": 1,
   "metadata": {},
   "outputs": [
    {
     "name": "stderr",
     "output_type": "stream",
     "text": [
      "Using TensorFlow backend.\n"
     ]
    }
   ],
   "source": [
    "import numpy as np\n",
    "import matplotlib.pyplot as plt\n",
    "import pandas as pd\n",
    "import keras\n",
    "import tensorflow as tf\n",
    "from sklearn.preprocessing import MinMaxScaler #scaling de los datos entre 0 y 1\n",
    "from sklearn.metrics import mean_squared_error"
   ]
  },
  {
   "cell_type": "code",
   "execution_count": 2,
   "metadata": {},
   "outputs": [],
   "source": [
    "def create_dataset(dataset, time_step=1):\n",
    "    dataX, dataY = [], []\n",
    "    for i in range(len(dataset)-time_step-1):\n",
    "        a = dataset[i:(i+time_step), 0]\n",
    "        dataX.append(a)\n",
    "        dataY.append(dataset[i + time_step, 0])\n",
    "    return np.array(dataX), np.array(dataY)"
   ]
  },
  {
   "cell_type": "code",
   "execution_count": 3,
   "metadata": {},
   "outputs": [],
   "source": [
    "#cargo primero los datos\n",
    "file_dir = 'Datos/RiesgoBariloche'\n",
    "data = pd.read_csv(file_dir,sep=\",\",quotechar='\"',na_values=[''])\n",
    "data = data[\"incidenciaAcum14d\"]\n",
    "df = pd.DataFrame(data)\n",
    "df = df.to_numpy()\n",
    "df1 = np.copy(df) #el original\n",
    "df = df[:-20] #saco los ultimos 20 dias (ult 10 para probar + ult 10 retrasados)\n",
    "df1 = df1[:-10] #saco los ultimos 10 dias retrasados"
   ]
  },
  {
   "cell_type": "code",
   "execution_count": 4,
   "metadata": {},
   "outputs": [],
   "source": [
    "#normalizacion\n",
    "scaler = MinMaxScaler(feature_range=(0,1))\n",
    "df = scaler.fit_transform(df.reshape(-1,1))\n",
    "df += np.random.normal(0,0.01,df.shape)\n",
    "df = df.reshape(-1,1)\n",
    "#split en train y test\n",
    "training_size=int(len(df)*0.8)\n",
    "test_size=len(df)-training_size\n",
    "train_data,test_data=df[0:training_size,:],df[training_size:len(df),:1] #train y test data\n",
    "lag = 3 #creo que este es el que deducen en el paper\n",
    "#creo los que vienen para la red\n",
    "x_train, y_train = create_dataset(train_data, lag)\n",
    "x_test, y_test = create_dataset(test_data, lag)"
   ]
  },
  {
   "cell_type": "code",
   "execution_count": 5,
   "metadata": {},
   "outputs": [],
   "source": [
    "# reshape en (samples, time steps, features) para lstm como en pract7\n",
    "x_train = x_train.reshape(x_train.shape[0],x_train.shape[1] , 1)\n",
    "x_test = x_test.reshape(x_test.shape[0],x_test.shape[1] , 1)"
   ]
  },
  {
   "cell_type": "code",
   "execution_count": 17,
   "metadata": {},
   "outputs": [
    {
     "name": "stdout",
     "output_type": "stream",
     "text": [
      "Model: \"sequential_2\"\n",
      "_________________________________________________________________\n",
      "Layer (type)                 Output Shape              Param #   \n",
      "=================================================================\n",
      "lstm_3 (LSTM)                (None, 3, 100)            40800     \n",
      "_________________________________________________________________\n",
      "lstm_4 (LSTM)                (None, 100)               80400     \n",
      "_________________________________________________________________\n",
      "dense_2 (Dense)              (None, 1)                 101       \n",
      "=================================================================\n",
      "Total params: 121,301\n",
      "Trainable params: 121,301\n",
      "Non-trainable params: 0\n",
      "_________________________________________________________________\n",
      "Train on 231 samples, validate on 55 samples\n",
      "Epoch 1/100\n",
      " - 1s - loss: 0.0146 - mse: 0.0146 - val_loss: 0.0161 - val_mse: 0.0161\n",
      "Epoch 2/100\n",
      " - 0s - loss: 0.0111 - mse: 0.0111 - val_loss: 0.0133 - val_mse: 0.0133\n",
      "Epoch 3/100\n",
      " - 0s - loss: 0.0037 - mse: 0.0037 - val_loss: 0.0147 - val_mse: 0.0147\n",
      "Epoch 4/100\n",
      " - 0s - loss: 0.0017 - mse: 0.0017 - val_loss: 0.0908 - val_mse: 0.0908\n",
      "Epoch 5/100\n",
      " - 0s - loss: 0.0044 - mse: 0.0044 - val_loss: 0.0396 - val_mse: 0.0396\n",
      "Epoch 6/100\n",
      " - 0s - loss: 0.0026 - mse: 0.0026 - val_loss: 0.0700 - val_mse: 0.0700\n",
      "Epoch 7/100\n",
      " - 0s - loss: 0.0042 - mse: 0.0042 - val_loss: 0.0315 - val_mse: 0.0315\n",
      "Epoch 8/100\n",
      " - 0s - loss: 0.0017 - mse: 0.0017 - val_loss: 0.0116 - val_mse: 0.0116\n",
      "Epoch 9/100\n",
      " - 0s - loss: 0.0020 - mse: 0.0020 - val_loss: 0.0257 - val_mse: 0.0257\n",
      "Epoch 10/100\n",
      " - 0s - loss: 0.0016 - mse: 0.0016 - val_loss: 0.0036 - val_mse: 0.0036\n",
      "Epoch 11/100\n",
      " - 0s - loss: 0.0011 - mse: 0.0011 - val_loss: 0.0226 - val_mse: 0.0226\n",
      "Epoch 12/100\n",
      " - 0s - loss: 9.4867e-04 - mse: 9.4868e-04 - val_loss: 0.0218 - val_mse: 0.0218\n",
      "Epoch 13/100\n",
      " - 0s - loss: 9.6945e-04 - mse: 9.6945e-04 - val_loss: 0.0041 - val_mse: 0.0041\n",
      "Epoch 14/100\n",
      " - 0s - loss: 7.6193e-04 - mse: 7.6193e-04 - val_loss: 0.0263 - val_mse: 0.0263\n",
      "Epoch 15/100\n",
      " - 0s - loss: 7.0993e-04 - mse: 7.0993e-04 - val_loss: 0.0020 - val_mse: 0.0020\n",
      "Epoch 16/100\n",
      " - 0s - loss: 0.0010 - mse: 0.0010 - val_loss: 0.0055 - val_mse: 0.0055\n",
      "Epoch 17/100\n",
      " - 0s - loss: 8.7276e-04 - mse: 8.7276e-04 - val_loss: 0.0035 - val_mse: 0.0035\n",
      "Epoch 18/100\n",
      " - 0s - loss: 8.9568e-04 - mse: 8.9568e-04 - val_loss: 0.0360 - val_mse: 0.0360\n",
      "Epoch 19/100\n",
      " - 0s - loss: 8.2517e-04 - mse: 8.2517e-04 - val_loss: 0.0018 - val_mse: 0.0018\n",
      "Epoch 20/100\n",
      " - 0s - loss: 8.2320e-04 - mse: 8.2320e-04 - val_loss: 0.0060 - val_mse: 0.0060\n",
      "Epoch 21/100\n",
      " - 0s - loss: 9.4355e-04 - mse: 9.4355e-04 - val_loss: 0.0040 - val_mse: 0.0040\n",
      "Epoch 22/100\n",
      " - 0s - loss: 7.3281e-04 - mse: 7.3281e-04 - val_loss: 0.0051 - val_mse: 0.0051\n",
      "Epoch 23/100\n",
      " - 0s - loss: 0.0010 - mse: 0.0010 - val_loss: 0.0346 - val_mse: 0.0346\n",
      "Epoch 24/100\n",
      " - 0s - loss: 0.0016 - mse: 0.0016 - val_loss: 0.0096 - val_mse: 0.0096\n",
      "Epoch 25/100\n",
      " - 0s - loss: 0.0016 - mse: 0.0016 - val_loss: 0.0112 - val_mse: 0.0112\n",
      "Epoch 26/100\n",
      " - 0s - loss: 8.2795e-04 - mse: 8.2795e-04 - val_loss: 0.0031 - val_mse: 0.0031\n",
      "Epoch 27/100\n",
      " - 0s - loss: 8.7426e-04 - mse: 8.7426e-04 - val_loss: 0.0075 - val_mse: 0.0075\n",
      "Epoch 28/100\n",
      " - 0s - loss: 7.0857e-04 - mse: 7.0857e-04 - val_loss: 0.0087 - val_mse: 0.0087\n",
      "Epoch 29/100\n",
      " - 0s - loss: 8.6238e-04 - mse: 8.6238e-04 - val_loss: 0.0054 - val_mse: 0.0054\n",
      "Epoch 30/100\n",
      " - 0s - loss: 0.0014 - mse: 0.0014 - val_loss: 0.0188 - val_mse: 0.0188\n",
      "Epoch 31/100\n",
      " - 0s - loss: 9.5749e-04 - mse: 9.5749e-04 - val_loss: 0.0142 - val_mse: 0.0142\n",
      "Epoch 32/100\n",
      " - 0s - loss: 7.2378e-04 - mse: 7.2378e-04 - val_loss: 0.0040 - val_mse: 0.0040\n",
      "Epoch 33/100\n",
      " - 0s - loss: 0.0011 - mse: 0.0011 - val_loss: 0.0014 - val_mse: 0.0014\n",
      "Epoch 34/100\n",
      " - 0s - loss: 7.4043e-04 - mse: 7.4043e-04 - val_loss: 0.0034 - val_mse: 0.0034\n",
      "Epoch 35/100\n",
      " - 0s - loss: 5.7854e-04 - mse: 5.7854e-04 - val_loss: 0.0039 - val_mse: 0.0039\n",
      "Epoch 36/100\n",
      " - 0s - loss: 5.8052e-04 - mse: 5.8052e-04 - val_loss: 0.0036 - val_mse: 0.0036\n",
      "Epoch 37/100\n",
      " - 0s - loss: 0.0012 - mse: 0.0012 - val_loss: 0.0230 - val_mse: 0.0230\n",
      "Epoch 38/100\n",
      " - 0s - loss: 0.0011 - mse: 0.0011 - val_loss: 0.0118 - val_mse: 0.0118\n",
      "Epoch 39/100\n",
      " - 0s - loss: 0.0010 - mse: 0.0010 - val_loss: 0.0090 - val_mse: 0.0090\n",
      "Epoch 40/100\n",
      " - 0s - loss: 4.6505e-04 - mse: 4.6505e-04 - val_loss: 0.0040 - val_mse: 0.0040\n",
      "Epoch 41/100\n",
      " - 0s - loss: 5.8143e-04 - mse: 5.8143e-04 - val_loss: 0.0076 - val_mse: 0.0076\n",
      "Epoch 42/100\n",
      " - 0s - loss: 6.0402e-04 - mse: 6.0402e-04 - val_loss: 0.0017 - val_mse: 0.0017\n",
      "Epoch 43/100\n",
      " - 0s - loss: 8.7214e-04 - mse: 8.7214e-04 - val_loss: 0.0072 - val_mse: 0.0072\n",
      "Epoch 44/100\n",
      " - 0s - loss: 6.7152e-04 - mse: 6.7152e-04 - val_loss: 0.0022 - val_mse: 0.0022\n",
      "Epoch 45/100\n",
      " - 0s - loss: 6.3881e-04 - mse: 6.3881e-04 - val_loss: 0.0026 - val_mse: 0.0026\n",
      "Epoch 46/100\n",
      " - 0s - loss: 5.9918e-04 - mse: 5.9918e-04 - val_loss: 0.0109 - val_mse: 0.0109\n",
      "Epoch 47/100\n",
      " - 0s - loss: 5.3322e-04 - mse: 5.3322e-04 - val_loss: 0.0024 - val_mse: 0.0024\n",
      "Epoch 48/100\n",
      " - 0s - loss: 7.6240e-04 - mse: 7.6240e-04 - val_loss: 0.0049 - val_mse: 0.0049\n",
      "Epoch 49/100\n",
      " - 0s - loss: 8.1665e-04 - mse: 8.1665e-04 - val_loss: 0.0073 - val_mse: 0.0073\n",
      "Epoch 50/100\n",
      " - 0s - loss: 7.9755e-04 - mse: 7.9755e-04 - val_loss: 0.0020 - val_mse: 0.0020\n",
      "Epoch 51/100\n",
      " - 0s - loss: 5.1835e-04 - mse: 5.1835e-04 - val_loss: 0.0029 - val_mse: 0.0029\n",
      "Epoch 52/100\n",
      " - 0s - loss: 6.1277e-04 - mse: 6.1277e-04 - val_loss: 0.0023 - val_mse: 0.0023\n",
      "Epoch 53/100\n",
      " - 0s - loss: 0.0010 - mse: 0.0010 - val_loss: 0.0094 - val_mse: 0.0094\n",
      "Epoch 54/100\n",
      " - 0s - loss: 0.0013 - mse: 0.0013 - val_loss: 0.0109 - val_mse: 0.0109\n",
      "Epoch 55/100\n",
      " - 0s - loss: 6.2923e-04 - mse: 6.2923e-04 - val_loss: 0.0088 - val_mse: 0.0088\n",
      "Epoch 56/100\n",
      " - 0s - loss: 0.0012 - mse: 0.0012 - val_loss: 0.0273 - val_mse: 0.0273\n",
      "Epoch 57/100\n",
      " - 0s - loss: 0.0011 - mse: 0.0011 - val_loss: 0.0214 - val_mse: 0.0214\n",
      "Epoch 58/100\n",
      " - 0s - loss: 5.4944e-04 - mse: 5.4943e-04 - val_loss: 0.0092 - val_mse: 0.0092\n",
      "Epoch 59/100\n",
      " - 0s - loss: 4.3486e-04 - mse: 4.3486e-04 - val_loss: 0.0173 - val_mse: 0.0173\n",
      "Epoch 60/100\n",
      " - 0s - loss: 7.6278e-04 - mse: 7.6278e-04 - val_loss: 0.0040 - val_mse: 0.0040\n",
      "Epoch 61/100\n",
      " - 0s - loss: 4.2843e-04 - mse: 4.2843e-04 - val_loss: 0.0117 - val_mse: 0.0117\n",
      "Epoch 62/100\n",
      " - 0s - loss: 6.9084e-04 - mse: 6.9084e-04 - val_loss: 0.0141 - val_mse: 0.0141\n",
      "Epoch 63/100\n",
      " - 0s - loss: 3.7639e-04 - mse: 3.7639e-04 - val_loss: 0.0034 - val_mse: 0.0034\n",
      "Epoch 64/100\n",
      " - 0s - loss: 4.7581e-04 - mse: 4.7581e-04 - val_loss: 0.0015 - val_mse: 0.0015\n",
      "Epoch 65/100\n",
      " - 0s - loss: 3.9574e-04 - mse: 3.9574e-04 - val_loss: 0.0066 - val_mse: 0.0066\n",
      "Epoch 66/100\n",
      " - 0s - loss: 6.7198e-04 - mse: 6.7198e-04 - val_loss: 0.0099 - val_mse: 0.0099\n",
      "Epoch 67/100\n",
      " - 0s - loss: 8.5736e-04 - mse: 8.5736e-04 - val_loss: 8.4283e-04 - val_mse: 8.4283e-04\n",
      "Epoch 68/100\n",
      " - 0s - loss: 7.8485e-04 - mse: 7.8485e-04 - val_loss: 0.0057 - val_mse: 0.0057\n",
      "Epoch 69/100\n",
      " - 0s - loss: 5.2079e-04 - mse: 5.2079e-04 - val_loss: 0.0023 - val_mse: 0.0023\n",
      "Epoch 70/100\n",
      " - 0s - loss: 5.4707e-04 - mse: 5.4707e-04 - val_loss: 0.0039 - val_mse: 0.0039\n",
      "Epoch 71/100\n",
      " - 0s - loss: 3.9095e-04 - mse: 3.9095e-04 - val_loss: 0.0083 - val_mse: 0.0083\n",
      "Epoch 72/100\n",
      " - 0s - loss: 5.9571e-04 - mse: 5.9571e-04 - val_loss: 0.0053 - val_mse: 0.0053\n",
      "Epoch 73/100\n",
      " - 0s - loss: 4.2047e-04 - mse: 4.2047e-04 - val_loss: 0.0044 - val_mse: 0.0044\n",
      "Epoch 74/100\n",
      " - 0s - loss: 8.9617e-04 - mse: 8.9617e-04 - val_loss: 0.0088 - val_mse: 0.0088\n",
      "Epoch 75/100\n",
      " - 0s - loss: 8.5510e-04 - mse: 8.5510e-04 - val_loss: 0.0122 - val_mse: 0.0122\n",
      "Epoch 76/100\n",
      " - 0s - loss: 6.7829e-04 - mse: 6.7829e-04 - val_loss: 0.0036 - val_mse: 0.0036\n",
      "Epoch 77/100\n",
      " - 0s - loss: 4.5187e-04 - mse: 4.5187e-04 - val_loss: 0.0078 - val_mse: 0.0078\n",
      "Epoch 78/100\n",
      " - 0s - loss: 0.0010 - mse: 0.0010 - val_loss: 0.0056 - val_mse: 0.0056\n",
      "Epoch 79/100\n",
      " - 0s - loss: 4.4261e-04 - mse: 4.4261e-04 - val_loss: 0.0046 - val_mse: 0.0046\n",
      "Epoch 80/100\n",
      " - 0s - loss: 8.5572e-04 - mse: 8.5572e-04 - val_loss: 0.0043 - val_mse: 0.0043\n",
      "Epoch 81/100\n",
      " - 0s - loss: 8.7103e-04 - mse: 8.7103e-04 - val_loss: 0.0130 - val_mse: 0.0130\n",
      "Epoch 82/100\n",
      " - 0s - loss: 8.0486e-04 - mse: 8.0486e-04 - val_loss: 0.0026 - val_mse: 0.0026\n"
     ]
    },
    {
     "name": "stdout",
     "output_type": "stream",
     "text": [
      "Epoch 83/100\n",
      " - 0s - loss: 6.6739e-04 - mse: 6.6739e-04 - val_loss: 0.0070 - val_mse: 0.0070\n",
      "Epoch 84/100\n",
      " - 0s - loss: 4.2876e-04 - mse: 4.2876e-04 - val_loss: 0.0096 - val_mse: 0.0096\n",
      "Epoch 85/100\n",
      " - 0s - loss: 5.5938e-04 - mse: 5.5938e-04 - val_loss: 0.0050 - val_mse: 0.0050\n",
      "Epoch 86/100\n",
      " - 0s - loss: 6.2612e-04 - mse: 6.2612e-04 - val_loss: 0.0081 - val_mse: 0.0081\n",
      "Epoch 87/100\n",
      " - 0s - loss: 5.9339e-04 - mse: 5.9339e-04 - val_loss: 0.0021 - val_mse: 0.0021\n",
      "Epoch 88/100\n",
      " - 0s - loss: 3.9680e-04 - mse: 3.9680e-04 - val_loss: 0.0128 - val_mse: 0.0128\n",
      "Epoch 89/100\n",
      " - 0s - loss: 3.6512e-04 - mse: 3.6512e-04 - val_loss: 0.0035 - val_mse: 0.0035\n",
      "Epoch 90/100\n",
      " - 0s - loss: 4.4291e-04 - mse: 4.4291e-04 - val_loss: 0.0111 - val_mse: 0.0111\n",
      "Epoch 91/100\n",
      " - 0s - loss: 6.9145e-04 - mse: 6.9145e-04 - val_loss: 0.0108 - val_mse: 0.0108\n",
      "Epoch 92/100\n",
      " - 0s - loss: 6.2324e-04 - mse: 6.2324e-04 - val_loss: 0.0085 - val_mse: 0.0085\n",
      "Epoch 93/100\n",
      " - 0s - loss: 2.2739e-04 - mse: 2.2739e-04 - val_loss: 0.0015 - val_mse: 0.0015\n",
      "Epoch 94/100\n",
      " - 0s - loss: 5.3561e-04 - mse: 5.3561e-04 - val_loss: 0.0130 - val_mse: 0.0130\n",
      "Epoch 95/100\n",
      " - 0s - loss: 5.2834e-04 - mse: 5.2834e-04 - val_loss: 0.0170 - val_mse: 0.0170\n",
      "Epoch 96/100\n",
      " - 0s - loss: 6.7684e-04 - mse: 6.7684e-04 - val_loss: 0.0010 - val_mse: 0.0010\n",
      "Epoch 97/100\n",
      " - 0s - loss: 4.5668e-04 - mse: 4.5668e-04 - val_loss: 0.0018 - val_mse: 0.0018\n",
      "Epoch 98/100\n",
      " - 0s - loss: 8.5557e-04 - mse: 8.5557e-04 - val_loss: 0.0258 - val_mse: 0.0258\n",
      "Epoch 99/100\n",
      " - 0s - loss: 5.7964e-04 - mse: 5.7964e-04 - val_loss: 0.0016 - val_mse: 0.0016\n",
      "Epoch 100/100\n",
      " - 0s - loss: 4.1774e-04 - mse: 4.1774e-04 - val_loss: 0.0040 - val_mse: 0.0040\n"
     ]
    }
   ],
   "source": [
    "model = keras.Sequential()\n",
    "model.add(keras.layers.LSTM(units=100,activation='relu',return_sequences=True,input_shape=(lag,1),recurrent_dropout=0.2))\n",
    "model.add(keras.layers.LSTM(units=100,activation='relu',recurrent_dropout=0.2))\n",
    "#model.add(keras.layers.Dense(units=64,activation='relu'))\n",
    "#model.add(keras.layers.Dense(units=32,activation='relu'))\n",
    "model.add(keras.layers.Dense(units=1))\n",
    "optimizer = keras.optimizers.Adam(5e-2)\n",
    "model.compile(optimizer,loss=keras.losses.MSE,metrics=['mse']) #metrics=['mean_absolute_percentage_error']\n",
    "model.summary()\n",
    "history = model.fit(x_train, y_train,epochs=100,validation_data=(x_test,y_test),batch_size=8,verbose=2) "
   ]
  },
  {
   "cell_type": "code",
   "execution_count": 18,
   "metadata": {},
   "outputs": [],
   "source": [
    "train_predict=model.predict(x_train)\n",
    "test_predict=model.predict(x_test)"
   ]
  },
  {
   "cell_type": "code",
   "execution_count": 19,
   "metadata": {},
   "outputs": [
    {
     "name": "stdout",
     "output_type": "stream",
     "text": [
      "train mse squared: 0.0005392579048776044\n",
      "test mse squared: 0.003966673601829041\n"
     ]
    }
   ],
   "source": [
    "print('train mse squared:',mean_squared_error(y_train,train_predict))\n",
    "print('test mse squared:',mean_squared_error(y_test,test_predict)) "
   ]
  },
  {
   "cell_type": "code",
   "execution_count": 20,
   "metadata": {},
   "outputs": [],
   "source": [
    "train_predict=scaler.inverse_transform(train_predict)\n",
    "test_predict=scaler.inverse_transform(test_predict)"
   ]
  },
  {
   "cell_type": "code",
   "execution_count": 21,
   "metadata": {},
   "outputs": [
    {
     "data": {
      "image/png": "[encoded data removed]",
      "text/plain": [
       "<Figure size 432x288 with 1 Axes>"
      ]
     },
     "metadata": {
      "needs_background": "light"
     },
     "output_type": "display_data"
    }
   ],
   "source": [
    "trainPredictPlot = np.empty_like(df)\n",
    "trainPredictPlot[:, :] = np.nan\n",
    "trainPredictPlot[lag:len(train_predict)+lag, :] = train_predict\n",
    "# shift test predictions for plotting\n",
    "testPredictPlot = np.empty_like(df)\n",
    "testPredictPlot[:, :] = np.nan\n",
    "testPredictPlot[len(train_predict)+(lag*2)+1:len(df)-1, :] = test_predict\n",
    "# plot baseline and predictions\n",
    "plt.plot(scaler.inverse_transform(df))\n",
    "plt.plot(trainPredictPlot,label='train')\n",
    "plt.plot(testPredictPlot,label='test')\n",
    "plt.grid()\n",
    "plt.title('Argentina')\n",
    "plt.legend()\n",
    "plt.show()"
   ]
  },
  {
   "cell_type": "code",
   "execution_count": 22,
   "metadata": {},
   "outputs": [
    {
     "data": {
      "text/plain": [
       "[<matplotlib.lines.Line2D at 0x1f90d062e08>]"
      ]
     },
     "execution_count": 22,
     "metadata": {},
     "output_type": "execute_result"
    },
    {
     "data": {
      "image/png": "[encoded data removed]",
      "text/plain": [
       "<Figure size 432x288 with 1 Axes>"
      ]
     },
     "metadata": {
      "needs_background": "light"
     },
     "output_type": "display_data"
    }
   ],
   "source": [
    "plt.plot(history.history['loss'])\n",
    "plt.plot(history.history['val_loss'])"
   ]
  },
  {
   "cell_type": "markdown",
   "metadata": {},
   "source": [
    "# aca hacemos el forecast"
   ]
  },
  {
   "cell_type": "code",
   "execution_count": 23,
   "metadata": {},
   "outputs": [
    {
     "name": "stdout",
     "output_type": "stream",
     "text": [
      "1 day output [[0.7809942]]\n",
      "2 day output [[0.74203384]]\n",
      "3 day output [[0.7202269]]\n",
      "4 day output [[0.7062001]]\n",
      "5 day output [[0.6965446]]\n",
      "6 day output [[0.6900306]]\n",
      "7 day output [[0.6857637]]\n",
      "8 day output [[0.6830414]]\n",
      "9 day output [[0.68134505]]\n"
     ]
    }
   ],
   "source": [
    "n = len(test_data)\n",
    "x_input=test_data[n-lag:].reshape(1,-1)\n",
    "temp_input=list(x_input)\n",
    "temp_input=temp_input[0].tolist()\n",
    "lst_output=[]\n",
    "n_steps=lag\n",
    "i=0\n",
    "\n",
    "while(i<10): \n",
    "    if(len(temp_input)>lag):\n",
    "        #print(temp_input)\n",
    "        x_input=np.array(temp_input[1:])\n",
    "        x_input=x_input.reshape(1,-1)\n",
    "        x_input = x_input.reshape((1, lag, 1))\n",
    "        #print(x_input)\n",
    "        yhat = model.predict(x_input, verbose=0)\n",
    "        print(\"{} day output {}\".format(i,yhat))\n",
    "        temp_input.extend(yhat[0].tolist())\n",
    "        temp_input=temp_input[1:]\n",
    "        #print(temp_input)\n",
    "        lst_output.extend(yhat.tolist())\n",
    "        i=i+1\n",
    "    else:\n",
    "        x_input = x_input.reshape((1, lag,1))\n",
    "        yhat = model.predict(x_input, verbose=0)\n",
    "        temp_input.extend(yhat[0].tolist())\n",
    "        lst_output.extend(yhat.tolist())\n",
    "        i=i+1"
   ]
  },
  {
   "cell_type": "code",
   "execution_count": 24,
   "metadata": {},
   "outputs": [],
   "source": [
    "lst_output = scaler.inverse_transform(lst_output)"
   ]
  },
  {
   "cell_type": "code",
   "execution_count": 25,
   "metadata": {},
   "outputs": [
    {
     "data": {
      "text/plain": [
       "[<matplotlib.lines.Line2D at 0x1f90d1686c8>]"
      ]
     },
     "execution_count": 25,
     "metadata": {},
     "output_type": "execute_result"
    },
    {
     "data": {
      "image/png": "[encoded data removed]",
      "text/plain": [
       "<Figure size 432x288 with 1 Axes>"
      ]
     },
     "metadata": {
      "needs_background": "light"
     },
     "output_type": "display_data"
    }
   ],
   "source": [
    "plt.plot(df1)\n",
    "dias_forecast = np.arange(0,10) + len(df) - 1\n",
    "plt.plot(dias_forecast,lst_output,'o')\n",
    "#plt.xlim(290,310)"
   ]
  },
  {
   "cell_type": "code",
   "execution_count": 26,
   "metadata": {},
   "outputs": [
    {
     "data": {
      "text/plain": [
       "(290.0, 310.0)"
      ]
     },
     "execution_count": 26,
     "metadata": {},
     "output_type": "execute_result"
    },
    {
     "data": {
      "image/png": "[encoded data removed]",
      "text/plain": [
       "<Figure size 432x288 with 1 Axes>"
      ]
     },
     "metadata": {
      "needs_background": "light"
     },
     "output_type": "display_data"
    }
   ],
   "source": [
    "plt.plot(df1)\n",
    "dias_forecast = np.arange(0,10) + len(df) - 1\n",
    "plt.plot(dias_forecast,lst_output,'o')\n",
    "plt.xlim(290,310)"
   ]
  },
  {
   "cell_type": "code",
   "execution_count": 27,
   "metadata": {},
   "outputs": [
    {
     "name": "stdout",
     "output_type": "stream",
     "text": [
      "[[ 75.36114796]\n",
      " [124.43528697]\n",
      " [151.26663493]\n",
      " [167.14142536]\n",
      " [178.26697508]\n",
      " [185.23519429]\n",
      " [199.08232373]\n",
      " [217.84125291]\n",
      " [216.2357756 ]\n",
      " [226.90952609]]\n"
     ]
    }
   ],
   "source": [
    "print(df1[-10:]-lst_output)"
   ]
  }
 ],
 "metadata": {
  "kernelspec": {
   "display_name": "Python 3",
   "language": "python",
   "name": "python3"
  },
  "language_info": {
   "codemirror_mode": {
    "name": "ipython",
    "version": 3
   },
   "file_extension": ".py",
   "mimetype": "text/x-python",
   "name": "python",
   "nbconvert_exporter": "python",
   "pygments_lexer": "ipython3",
   "version": "3.7.7"
  }
 },
 "nbformat": 4,
 "nbformat_minor": 4
}
