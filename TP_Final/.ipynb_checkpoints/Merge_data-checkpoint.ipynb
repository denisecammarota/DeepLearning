{
 "cells": [
  {
   "cell_type": "code",
   "execution_count": 1,
   "metadata": {},
   "outputs": [
    {
     "name": "stderr",
     "output_type": "stream",
     "text": [
      "Using TensorFlow backend.\n"
     ]
    }
   ],
   "source": [
    "import numpy as np\n",
    "import matplotlib.pyplot as plt\n",
    "import pandas as pd\n",
    "import keras\n",
    "import tensorflow as tf\n",
    "from sklearn.preprocessing import MinMaxScaler #scaling de los datos entre 0 y 1\n",
    "from sklearn.metrics import mean_squared_error"
   ]
  },
  {
   "cell_type": "code",
   "execution_count": 2,
   "metadata": {},
   "outputs": [],
   "source": [
    "data_msal = 'Datos2/Covid19Casos.csv'\n",
    "data_mobility = 'Datos2/Global_Mobility_Report.csv'"
   ]
  },
  {
   "cell_type": "markdown",
   "metadata": {},
   "source": [
    "# funciones auxiliares (armadas para mi tesis)"
   ]
  },
  {
   "cell_type": "code",
   "execution_count": 54,
   "metadata": {},
   "outputs": [],
   "source": [
    "def new_cases_per_day(fecha_sintomas,graph=False,ret=False):\n",
    "    \"\"\"\n",
    "    args: \n",
    "    -fecha_sintomas: day of beginning of symptomps for each case, can't be NaN or NaT (already processed)\n",
    "    -graph: defaults to False. if True, makes graph of new cases per day \n",
    "    -ret: defaults to False. if True, returns days-cases per day  np.array casos_por_dia\n",
    "    given the days of beginning of symptoms, processes to get np.array of cases per day and days since epidemic\n",
    "    can graph and return this vector with the defaults explained before\n",
    "    latest update = checked the days again, it works perfectly splendid\n",
    "    \"\"\"\n",
    "    counts = np.bincount(fecha_sintomas)\n",
    "    ultima_fecha = max(fecha_sintomas)\n",
    "    aux = range(ultima_fecha+1)\n",
    "    casos_por_dia = np.vstack((aux,counts[aux])).T #(days since inicio_epidemia x (fecha_inicio_sintomas == days))\n",
    "    if graph == True:\n",
    "        plt.xlabel(\"Dia\")\n",
    "        plt.ylabel(\"Casos\")\n",
    "        plt.axvspan(ultima_fecha-10, ultima_fecha+3, facecolor='r', alpha=0.5,label=\"últimos 10 días\")\n",
    "        plt.plot(casos_por_dia[:,0],casos_por_dia[:,1],'-ob',label=\"casos hasta dia: \"+str(ultima_fecha))\n",
    "        plt.style.use('ggplot')\n",
    "        plt.legend()\n",
    "        #plt.savefig(\"casos_por_dia_bariloche.pdf\")\n",
    "    if ret == True:\n",
    "        return casos_por_dia   "
   ]
  },
  {
   "cell_type": "code",
   "execution_count": 55,
   "metadata": {},
   "outputs": [],
   "source": [
    "def cumulative_cases(fecha_sintomas,graph=False,ret=False):\n",
    "    \"\"\"\n",
    "    args: \n",
    "    -fecha_sintomas: day of beginning of symptomps for each case, can't be NaN or NaT (already processed)\n",
    "    -graph: defaults to False. if True, makes graph of new cases per day \n",
    "    -ret: defaults to False. if True, returns days-cumulative cases per day np array\n",
    "    given the days of beginning of symptoms, processes to get np.array of cumulative cases per day and days since epidemic\n",
    "    can graph and return this vector with the defaults explained before\n",
    "    latest update = checked the days again, it works perfectly splendid\n",
    "    \"\"\"\n",
    "    ultima_fecha = max(fecha_sintomas)\n",
    "    casos_por_dia = new_cases_per_day(fecha_sintomas,ret=True)\n",
    "    casos_acumulados_por_dia = np.copy(casos_por_dia)\n",
    "    casos_acumulados_por_dia[:,1] = np.cumsum(casos_por_dia[:,1]) \n",
    "    if graph == True:\n",
    "        plt.xlabel(\"Dia\")\n",
    "        plt.ylabel(\"Casos acumulados\")\n",
    "        plt.axvspan(ultima_fecha-10, ultima_fecha+3, facecolor='r', alpha=0.5,label=\"últimos 10 días\")\n",
    "        plt.scatter(casos_acumulados_por_dia[:,0],casos_acumulados_por_dia[:,1],c='b',label=\"casos acumulados hasta dia: \"+str(ultima_fecha))\n",
    "        plt.legend()\n",
    "        plt.style.use('ggplot')\n",
    "        plt.savefig(\"casos_acumulados_bariloche.pdf\")\n",
    "    if ret == True:\n",
    "        return casos_acumulados_por_dia "
   ]
  },
  {
   "cell_type": "code",
   "execution_count": 56,
   "metadata": {},
   "outputs": [],
   "source": [
    "def change_dates(df):\n",
    "    #changes fecha_inicio_sintomas according to new criteria\n",
    "    filt_df1 = (df.fecha_inicio_sintomas.isnull()) #filter fecha_inicio_sintomas = inexistant\n",
    "    df_sin_fecha = df.loc[filt_df1]\n",
    "    n_size = df_sin_fecha.shape[0]\n",
    "    df.loc[filt_df1,\"fecha_inicio_sintomas\"] = df.loc[filt_df1,\"fecha_apertura\"] - np.random.randint(0,9,n_size)"
   ]
  },
  {
   "cell_type": "markdown",
   "metadata": {},
   "source": [
    "# ejercicio en si // trato de hacer todo primero para capital "
   ]
  },
  {
   "cell_type": "markdown",
   "metadata": {},
   "source": [
    "# primero manejo los datos de movilidad"
   ]
  },
  {
   "cell_type": "code",
   "execution_count": 3,
   "metadata": {},
   "outputs": [
    {
     "name": "stderr",
     "output_type": "stream",
     "text": [
      "C:\\Users\\denis\\Anaconda3\\envs\\tf-gpu\\lib\\site-packages\\IPython\\core\\interactiveshell.py:3146: DtypeWarning: Columns (4) have mixed types.Specify dtype option on import or set low_memory=False.\n",
      "  interactivity=interactivity, compiler=compiler, result=result)\n"
     ]
    }
   ],
   "source": [
    "data1 = pd.read_csv(data_mobility,sep=\",\",quotechar='\"',dtype={'iso_3166_2_code':str},\n",
    "                   parse_dates=[\"date\"],na_values=['']) #data loading\n",
    "df1 = pd.DataFrame(data1)"
   ]
  },
  {
   "cell_type": "code",
   "execution_count": 4,
   "metadata": {
    "scrolled": false
   },
   "outputs": [],
   "source": [
    "df1 = df1[df1.iso_3166_2_code == 'AR-C']"
   ]
  },
  {
   "cell_type": "code",
   "execution_count": 5,
   "metadata": {},
   "outputs": [],
   "source": [
    "df1 = df1.drop(['country_region_code','country_region','sub_region_1','sub_region_2','metro_area','iso_3166_2_code','census_fips_code'],axis=1)"
   ]
  },
  {
   "cell_type": "code",
   "execution_count": 10,
   "metadata": {},
   "outputs": [],
   "source": [
    "primer_dia = min(df1[\"date\"])\n",
    "df1 = df1.drop(['date'],axis=1)"
   ]
  },
  {
   "cell_type": "markdown",
   "metadata": {},
   "source": [
    "# ahora manejo los datos del msal"
   ]
  },
  {
   "cell_type": "code",
   "execution_count": 49,
   "metadata": {},
   "outputs": [],
   "source": [
    "data2 = pd.read_csv(data_msal,sep=\",\",quotechar='\"',\n",
    "                   parse_dates=[\"fecha_inicio_sintomas\",\"fecha_apertura\",\"fecha_internacion\",\"fecha_cui_intensivo\",\n",
    "                               \"fecha_fallecimiento\",\"fecha_diagnostico\",\"ultima_actualizacion\"]\n",
    "                    ,na_values=['']) #data loading"
   ]
  },
  {
   "cell_type": "code",
   "execution_count": 50,
   "metadata": {},
   "outputs": [],
   "source": [
    "df2 = pd.DataFrame(data2)"
   ]
  },
  {
   "cell_type": "code",
   "execution_count": 51,
   "metadata": {},
   "outputs": [],
   "source": [
    "df2 = df2[df2.residencia_provincia_nombre == 'CABA']"
   ]
  },
  {
   "cell_type": "code",
   "execution_count": 52,
   "metadata": {},
   "outputs": [],
   "source": [
    "df2 = df2.drop([\"id_evento_caso\",\"sexo\",\"edad\",\"edad_años_meses\",\"residencia_pais_nombre\",\n",
    "          \"residencia_provincia_nombre\",\"residencia_departamento_nombre\",\n",
    "         \"carga_provincia_nombre\",\"carga_provincia_id\",\"origen_financiamiento\",\n",
    "         \"residencia_provincia_id\",\"residencia_departamento_id\",\"ultima_actualizacion\",\n",
    "        \"asistencia_respiratoria_mecanica\",\"sepi_apertura\"],axis=1)"
   ]
  },
  {
   "cell_type": "code",
   "execution_count": 53,
   "metadata": {},
   "outputs": [
    {
     "data": {
      "text/html": [
       "<div>\n",
       "<style scoped>\n",
       "    .dataframe tbody tr th:only-of-type {\n",
       "        vertical-align: middle;\n",
       "    }\n",
       "\n",
       "    .dataframe tbody tr th {\n",
       "        vertical-align: top;\n",
       "    }\n",
       "\n",
       "    .dataframe thead th {\n",
       "        text-align: right;\n",
       "    }\n",
       "</style>\n",
       "<table border=\"1\" class=\"dataframe\">\n",
       "  <thead>\n",
       "    <tr style=\"text-align: right;\">\n",
       "      <th></th>\n",
       "      <th>fecha_inicio_sintomas</th>\n",
       "      <th>fecha_apertura</th>\n",
       "      <th>fecha_internacion</th>\n",
       "      <th>cuidado_intensivo</th>\n",
       "      <th>fecha_cui_intensivo</th>\n",
       "      <th>fallecido</th>\n",
       "      <th>fecha_fallecimiento</th>\n",
       "      <th>clasificacion</th>\n",
       "      <th>clasificacion_resumen</th>\n",
       "      <th>fecha_diagnostico</th>\n",
       "    </tr>\n",
       "  </thead>\n",
       "  <tbody>\n",
       "    <tr>\n",
       "      <th>0</th>\n",
       "      <td>NaT</td>\n",
       "      <td>2020-06-01</td>\n",
       "      <td>NaT</td>\n",
       "      <td>NO</td>\n",
       "      <td>NaT</td>\n",
       "      <td>NO</td>\n",
       "      <td>NaT</td>\n",
       "      <td>Caso Descartado</td>\n",
       "      <td>Descartado</td>\n",
       "      <td>2020-06-09</td>\n",
       "    </tr>\n",
       "    <tr>\n",
       "      <th>6</th>\n",
       "      <td>2020-05-31</td>\n",
       "      <td>2020-06-01</td>\n",
       "      <td>NaT</td>\n",
       "      <td>NO</td>\n",
       "      <td>NaT</td>\n",
       "      <td>NO</td>\n",
       "      <td>NaT</td>\n",
       "      <td>Caso Descartado</td>\n",
       "      <td>Descartado</td>\n",
       "      <td>2020-06-01</td>\n",
       "    </tr>\n",
       "    <tr>\n",
       "      <th>8</th>\n",
       "      <td>NaT</td>\n",
       "      <td>2020-06-01</td>\n",
       "      <td>NaT</td>\n",
       "      <td>NO</td>\n",
       "      <td>NaT</td>\n",
       "      <td>NO</td>\n",
       "      <td>NaT</td>\n",
       "      <td>Caso confirmado por laboratorio - No activo (p...</td>\n",
       "      <td>Confirmado</td>\n",
       "      <td>2020-06-01</td>\n",
       "    </tr>\n",
       "    <tr>\n",
       "      <th>10</th>\n",
       "      <td>2020-05-26</td>\n",
       "      <td>2020-06-01</td>\n",
       "      <td>2020-05-31</td>\n",
       "      <td>NO</td>\n",
       "      <td>NaT</td>\n",
       "      <td>NO</td>\n",
       "      <td>NaT</td>\n",
       "      <td>Caso confirmado por laboratorio - No Activo po...</td>\n",
       "      <td>Confirmado</td>\n",
       "      <td>2020-05-31</td>\n",
       "    </tr>\n",
       "    <tr>\n",
       "      <th>13</th>\n",
       "      <td>2020-05-18</td>\n",
       "      <td>2020-06-01</td>\n",
       "      <td>NaT</td>\n",
       "      <td>NO</td>\n",
       "      <td>NaT</td>\n",
       "      <td>NO</td>\n",
       "      <td>NaT</td>\n",
       "      <td>Caso confirmado por laboratorio - No activo (p...</td>\n",
       "      <td>Confirmado</td>\n",
       "      <td>2020-06-01</td>\n",
       "    </tr>\n",
       "    <tr>\n",
       "      <th>...</th>\n",
       "      <td>...</td>\n",
       "      <td>...</td>\n",
       "      <td>...</td>\n",
       "      <td>...</td>\n",
       "      <td>...</td>\n",
       "      <td>...</td>\n",
       "      <td>...</td>\n",
       "      <td>...</td>\n",
       "      <td>...</td>\n",
       "      <td>...</td>\n",
       "    </tr>\n",
       "    <tr>\n",
       "      <th>3283418</th>\n",
       "      <td>2020-05-15</td>\n",
       "      <td>2020-06-01</td>\n",
       "      <td>NaT</td>\n",
       "      <td>NO</td>\n",
       "      <td>NaT</td>\n",
       "      <td>NO</td>\n",
       "      <td>NaT</td>\n",
       "      <td>Caso Descartado</td>\n",
       "      <td>Descartado</td>\n",
       "      <td>2020-06-01</td>\n",
       "    </tr>\n",
       "    <tr>\n",
       "      <th>3283422</th>\n",
       "      <td>NaT</td>\n",
       "      <td>2020-06-01</td>\n",
       "      <td>NaT</td>\n",
       "      <td>NO</td>\n",
       "      <td>NaT</td>\n",
       "      <td>NO</td>\n",
       "      <td>NaT</td>\n",
       "      <td>Caso Descartado</td>\n",
       "      <td>Descartado</td>\n",
       "      <td>2020-06-02</td>\n",
       "    </tr>\n",
       "    <tr>\n",
       "      <th>3283428</th>\n",
       "      <td>2020-05-28</td>\n",
       "      <td>2020-06-01</td>\n",
       "      <td>2020-05-31</td>\n",
       "      <td>NO</td>\n",
       "      <td>NaT</td>\n",
       "      <td>NO</td>\n",
       "      <td>NaT</td>\n",
       "      <td>Caso confirmado por laboratorio - No Activo po...</td>\n",
       "      <td>Confirmado</td>\n",
       "      <td>2020-06-01</td>\n",
       "    </tr>\n",
       "    <tr>\n",
       "      <th>3283433</th>\n",
       "      <td>NaT</td>\n",
       "      <td>2020-06-01</td>\n",
       "      <td>NaT</td>\n",
       "      <td>NO</td>\n",
       "      <td>NaT</td>\n",
       "      <td>NO</td>\n",
       "      <td>NaT</td>\n",
       "      <td>Caso Descartado</td>\n",
       "      <td>Descartado</td>\n",
       "      <td>2020-06-01</td>\n",
       "    </tr>\n",
       "    <tr>\n",
       "      <th>3283434</th>\n",
       "      <td>NaT</td>\n",
       "      <td>2020-06-01</td>\n",
       "      <td>NaT</td>\n",
       "      <td>NO</td>\n",
       "      <td>NaT</td>\n",
       "      <td>NO</td>\n",
       "      <td>NaT</td>\n",
       "      <td>Caso Descartado</td>\n",
       "      <td>Descartado</td>\n",
       "      <td>2020-06-02</td>\n",
       "    </tr>\n",
       "  </tbody>\n",
       "</table>\n",
       "<p>499915 rows × 10 columns</p>\n",
       "</div>"
      ],
      "text/plain": [
       "        fecha_inicio_sintomas fecha_apertura fecha_internacion  \\\n",
       "0                         NaT     2020-06-01               NaT   \n",
       "6                  2020-05-31     2020-06-01               NaT   \n",
       "8                         NaT     2020-06-01               NaT   \n",
       "10                 2020-05-26     2020-06-01        2020-05-31   \n",
       "13                 2020-05-18     2020-06-01               NaT   \n",
       "...                       ...            ...               ...   \n",
       "3283418            2020-05-15     2020-06-01               NaT   \n",
       "3283422                   NaT     2020-06-01               NaT   \n",
       "3283428            2020-05-28     2020-06-01        2020-05-31   \n",
       "3283433                   NaT     2020-06-01               NaT   \n",
       "3283434                   NaT     2020-06-01               NaT   \n",
       "\n",
       "        cuidado_intensivo fecha_cui_intensivo fallecido fecha_fallecimiento  \\\n",
       "0                      NO                 NaT        NO                 NaT   \n",
       "6                      NO                 NaT        NO                 NaT   \n",
       "8                      NO                 NaT        NO                 NaT   \n",
       "10                     NO                 NaT        NO                 NaT   \n",
       "13                     NO                 NaT        NO                 NaT   \n",
       "...                   ...                 ...       ...                 ...   \n",
       "3283418                NO                 NaT        NO                 NaT   \n",
       "3283422                NO                 NaT        NO                 NaT   \n",
       "3283428                NO                 NaT        NO                 NaT   \n",
       "3283433                NO                 NaT        NO                 NaT   \n",
       "3283434                NO                 NaT        NO                 NaT   \n",
       "\n",
       "                                             clasificacion  \\\n",
       "0                                          Caso Descartado   \n",
       "6                                          Caso Descartado   \n",
       "8        Caso confirmado por laboratorio - No activo (p...   \n",
       "10       Caso confirmado por laboratorio - No Activo po...   \n",
       "13       Caso confirmado por laboratorio - No activo (p...   \n",
       "...                                                    ...   \n",
       "3283418                                    Caso Descartado   \n",
       "3283422                                    Caso Descartado   \n",
       "3283428  Caso confirmado por laboratorio - No Activo po...   \n",
       "3283433                                    Caso Descartado   \n",
       "3283434                                    Caso Descartado   \n",
       "\n",
       "        clasificacion_resumen fecha_diagnostico  \n",
       "0                  Descartado        2020-06-09  \n",
       "6                  Descartado        2020-06-01  \n",
       "8                  Confirmado        2020-06-01  \n",
       "10                 Confirmado        2020-05-31  \n",
       "13                 Confirmado        2020-06-01  \n",
       "...                       ...               ...  \n",
       "3283418            Descartado        2020-06-01  \n",
       "3283422            Descartado        2020-06-02  \n",
       "3283428            Confirmado        2020-06-01  \n",
       "3283433            Descartado        2020-06-01  \n",
       "3283434            Descartado        2020-06-02  \n",
       "\n",
       "[499915 rows x 10 columns]"
      ]
     },
     "execution_count": 53,
     "metadata": {},
     "output_type": "execute_result"
    }
   ],
   "source": [
    "df2"
   ]
  },
  {
   "cell_type": "markdown",
   "metadata": {},
   "source": [
    "# primero lo convencional, casos en funcion del tiempo"
   ]
  },
  {
   "cell_type": "code",
   "execution_count": null,
   "metadata": {},
   "outputs": [],
   "source": []
  },
  {
   "cell_type": "code",
   "execution_count": null,
   "metadata": {},
   "outputs": [],
   "source": []
  },
  {
   "cell_type": "markdown",
   "metadata": {},
   "source": [
    "# determinaciones en funcion del tiempo"
   ]
  },
  {
   "cell_type": "code",
   "execution_count": null,
   "metadata": {},
   "outputs": [],
   "source": []
  },
  {
   "cell_type": "code",
   "execution_count": null,
   "metadata": {},
   "outputs": [],
   "source": []
  },
  {
   "cell_type": "markdown",
   "metadata": {},
   "source": [
    "# fallecimientos en funcion del tiempo"
   ]
  },
  {
   "cell_type": "code",
   "execution_count": null,
   "metadata": {},
   "outputs": [],
   "source": []
  }
 ],
 "metadata": {
  "kernelspec": {
   "display_name": "Python 3",
   "language": "python",
   "name": "python3"
  },
  "language_info": {
   "codemirror_mode": {
    "name": "ipython",
    "version": 3
   },
   "file_extension": ".py",
   "mimetype": "text/x-python",
   "name": "python",
   "nbconvert_exporter": "python",
   "pygments_lexer": "ipython3",
   "version": "3.7.7"
  }
 },
 "nbformat": 4,
 "nbformat_minor": 4
}
